{
  "cells": [
    {
      "cell_type": "markdown",
      "source": [
        "# Marketing Campaign - Hypothesis Testing"
      ],
      "metadata": {
        "id": "CTVxE1qV0Vui"
      },
      "id": "CTVxE1qV0Vui"
    },
    {
      "cell_type": "markdown",
      "id": "57a56d85",
      "metadata": {
        "papermill": {
          "duration": 0.061426,
          "end_time": "2021-08-26T15:25:34.700677",
          "exception": false,
          "start_time": "2021-08-26T15:25:34.639251",
          "status": "completed"
        },
        "tags": [],
        "id": "57a56d85"
      },
      "source": [
        "# **What is Hypothesis Testing**\n",
        "\n",
        "### Hypothesis testing is an act in statistics with which an analyst tests an assumption regarding a population parameter. It is used extensively to assess the plausibility of a hypothesis by using sample data. The assumptions made might be correct or it may not be. Data alone isn't interesting enough. It is the interpretation that we are really interested in.\n",
        "\n",
        "\n",
        "\n"
      ]
    },
    {
      "cell_type": "code",
      "execution_count": null,
      "id": "84eb4145",
      "metadata": {
        "_cell_guid": "b1076dfc-b9ad-4769-8c92-a6c4dae69d19",
        "_uuid": "8f2839f25d086af736a60e9eeb907d3b93b6e0e5",
        "execution": {
          "iopub.execute_input": "2021-08-26T15:25:31.620711Z",
          "iopub.status.busy": "2021-08-26T15:25:31.620040Z",
          "iopub.status.idle": "2021-08-26T15:25:34.577605Z",
          "shell.execute_reply": "2021-08-26T15:25:34.576793Z",
          "shell.execute_reply.started": "2021-08-26T15:03:37.292504Z"
        },
        "papermill": {
          "duration": 3.030725,
          "end_time": "2021-08-26T15:25:34.577817",
          "exception": false,
          "start_time": "2021-08-26T15:25:31.547092",
          "status": "completed"
        },
        "tags": [],
        "id": "84eb4145",
        "outputId": "98fa18c2-35f6-433a-8763-4432bbae723c"
      },
      "outputs": [
        {
          "name": "stdout",
          "output_type": "stream",
          "text": [
            "/kaggle/input/marketing-data/marketing_data.csv\n"
          ]
        }
      ],
      "source": [
        "\n",
        "\n",
        "import numpy as np # linear algebra\n",
        "import pandas as pd # data processing, CSV file I/O (e.g. pd.read_csv)\n",
        "import missingno as msno \n",
        "import matplotlib.pyplot as plt\n",
        "import seaborn as sns\n",
        "from sklearn.impute import KNNImputer\n",
        "from sklearn.linear_model import LinearRegression\n",
        "import plotly.graph_objs as go\n",
        "import plotly.express as px\n",
        "from scipy.stats import shapiro\n",
        "from scipy.stats import normaltest\n",
        "from scipy.stats import chi2_contingency\n",
        "from scipy.stats import chi2\n",
        "import scipy.stats as stats\n",
        "from numpy import median\n",
        "from numpy import std\n",
        "\n",
        "from scipy import stats\n",
        "\n",
        "\n"
      ]
    },
    {
      "cell_type": "markdown",
      "id": "90518098",
      "metadata": {
        "papermill": {
          "duration": 0.06058,
          "end_time": "2021-08-26T15:25:34.820688",
          "exception": false,
          "start_time": "2021-08-26T15:25:34.760108",
          "status": "completed"
        },
        "tags": [],
        "id": "90518098"
      },
      "source": [
        "### Table of Contents\n",
        "\n",
        "\n",
        "Getting familiar with our data \n",
        "\n",
        "* Data types and data completeness\n",
        "* Feature engineering\n",
        "* Statistical summary\n",
        "* Handling outliers\n",
        "* Handling missing values\n",
        "\n",
        "Visual Exploratory Data Analysis\n",
        "\n",
        "* Diploma distribution by income level\n",
        "* Average income by diploma\n",
        "* Spending by Income\n",
        "* Diploma distribution by marital situation\n",
        "* Income level by parental status\n",
        "\n",
        "Statistical Hypothesis Testing\n",
        "\n",
        "* Test for normality\n",
        "    * Graphical Method : Histogram plot\n",
        "    * Statistical Method : Shapiro test\n",
        "* Rank Significance Tests\n",
        "    * Numerical variables : Mann-Whitney's test\n",
        "* Rank Correlation Tests\n",
        "    * Numerical variables : Spearman test\n",
        "    * Categorical variables : Chi-square test\n",
        "\n",
        "\n",
        "   "
      ]
    },
    {
      "cell_type": "markdown",
      "id": "66789e62",
      "metadata": {
        "papermill": {
          "duration": 0.057213,
          "end_time": "2021-08-26T15:25:34.938419",
          "exception": false,
          "start_time": "2021-08-26T15:25:34.881206",
          "status": "completed"
        },
        "tags": [],
        "id": "66789e62"
      },
      "source": [
        "# **1. Getting familiar with data**"
      ]
    },
    {
      "cell_type": "code",
      "execution_count": null,
      "id": "dcd0f61a",
      "metadata": {
        "execution": {
          "iopub.execute_input": "2021-08-26T15:25:35.064682Z",
          "iopub.status.busy": "2021-08-26T15:25:35.064008Z",
          "iopub.status.idle": "2021-08-26T15:25:35.134782Z",
          "shell.execute_reply": "2021-08-26T15:25:35.134136Z",
          "shell.execute_reply.started": "2021-08-26T15:03:40.240806Z"
        },
        "papermill": {
          "duration": 0.138392,
          "end_time": "2021-08-26T15:25:35.134940",
          "exception": false,
          "start_time": "2021-08-26T15:25:34.996548",
          "status": "completed"
        },
        "tags": [],
        "id": "dcd0f61a",
        "outputId": "bd4a79b6-ff22-4790-823a-3c229e98a9fd"
      },
      "outputs": [
        {
          "data": {
            "text/html": [
              "<div>\n",
              "<style scoped>\n",
              "    .dataframe tbody tr th:only-of-type {\n",
              "        vertical-align: middle;\n",
              "    }\n",
              "\n",
              "    .dataframe tbody tr th {\n",
              "        vertical-align: top;\n",
              "    }\n",
              "\n",
              "    .dataframe thead th {\n",
              "        text-align: right;\n",
              "    }\n",
              "</style>\n",
              "<table border=\"1\" class=\"dataframe\">\n",
              "  <thead>\n",
              "    <tr style=\"text-align: right;\">\n",
              "      <th></th>\n",
              "      <th>ID</th>\n",
              "      <th>Year_Birth</th>\n",
              "      <th>Education</th>\n",
              "      <th>Marital_Status</th>\n",
              "      <th>Income</th>\n",
              "      <th>Kidhome</th>\n",
              "      <th>Teenhome</th>\n",
              "      <th>Dt_Customer</th>\n",
              "      <th>Recency</th>\n",
              "      <th>MntWines</th>\n",
              "      <th>...</th>\n",
              "      <th>NumStorePurchases</th>\n",
              "      <th>NumWebVisitsMonth</th>\n",
              "      <th>AcceptedCmp3</th>\n",
              "      <th>AcceptedCmp4</th>\n",
              "      <th>AcceptedCmp5</th>\n",
              "      <th>AcceptedCmp1</th>\n",
              "      <th>AcceptedCmp2</th>\n",
              "      <th>Response</th>\n",
              "      <th>Complain</th>\n",
              "      <th>Country</th>\n",
              "    </tr>\n",
              "  </thead>\n",
              "  <tbody>\n",
              "    <tr>\n",
              "      <th>0</th>\n",
              "      <td>1826</td>\n",
              "      <td>1970</td>\n",
              "      <td>Graduation</td>\n",
              "      <td>Divorced</td>\n",
              "      <td>$84,835.00</td>\n",
              "      <td>0</td>\n",
              "      <td>0</td>\n",
              "      <td>6/16/14</td>\n",
              "      <td>0</td>\n",
              "      <td>189</td>\n",
              "      <td>...</td>\n",
              "      <td>6</td>\n",
              "      <td>1</td>\n",
              "      <td>0</td>\n",
              "      <td>0</td>\n",
              "      <td>0</td>\n",
              "      <td>0</td>\n",
              "      <td>0</td>\n",
              "      <td>1</td>\n",
              "      <td>0</td>\n",
              "      <td>SP</td>\n",
              "    </tr>\n",
              "    <tr>\n",
              "      <th>1</th>\n",
              "      <td>1</td>\n",
              "      <td>1961</td>\n",
              "      <td>Graduation</td>\n",
              "      <td>Single</td>\n",
              "      <td>$57,091.00</td>\n",
              "      <td>0</td>\n",
              "      <td>0</td>\n",
              "      <td>6/15/14</td>\n",
              "      <td>0</td>\n",
              "      <td>464</td>\n",
              "      <td>...</td>\n",
              "      <td>7</td>\n",
              "      <td>5</td>\n",
              "      <td>0</td>\n",
              "      <td>0</td>\n",
              "      <td>0</td>\n",
              "      <td>0</td>\n",
              "      <td>1</td>\n",
              "      <td>1</td>\n",
              "      <td>0</td>\n",
              "      <td>CA</td>\n",
              "    </tr>\n",
              "    <tr>\n",
              "      <th>2</th>\n",
              "      <td>10476</td>\n",
              "      <td>1958</td>\n",
              "      <td>Graduation</td>\n",
              "      <td>Married</td>\n",
              "      <td>$67,267.00</td>\n",
              "      <td>0</td>\n",
              "      <td>1</td>\n",
              "      <td>5/13/14</td>\n",
              "      <td>0</td>\n",
              "      <td>134</td>\n",
              "      <td>...</td>\n",
              "      <td>5</td>\n",
              "      <td>2</td>\n",
              "      <td>0</td>\n",
              "      <td>0</td>\n",
              "      <td>0</td>\n",
              "      <td>0</td>\n",
              "      <td>0</td>\n",
              "      <td>0</td>\n",
              "      <td>0</td>\n",
              "      <td>US</td>\n",
              "    </tr>\n",
              "    <tr>\n",
              "      <th>3</th>\n",
              "      <td>1386</td>\n",
              "      <td>1967</td>\n",
              "      <td>Graduation</td>\n",
              "      <td>Together</td>\n",
              "      <td>$32,474.00</td>\n",
              "      <td>1</td>\n",
              "      <td>1</td>\n",
              "      <td>5/11/14</td>\n",
              "      <td>0</td>\n",
              "      <td>10</td>\n",
              "      <td>...</td>\n",
              "      <td>2</td>\n",
              "      <td>7</td>\n",
              "      <td>0</td>\n",
              "      <td>0</td>\n",
              "      <td>0</td>\n",
              "      <td>0</td>\n",
              "      <td>0</td>\n",
              "      <td>0</td>\n",
              "      <td>0</td>\n",
              "      <td>AUS</td>\n",
              "    </tr>\n",
              "    <tr>\n",
              "      <th>4</th>\n",
              "      <td>5371</td>\n",
              "      <td>1989</td>\n",
              "      <td>Graduation</td>\n",
              "      <td>Single</td>\n",
              "      <td>$21,474.00</td>\n",
              "      <td>1</td>\n",
              "      <td>0</td>\n",
              "      <td>4/8/14</td>\n",
              "      <td>0</td>\n",
              "      <td>6</td>\n",
              "      <td>...</td>\n",
              "      <td>2</td>\n",
              "      <td>7</td>\n",
              "      <td>1</td>\n",
              "      <td>0</td>\n",
              "      <td>0</td>\n",
              "      <td>0</td>\n",
              "      <td>0</td>\n",
              "      <td>1</td>\n",
              "      <td>0</td>\n",
              "      <td>SP</td>\n",
              "    </tr>\n",
              "  </tbody>\n",
              "</table>\n",
              "<p>5 rows × 28 columns</p>\n",
              "</div>"
            ],
            "text/plain": [
              "      ID  Year_Birth   Education Marital_Status      Income   Kidhome  \\\n",
              "0   1826        1970  Graduation       Divorced  $84,835.00         0   \n",
              "1      1        1961  Graduation         Single  $57,091.00         0   \n",
              "2  10476        1958  Graduation        Married  $67,267.00         0   \n",
              "3   1386        1967  Graduation       Together  $32,474.00         1   \n",
              "4   5371        1989  Graduation         Single  $21,474.00         1   \n",
              "\n",
              "   Teenhome Dt_Customer  Recency  MntWines  ...  NumStorePurchases  \\\n",
              "0         0     6/16/14        0       189  ...                  6   \n",
              "1         0     6/15/14        0       464  ...                  7   \n",
              "2         1     5/13/14        0       134  ...                  5   \n",
              "3         1     5/11/14        0        10  ...                  2   \n",
              "4         0      4/8/14        0         6  ...                  2   \n",
              "\n",
              "   NumWebVisitsMonth  AcceptedCmp3  AcceptedCmp4  AcceptedCmp5  AcceptedCmp1  \\\n",
              "0                  1             0             0             0             0   \n",
              "1                  5             0             0             0             0   \n",
              "2                  2             0             0             0             0   \n",
              "3                  7             0             0             0             0   \n",
              "4                  7             1             0             0             0   \n",
              "\n",
              "   AcceptedCmp2  Response  Complain  Country  \n",
              "0             0         1         0       SP  \n",
              "1             1         1         0       CA  \n",
              "2             0         0         0       US  \n",
              "3             0         0         0      AUS  \n",
              "4             0         1         0       SP  \n",
              "\n",
              "[5 rows x 28 columns]"
            ]
          },
          "execution_count": 2,
          "metadata": {},
          "output_type": "execute_result"
        }
      ],
      "source": [
        "data = pd.read_csv('../input/marketing-data/marketing_data.csv')\n",
        "data.head()"
      ]
    },
    {
      "cell_type": "code",
      "execution_count": null,
      "id": "fb26bce0",
      "metadata": {
        "execution": {
          "iopub.execute_input": "2021-08-26T15:25:35.266195Z",
          "iopub.status.busy": "2021-08-26T15:25:35.264719Z",
          "iopub.status.idle": "2021-08-26T15:25:35.268221Z",
          "shell.execute_reply": "2021-08-26T15:25:35.268710Z",
          "shell.execute_reply.started": "2021-08-26T15:03:40.318418Z"
        },
        "papermill": {
          "duration": 0.07248,
          "end_time": "2021-08-26T15:25:35.268897",
          "exception": false,
          "start_time": "2021-08-26T15:25:35.196417",
          "status": "completed"
        },
        "tags": [],
        "id": "fb26bce0",
        "outputId": "a60788e3-3248-485f-cf5b-8d579d48d4bc"
      },
      "outputs": [
        {
          "data": {
            "text/plain": [
              "(2240, 28)"
            ]
          },
          "execution_count": 3,
          "metadata": {},
          "output_type": "execute_result"
        }
      ],
      "source": [
        "data.shape"
      ]
    },
    {
      "cell_type": "code",
      "execution_count": null,
      "id": "fef0d9f5",
      "metadata": {
        "execution": {
          "iopub.execute_input": "2021-08-26T15:25:35.388216Z",
          "iopub.status.busy": "2021-08-26T15:25:35.387565Z",
          "iopub.status.idle": "2021-08-26T15:25:36.105424Z",
          "shell.execute_reply": "2021-08-26T15:25:36.106016Z",
          "shell.execute_reply.started": "2021-08-26T15:03:40.329036Z"
        },
        "papermill": {
          "duration": 0.776745,
          "end_time": "2021-08-26T15:25:36.106196",
          "exception": false,
          "start_time": "2021-08-26T15:25:35.329451",
          "status": "completed"
        },
        "tags": [],
        "id": "fef0d9f5",
        "outputId": "4844cd8a-34a3-4c91-a5a2-b5e18984d77e"
      },
      "outputs": [
        {
          "data": {
            "image/png": "[encoded data removed]",
            "text/plain": [
              "<Figure size 1800x720 with 2 Axes>"
            ]
          },
          "metadata": {
            "needs_background": "light"
          },
          "output_type": "display_data"
        }
      ],
      "source": [
        "# Visualize the general missing values of data\n",
        "msno.matrix(data)\n",
        "plt.show()"
      ]
    },
    {
      "cell_type": "code",
      "execution_count": null,
      "id": "97729716",
      "metadata": {
        "execution": {
          "iopub.execute_input": "2021-08-26T15:25:36.227963Z",
          "iopub.status.busy": "2021-08-26T15:25:36.227234Z",
          "iopub.status.idle": "2021-08-26T15:25:36.257968Z",
          "shell.execute_reply": "2021-08-26T15:25:36.258492Z",
          "shell.execute_reply.started": "2021-08-26T15:03:40.947956Z"
        },
        "papermill": {
          "duration": 0.093667,
          "end_time": "2021-08-26T15:25:36.258666",
          "exception": false,
          "start_time": "2021-08-26T15:25:36.164999",
          "status": "completed"
        },
        "tags": [],
        "id": "97729716",
        "outputId": "2ac368da-eabb-4a61-dad6-0c4845b141d4"
      },
      "outputs": [
        {
          "name": "stdout",
          "output_type": "stream",
          "text": [
            " Income     24\n",
            "dtype: int64 \n",
            "\n"
          ]
        }
      ],
      "source": [
        "missingvalues = data.isnull().sum()\n",
        "print(missingvalues.loc[missingvalues!=0], '\\n')"
      ]
    },
    {
      "cell_type": "markdown",
      "id": "f7f466c8",
      "metadata": {
        "papermill": {
          "duration": 0.060434,
          "end_time": "2021-08-26T15:25:36.382620",
          "exception": false,
          "start_time": "2021-08-26T15:25:36.322186",
          "status": "completed"
        },
        "tags": [],
        "id": "f7f466c8"
      },
      "source": [
        "### **Data types and data completeness**"
      ]
    },
    {
      "cell_type": "markdown",
      "id": "9868928a",
      "metadata": {
        "papermill": {
          "duration": 0.058943,
          "end_time": "2021-08-26T15:25:36.500403",
          "exception": false,
          "start_time": "2021-08-26T15:25:36.441460",
          "status": "completed"
        },
        "tags": [],
        "id": "9868928a"
      },
      "source": [
        "**Column Details:**\n",
        "\n",
        "ID: Customer's Unique Identifier\n",
        "\n",
        "Year_Birth: Customer's Birth Year\n",
        "\n",
        "Education: Customer's education level\n",
        "\n",
        "Marital_Status: Customer's marital status\n",
        "\n",
        "Income: Customer's yearly household income\n",
        "\n",
        "Kidhome: Number of children in customer's household\n",
        "\n",
        "Teenhome: Number of teenagers in customer's household\n",
        "\n",
        "Dt_Customer: Date of customer's enrollment with the company\n",
        "\n",
        "Recency: Number of days since customer's last purchase\n",
        "\n",
        "MntWines: Amount spent on wine in the last 2 years\n",
        "\n",
        "MntFruits: Amount spent on fruits in the last 2 years\n",
        "\n",
        "MntMeatProducts: Amount spent on meat in the last 2 years\n",
        "\n",
        "MntFishProducts: Amount spent on fish in the last 2 years\n",
        "\n",
        "MntSweetProducts: Amount spent on sweets in the last 2 years\n",
        "\n",
        "MntGoldProds: Amount spent on gold in the last 2 years\n",
        "\n",
        "NumDealsPurchases: Number of purchases made with a discount\n",
        "\n",
        "NumWebPurchases: Number of purchases made through the company's web site\n",
        "\n",
        "NumCatalogPurchases: Number of purchases made using a catalogue\n",
        "\n",
        "NumStorePurchases: Number of purchases made directly in stores\n",
        "\n",
        "NumWebVisitsMonth: Number of visits to company's web site in the last month\n",
        "\n",
        "AcceptedCmp1: 1 if customer accepted the offer in the 1st campaign, 0 otherwise (Target variable)\n",
        "\n",
        "AcceptedCmp2: 1 if customer accepted the offer in the 2nd campaign, 0 otherwise (Target variable)\n",
        "\n",
        "AcceptedCmp3: 1 if customer accepted the offer in the 3rd campaign, 0 otherwise (Target variable)\n",
        "\n",
        "AcceptedCmp4: 1 if customer accepted the offer in the 4th campaign, 0 otherwise (Target variable)\n",
        "\n",
        "AcceptedCmp5: 1 if customer accepted the offer in the 5th campaign, 0 otherwise (Target variable)\n",
        "\n",
        "Response: 1 if customer accepted the offer in the last campaign, 0 otherwise (Target variable)\n",
        "\n",
        "Complain: 1 if customer complained in the last 2 years, 0 otherwise\n",
        "\n",
        "Country: Customer's location"
      ]
    },
    {
      "cell_type": "markdown",
      "id": "a96edb1c",
      "metadata": {
        "papermill": {
          "duration": 0.058134,
          "end_time": "2021-08-26T15:25:36.617225",
          "exception": false,
          "start_time": "2021-08-26T15:25:36.559091",
          "status": "completed"
        },
        "tags": [],
        "id": "a96edb1c"
      },
      "source": [
        "### **Feature Engineering**"
      ]
    },
    {
      "cell_type": "code",
      "execution_count": null,
      "id": "62c754d7",
      "metadata": {
        "execution": {
          "iopub.execute_input": "2021-08-26T15:25:36.762228Z",
          "iopub.status.busy": "2021-08-26T15:25:36.746051Z",
          "iopub.status.idle": "2021-08-26T15:25:36.767258Z",
          "shell.execute_reply": "2021-08-26T15:25:36.767712Z",
          "shell.execute_reply.started": "2021-08-26T15:03:40.975024Z"
        },
        "papermill": {
          "duration": 0.090659,
          "end_time": "2021-08-26T15:25:36.767911",
          "exception": false,
          "start_time": "2021-08-26T15:25:36.677252",
          "status": "completed"
        },
        "tags": [],
        "id": "62c754d7",
        "outputId": "ed8e2d2d-cca8-40ba-e2ef-479ca79da5e6"
      },
      "outputs": [
        {
          "name": "stdout",
          "output_type": "stream",
          "text": [
            "<class 'pandas.core.frame.DataFrame'>\n",
            "RangeIndex: 2240 entries, 0 to 2239\n",
            "Data columns (total 28 columns):\n",
            " #   Column               Non-Null Count  Dtype \n",
            "---  ------               --------------  ----- \n",
            " 0   ID                   2240 non-null   int64 \n",
            " 1   Year_Birth           2240 non-null   int64 \n",
            " 2   Education            2240 non-null   object\n",
            " 3   Marital_Status       2240 non-null   object\n",
            " 4    Income              2216 non-null   object\n",
            " 5   Kidhome              2240 non-null   int64 \n",
            " 6   Teenhome             2240 non-null   int64 \n",
            " 7   Dt_Customer          2240 non-null   object\n",
            " 8   Recency              2240 non-null   int64 \n",
            " 9   MntWines             2240 non-null   int64 \n",
            " 10  MntFruits            2240 non-null   int64 \n",
            " 11  MntMeatProducts      2240 non-null   int64 \n",
            " 12  MntFishProducts      2240 non-null   int64 \n",
            " 13  MntSweetProducts     2240 non-null   int64 \n",
            " 14  MntGoldProds         2240 non-null   int64 \n",
            " 15  NumDealsPurchases    2240 non-null   int64 \n",
            " 16  NumWebPurchases      2240 non-null   int64 \n",
            " 17  NumCatalogPurchases  2240 non-null   int64 \n",
            " 18  NumStorePurchases    2240 non-null   int64 \n",
            " 19  NumWebVisitsMonth    2240 non-null   int64 \n",
            " 20  AcceptedCmp3         2240 non-null   int64 \n",
            " 21  AcceptedCmp4         2240 non-null   int64 \n",
            " 22  AcceptedCmp5         2240 non-null   int64 \n",
            " 23  AcceptedCmp1         2240 non-null   int64 \n",
            " 24  AcceptedCmp2         2240 non-null   int64 \n",
            " 25  Response             2240 non-null   int64 \n",
            " 26  Complain             2240 non-null   int64 \n",
            " 27  Country              2240 non-null   object\n",
            "dtypes: int64(23), object(5)\n",
            "memory usage: 490.1+ KB\n",
            "None\n"
          ]
        }
      ],
      "source": [
        "print(data.info())"
      ]
    },
    {
      "cell_type": "markdown",
      "id": "01d4913a",
      "metadata": {
        "papermill": {
          "duration": 0.058749,
          "end_time": "2021-08-26T15:25:36.887026",
          "exception": false,
          "start_time": "2021-08-26T15:25:36.828277",
          "status": "completed"
        },
        "tags": [],
        "id": "01d4913a"
      },
      "source": [
        "**Using the info function, we can pull the following information from our dataset :**\n",
        "\n",
        "We have **5** categorical variables and **23** numerical variables\n",
        "\n",
        "We have missing values for the Income variable"
      ]
    },
    {
      "cell_type": "markdown",
      "id": "6c8ea075",
      "metadata": {
        "papermill": {
          "duration": 0.059142,
          "end_time": "2021-08-26T15:25:37.007637",
          "exception": false,
          "start_time": "2021-08-26T15:25:36.948495",
          "status": "completed"
        },
        "tags": [],
        "id": "6c8ea075"
      },
      "source": [
        "We see that column_name **\"Income\"** has a space before it's name that will create problems in further analysis, so we'll rename it.\n",
        "\n",
        "\n",
        "There looks a problem with 2 column's datatypes. We need to change the datatype of **\"Income\"** column into int64 so that it can be used for further calculations."
      ]
    },
    {
      "cell_type": "code",
      "execution_count": null,
      "id": "627d7464",
      "metadata": {
        "execution": {
          "iopub.execute_input": "2021-08-26T15:25:37.138938Z",
          "iopub.status.busy": "2021-08-26T15:25:37.138251Z",
          "iopub.status.idle": "2021-08-26T15:25:37.142766Z",
          "shell.execute_reply": "2021-08-26T15:25:37.142117Z",
          "shell.execute_reply.started": "2021-08-26T15:03:41.000525Z"
        },
        "papermill": {
          "duration": 0.075022,
          "end_time": "2021-08-26T15:25:37.142930",
          "exception": false,
          "start_time": "2021-08-26T15:25:37.067908",
          "status": "completed"
        },
        "tags": [],
        "id": "627d7464",
        "outputId": "5189384b-b565-4e66-9a74-45069dc2b51e"
      },
      "outputs": [
        {
          "name": "stderr",
          "output_type": "stream",
          "text": [
            "/opt/conda/lib/python3.7/site-packages/ipykernel_launcher.py:2: FutureWarning: The default value of regex will change from True to False in a future version. In addition, single character regular expressions will*not* be treated as literal strings when regex=True.\n",
            "  \n"
          ]
        }
      ],
      "source": [
        "data.rename(columns={' Income ':'Income'},inplace=True)\n",
        "data[\"Income\"] = data[\"Income\"].str.replace(\"$\",\"\").str.replace(',', '')\n",
        "data[\"Income\"] = data[\"Income\"].astype(float)"
      ]
    },
    {
      "cell_type": "markdown",
      "id": "1b9d270c",
      "metadata": {
        "papermill": {
          "duration": 0.062395,
          "end_time": "2021-08-26T15:25:37.265269",
          "exception": false,
          "start_time": "2021-08-26T15:25:37.202874",
          "status": "completed"
        },
        "tags": [],
        "id": "1b9d270c"
      },
      "source": [
        "Having a first look at the row data enables us to start thinking at some useful variables we could create in order to better understand our dataset and reveal precious information.\n",
        "\n",
        "**We wrill create several variables :**\n",
        "\n",
        "Variable Age in replacement of the variable Year_birth\n",
        "\n",
        "Variable Spending as the sum of the amount spent on the 6 product categories\n",
        "\n",
        "Variable Marital_Situation to group the different marital status in only 2 comprehensive categories : In couple vs Alone\n",
        "\n",
        "Variable Has_child as a binary variable equal to Yes if the customer has 1 child or more\n",
        "\n",
        "Variable Educationnal_years as the total number of years of education the individual achieved according to its diploma\n",
        "\n",
        "We will remove the unused variables for this analysis"
      ]
    },
    {
      "cell_type": "code",
      "execution_count": null,
      "id": "e6277e65",
      "metadata": {
        "execution": {
          "iopub.execute_input": "2021-08-26T15:25:37.395627Z",
          "iopub.status.busy": "2021-08-26T15:25:37.392408Z",
          "iopub.status.idle": "2021-08-26T15:25:37.410710Z",
          "shell.execute_reply": "2021-08-26T15:25:37.410124Z",
          "shell.execute_reply.started": "2021-08-26T15:03:41.019598Z"
        },
        "papermill": {
          "duration": 0.085732,
          "end_time": "2021-08-26T15:25:37.410875",
          "exception": false,
          "start_time": "2021-08-26T15:25:37.325143",
          "status": "completed"
        },
        "tags": [],
        "id": "e6277e65"
      },
      "outputs": [],
      "source": [
        "data['Age']=2021-data['Year_Birth']\n",
        "data['Spending']=data['MntWines']+data['MntFruits']+data['MntMeatProducts']+data['MntFishProducts']+data['MntSweetProducts']+data['MntGoldProds']\n",
        "data['Marital_Situation']=data['Marital_Status'].replace({'Divorced':'Alone','Single':'Alone','Married':'In couple','Together':'In couple','Absurd':'Alone','Widow':'Alone','YOLO':'Alone'})\n",
        "data['Has_child'] = np.where(data.Kidhome+data.Teenhome > 0, 'Yes', 'No')\n",
        "data['Educational_years']=data['Education'].replace({'Basic':5,'2n Cycle':8,'Graduation':12,'Master':18,'PhD':21})\n",
        "data=data[['Age','Income','Spending','Marital_Situation','Has_child','Educational_years', 'Education']]"
      ]
    },
    {
      "cell_type": "markdown",
      "id": "d1b3b9bb",
      "metadata": {
        "papermill": {
          "duration": 0.060112,
          "end_time": "2021-08-26T15:25:37.533789",
          "exception": false,
          "start_time": "2021-08-26T15:25:37.473677",
          "status": "completed"
        },
        "tags": [],
        "id": "d1b3b9bb"
      },
      "source": [
        "### **Statistical summary**"
      ]
    },
    {
      "cell_type": "code",
      "execution_count": null,
      "id": "5f7ffbe5",
      "metadata": {
        "execution": {
          "iopub.execute_input": "2021-08-26T15:25:37.660526Z",
          "iopub.status.busy": "2021-08-26T15:25:37.659412Z",
          "iopub.status.idle": "2021-08-26T15:25:37.681885Z",
          "shell.execute_reply": "2021-08-26T15:25:37.681258Z",
          "shell.execute_reply.started": "2021-08-26T15:03:41.047084Z"
        },
        "papermill": {
          "duration": 0.08865,
          "end_time": "2021-08-26T15:25:37.682028",
          "exception": false,
          "start_time": "2021-08-26T15:25:37.593378",
          "status": "completed"
        },
        "tags": [],
        "id": "5f7ffbe5",
        "outputId": "2d33f44f-e116-475e-f8ff-932c992249e7"
      },
      "outputs": [
        {
          "data": {
            "text/html": [
              "<div>\n",
              "<style scoped>\n",
              "    .dataframe tbody tr th:only-of-type {\n",
              "        vertical-align: middle;\n",
              "    }\n",
              "\n",
              "    .dataframe tbody tr th {\n",
              "        vertical-align: top;\n",
              "    }\n",
              "\n",
              "    .dataframe thead th {\n",
              "        text-align: right;\n",
              "    }\n",
              "</style>\n",
              "<table border=\"1\" class=\"dataframe\">\n",
              "  <thead>\n",
              "    <tr style=\"text-align: right;\">\n",
              "      <th></th>\n",
              "      <th>Age</th>\n",
              "      <th>Income</th>\n",
              "      <th>Spending</th>\n",
              "      <th>Educational_years</th>\n",
              "    </tr>\n",
              "  </thead>\n",
              "  <tbody>\n",
              "    <tr>\n",
              "      <th>count</th>\n",
              "      <td>2240.00</td>\n",
              "      <td>2216.00</td>\n",
              "      <td>2240.00</td>\n",
              "      <td>2240.00</td>\n",
              "    </tr>\n",
              "    <tr>\n",
              "      <th>mean</th>\n",
              "      <td>52.19</td>\n",
              "      <td>52247.25</td>\n",
              "      <td>605.80</td>\n",
              "      <td>14.41</td>\n",
              "    </tr>\n",
              "    <tr>\n",
              "      <th>std</th>\n",
              "      <td>11.98</td>\n",
              "      <td>25173.08</td>\n",
              "      <td>602.25</td>\n",
              "      <td>4.51</td>\n",
              "    </tr>\n",
              "    <tr>\n",
              "      <th>min</th>\n",
              "      <td>25.00</td>\n",
              "      <td>1730.00</td>\n",
              "      <td>5.00</td>\n",
              "      <td>5.00</td>\n",
              "    </tr>\n",
              "    <tr>\n",
              "      <th>25%</th>\n",
              "      <td>44.00</td>\n",
              "      <td>35303.00</td>\n",
              "      <td>68.75</td>\n",
              "      <td>12.00</td>\n",
              "    </tr>\n",
              "    <tr>\n",
              "      <th>50%</th>\n",
              "      <td>51.00</td>\n",
              "      <td>51381.50</td>\n",
              "      <td>396.00</td>\n",
              "      <td>12.00</td>\n",
              "    </tr>\n",
              "    <tr>\n",
              "      <th>75%</th>\n",
              "      <td>62.00</td>\n",
              "      <td>68522.00</td>\n",
              "      <td>1045.50</td>\n",
              "      <td>18.00</td>\n",
              "    </tr>\n",
              "    <tr>\n",
              "      <th>max</th>\n",
              "      <td>128.00</td>\n",
              "      <td>666666.00</td>\n",
              "      <td>2525.00</td>\n",
              "      <td>21.00</td>\n",
              "    </tr>\n",
              "  </tbody>\n",
              "</table>\n",
              "</div>"
            ],
            "text/plain": [
              "          Age    Income  Spending  Educational_years\n",
              "count 2240.00   2216.00   2240.00            2240.00\n",
              "mean    52.19  52247.25    605.80              14.41\n",
              "std     11.98  25173.08    602.25               4.51\n",
              "min     25.00   1730.00      5.00               5.00\n",
              "25%     44.00  35303.00     68.75              12.00\n",
              "50%     51.00  51381.50    396.00              12.00\n",
              "75%     62.00  68522.00   1045.50              18.00\n",
              "max    128.00 666666.00   2525.00              21.00"
            ]
          },
          "execution_count": 9,
          "metadata": {},
          "output_type": "execute_result"
        }
      ],
      "source": [
        "pd.options.display.float_format = \"{:.2f}\".format\n",
        "data.describe()"
      ]
    },
    {
      "cell_type": "markdown",
      "id": "a42aec77",
      "metadata": {
        "papermill": {
          "duration": 0.060994,
          "end_time": "2021-08-26T15:25:37.802966",
          "exception": false,
          "start_time": "2021-08-26T15:25:37.741972",
          "status": "completed"
        },
        "tags": [],
        "id": "a42aec77"
      },
      "source": [
        "The describe function generates for us the 3-Number summary, particularly useful as a first step in our preliminary investigation. Analyzing the statistical summary gives us insightful information in one look :\n",
        "\n",
        "Average **income** is 52247 dollars while median income is 51300 dollars. The distribution is right skewed with the possible presence of outliers. A little bit later we will handle outliers.\n",
        "\n",
        "The maximum value being equal to 666666 dollars and the 3rd quartile being only equal to 68522 dollars reinforce this hypothesis\n",
        "\n",
        "Average **spending** in the last 2 years is 600 dollars while median spending is 396 dollars\n",
        "\n",
        "Average **age** is 45 years old and the oldest customer is 121 years old which is a pretty (and beautiful) rare event\n",
        "\n",
        "Average number of years of **education** is 14.4 years which corresponds to a Bachelor degree\n"
      ]
    },
    {
      "cell_type": "code",
      "execution_count": null,
      "id": "f0bfbb6c",
      "metadata": {
        "execution": {
          "iopub.execute_input": "2021-08-26T15:25:37.937529Z",
          "iopub.status.busy": "2021-08-26T15:25:37.933367Z",
          "iopub.status.idle": "2021-08-26T15:25:39.237932Z",
          "shell.execute_reply": "2021-08-26T15:25:39.237322Z",
          "shell.execute_reply.started": "2021-08-26T15:03:41.077747Z"
        },
        "papermill": {
          "duration": 1.374085,
          "end_time": "2021-08-26T15:25:39.238077",
          "exception": false,
          "start_time": "2021-08-26T15:25:37.863992",
          "status": "completed"
        },
        "tags": [],
        "id": "f0bfbb6c",
        "outputId": "3f945449-167b-47c2-c8fd-b7de2fdff04a"
      },
      "outputs": [
        {
          "data": {
            "text/plain": [
              "<seaborn.axisgrid.FacetGrid at 0x7fbad27a0950>"
            ]
          },
          "execution_count": 10,
          "metadata": {},
          "output_type": "execute_result"
        },
        {
          "data": {
            "image/png": "[encoded data removed]",
            "text/plain": [
              "<Figure size 864x216 with 4 Axes>"
            ]
          },
          "metadata": {
            "needs_background": "light"
          },
          "output_type": "display_data"
        }
      ],
      "source": [
        "df = pd.DataFrame(data=data, columns=['Age','Income','Spending','Educational_years'])\n",
        "\n",
        "nd = pd.melt(df, value_vars =df )\n",
        "n1 = sns.FacetGrid (nd, col='variable', col_wrap=4, sharex=False, sharey = False)\n",
        "n1 = n1.map(sns.histplot, 'value')\n",
        "n1"
      ]
    },
    {
      "cell_type": "code",
      "execution_count": null,
      "id": "6abb0271",
      "metadata": {
        "execution": {
          "iopub.execute_input": "2021-08-26T15:25:39.372488Z",
          "iopub.status.busy": "2021-08-26T15:25:39.371508Z",
          "iopub.status.idle": "2021-08-26T15:25:39.507937Z",
          "shell.execute_reply": "2021-08-26T15:25:39.508434Z",
          "shell.execute_reply.started": "2021-08-26T15:03:42.389964Z"
        },
        "papermill": {
          "duration": 0.206593,
          "end_time": "2021-08-26T15:25:39.508623",
          "exception": false,
          "start_time": "2021-08-26T15:25:39.302030",
          "status": "completed"
        },
        "tags": [],
        "id": "6abb0271",
        "outputId": "0920d54f-54cc-4b0d-f192-d8b25c110e69"
      },
      "outputs": [
        {
          "data": {
            "text/plain": [
              "<AxesSubplot:>"
            ]
          },
          "execution_count": 11,
          "metadata": {},
          "output_type": "execute_result"
        },
        {
          "data": {
            "image/png": "[encoded data removed]",
            "text/plain": [
              "<Figure size 432x288 with 1 Axes>"
            ]
          },
          "metadata": {
            "needs_background": "light"
          },
          "output_type": "display_data"
        }
      ],
      "source": [
        "sns.boxplot(data = data['Income'])"
      ]
    },
    {
      "cell_type": "markdown",
      "id": "885dd72e",
      "metadata": {
        "papermill": {
          "duration": 0.070463,
          "end_time": "2021-08-26T15:25:39.650937",
          "exception": false,
          "start_time": "2021-08-26T15:25:39.580474",
          "status": "completed"
        },
        "tags": [],
        "id": "885dd72e"
      },
      "source": [
        "**Insight:** We have a varied range of Customers in this store. People with income as high as 700k yearly income and some customers with less than $100k yearly income as well.\n",
        "\n",
        "However, majority of customers are with low yearly income and there are only a few which have income more than $100k. This means that the store caters to majorly low-income group customers and doesn't entertain rich/luxury customers.\n",
        "\n",
        "So, we will remove this outliers otherwise it will pose a problem in further analysis. We use the log transformation technqiue for this."
      ]
    },
    {
      "cell_type": "markdown",
      "id": "14432710",
      "metadata": {
        "papermill": {
          "duration": 0.069496,
          "end_time": "2021-08-26T15:25:39.788026",
          "exception": false,
          "start_time": "2021-08-26T15:25:39.718530",
          "status": "completed"
        },
        "tags": [],
        "id": "14432710"
      },
      "source": [
        "### **Handling outliers**"
      ]
    },
    {
      "cell_type": "markdown",
      "id": "3c9c038c",
      "metadata": {
        "papermill": {
          "duration": 0.068917,
          "end_time": "2021-08-26T15:25:39.924665",
          "exception": false,
          "start_time": "2021-08-26T15:25:39.855748",
          "status": "completed"
        },
        "tags": [],
        "id": "3c9c038c"
      },
      "source": [
        "An outlier is an observation that differs significantly from other values.  \n",
        "\n",
        "Outliers can be detected using several methods such as statistical methods or graphical methods.\n",
        "We will use the Box-Plot graphical method which enables us to vizualize the range of our data and plot the outliers. By using this technique, we first calculate the Interquartile Range (IQR) defined as follow :\n",
        "\n",
        "**IQR = Q_3-Q_1**\n",
        "\n",
        "where :\n",
        "- Q_1 is the first quartile\n",
        "- Q_3 is the third quartile  \n",
        "\n",
        "> - Any value greater (lower) 1.5 times the IQR above (below) the third quartile (the first quartile) is defined as a __mild outlier__  \n",
        ">- Any value greater (lower) 3 times the IQR above (below) the third quartile (the first quartile) is defined as an __extreme outlier__"
      ]
    },
    {
      "cell_type": "code",
      "execution_count": null,
      "id": "5a010d6e",
      "metadata": {
        "execution": {
          "iopub.execute_input": "2021-08-26T15:25:40.068520Z",
          "iopub.status.busy": "2021-08-26T15:25:40.067084Z",
          "iopub.status.idle": "2021-08-26T15:25:41.673093Z",
          "shell.execute_reply": "2021-08-26T15:25:41.672353Z",
          "shell.execute_reply.started": "2021-08-26T15:03:42.525934Z"
        },
        "papermill": {
          "duration": 1.677251,
          "end_time": "2021-08-26T15:25:41.673266",
          "exception": false,
          "start_time": "2021-08-26T15:25:39.996015",
          "status": "completed"
        },
        "tags": [],
        "id": "5a010d6e",
        "outputId": "ed4eeb1d-612c-4864-c1b9-270cd2264a42"
      },
      "outputs": [
        {
          "data": {
            "text/html": [
              "        <script type=\"text/javascript\">\n",
              "        window.PlotlyConfig = {MathJaxConfig: 'local'};\n",
              "        if (window.MathJax) {MathJax.Hub.Config({SVG: {font: \"STIX-Web\"}});}\n",
              "        if (typeof require !== 'undefined') {\n",
              "        require.undef(\"plotly\");\n",
              "        requirejs.config({\n",
              "            paths: {\n",
              "                'plotly': ['https://cdn.plot.ly/plotly-2.2.0.min']\n",
              "            }\n",
              "        });\n",
              "        require(['plotly'], function(Plotly) {\n",
              "            window._Plotly = Plotly;\n",
              "        });\n",
              "        }\n",
              "        </script>\n",
              "        "
            ]
          },
          "metadata": {},
          "output_type": "display_data"
        },
        {
          "data": {
            "text/html": [
              "<div>                            <div id=\"9c1cf657-dba0-4f49-b641-8f779ef39363\" class=\"plotly-graph-div\" style=\"height:1000px; width:900px;\"></div>            <script type=\"text/javascript\">                require([\"plotly\"], function(Plotly) {                    window.PLOTLYENV=window.PLOTLYENV || {};                                    if (document.getElementById(\"9c1cf657-dba0-4f49-b641-8f779ef39363\")) {                    Plotly.newPlot(                        \"9c1cf657-dba0-4f49-b641-8f779ef39363\",                        [{\"alignmentgroup\":\"True\",\"hovertemplate\":\"variable=Age<br>value=%{y}<extra></extra>\",\"legendgroup\":\"Age\",\"marker\":{\"color\":\"#636efa\"},\"name\":\"Age\",\"notched\":false,\"offsetgroup\":\"Age\",\"orientation\":\"v\",\"showlegend\":true,\"type\":\"box\",\"x0\":\" \",\"xaxis\":\"x3\",\"y\":[51.0,60.0,63.0,54.0,32.0,63.0,67.0,54.0,67.0,67.0,74.0,42.0,62.0,40.0,52.0,44.0,44.0,63.0,61.0,63.0,67.0,55.0,42.0,45.0,52.0,56.0,65.0,65.0,65.0,46.0,50.0,35.0,49.0,47.0,31.0,34.0,37.0,61.0,60.0,53.0,49.0,66.0,38.0,35.0,51.0,60.0,48.0,56.0,51.0,61.0,37.0,67.0,43.0,65.0,47.0,69.0,48.0,46.0,59.0,57.0,39.0,60.0,53.0,44.0,47.0,35.0,65.0,61.0,49.0,49.0,46.0,59.0,44.0,51.0,50.0,56.0,58.0,45.0,57.0,74.0,52.0,52.0,64.0,51.0,59.0,41.0,34.0,48.0,76.0,37.0,44.0,61.0,51.0,52.0,42.0,59.0,59.0,72.0,41.0,65.0,73.0,39.0,48.0,48.0,48.0,72.0,72.0,56.0,31.0,41.0,66.0,51.0,68.0,39.0,46.0,66.0,45.0,45.0,72.0,53.0,63.0,59.0,43.0,43.0,63.0,63.0,45.0,50.0,75.0,67.0,67.0,54.0,64.0,64.0,64.0,49.0,32.0,34.0,34.0,36.0,52.0,32.0,47.0,50.0,43.0,37.0,35.0,35.0,64.0,72.0,72.0,62.0,67.0,56.0,45.0,37.0,49.0,49.0,45.0,45.0,42.0,56.0,56.0,74.0,59.0,31.0,52.0,45.0,48.0,60.0,34.0,61.0,44.0,29.0,42.0,43.0,49.0,48.0,45.0,42.0,66.0,66.0,48.0,46.0,49.0,69.0,39.0,65.0,58.0,68.0,31.0,77.0,40.0,46.0,65.0,56.0,59.0,70.0,40.0,68.0,70.0,69.0,61.0,50.0,50.0,52.0,33.0,69.0,44.0,76.0,76.0,34.0,49.0,50.0,63.0,44.0,71.0,46.0,53.0,73.0,51.0,58.0,39.0,39.0,50.0,46.0,56.0,77.0,60.0,69.0,56.0,63.0,66.0,60.0,42.0,50.0,53.0,48.0,52.0,29.0,60.0,38.0,41.0,69.0,45.0,45.0,73.0,64.0,45.0,45.0,35.0,67.0,52.0,72.0,50.0,50.0,53.0,39.0,39.0,27.0,51.0,35.0,38.0,66.0,53.0,51.0,72.0,71.0,71.0,45.0,49.0,37.0,66.0,41.0,54.0,52.0,65.0,58.0,62.0,46.0,46.0,71.0,52.0,63.0,55.0,67.0,33.0,33.0,51.0,65.0,55.0,64.0,49.0,28.0,46.0,51.0,65.0,45.0,45.0,45.0,39.0,39.0,50.0,43.0,29.0,48.0,52.0,65.0,41.0,69.0,38.0,64.0,54.0,51.0,51.0,55.0,43.0,57.0,29.0,33.0,66.0,48.0,53.0,51.0,36.0,44.0,61.0,33.0,57.0,57.0,35.0,32.0,32.0,51.0,48.0,38.0,48.0,48.0,67.0,56.0,75.0,55.0,66.0,60.0,72.0,75.0,44.0,44.0,45.0,38.0,50.0,67.0,49.0,47.0,53.0,38.0,47.0,43.0,59.0,39.0,57.0,41.0,31.0,31.0,31.0,35.0,43.0,42.0,47.0,47.0,62.0,55.0,38.0,38.0,42.0,61.0,51.0,49.0,37.0,46.0,54.0,41.0,54.0,40.0,48.0,51.0,35.0,50.0,62.0,55.0,33.0,46.0,52.0,50.0,49.0,49.0,47.0,62.0,50.0,71.0,50.0,47.0,66.0,30.0,59.0,69.0,43.0,58.0,56.0,44.0,67.0,41.0,46.0,64.0,67.0,34.0,34.0,37.0,50.0,49.0,41.0,70.0,42.0,54.0,46.0,56.0,61.0,30.0,47.0,50.0,46.0,43.0,60.0,44.0,55.0,42.0,77.0,54.0,41.0,48.0,40.0,50.0,46.0,45.0,31.0,31.0,47.0,47.0,61.0,35.0,41.0,51.0,61.0,60.0,49.0,45.0,56.0,50.0,71.0,39.0,53.0,63.0,52.0,57.0,33.0,52.0,67.0,67.0,48.0,67.0,35.0,45.0,76.0,54.0,75.0,75.0,57.0,49.0,58.0,58.0,56.0,45.0,49.0,37.0,75.0,75.0,70.0,50.0,67.0,63.0,63.0,50.0,54.0,47.0,34.0,45.0,49.0,39.0,43.0,52.0,57.0,57.0,77.0,43.0,56.0,48.0,50.0,49.0,35.0,59.0,59.0,41.0,53.0,128.0,50.0,35.0,37.0,61.0,61.0,69.0,56.0,56.0,39.0,69.0,76.0,60.0,60.0,44.0,70.0,43.0,51.0,51.0,50.0,34.0,34.0,55.0,75.0,75.0,46.0,47.0,71.0,52.0,64.0,51.0,44.0,44.0,53.0,53.0,64.0,46.0,72.0,38.0,67.0,62.0,62.0,62.0,49.0,72.0,52.0,52.0,58.0,58.0,25.0,69.0,48.0,45.0,43.0,48.0,47.0,66.0,66.0,62.0,66.0,63.0,51.0,77.0,63.0,43.0,50.0,57.0,69.0,65.0,47.0,42.0,42.0,40.0,34.0,39.0,46.0,65.0,48.0,35.0,47.0,43.0,37.0,47.0,46.0,51.0,56.0,35.0,46.0,42.0,47.0,32.0,64.0,65.0,69.0,65.0,47.0,47.0,41.0,47.0,52.0,58.0,40.0,40.0,33.0,61.0,33.0,33.0,55.0,71.0,57.0,68.0,38.0,59.0,51.0,51.0,51.0,40.0,60.0,45.0,45.0,55.0,62.0,44.0,69.0,59.0,50.0,30.0,56.0,32.0,59.0,67.0,38.0,49.0,51.0,41.0,54.0,54.0,64.0,63.0,50.0,37.0,58.0,31.0,70.0,43.0,53.0,49.0,58.0,61.0,44.0,58.0,55.0,43.0,69.0,64.0,40.0,61.0,58.0,30.0,30.0,73.0,62.0,69.0,72.0,68.0,58.0,56.0,48.0,39.0,39.0,62.0,61.0,51.0,71.0,27.0,68.0,41.0,51.0,70.0,36.0,38.0,38.0,44.0,44.0,26.0,43.0,67.0,46.0,46.0,34.0,52.0,52.0,62.0,40.0,48.0,47.0,46.0,39.0,35.0,55.0,55.0,55.0,55.0,38.0,38.0,38.0,58.0,46.0,45.0,42.0,36.0,35.0,57.0,45.0,33.0,70.0,65.0,40.0,45.0,43.0,66.0,40.0,43.0,43.0,51.0,46.0,68.0,45.0,63.0,61.0,42.0,30.0,40.0,63.0,70.0,39.0,60.0,38.0,38.0,50.0,36.0,69.0,46.0,38.0,50.0,49.0,51.0,61.0,41.0,58.0,58.0,54.0,54.0,40.0,48.0,61.0,56.0,34.0,70.0,72.0,40.0,59.0,71.0,50.0,50.0,46.0,51.0,51.0,32.0,32.0,56.0,49.0,50.0,62.0,65.0,43.0,50.0,50.0,34.0,51.0,43.0,44.0,55.0,55.0,63.0,50.0,40.0,49.0,53.0,52.0,62.0,40.0,55.0,52.0,70.0,38.0,46.0,48.0,53.0,59.0,51.0,41.0,47.0,57.0,34.0,50.0,66.0,74.0,57.0,49.0,53.0,54.0,44.0,46.0,122.0,74.0,74.0,62.0,38.0,51.0,73.0,35.0,45.0,39.0,71.0,48.0,48.0,48.0,48.0,71.0,70.0,51.0,46.0,56.0,50.0,52.0,43.0,49.0,30.0,63.0,50.0,71.0,37.0,49.0,32.0,53.0,62.0,63.0,52.0,65.0,52.0,67.0,41.0,55.0,35.0,46.0,56.0,63.0,39.0,48.0,58.0,48.0,52.0,43.0,37.0,64.0,64.0,66.0,34.0,61.0,65.0,59.0,56.0,36.0,56.0,51.0,51.0,45.0,47.0,53.0,50.0,35.0,55.0,45.0,43.0,59.0,51.0,59.0,72.0,67.0,51.0,66.0,66.0,32.0,46.0,45.0,39.0,68.0,68.0,29.0,73.0,61.0,43.0,43.0,49.0,49.0,49.0,49.0,36.0,65.0,67.0,30.0,67.0,35.0,45.0,71.0,46.0,48.0,46.0,29.0,56.0,56.0,48.0,45.0,43.0,46.0,35.0,60.0,48.0,44.0,37.0,58.0,39.0,44.0,35.0,45.0,47.0,43.0,40.0,63.0,69.0,43.0,44.0,41.0,54.0,42.0,63.0,45.0,42.0,64.0,32.0,26.0,36.0,43.0,55.0,37.0,56.0,33.0,62.0,62.0,51.0,51.0,51.0,47.0,49.0,42.0,53.0,49.0,51.0,35.0,35.0,68.0,33.0,54.0,63.0,70.0,70.0,65.0,68.0,60.0,41.0,55.0,53.0,51.0,64.0,73.0,55.0,43.0,70.0,51.0,51.0,46.0,42.0,68.0,43.0,43.0,76.0,39.0,38.0,55.0,55.0,63.0,66.0,44.0,72.0,46.0,39.0,44.0,60.0,33.0,42.0,42.0,47.0,52.0,32.0,32.0,51.0,54.0,53.0,49.0,59.0,46.0,46.0,43.0,67.0,49.0,40.0,44.0,67.0,46.0,29.0,41.0,58.0,58.0,41.0,50.0,45.0,53.0,53.0,53.0,46.0,74.0,46.0,49.0,47.0,46.0,46.0,55.0,55.0,46.0,48.0,71.0,36.0,71.0,71.0,64.0,64.0,69.0,47.0,43.0,48.0,51.0,30.0,51.0,49.0,66.0,64.0,47.0,47.0,60.0,60.0,51.0,33.0,33.0,62.0,41.0,60.0,60.0,60.0,62.0,67.0,46.0,42.0,57.0,46.0,32.0,47.0,52.0,43.0,43.0,40.0,41.0,36.0,71.0,64.0,55.0,65.0,65.0,46.0,58.0,49.0,62.0,74.0,56.0,55.0,55.0,64.0,58.0,54.0,69.0,62.0,61.0,69.0,43.0,48.0,49.0,47.0,69.0,67.0,58.0,52.0,70.0,65.0,45.0,60.0,45.0,58.0,69.0,65.0,35.0,45.0,55.0,68.0,62.0,37.0,58.0,58.0,48.0,46.0,52.0,52.0,57.0,59.0,69.0,38.0,69.0,67.0,67.0,62.0,55.0,56.0,43.0,32.0,36.0,41.0,54.0,40.0,50.0,37.0,44.0,69.0,66.0,32.0,30.0,72.0,63.0,45.0,36.0,73.0,73.0,51.0,65.0,52.0,58.0,69.0,58.0,47.0,43.0,43.0,69.0,56.0,38.0,63.0,43.0,65.0,39.0,74.0,69.0,45.0,78.0,49.0,56.0,50.0,39.0,50.0,78.0,78.0,71.0,71.0,64.0,43.0,44.0,63.0,54.0,73.0,73.0,49.0,49.0,64.0,48.0,48.0,69.0,48.0,38.0,39.0,39.0,50.0,54.0,46.0,43.0,49.0,69.0,66.0,66.0,73.0,43.0,53.0,48.0,44.0,59.0,57.0,44.0,56.0,40.0,45.0,56.0,46.0,61.0,61.0,70.0,56.0,61.0,61.0,58.0,60.0,66.0,65.0,53.0,53.0,67.0,27.0,56.0,49.0,75.0,75.0,66.0,42.0,42.0,70.0,53.0,52.0,39.0,37.0,47.0,47.0,52.0,30.0,30.0,40.0,50.0,42.0,42.0,32.0,32.0,45.0,46.0,58.0,58.0,48.0,64.0,72.0,50.0,52.0,65.0,37.0,26.0,46.0,72.0,44.0,44.0,73.0,57.0,67.0,49.0,70.0,61.0,53.0,73.0,74.0,39.0,39.0,43.0,43.0,69.0,69.0,69.0,53.0,70.0,43.0,56.0,45.0,52.0,69.0,40.0,33.0,73.0,69.0,56.0,53.0,48.0,69.0,50.0,74.0,66.0,39.0,50.0,28.0,64.0,64.0,68.0,66.0,45.0,49.0,46.0,49.0,49.0,50.0,78.0,42.0,44.0,45.0,50.0,44.0,70.0,65.0,63.0,48.0,53.0,56.0,56.0,72.0,48.0,70.0,54.0,69.0,31.0,35.0,72.0,39.0,65.0,42.0,42.0,34.0,45.0,68.0,48.0,64.0,62.0,46.0,49.0,62.0,55.0,62.0,62.0,66.0,65.0,70.0,70.0,46.0,63.0,29.0,47.0,51.0,51.0,42.0,64.0,48.0,48.0,66.0,66.0,66.0,33.0,72.0,75.0,63.0,68.0,68.0,31.0,36.0,70.0,42.0,72.0,43.0,30.0,69.0,72.0,72.0,48.0,51.0,53.0,45.0,49.0,43.0,43.0,36.0,62.0,48.0,72.0,72.0,50.0,72.0,29.0,46.0,46.0,47.0,47.0,47.0,53.0,38.0,52.0,56.0,56.0,66.0,64.0,46.0,50.0,56.0,61.0,53.0,53.0,53.0,38.0,38.0,45.0,62.0,42.0,46.0,47.0,49.0,55.0,44.0,46.0,55.0,50.0,26.0,26.0,47.0,49.0,45.0,47.0,50.0,52.0,78.0,56.0,68.0,68.0,50.0,63.0,45.0,55.0,59.0,43.0,61.0,42.0,52.0,52.0,66.0,54.0,47.0,41.0,52.0,28.0,28.0,37.0,35.0,40.0,45.0,45.0,51.0,70.0,36.0,51.0,36.0,62.0,37.0,36.0,62.0,49.0,37.0,56.0,40.0,50.0,51.0,51.0,48.0,28.0,38.0,38.0,52.0,70.0,56.0,54.0,46.0,67.0,37.0,64.0,59.0,68.0,75.0,56.0,71.0,37.0,57.0,37.0,34.0,37.0,70.0,57.0,76.0,44.0,57.0,29.0,71.0,64.0,50.0,44.0,37.0,37.0,36.0,36.0,59.0,49.0,52.0,61.0,69.0,32.0,66.0,43.0,48.0,70.0,70.0,38.0,49.0,73.0,46.0,41.0,48.0,48.0,62.0,32.0,58.0,45.0,67.0,50.0,50.0,70.0,70.0,70.0,60.0,45.0,31.0,69.0,51.0,53.0,40.0,56.0,69.0,71.0,54.0,35.0,52.0,62.0,75.0,57.0,47.0,31.0,43.0,58.0,34.0,29.0,29.0,71.0,71.0,66.0,38.0,37.0,65.0,34.0,58.0,41.0,35.0,42.0,51.0,45.0,52.0,44.0,65.0,49.0,45.0,33.0,73.0,41.0,35.0,56.0,62.0,69.0,52.0,40.0,65.0,52.0,38.0,66.0,59.0,66.0,53.0,56.0,61.0,42.0,49.0,51.0,63.0,78.0,56.0,50.0,62.0,41.0,62.0,51.0,54.0,38.0,68.0,67.0,59.0,74.0,48.0,49.0,52.0,36.0,68.0,46.0,41.0,41.0,47.0,52.0,52.0,36.0,36.0,36.0,73.0,54.0,60.0,56.0,56.0,52.0,56.0,65.0,52.0,62.0,58.0,58.0,43.0,68.0,47.0,48.0,69.0,56.0,39.0,63.0,42.0,48.0,78.0,37.0,39.0,50.0,50.0,47.0,55.0,41.0,50.0,49.0,59.0,49.0,42.0,43.0,67.0,67.0,50.0,50.0,50.0,66.0,45.0,59.0,38.0,63.0,63.0,54.0,64.0,44.0,64.0,35.0,39.0,40.0,48.0,45.0,33.0,38.0,54.0,61.0,43.0,32.0,45.0,50.0,32.0,32.0,31.0,51.0,45.0,80.0,51.0,55.0,57.0,57.0,62.0,62.0,62.0,63.0,54.0,50.0,50.0,62.0,60.0,32.0,48.0,56.0,71.0,61.0,46.0,46.0,53.0,42.0,46.0,39.0,49.0,65.0,52.0,68.0,65.0,65.0,61.0,61.0,39.0,39.0,55.0,44.0,60.0,54.0,71.0,66.0,51.0,58.0,66.0,45.0,44.0,42.0,38.0,67.0,56.0,73.0,43.0,63.0,60.0,60.0,41.0,42.0,55.0,44.0,53.0,45.0,52.0,42.0,53.0,62.0,35.0,38.0,36.0,65.0,74.0,46.0,49.0,52.0,63.0,59.0,52.0,53.0,48.0,32.0,50.0,45.0,45.0,65.0,48.0,25.0,52.0,46.0,43.0,51.0,42.0,73.0,42.0,63.0,35.0,50.0,57.0,47.0,47.0,68.0,63.0,68.0,60.0,45.0,49.0,52.0,59.0,54.0,40.0,35.0,45.0,45.0,70.0,51.0,62.0,54.0,37.0,67.0,40.0,40.0,53.0,65.0,37.0,45.0,50.0,72.0,70.0,42.0,32.0,49.0,40.0,40.0,49.0,50.0,52.0,36.0,57.0,47.0,55.0,42.0,47.0,67.0,42.0,63.0,45.0,45.0,50.0,66.0,59.0,58.0,66.0,61.0,61.0,51.0,45.0,56.0,42.0,64.0,64.0,52.0,50.0,36.0,76.0,66.0,66.0,46.0,52.0,34.0,45.0,64.0,59.0,70.0,45.0,45.0,65.0,43.0,51.0,59.0,59.0,47.0,48.0,74.0,58.0,65.0,39.0,77.0,72.0,54.0,65.0,46.0,70.0,66.0,50.0,50.0,39.0,62.0,47.0,65.0,70.0,70.0,39.0,45.0,61.0,31.0,55.0,58.0,64.0,56.0,35.0,75.0,75.0,61.0,68.0,39.0,35.0,36.0,46.0,46.0,46.0,65.0,32.0,58.0,68.0,57.0,46.0,46.0,54.0,41.0,48.0,59.0,54.0,62.0,47.0,48.0,69.0,42.0,49.0,65.0,56.0,69.0,68.0,47.0,50.0,64.0,63.0,36.0,36.0,59.0,33.0,69.0,63.0,47.0,59.0,59.0,59.0,70.0,46.0,36.0,65.0,43.0,65.0,67.0,46.0,74.0,45.0,43.0,47.0,49.0,61.0,56.0,54.0,50.0,59.0,46.0,45.0,53.0,54.0,50.0,56.0,52.0,45.0,70.0,60.0,51.0,53.0,67.0,55.0,63.0,45.0,77.0,63.0,71.0,67.0,66.0,66.0,51.0,57.0,33.0,33.0,34.0,49.0,50.0,43.0,47.0,40.0,37.0,37.0,68.0,32.0,44.0,62.0,67.0,55.0,56.0,56.0,65.0,52.0,65.0,72.0,43.0,65.0,69.0,69.0,68.0,55.0,44.0,49.0,63.0,49.0,46.0,67.0,50.0,47.0,52.0,53.0,63.0,30.0,40.0,70.0,56.0,55.0,65.0,67.0,67.0,63.0,63.0,33.0,60.0,60.0,50.0,71.0,33.0,43.0,43.0,38.0,61.0,57.0,74.0,57.0,33.0,59.0,34.0,45.0,43.0,35.0,35.0,50.0,57.0,64.0,49.0,61.0,54.0,44.0,44.0,34.0,69.0,40.0,47.0,42.0,42.0,56.0,62.0,36.0,60.0,56.0,56.0,31.0,54.0,51.0,34.0,42.0,44.0,45.0,29.0,44.0,48.0,48.0,69.0,34.0,64.0,66.0,41.0,68.0,39.0,61.0,35.0,38.0,57.0,57.0,52.0,68.0,30.0,43.0,50.0,57.0,33.0,33.0,62.0,51.0,46.0,57.0,57.0,37.0,52.0,61.0,61.0,70.0,56.0,56.0,73.0,64.0,58.0,81.0,41.0,35.0,43.0,56.0,68.0,69.0,49.0,49.0,57.0,68.0,57.0,47.0,57.0,63.0,48.0,44.0,43.0,56.0,57.0,40.0,67.0,37.0,37.0,54.0,54.0,63.0,53.0,57.0,33.0,67.0,58.0,31.0,48.0,48.0,53.0,49.0,49.0,43.0,55.0,47.0,38.0,32.0,43.0,53.0,61.0,61.0,51.0,41.0,42.0,47.0,36.0,45.0,55.0,55.0,47.0,59.0,52.0,47.0,47.0,48.0,48.0,121.0,48.0,45.0,44.0,45.0,43.0,52.0],\"y0\":\" \",\"yaxis\":\"y3\"},{\"alignmentgroup\":\"True\",\"hovertemplate\":\"variable=Income<br>value=%{y}<extra></extra>\",\"legendgroup\":\"Income\",\"marker\":{\"color\":\"#EF553B\"},\"name\":\"Income\",\"notched\":false,\"offsetgroup\":\"Income\",\"orientation\":\"v\",\"showlegend\":true,\"type\":\"box\",\"x0\":\" \",\"xaxis\":\"x4\",\"y\":[84835.0,57091.0,67267.0,32474.0,21474.0,71691.0,63564.0,44931.0,65324.0,65324.0,81044.0,62499.0,67786.0,26872.0,4428.0,54809.0,54809.0,32173.0,47823.0,30523.0,36634.0,43456.0,40662.0,49544.0,57731.0,33168.0,54450.0,54450.0,35340.0,73170.0,65808.0,79529.0,34578.0,46374.0,18351.0,95169.0,65370.0,39228.0,84865.0,61314.0,21359.0,66465.0,81698.0,39146.0,25959.0,64260.0,32300.0,74806.0,72967.0,48904.0,14796.0,66991.0,52195.0,90369.0,18393.0,47139.0,38576.0,61905.0,83715.0,60597.0,6560.0,48330.0,38236.0,22701.0,53367.0,34728.0,63915.0,82504.0,38578.0,38578.0,79174.0,81975.0,43263.0,27242.0,76445.0,75276.0,34213.0,72335.0,79143.0,27469.0,68695.0,68695.0,50388.0,77622.0,46102.0,31859.0,23830.0,24639.0,71604.0,27255.0,55375.0,77037.0,24163.0,69476.0,72063.0,58646.0,58646.0,47570.0,80011.0,54998.0,60200.0,63211.0,48432.0,48432.0,48432.0,62845.0,62845.0,65220.0,74214.0,96547.0,53863.0,50447.0,37716.0,45203.0,37368.0,67225.0,65104.0,65104.0,81698.0,70566.0,69096.0,71434.0,33039.0,33039.0,46610.0,49967.0,53359.0,49505.0,68657.0,72071.0,72071.0,59235.0,21994.0,21994.0,null,69209.0,31928.0,74004.0,30390.0,21355.0,26304.0,85710.0,102692.0,58350.0,7500.0,18890.0,20425.0,20425.0,41437.0,49912.0,49912.0,79823.0,85683.0,47025.0,68397.0,38175.0,46423.0,46423.0,30560.0,30560.0,60152.0,29672.0,29672.0,70321.0,56181.0,24279.0,68462.0,55424.0,49094.0,59184.0,67430.0,30522.0,31878.0,83528.0,90300.0,68092.0,53761.0,52845.0,24027.0,7500.0,42586.0,42586.0,9722.0,86836.0,30467.0,54549.0,19444.0,69245.0,72968.0,48686.0,73687.0,82716.0,35523.0,60554.0,64090.0,61559.0,71670.0,67680.0,54386.0,64108.0,69702.0,47958.0,67716.0,34600.0,34600.0,48752.0,15716.0,46610.0,74985.0,45576.0,113734.0,57100.0,24434.0,37126.0,45160.0,33178.0,64866.0,34176.0,50014.0,92344.0,55282.0,48799.0,84169.0,84169.0,39763.0,74165.0,42720.0,65275.0,36443.0,43776.0,56046.0,65148.0,49431.0,32583.0,16653.0,26850.0,51287.0,43050.0,73448.0,17256.0,86429.0,33569.0,25130.0,62998.0,26907.0,26907.0,45579.0,47320.0,70179.0,70179.0,28072.0,50501.0,58917.0,69372.0,35178.0,35178.0,75693.0,69109.0,69109.0,80134.0,64713.0,41411.0,null,55521.0,43795.0,22070.0,36408.0,34026.0,34026.0,46049.0,35641.0,32414.0,59821.0,34968.0,56320.0,70091.0,46097.0,41003.0,44911.0,33249.0,33249.0,42873.0,51039.0,78952.0,29435.0,79865.0,34176.0,34176.0,65968.0,86424.0,67272.0,78499.0,77044.0,70515.0,17459.0,80336.0,15759.0,26326.0,62061.0,5305.0,75777.0,75777.0,71499.0,31626.0,42670.0,83917.0,41021.0,79456.0,78789.0,50870.0,35876.0,23539.0,32557.0,62466.0,62466.0,54198.0,82170.0,61798.0,15253.0,78285.0,62535.0,27190.0,48985.0,72940.0,36145.0,157146.0,81843.0,41883.0,45759.0,45759.0,78394.0,30279.0,30279.0,31880.0,60208.0,78687.0,37401.0,37401.0,75315.0,69263.0,78569.0,57705.0,74805.0,66426.0,51529.0,18100.0,59601.0,20981.0,74068.0,36790.0,18793.0,27421.0,30675.0,83145.0,34053.0,31788.0,45894.0,41986.0,42769.0,58582.0,49096.0,76412.0,18929.0,18929.0,18929.0,21888.0,41580.0,31605.0,25509.0,25509.0,33051.0,28764.0,32146.0,22148.0,36781.0,54197.0,93790.0,24762.0,30477.0,11448.0,70844.0,30828.0,62513.0,27733.0,39435.0,75345.0,20491.0,36715.0,71706.0,69063.0,24645.0,35797.0,44078.0,26954.0,null,38887.0,65463.0,53537.0,36230.0,80763.0,60585.0,49166.0,75261.0,89891.0,72828.0,75278.0,38557.0,81300.0,60161.0,69389.0,64497.0,61014.0,44319.0,53233.0,77972.0,81361.0,81361.0,25707.0,42403.0,65704.0,37406.0,39767.0,54210.0,57136.0,40794.0,83003.0,89058.0,20193.0,72099.0,43824.0,66653.0,44359.0,79410.0,55842.0,79946.0,88194.0,80184.0,76982.0,65295.0,57100.0,29009.0,78931.0,7500.0,56939.0,64509.0,30093.0,30351.0,30351.0,38201.0,null,43974.0,38200.0,87305.0,16860.0,27213.0,7500.0,4861.0,38196.0,41145.0,38513.0,45688.0,77863.0,42169.0,45906.0,35388.0,80952.0,39898.0,39898.0,44051.0,86718.0,80141.0,58597.0,70356.0,46904.0,37760.0,37760.0,61839.0,29791.0,48918.0,48918.0,58692.0,39356.0,76234.0,55434.0,66835.0,66835.0,71965.0,74538.0,50002.0,53977.0,53977.0,69930.0,62981.0,46014.0,18227.0,65991.0,38808.0,160803.0,43783.0,30396.0,65526.0,65526.0,55956.0,55563.0,57236.0,89694.0,57420.0,33622.0,29999.0,31497.0,31497.0,36802.0,61671.0,60182.0,29732.0,45921.0,16529.0,98777.0,98777.0,77027.0,69139.0,69139.0,65169.0,40049.0,69755.0,null,54456.0,666666.0,60689.0,26487.0,28164.0,22585.0,64795.0,42000.0,42000.0,70713.0,82800.0,82800.0,30801.0,83891.0,38054.0,14045.0,44155.0,57642.0,31353.0,31353.0,41335.0,41335.0,40737.0,19789.0,35946.0,36262.0,44551.0,71367.0,71367.0,57957.0,50334.0,48150.0,56796.0,56796.0,52278.0,52278.0,7500.0,33444.0,20895.0,37509.0,88097.0,59041.0,43322.0,46015.0,46015.0,34242.0,65210.0,50520.0,90765.0,80589.0,49572.0,75437.0,44635.0,58512.0,62000.0,54252.0,45068.0,60474.0,60474.0,56337.0,22434.0,61416.0,92163.0,58656.0,null,8940.0,26751.0,71427.0,26646.0,19346.0,56243.0,59892.0,71613.0,25252.0,42160.0,15862.0,82584.0,38360.0,75283.0,34941.0,61823.0,90226.0,44989.0,44989.0,43586.0,32233.0,62882.0,57288.0,75774.0,75774.0,90247.0,32218.0,84219.0,84219.0,48877.0,60905.0,75236.0,62551.0,70123.0,50785.0,15315.0,15315.0,64413.0,87171.0,30081.0,20180.0,20180.0,55686.0,26887.0,61996.0,51537.0,72025.0,30538.0,61618.0,77343.0,75433.0,82571.0,60033.0,39062.0,30023.0,30015.0,33228.0,22574.0,22574.0,55267.0,66886.0,72258.0,82733.0,45146.0,51250.0,32871.0,63855.0,42564.0,46344.0,50437.0,70971.0,37774.0,4023.0,33279.0,42693.0,70545.0,65486.0,77882.0,78468.0,77226.0,90638.0,90638.0,70666.0,59052.0,13084.0,49160.0,23272.0,49476.0,62694.0,57906.0,71853.0,71853.0,65031.0,30507.0,67419.0,59462.0,95529.0,53653.0,25965.0,22979.0,64950.0,44322.0,30096.0,30096.0,56628.0,82326.0,71163.0,71022.0,42607.0,43057.0,47808.0,29236.0,40590.0,40590.0,77520.0,40211.0,63516.0,53034.0,22669.0,79908.0,69867.0,70287.0,37070.0,37070.0,38179.0,39922.0,39922.0,39922.0,64191.0,41658.0,40780.0,77568.0,66503.0,83512.0,31686.0,71322.0,27938.0,22263.0,34633.0,42162.0,162397.0,54162.0,41769.0,44953.0,37717.0,37717.0,40548.0,67893.0,69267.0,9548.0,68281.0,92556.0,48526.0,90273.0,19414.0,79761.0,53312.0,41039.0,88347.0,50150.0,50150.0,10245.0,33454.0,40887.0,55914.0,37292.0,52914.0,24884.0,67384.0,51651.0,82497.0,32632.0,33562.0,79146.0,79146.0,36143.0,27159.0,41275.0,76800.0,75794.0,30833.0,26518.0,91065.0,45183.0,48070.0,30372.0,30372.0,57036.0,66731.0,35682.0,10979.0,10979.0,57912.0,36026.0,35788.0,42243.0,46086.0,61346.0,33316.0,33316.0,21063.0,33697.0,25804.0,72117.0,61286.0,61286.0,65196.0,55635.0,42021.0,75251.0,35322.0,53374.0,87195.0,42395.0,82427.0,44602.0,94642.0,28359.0,55801.0,92955.0,56534.0,69627.0,78579.0,44964.0,30899.0,78825.0,25545.0,47111.0,49667.0,66000.0,46910.0,25224.0,77382.0,28420.0,32952.0,46149.0,83532.0,73059.0,73059.0,35701.0,89616.0,105471.0,78427.0,22518.0,59809.0,39660.0,52203.0,35860.0,35860.0,35860.0,35860.0,76842.0,15033.0,67353.0,17003.0,65735.0,45684.0,21918.0,51267.0,59868.0,51373.0,46692.0,157733.0,54432.0,79607.0,51813.0,17487.0,40706.0,62859.0,61074.0,43638.0,58116.0,62187.0,46344.0,77353.0,69759.0,21846.0,76532.0,70053.0,75342.0,27590.0,51148.0,33378.0,32644.0,33581.0,12393.0,42710.0,82347.0,82347.0,22554.0,17323.0,62204.0,78028.0,63887.0,32727.0,29103.0,61482.0,20587.0,20587.0,52190.0,48186.0,19329.0,34109.0,23477.0,47472.0,14849.0,26224.0,27238.0,null,57967.0,51569.0,72550.0,44511.0,62972.0,62972.0,77845.0,36663.0,53204.0,21059.0,67087.0,73892.0,75114.0,42192.0,31454.0,22775.0,22775.0,31590.0,80134.0,80134.0,14188.0,18169.0,62503.0,46734.0,68126.0,52869.0,26576.0,75825.0,57045.0,34984.0,27803.0,69283.0,18746.0,70924.0,70924.0,69401.0,75012.0,85738.0,60934.0,27161.0,64325.0,18978.0,41124.0,39684.0,53378.0,37040.0,78710.0,92910.0,36283.0,79632.0,28587.0,88325.0,51412.0,63998.0,38593.0,27889.0,45889.0,56575.0,16014.0,61331.0,70893.0,2447.0,64849.0,42387.0,80617.0,54006.0,16531.0,30843.0,18988.0,81051.0,39747.0,34554.0,52854.0,81205.0,69084.0,69084.0,65352.0,22063.0,47691.0,29187.0,72504.0,33986.0,42386.0,42386.0,36957.0,13724.0,42664.0,37334.0,78497.0,78497.0,58821.0,58398.0,80950.0,30732.0,89572.0,57107.0,76467.0,null,51315.0,43602.0,38643.0,49090.0,70617.0,67536.0,27573.0,13533.0,50725.0,25851.0,57113.0,62847.0,68627.0,25271.0,63810.0,63810.0,65488.0,36927.0,22108.0,72025.0,33183.0,23661.0,25315.0,45938.0,66951.0,77298.0,77298.0,43018.0,75759.0,33996.0,33996.0,54137.0,61223.0,69674.0,49494.0,51195.0,37284.0,37284.0,42011.0,70044.0,46053.0,24480.0,54233.0,36130.0,56559.0,92859.0,44010.0,80124.0,80124.0,50183.0,64722.0,37395.0,29543.0,19514.0,19514.0,59481.0,91712.0,80144.0,59973.0,68352.0,81169.0,61456.0,22634.0,22634.0,23957.0,33471.0,52157.0,30298.0,56551.0,56551.0,65487.0,65487.0,44213.0,40344.0,57867.0,25410.0,13260.0,42691.0,36138.0,57136.0,58275.0,54237.0,34596.0,34596.0,74881.0,74881.0,44267.0,68487.0,68487.0,80982.0,69508.0,63342.0,63342.0,82014.0,76320.0,64587.0,74190.0,32765.0,null,22212.0,18358.0,26067.0,22390.0,70440.0,60199.0,38547.0,19107.0,37929.0,16813.0,62187.0,57811.0,50943.0,50943.0,53201.0,54414.0,26290.0,61250.0,28389.0,55250.0,37758.0,37758.0,37633.0,33629.0,36947.0,69142.0,53154.0,65695.0,69805.0,36975.0,26228.0,37787.0,37087.0,57247.0,36930.0,48721.0,43641.0,75903.0,71391.0,16927.0,27215.0,53858.0,30983.0,43462.0,63943.0,26816.0,75484.0,33564.0,54348.0,54984.0,34738.0,68118.0,68118.0,22682.0,51948.0,25293.0,25293.0,41551.0,56067.0,67433.0,22010.0,64831.0,62820.0,62820.0,78353.0,57183.0,23478.0,30168.0,37155.0,16581.0,41850.0,81380.0,56386.0,25818.0,15345.0,57954.0,50300.0,38725.0,10404.0,26868.0,72298.0,72905.0,47025.0,29938.0,46681.0,46681.0,29548.0,62058.0,null,36736.0,8820.0,14918.0,56715.0,24882.0,24882.0,40442.0,64176.0,23536.0,35246.0,28442.0,48195.0,74116.0,78093.0,59354.0,36301.0,77598.0,62710.0,36317.0,42767.0,43815.0,44421.0,48948.0,48948.0,63120.0,55517.0,36864.0,null,82582.0,79803.0,52569.0,82032.0,82032.0,65685.0,65685.0,40451.0,31163.0,31163.0,35704.0,7500.0,36075.0,70038.0,70038.0,71796.0,47821.0,45503.0,28647.0,37760.0,85431.0,72635.0,72635.0,77142.0,53172.0,36065.0,73926.0,35790.0,39552.0,68316.0,102160.0,51390.0,72066.0,21675.0,48006.0,65106.0,58401.0,29315.0,49389.0,51717.0,46779.0,28520.0,34377.0,54959.0,82384.0,46998.0,58554.0,58554.0,57333.0,80685.0,52117.0,62220.0,64014.0,64014.0,46390.0,75507.0,75507.0,59412.0,50616.0,35924.0,57937.0,73356.0,21255.0,58494.0,72460.0,68682.0,68682.0,36959.0,46463.0,61825.0,61825.0,28691.0,28691.0,54058.0,84196.0,38620.0,38620.0,3502.0,47743.0,80360.0,66303.0,52413.0,60714.0,31385.0,83257.0,80427.0,38823.0,42014.0,42014.0,76140.0,41713.0,62670.0,70932.0,78939.0,44512.0,63967.0,90842.0,25358.0,null,28567.0,66373.0,66373.0,83844.0,83844.0,83844.0,83664.0,27450.0,54880.0,71322.0,60000.0,65176.0,61010.0,31089.0,20518.0,34469.0,28332.0,33456.0,38443.0,65333.0,82623.0,73691.0,74485.0,65748.0,24367.0,91700.0,79244.0,82017.0,58138.0,59354.0,58482.0,29478.0,64474.0,31160.0,40321.0,40321.0,55239.0,57513.0,85693.0,71855.0,7500.0,71969.0,28973.0,80872.0,84117.0,38741.0,38961.0,75922.0,56962.0,56962.0,70165.0,65308.0,29298.0,63246.0,33402.0,96843.0,82333.0,72643.0,32313.0,55284.0,15287.0,15287.0,51563.0,81929.0,53593.0,60432.0,66726.0,62450.0,49514.0,43269.0,33762.0,60894.0,87771.0,87771.0,50737.0,26150.0,57304.0,71107.0,53253.0,81320.0,87000.0,40049.0,63684.0,69016.0,7500.0,73803.0,46094.0,85844.0,38452.0,38452.0,80395.0,87679.0,35416.0,44124.0,50729.0,94384.0,94384.0,34412.0,31158.0,34838.0,56775.0,54356.0,72159.0,8028.0,55951.0,67911.0,67911.0,20427.0,32303.0,55954.0,49187.0,49854.0,63693.0,63693.0,19510.0,52332.0,55593.0,54591.0,74859.0,40851.0,58607.0,7500.0,52614.0,52614.0,67445.0,67445.0,67445.0,36778.0,39453.0,42731.0,40760.0,69969.0,80317.0,66636.0,54730.0,42835.0,53843.0,79530.0,63841.0,63841.0,63841.0,27100.0,27100.0,72309.0,50664.0,20194.0,76618.0,45207.0,56721.0,27038.0,23763.0,37085.0,49605.0,1730.0,34824.0,34824.0,63206.0,26759.0,55412.0,33590.0,70886.0,72679.0,65073.0,44300.0,56129.0,56129.0,38590.0,53083.0,79689.0,34704.0,65316.0,41014.0,19740.0,23724.0,55212.0,55212.0,79800.0,70647.0,38410.0,28071.0,54803.0,74293.0,74293.0,35684.0,34320.0,41967.0,49681.0,49681.0,53187.0,86610.0,70951.0,24206.0,55357.0,58113.0,70643.0,64355.0,82576.0,41644.0,72570.0,30630.0,22944.0,86979.0,null,82072.0,52034.0,72354.0,28427.0,28427.0,39858.0,67381.0,23529.0,51479.0,76068.0,22507.0,52413.0,50116.0,76624.0,34587.0,62159.0,66294.0,5648.0,37235.0,85620.0,23976.0,41020.0,36108.0,57530.0,62905.0,65846.0,34380.0,41638.0,63207.0,28320.0,43140.0,52531.0,40246.0,35196.0,35196.0,70596.0,70596.0,52597.0,42394.0,81657.0,49154.0,34074.0,null,70638.0,38136.0,67432.0,40689.0,40689.0,101970.0,44325.0,61467.0,48178.0,16005.0,79593.0,79593.0,61180.0,64449.0,77437.0,17649.0,53103.0,71819.0,74290.0,72282.0,47352.0,47352.0,46524.0,50200.0,18222.0,77610.0,38097.0,44377.0,58684.0,66480.0,49638.0,50616.0,26642.0,33235.0,23228.0,36732.0,82657.0,64140.0,44392.0,16185.0,38702.0,54072.0,61787.0,34935.0,34935.0,59292.0,59292.0,57959.0,92491.0,42207.0,46984.0,23442.0,46757.0,14515.0,80910.0,30545.0,44802.0,79941.0,79734.0,50353.0,77376.0,78075.0,42473.0,25008.0,56223.0,47850.0,91820.0,40637.0,23295.0,84574.0,54165.0,28510.0,67131.0,56242.0,86580.0,76005.0,54693.0,52750.0,36997.0,34230.0,47916.0,60839.0,79930.0,55158.0,85485.0,75865.0,44375.0,60504.0,65492.0,67506.0,68805.0,61209.0,66825.0,87188.0,84953.0,74637.0,86111.0,77632.0,31814.0,70116.0,48240.0,40101.0,70503.0,79205.0,51766.0,62994.0,65640.0,38361.0,38361.0,19986.0,19986.0,72903.0,45072.0,59062.0,61794.0,45143.0,45143.0,26877.0,36921.0,54342.0,62772.0,75032.0,22419.0,22419.0,36550.0,75027.0,63159.0,54108.0,81795.0,59594.0,18492.0,94472.0,70337.0,34853.0,null,16269.0,50272.0,22804.0,22804.0,30631.0,78420.0,81741.0,25721.0,31907.0,37859.0,30261.0,21645.0,21282.0,32144.0,62637.0,16626.0,54690.0,54690.0,61284.0,23718.0,33419.0,82025.0,15056.0,48192.0,67309.0,66033.0,28769.0,6835.0,32880.0,23616.0,19419.0,34961.0,64892.0,16248.0,43776.0,52074.0,22123.0,35544.0,59060.0,65665.0,29819.0,81217.0,81217.0,26095.0,65706.0,31859.0,93027.0,58710.0,49618.0,58308.0,40800.0,18690.0,18690.0,18690.0,28087.0,75702.0,32892.0,32892.0,89120.0,27116.0,46107.0,54466.0,59686.0,82460.0,76045.0,83829.0,83829.0,32889.0,33462.0,36627.0,28718.0,77981.0,60230.0,74918.0,40464.0,64857.0,64857.0,63381.0,63381.0,66664.0,66664.0,86358.0,41443.0,57072.0,54178.0,48767.0,51124.0,43020.0,49980.0,72906.0,25176.0,96876.0,31086.0,24072.0,76773.0,72190.0,83837.0,17345.0,75154.0,28249.0,28249.0,69661.0,27922.0,45903.0,36273.0,70777.0,17148.0,66476.0,45057.0,41120.0,null,19485.0,21840.0,41473.0,31395.0,68117.0,47682.0,83151.0,58086.0,84460.0,66565.0,23910.0,35893.0,71128.0,38683.0,37150.0,61064.0,51650.0,55249.0,46854.0,14421.0,54132.0,153924.0,64813.0,61872.0,58025.0,83790.0,34350.0,33438.0,21955.0,60491.0,59304.0,34421.0,34421.0,51411.0,71964.0,64504.0,49678.0,60482.0,55260.0,67369.0,47175.0,68743.0,56937.0,83033.0,37697.0,37697.0,44689.0,23162.0,63033.0,40304.0,40059.0,80067.0,36038.0,null,40521.0,66334.0,11012.0,31615.0,null,69098.0,70792.0,17688.0,25443.0,57091.0,24336.0,51111.0,44503.0,56850.0,66582.0,23148.0,82224.0,61917.0,43482.0,68274.0,42373.0,null,57537.0,80995.0,30992.0,30992.0,78642.0,74268.0,75072.0,56253.0,59925.0,62807.0,62807.0,23626.0,46106.0,81168.0,27244.0,26091.0,26091.0,43142.0,38232.0,92533.0,63285.0,38946.0,38946.0,40233.0,46831.0,67605.0,70379.0,77297.0,55759.0,58217.0,51369.0,51369.0,91249.0,52513.0,44159.0,76081.0,76081.0,39996.0,55012.0,77457.0,80695.0,71866.0,73450.0,55614.0,156924.0,30753.0,54603.0,22280.0,59385.0,76998.0,80573.0,80573.0,24711.0,38829.0,71466.0,28839.0,53790.0,73705.0,22448.0,12571.0,73113.0,35765.0,46734.0,66313.0,68148.0,44393.0,38197.0,51012.0,51012.0,13672.0,41452.0,42081.0,14906.0,33812.0,46098.0,46098.0,46098.0,53230.0,88420.0,39548.0,61278.0,81246.0,58330.0,58330.0,65777.0,70829.0,null,59247.0,25930.0,54753.0,28440.0,23559.0,62335.0,63777.0,59666.0,50965.0,71488.0,72228.0,46231.0,75702.0,43300.0,78618.0,null,29760.0,29760.0,50127.0,29604.0,49413.0,51876.0,45837.0,85696.0,85696.0,59432.0,43185.0,60631.0,20559.0,50898.0,73807.0,14661.0,36807.0,46772.0,81574.0,30772.0,46377.0,78128.0,83443.0,50523.0,47009.0,37054.0,32011.0,82122.0,70300.0,21024.0,34916.0,27943.0,39791.0,62745.0,18589.0,85606.0,26997.0,82332.0,38853.0,27071.0,90933.0,65814.0,74250.0,33181.0,45006.0,42315.0,48699.0,59111.0,48726.0,37244.0,74854.0,60896.0,67546.0,67546.0,46923.0,38988.0,49118.0,27683.0,39190.0,56981.0,23228.0,90000.0,55707.0,9255.0,42997.0,71232.0,57744.0,33585.0,46891.0,46891.0,50387.0,76653.0,76542.0,76995.0,38415.0,22304.0,75127.0,75127.0,39722.0,7144.0,39771.0,42618.0,51518.0,74716.0,33955.0,45736.0,31632.0,60093.0,30822.0,41728.0,80739.0,49767.0,34445.0,67046.0,73538.0,80398.0,52973.0,38998.0,38998.0,26490.0,26490.0,23331.0,60544.0,60544.0,49269.0,27203.0,45204.0,67023.0,77583.0,76630.0,47353.0,48920.0,67472.0,64100.0,38872.0,72217.0,15038.0,13624.0,42554.0,71952.0,71952.0,78041.0,63972.0,52852.0,62010.0,83151.0,77870.0,46931.0,85072.0,73395.0,62307.0,58293.0,47889.0,24594.0,24594.0,69882.0,24221.0,22327.0,61923.0,35791.0,35791.0,91172.0,35441.0,19656.0,7500.0,71626.0,75330.0,34529.0,48789.0,34487.0,35688.0,35688.0,53700.0,73454.0,71113.0,null,31535.0,80812.0,40479.0,29440.0,38508.0,69520.0,18701.0,18701.0,69901.0,47703.0,86037.0,71847.0,42033.0,51983.0,68655.0,68655.0,38285.0,79419.0,57338.0,42523.0,42523.0,31761.0,65747.0,17144.0,17144.0,null,84618.0,84618.0,66375.0,42213.0,null,51141.0,15072.0,7500.0,17117.0,59754.0,65569.0,28457.0,86857.0,86857.0,68142.0,48794.0,63404.0,49669.0,55761.0,78331.0,37971.0,30368.0,34043.0,54111.0,69932.0,39665.0,93404.0,38680.0,24570.0,77766.0,77766.0,64961.0,23748.0,45989.0,23331.0,70421.0,23091.0,24683.0,157243.0,54222.0,73455.0,84906.0,84906.0,47025.0,44529.0,31560.0,90687.0,66973.0,41154.0,64590.0,50611.0,50611.0,83273.0,81702.0,24401.0,42557.0,7500.0,78416.0,44794.0,44794.0,69719.0,62568.0,42231.0,20130.0,20130.0,42429.0,42429.0,36640.0,78901.0,66476.0,31056.0,46310.0,65819.0,94871.0],\"y0\":\" \",\"yaxis\":\"y4\"},{\"alignmentgroup\":\"True\",\"hovertemplate\":\"variable=Spending<br>value=%{y}<extra></extra>\",\"legendgroup\":\"Spending\",\"marker\":{\"color\":\"#00cc96\"},\"name\":\"Spending\",\"notched\":false,\"offsetgroup\":\"Spending\",\"orientation\":\"v\",\"showlegend\":true,\"type\":\"box\",\"x0\":\" \",\"xaxis\":\"x\",\"y\":[1190.0,577.0,251.0,11.0,91.0,1192.0,1215.0,96.0,544.0,544.0,1208.0,222.0,1156.0,72.0,359.0,174.0,174.0,22.0,72.0,13.0,335.0,393.0,92.0,404.0,704.0,122.0,684.0,684.0,45.0,726.0,272.0,1638.0,8.0,446.0,43.0,1901.0,461.0,20.0,1688.0,1008.0,48.0,1485.0,1104.0,165.0,56.0,1574.0,39.0,965.0,497.0,371.0,51.0,1253.0,17.0,1588.0,50.0,83.0,41.0,231.0,926.0,893.0,373.0,32.0,88.0,24.0,400.0,36.0,789.0,1066.0,73.0,73.0,2043.0,1588.0,441.0,106.0,1410.0,1040.0,117.0,2092.0,1693.0,17.0,1091.0,1091.0,372.0,714.0,16.0,48.0,43.0,44.0,1196.0,37.0,162.0,1123.0,17.0,1044.0,758.0,140.0,140.0,121.0,1395.0,455.0,685.0,1173.0,424.0,424.0,424.0,1178.0,1178.0,1282.0,1711.0,809.0,473.0,148.0,188.0,147.0,30.0,868.0,1053.0,1053.0,1008.0,757.0,653.0,1400.0,78.0,78.0,467.0,306.0,257.0,751.0,1196.0,1338.0,1338.0,1128.0,22.0,22.0,603.0,1782.0,72.0,1658.0,80.0,68.0,16.0,1062.0,1112.0,1001.0,57.0,35.0,57.0,57.0,32.0,874.0,874.0,1518.0,1789.0,20.0,1416.0,153.0,92.0,92.0,31.0,31.0,943.0,25.0,25.0,1376.0,393.0,263.0,1670.0,877.0,502.0,1072.0,1364.0,326.0,70.0,1650.0,1738.0,1281.0,325.0,936.0,48.0,53.0,252.0,252.0,103.0,557.0,24.0,233.0,54.0,843.0,1958.0,20.0,1627.0,1167.0,66.0,811.0,797.0,530.0,1766.0,606.0,470.0,1099.0,1039.0,407.0,1016.0,318.0,318.0,316.0,92.0,302.0,1869.0,145.0,277.0,311.0,50.0,72.0,21.0,49.0,556.0,28.0,396.0,1899.0,235.0,331.0,1919.0,1919.0,167.0,1293.0,654.0,746.0,138.0,275.0,692.0,1115.0,365.0,9.0,69.0,63.0,182.0,76.0,725.0,62.0,1449.0,63.0,50.0,463.0,22.0,22.0,183.0,414.0,1034.0,1034.0,47.0,500.0,282.0,1381.0,59.0,59.0,1442.0,1555.0,1555.0,1378.0,602.0,139.0,19.0,446.0,492.0,67.0,22.0,76.0,76.0,515.0,178.0,52.0,734.0,221.0,702.0,1161.0,241.0,601.0,215.0,112.0,112.0,269.0,417.0,2092.0,180.0,792.0,89.0,89.0,495.0,1226.0,733.0,1334.0,1065.0,1258.0,69.0,1052.0,17.0,18.0,800.0,32.0,1438.0,1438.0,795.0,86.0,241.0,1587.0,64.0,1401.0,1754.0,63.0,129.0,81.0,80.0,889.0,889.0,235.0,1908.0,463.0,29.0,1427.0,398.0,18.0,75.0,981.0,172.0,1730.0,1643.0,312.0,68.0,68.0,1428.0,37.0,37.0,15.0,656.0,2130.0,48.0,48.0,841.0,568.0,1736.0,486.0,820.0,1377.0,467.0,14.0,797.0,73.0,1581.0,66.0,77.0,324.0,62.0,1833.0,103.0,60.0,51.0,63.0,88.0,763.0,187.0,1808.0,85.0,85.0,85.0,213.0,92.0,125.0,101.0,101.0,835.0,12.0,66.0,49.0,63.0,237.0,2349.0,86.0,66.0,14.0,294.0,56.0,716.0,57.0,102.0,2087.0,30.0,357.0,1443.0,928.0,17.0,68.0,41.0,17.0,42.0,42.0,562.0,93.0,59.0,1415.0,736.0,368.0,1743.0,836.0,1678.0,930.0,145.0,1241.0,1071.0,797.0,1804.0,1147.0,37.0,40.0,1101.0,778.0,778.0,21.0,42.0,817.0,17.0,485.0,367.0,1179.0,434.0,1674.0,850.0,82.0,1188.0,186.0,612.0,45.0,1370.0,518.0,1478.0,1274.0,1902.0,1062.0,664.0,409.0,44.0,943.0,31.0,561.0,1722.0,69.0,46.0,46.0,268.0,637.0,551.0,17.0,1152.0,38.0,70.0,71.0,6.0,44.0,13.0,324.0,306.0,1291.0,30.0,486.0,32.0,1757.0,134.0,134.0,171.0,1270.0,2091.0,733.0,1706.0,253.0,317.0,317.0,1895.0,20.0,62.0,62.0,395.0,23.0,907.0,882.0,1033.0,1033.0,1213.0,1461.0,638.0,907.0,907.0,1662.0,1482.0,541.0,28.0,971.0,246.0,1717.0,629.0,34.0,506.0,506.0,999.0,43.0,121.0,1472.0,322.0,81.0,160.0,155.0,155.0,20.0,732.0,22.0,38.0,199.0,22.0,2008.0,2008.0,1175.0,227.0,227.0,1189.0,32.0,894.0,404.0,404.0,62.0,639.0,69.0,78.0,81.0,680.0,653.0,653.0,1477.0,1315.0,1315.0,45.0,816.0,45.0,20.0,46.0,679.0,31.0,31.0,187.0,187.0,17.0,78.0,11.0,426.0,285.0,777.0,777.0,637.0,694.0,266.0,1001.0,1001.0,1198.0,1198.0,122.0,18.0,45.0,123.0,844.0,96.0,141.0,46.0,46.0,15.0,731.0,135.0,1724.0,1428.0,54.0,1493.0,68.0,1171.0,1020.0,264.0,20.0,1180.0,1180.0,724.0,58.0,1665.0,2086.0,1220.0,109.0,101.0,11.0,614.0,53.0,22.0,396.0,87.0,776.0,18.0,140.0,36.0,1435.0,131.0,1019.0,97.0,884.0,2352.0,369.0,369.0,132.0,296.0,1338.0,608.0,823.0,823.0,1621.0,93.0,1198.0,1198.0,144.0,392.0,1068.0,421.0,1727.0,114.0,64.0,64.0,279.0,1298.0,42.0,137.0,137.0,982.0,30.0,1230.0,1103.0,1932.0,367.0,1345.0,1134.0,1188.0,1686.0,198.0,44.0,61.0,57.0,71.0,37.0,37.0,405.0,599.0,1525.0,1323.0,53.0,710.0,43.0,1006.0,813.0,429.0,490.0,1825.0,473.0,9.0,16.0,57.0,334.0,507.0,818.0,1004.0,1138.0,2525.0,2525.0,1076.0,491.0,29.0,236.0,46.0,795.0,749.0,401.0,1149.0,1149.0,863.0,343.0,1471.0,1088.0,1990.0,1210.0,74.0,115.0,966.0,92.0,45.0,45.0,761.0,2257.0,960.0,1453.0,350.0,266.0,224.0,99.0,258.0,258.0,1526.0,87.0,300.0,447.0,173.0,1772.0,925.0,1093.0,433.0,433.0,90.0,156.0,156.0,156.0,825.0,72.0,377.0,2194.0,401.0,2157.0,17.0,350.0,29.0,21.0,15.0,145.0,107.0,42.0,521.0,1021.0,25.0,25.0,120.0,995.0,1635.0,29.0,1655.0,1263.0,135.0,1991.0,32.0,605.0,278.0,467.0,2116.0,410.0,410.0,41.0,169.0,161.0,1260.0,460.0,575.0,19.0,1490.0,433.0,1919.0,576.0,51.0,564.0,564.0,19.0,21.0,61.0,641.0,1682.0,28.0,57.0,1474.0,315.0,504.0,44.0,44.0,1513.0,1029.0,57.0,30.0,30.0,916.0,61.0,44.0,55.0,343.0,989.0,131.0,131.0,59.0,28.0,55.0,1073.0,608.0,608.0,1155.0,590.0,573.0,1890.0,106.0,1064.0,1097.0,182.0,1456.0,292.0,2211.0,16.0,527.0,1778.0,815.0,861.0,1812.0,41.0,33.0,895.0,210.0,1092.0,1396.0,711.0,68.0,46.0,1121.0,13.0,55.0,362.0,1853.0,1095.0,1095.0,46.0,1644.0,1724.0,1930.0,61.0,877.0,299.0,939.0,49.0,49.0,49.0,49.0,1130.0,19.0,913.0,38.0,395.0,28.0,33.0,270.0,1194.0,393.0,397.0,59.0,38.0,1923.0,63.0,18.0,81.0,1307.0,1102.0,201.0,443.0,636.0,27.0,670.0,1029.0,84.0,820.0,1012.0,563.0,12.0,315.0,99.0,413.0,17.0,57.0,406.0,1853.0,1853.0,41.0,46.0,946.0,528.0,1245.0,529.0,48.0,299.0,25.0,25.0,77.0,219.0,60.0,22.0,147.0,75.0,65.0,63.0,57.0,317.0,468.0,467.0,1319.0,727.0,587.0,587.0,1346.0,35.0,45.0,44.0,794.0,1507.0,1253.0,100.0,48.0,15.0,15.0,38.0,1690.0,1690.0,75.0,21.0,973.0,330.0,1820.0,172.0,27.0,2209.0,454.0,38.0,176.0,904.0,64.0,1363.0,1363.0,690.0,1027.0,1371.0,873.0,52.0,1307.0,37.0,506.0,81.0,793.0,316.0,1092.0,1795.0,29.0,1113.0,78.0,1623.0,195.0,1168.0,177.0,26.0,46.0,542.0,38.0,632.0,1508.0,1730.0,1336.0,684.0,1435.0,581.0,44.0,35.0,16.0,1501.0,273.0,55.0,116.0,2009.0,1586.0,1586.0,405.0,55.0,21.0,34.0,1478.0,44.0,100.0,100.0,152.0,58.0,24.0,62.0,978.0,978.0,728.0,596.0,1213.0,185.0,2059.0,416.0,1575.0,18.0,222.0,68.0,49.0,688.0,1280.0,1829.0,244.0,48.0,586.0,48.0,263.0,1612.0,825.0,50.0,1371.0,1371.0,963.0,71.0,31.0,1677.0,120.0,23.0,54.0,636.0,1117.0,969.0,969.0,133.0,2486.0,71.0,71.0,203.0,1341.0,845.0,385.0,564.0,23.0,23.0,189.0,1504.0,209.0,102.0,981.0,488.0,484.0,2077.0,662.0,1495.0,1495.0,231.0,805.0,39.0,63.0,69.0,69.0,461.0,2217.0,1367.0,382.0,871.0,2089.0,1388.0,96.0,96.0,68.0,93.0,265.0,28.0,138.0,138.0,1169.0,1169.0,152.0,218.0,612.0,38.0,49.0,358.0,151.0,642.0,615.0,361.0,23.0,23.0,964.0,964.0,310.0,1366.0,1366.0,1191.0,1135.0,1101.0,1101.0,1511.0,932.0,108.0,641.0,46.0,21.0,69.0,57.0,56.0,26.0,1572.0,18.0,22.0,46.0,265.0,50.0,1283.0,802.0,46.0,46.0,415.0,211.0,77.0,730.0,28.0,903.0,40.0,40.0,38.0,152.0,146.0,535.0,158.0,656.0,1038.0,33.0,25.0,106.0,401.0,232.0,297.0,293.0,139.0,901.0,1043.0,53.0,102.0,915.0,167.0,240.0,1106.0,22.0,1159.0,71.0,90.0,358.0,20.0,928.0,928.0,95.0,311.0,37.0,37.0,279.0,725.0,992.0,33.0,1120.0,976.0,976.0,1576.0,610.0,129.0,279.0,74.0,24.0,96.0,1893.0,612.0,28.0,47.0,493.0,270.0,45.0,43.0,14.0,939.0,1515.0,415.0,26.0,425.0,425.0,29.0,450.0,721.0,17.0,35.0,43.0,1020.0,80.0,80.0,169.0,1826.0,10.0,62.0,57.0,265.0,2052.0,1105.0,310.0,78.0,1735.0,606.0,133.0,131.0,79.0,189.0,902.0,902.0,1477.0,633.0,354.0,1679.0,1617.0,868.0,95.0,1234.0,1234.0,769.0,769.0,49.0,38.0,38.0,94.0,57.0,119.0,1244.0,1244.0,960.0,47.0,170.0,94.0,54.0,1165.0,981.0,981.0,990.0,486.0,74.0,1580.0,72.0,384.0,1211.0,1240.0,353.0,1792.0,45.0,41.0,973.0,96.0,48.0,65.0,122.0,23.0,43.0,114.0,1232.0,1957.0,377.0,586.0,586.0,1662.0,1004.0,279.0,1226.0,444.0,444.0,222.0,1440.0,1440.0,406.0,149.0,34.0,683.0,1512.0,61.0,396.0,1047.0,1598.0,1598.0,62.0,235.0,424.0,424.0,34.0,34.0,662.0,1237.0,318.0,318.0,5.0,275.0,2231.0,1286.0,910.0,957.0,27.0,1365.0,1835.0,114.0,436.0,436.0,1348.0,174.0,825.0,909.0,1507.0,32.0,882.0,1424.0,32.0,46.0,46.0,606.0,606.0,1574.0,1574.0,1574.0,1173.0,143.0,795.0,1305.0,1277.0,1531.0,1021.0,79.0,25.0,62.0,65.0,36.0,38.0,798.0,940.0,1179.0,1734.0,545.0,24.0,1968.0,1216.0,729.0,1617.0,459.0,731.0,20.0,823.0,64.0,102.0,102.0,779.0,1060.0,1169.0,1141.0,61.0,1086.0,269.0,1336.0,1566.0,61.0,70.0,1295.0,411.0,411.0,926.0,1211.0,11.0,772.0,70.0,1544.0,1822.0,1429.0,159.0,764.0,31.0,31.0,1250.0,2053.0,480.0,401.0,438.0,995.0,369.0,19.0,106.0,832.0,1957.0,1957.0,99.0,28.0,1026.0,1327.0,436.0,928.0,961.0,290.0,1464.0,1533.0,18.0,1528.0,44.0,1958.0,72.0,72.0,1380.0,2524.0,390.0,397.0,496.0,2302.0,2302.0,209.0,72.0,170.0,937.0,775.0,1401.0,178.0,1374.0,976.0,976.0,10.0,39.0,518.0,116.0,380.0,1150.0,1150.0,30.0,259.0,546.0,519.0,1565.0,59.0,972.0,119.0,990.0,990.0,1174.0,1174.0,1174.0,77.0,55.0,244.0,93.0,1536.0,1231.0,1084.0,405.0,595.0,562.0,1348.0,908.0,908.0,908.0,37.0,37.0,1931.0,561.0,47.0,1511.0,215.0,296.0,107.0,42.0,61.0,127.0,8.0,23.0,23.0,928.0,59.0,63.0,8.0,960.0,1168.0,900.0,42.0,660.0,660.0,22.0,271.0,1315.0,40.0,260.0,20.0,55.0,75.0,1182.0,1182.0,1867.0,1079.0,534.0,313.0,693.0,1127.0,1127.0,30.0,17.0,54.0,458.0,458.0,267.0,1603.0,1198.0,25.0,727.0,758.0,1828.0,1445.0,1910.0,31.0,1089.0,52.0,76.0,1702.0,1052.0,2018.0,332.0,1228.0,52.0,52.0,95.0,957.0,54.0,494.0,1376.0,570.0,450.0,66.0,899.0,22.0,634.0,967.0,49.0,61.0,1600.0,66.0,217.0,339.0,92.0,622.0,1120.0,175.0,441.0,1502.0,43.0,235.0,794.0,13.0,497.0,497.0,968.0,968.0,578.0,32.0,1097.0,411.0,255.0,1611.0,1334.0,103.0,1335.0,444.0,444.0,1135.0,542.0,594.0,254.0,103.0,1366.0,1366.0,704.0,805.0,1125.0,45.0,1085.0,1574.0,1217.0,1331.0,319.0,319.0,177.0,401.0,67.0,1680.0,184.0,264.0,813.0,312.0,39.0,67.0,42.0,70.0,40.0,47.0,2283.0,1750.0,211.0,106.0,109.0,39.0,1319.0,137.0,137.0,507.0,507.0,868.0,2034.0,265.0,41.0,27.0,1143.0,96.0,756.0,69.0,1049.0,984.0,914.0,442.0,661.0,988.0,144.0,34.0,156.0,134.0,1497.0,38.0,20.0,1375.0,236.0,91.0,976.0,971.0,746.0,1722.0,929.0,860.0,94.0,21.0,606.0,1250.0,1753.0,418.0,1383.0,1242.0,301.0,526.0,1045.0,331.0,283.0,957.0,858.0,1923.0,1024.0,1650.0,1385.0,2252.0,83.0,1536.0,882.0,415.0,1727.0,895.0,275.0,312.0,461.0,137.0,137.0,22.0,22.0,2013.0,284.0,71.0,611.0,311.0,311.0,268.0,38.0,177.0,946.0,1215.0,162.0,162.0,577.0,1390.0,1797.0,747.0,1382.0,499.0,10.0,1691.0,576.0,34.0,1564.0,44.0,233.0,26.0,26.0,70.0,1453.0,1572.0,34.0,449.0,36.0,22.0,65.0,46.0,54.0,185.0,68.0,198.0,198.0,811.0,81.0,86.0,1187.0,88.0,1526.0,1082.0,677.0,191.0,137.0,42.0,79.0,70.0,79.0,902.0,57.0,23.0,119.0,102.0,67.0,274.0,945.0,39.0,1157.0,1157.0,42.0,1199.0,20.0,2119.0,1185.0,129.0,900.0,99.0,60.0,60.0,60.0,112.0,1148.0,46.0,46.0,1924.0,41.0,125.0,16.0,274.0,974.0,1323.0,1862.0,1862.0,55.0,54.0,16.0,57.0,664.0,1067.0,2047.0,630.0,1540.0,1540.0,1005.0,1005.0,1289.0,1289.0,1722.0,482.0,1034.0,194.0,63.0,43.0,223.0,195.0,1151.0,13.0,1941.0,48.0,23.0,1156.0,1947.0,1318.0,58.0,1143.0,43.0,43.0,834.0,41.0,66.0,76.0,787.0,68.0,1013.0,50.0,81.0,186.0,10.0,27.0,76.0,64.0,930.0,521.0,2346.0,792.0,523.0,1065.0,67.0,199.0,1615.0,341.0,467.0,1080.0,191.0,130.0,263.0,16.0,42.0,6.0,745.0,573.0,470.0,1615.0,48.0,90.0,55.0,1028.0,1048.0,30.0,30.0,18.0,1870.0,1314.0,315.0,507.0,1139.0,1461.0,240.0,2074.0,906.0,1761.0,84.0,84.0,34.0,65.0,1102.0,57.0,414.0,1600.0,47.0,47.0,21.0,1161.0,84.0,51.0,97.0,2440.0,1272.0,11.0,32.0,496.0,31.0,55.0,48.0,63.0,1288.0,37.0,902.0,91.0,88.0,305.0,163.0,207.0,545.0,1482.0,43.0,43.0,1816.0,892.0,1073.0,597.0,766.0,819.0,819.0,43.0,54.0,1193.0,101.0,89.0,89.0,20.0,122.0,1131.0,1103.0,257.0,257.0,149.0,78.0,938.0,860.0,789.0,854.0,103.0,576.0,576.0,1676.0,1149.0,275.0,1033.0,1033.0,15.0,660.0,1157.0,1918.0,715.0,1804.0,682.0,8.0,81.0,227.0,13.0,185.0,1910.0,1564.0,1564.0,58.0,99.0,1230.0,32.0,542.0,1695.0,55.0,53.0,1001.0,75.0,223.0,770.0,1042.0,60.0,40.0,209.0,209.0,25.0,16.0,382.0,66.0,133.0,120.0,120.0,120.0,732.0,2069.0,54.0,165.0,1379.0,1064.0,1064.0,1146.0,431.0,985.0,574.0,15.0,728.0,63.0,79.0,708.0,653.0,1027.0,685.0,559.0,1250.0,263.0,1921.0,180.0,2153.0,45.0,165.0,165.0,320.0,53.0,304.0,310.0,373.0,1313.0,1313.0,663.0,637.0,661.0,53.0,859.0,849.0,26.0,16.0,1048.0,1798.0,20.0,90.0,1264.0,1497.0,91.0,448.0,25.0,122.0,1382.0,1596.0,84.0,231.0,37.0,174.0,1117.0,75.0,1956.0,434.0,2006.0,45.0,35.0,1685.0,747.0,1158.0,16.0,266.0,270.0,40.0,869.0,242.0,55.0,1562.0,1701.0,2126.0,2126.0,369.0,348.0,1229.0,351.0,133.0,1241.0,121.0,1479.0,428.0,22.0,15.0,917.0,411.0,122.0,183.0,183.0,525.0,2279.0,1483.0,1782.0,44.0,18.0,833.0,833.0,47.0,416.0,50.0,192.0,449.0,860.0,270.0,437.0,95.0,735.0,51.0,55.0,1633.0,692.0,839.0,993.0,1658.0,1597.0,1152.0,54.0,54.0,210.0,210.0,103.0,289.0,289.0,890.0,64.0,114.0,906.0,1149.0,1003.0,225.0,347.0,414.0,546.0,91.0,1573.0,80.0,36.0,41.0,1443.0,1443.0,1319.0,1269.0,879.0,530.0,747.0,1815.0,78.0,1423.0,397.0,160.0,422.0,67.0,29.0,29.0,1478.0,55.0,24.0,126.0,35.0,35.0,1092.0,39.0,84.0,15.0,1305.0,1109.0,162.0,680.0,103.0,211.0,211.0,694.0,1651.0,835.0,450.0,51.0,1677.0,15.0,56.0,443.0,1455.0,44.0,44.0,882.0,655.0,730.0,1192.0,25.0,793.0,1538.0,1538.0,10.0,1631.0,237.0,125.0,125.0,98.0,460.0,47.0,47.0,124.0,1672.0,1672.0,948.0,363.0,725.0,157.0,53.0,36.0,128.0,475.0,859.0,205.0,2114.0,2114.0,1459.0,54.0,902.0,326.0,184.0,1638.0,30.0,52.0,49.0,388.0,1049.0,216.0,1616.0,79.0,193.0,1529.0,1529.0,1009.0,76.0,322.0,269.0,767.0,48.0,41.0,1608.0,264.0,2088.0,1631.0,1631.0,635.0,691.0,94.0,1779.0,1282.0,69.0,1338.0,493.0,493.0,1392.0,1633.0,467.0,270.0,100.0,1179.0,65.0,65.0,801.0,953.0,37.0,34.0,34.0,67.0,67.0,65.0,734.0,689.0,55.0,309.0,1383.0,1078.0],\"y0\":\" \",\"yaxis\":\"y\"},{\"alignmentgroup\":\"True\",\"hovertemplate\":\"variable=Educational_years<br>value=%{y}<extra></extra>\",\"legendgroup\":\"Educational_years\",\"marker\":{\"color\":\"#ab63fa\"},\"name\":\"Educational_years\",\"notched\":false,\"offsetgroup\":\"Educational_years\",\"orientation\":\"v\",\"showlegend\":true,\"type\":\"box\",\"x0\":\" \",\"xaxis\":\"x2\",\"y\":[12.0,12.0,12.0,12.0,12.0,21.0,8.0,12.0,21.0,21.0,8.0,18.0,21.0,12.0,12.0,12.0,12.0,21.0,8.0,18.0,18.0,18.0,18.0,21.0,12.0,18.0,12.0,12.0,21.0,12.0,21.0,12.0,21.0,21.0,12.0,21.0,8.0,18.0,21.0,12.0,12.0,21.0,8.0,12.0,8.0,12.0,12.0,18.0,12.0,12.0,8.0,18.0,8.0,12.0,5.0,12.0,18.0,21.0,12.0,12.0,18.0,18.0,21.0,18.0,18.0,12.0,18.0,8.0,21.0,21.0,21.0,8.0,18.0,12.0,12.0,12.0,12.0,21.0,18.0,12.0,12.0,12.0,12.0,21.0,12.0,8.0,8.0,12.0,21.0,12.0,12.0,21.0,12.0,21.0,12.0,18.0,18.0,18.0,12.0,21.0,21.0,12.0,21.0,21.0,21.0,18.0,18.0,21.0,21.0,8.0,12.0,12.0,12.0,12.0,18.0,12.0,18.0,18.0,18.0,12.0,12.0,12.0,12.0,12.0,12.0,12.0,12.0,18.0,18.0,12.0,12.0,18.0,12.0,12.0,21.0,12.0,12.0,21.0,8.0,12.0,12.0,8.0,12.0,12.0,12.0,18.0,5.0,5.0,21.0,18.0,18.0,12.0,12.0,21.0,21.0,21.0,18.0,18.0,18.0,18.0,12.0,12.0,12.0,12.0,12.0,5.0,21.0,21.0,12.0,8.0,12.0,18.0,8.0,12.0,12.0,18.0,18.0,12.0,12.0,8.0,12.0,12.0,5.0,21.0,12.0,21.0,12.0,18.0,21.0,12.0,12.0,21.0,8.0,21.0,12.0,12.0,21.0,21.0,12.0,21.0,21.0,12.0,12.0,12.0,12.0,12.0,8.0,21.0,12.0,21.0,21.0,12.0,12.0,21.0,12.0,12.0,18.0,18.0,18.0,12.0,18.0,21.0,21.0,21.0,18.0,21.0,12.0,12.0,12.0,18.0,12.0,12.0,12.0,21.0,18.0,8.0,12.0,8.0,12.0,5.0,12.0,21.0,8.0,12.0,8.0,8.0,21.0,12.0,21.0,21.0,18.0,12.0,12.0,12.0,18.0,18.0,12.0,12.0,12.0,12.0,12.0,12.0,12.0,21.0,18.0,12.0,18.0,12.0,12.0,12.0,18.0,8.0,21.0,12.0,21.0,18.0,12.0,21.0,12.0,12.0,12.0,21.0,21.0,21.0,18.0,12.0,12.0,12.0,21.0,18.0,12.0,12.0,12.0,12.0,18.0,21.0,12.0,8.0,12.0,12.0,18.0,18.0,18.0,21.0,18.0,12.0,18.0,12.0,18.0,21.0,18.0,12.0,18.0,8.0,8.0,12.0,21.0,21.0,5.0,18.0,12.0,5.0,8.0,12.0,8.0,12.0,18.0,12.0,21.0,21.0,12.0,12.0,12.0,12.0,12.0,12.0,21.0,21.0,12.0,12.0,12.0,21.0,8.0,21.0,18.0,12.0,8.0,8.0,12.0,12.0,12.0,12.0,12.0,12.0,18.0,18.0,8.0,12.0,21.0,8.0,12.0,21.0,12.0,12.0,12.0,18.0,12.0,21.0,21.0,21.0,18.0,21.0,8.0,12.0,12.0,18.0,12.0,12.0,18.0,8.0,12.0,12.0,18.0,8.0,21.0,18.0,8.0,12.0,12.0,21.0,12.0,12.0,12.0,12.0,21.0,21.0,8.0,21.0,18.0,12.0,21.0,12.0,21.0,12.0,18.0,12.0,12.0,21.0,8.0,21.0,12.0,12.0,18.0,8.0,12.0,12.0,12.0,5.0,21.0,8.0,12.0,18.0,8.0,12.0,12.0,12.0,18.0,8.0,12.0,12.0,12.0,12.0,12.0,18.0,12.0,8.0,18.0,12.0,21.0,12.0,12.0,21.0,18.0,12.0,12.0,12.0,21.0,21.0,21.0,12.0,21.0,12.0,8.0,12.0,21.0,12.0,12.0,18.0,21.0,21.0,12.0,21.0,18.0,12.0,8.0,12.0,12.0,12.0,18.0,12.0,18.0,12.0,21.0,12.0,12.0,12.0,12.0,21.0,21.0,21.0,12.0,12.0,18.0,12.0,18.0,18.0,12.0,12.0,12.0,12.0,12.0,12.0,21.0,18.0,12.0,12.0,12.0,21.0,18.0,21.0,21.0,21.0,12.0,12.0,21.0,12.0,18.0,12.0,21.0,21.0,21.0,21.0,12.0,8.0,21.0,21.0,12.0,18.0,18.0,18.0,12.0,12.0,12.0,12.0,12.0,21.0,21.0,12.0,12.0,5.0,12.0,12.0,12.0,21.0,21.0,12.0,21.0,21.0,5.0,18.0,18.0,12.0,21.0,21.0,12.0,12.0,18.0,18.0,21.0,8.0,21.0,18.0,18.0,12.0,12.0,12.0,8.0,18.0,12.0,12.0,21.0,21.0,8.0,18.0,12.0,18.0,18.0,12.0,12.0,21.0,21.0,18.0,12.0,21.0,12.0,12.0,18.0,12.0,18.0,12.0,21.0,12.0,21.0,12.0,12.0,8.0,12.0,12.0,18.0,18.0,8.0,5.0,12.0,12.0,12.0,12.0,12.0,21.0,12.0,12.0,12.0,5.0,18.0,12.0,21.0,18.0,12.0,18.0,12.0,12.0,12.0,12.0,12.0,18.0,8.0,8.0,18.0,8.0,12.0,12.0,12.0,12.0,12.0,12.0,21.0,12.0,8.0,8.0,21.0,21.0,12.0,12.0,12.0,12.0,8.0,21.0,12.0,12.0,18.0,8.0,12.0,12.0,21.0,18.0,12.0,12.0,12.0,12.0,12.0,12.0,12.0,12.0,12.0,21.0,12.0,8.0,12.0,8.0,21.0,8.0,12.0,12.0,12.0,21.0,12.0,12.0,18.0,12.0,18.0,12.0,12.0,18.0,18.0,12.0,8.0,5.0,12.0,12.0,18.0,18.0,21.0,12.0,12.0,12.0,12.0,12.0,12.0,12.0,12.0,5.0,12.0,21.0,12.0,12.0,12.0,12.0,8.0,12.0,12.0,8.0,12.0,18.0,12.0,12.0,12.0,18.0,12.0,21.0,12.0,18.0,12.0,21.0,12.0,12.0,12.0,18.0,12.0,12.0,12.0,18.0,8.0,12.0,12.0,12.0,12.0,21.0,12.0,12.0,12.0,12.0,12.0,21.0,12.0,8.0,21.0,21.0,21.0,12.0,8.0,12.0,5.0,12.0,8.0,12.0,12.0,8.0,21.0,21.0,8.0,12.0,21.0,21.0,12.0,21.0,12.0,12.0,12.0,12.0,8.0,12.0,12.0,12.0,8.0,18.0,12.0,12.0,18.0,18.0,18.0,8.0,12.0,12.0,21.0,12.0,18.0,12.0,12.0,12.0,8.0,12.0,21.0,18.0,18.0,21.0,12.0,12.0,12.0,12.0,18.0,18.0,18.0,5.0,12.0,8.0,12.0,12.0,12.0,12.0,12.0,18.0,18.0,12.0,21.0,12.0,8.0,12.0,18.0,12.0,12.0,12.0,12.0,12.0,12.0,18.0,12.0,21.0,21.0,12.0,21.0,21.0,18.0,21.0,5.0,12.0,21.0,12.0,12.0,21.0,21.0,21.0,12.0,18.0,12.0,18.0,12.0,12.0,12.0,8.0,21.0,21.0,21.0,21.0,21.0,12.0,21.0,8.0,18.0,12.0,12.0,12.0,12.0,12.0,18.0,18.0,21.0,12.0,12.0,5.0,21.0,21.0,12.0,12.0,12.0,21.0,12.0,12.0,21.0,12.0,12.0,18.0,8.0,18.0,12.0,12.0,21.0,21.0,8.0,21.0,8.0,8.0,21.0,12.0,12.0,21.0,12.0,21.0,12.0,12.0,12.0,12.0,21.0,12.0,12.0,18.0,12.0,21.0,21.0,8.0,21.0,18.0,12.0,21.0,21.0,18.0,8.0,8.0,21.0,21.0,18.0,18.0,18.0,12.0,12.0,12.0,12.0,12.0,12.0,12.0,12.0,12.0,5.0,21.0,12.0,12.0,21.0,21.0,12.0,12.0,12.0,8.0,12.0,21.0,5.0,8.0,8.0,8.0,18.0,18.0,12.0,18.0,21.0,5.0,12.0,21.0,21.0,12.0,18.0,12.0,12.0,21.0,12.0,12.0,18.0,8.0,8.0,18.0,8.0,21.0,5.0,18.0,18.0,12.0,12.0,12.0,8.0,12.0,12.0,21.0,21.0,21.0,12.0,21.0,21.0,12.0,21.0,21.0,21.0,12.0,12.0,21.0,12.0,12.0,18.0,18.0,21.0,5.0,12.0,21.0,8.0,8.0,8.0,12.0,18.0,21.0,8.0,12.0,12.0,12.0,12.0,12.0,12.0,12.0,12.0,21.0,12.0,8.0,12.0,12.0,12.0,18.0,12.0,12.0,12.0,12.0,21.0,18.0,12.0,12.0,12.0,18.0,8.0,12.0,12.0,12.0,12.0,18.0,12.0,21.0,21.0,12.0,12.0,21.0,18.0,12.0,8.0,8.0,12.0,12.0,12.0,5.0,12.0,12.0,21.0,18.0,12.0,12.0,12.0,12.0,12.0,21.0,18.0,12.0,12.0,12.0,18.0,12.0,21.0,21.0,18.0,12.0,5.0,5.0,12.0,12.0,21.0,21.0,21.0,21.0,18.0,18.0,12.0,21.0,12.0,12.0,12.0,12.0,18.0,18.0,12.0,21.0,21.0,21.0,18.0,18.0,12.0,12.0,12.0,12.0,12.0,21.0,21.0,12.0,12.0,12.0,12.0,18.0,8.0,8.0,12.0,12.0,5.0,12.0,12.0,12.0,12.0,21.0,12.0,12.0,12.0,18.0,18.0,12.0,12.0,12.0,12.0,5.0,18.0,12.0,12.0,21.0,21.0,21.0,12.0,12.0,21.0,21.0,8.0,12.0,18.0,21.0,8.0,21.0,18.0,18.0,12.0,12.0,21.0,12.0,12.0,12.0,12.0,12.0,12.0,8.0,18.0,18.0,12.0,12.0,12.0,12.0,12.0,12.0,12.0,12.0,21.0,21.0,12.0,12.0,8.0,12.0,12.0,8.0,18.0,12.0,12.0,12.0,5.0,12.0,18.0,12.0,12.0,12.0,18.0,12.0,21.0,8.0,5.0,12.0,12.0,12.0,12.0,21.0,21.0,18.0,18.0,18.0,21.0,18.0,5.0,12.0,5.0,5.0,18.0,8.0,21.0,12.0,12.0,12.0,8.0,18.0,18.0,8.0,18.0,12.0,12.0,21.0,18.0,12.0,21.0,21.0,18.0,21.0,12.0,8.0,12.0,12.0,21.0,21.0,21.0,12.0,12.0,21.0,8.0,8.0,12.0,12.0,12.0,21.0,21.0,12.0,8.0,21.0,12.0,18.0,21.0,8.0,8.0,12.0,12.0,12.0,12.0,12.0,12.0,8.0,21.0,18.0,12.0,12.0,12.0,12.0,12.0,12.0,18.0,21.0,8.0,18.0,12.0,21.0,18.0,12.0,12.0,12.0,21.0,12.0,12.0,21.0,21.0,21.0,18.0,12.0,12.0,18.0,21.0,18.0,8.0,21.0,18.0,18.0,12.0,21.0,21.0,18.0,21.0,12.0,12.0,12.0,12.0,12.0,12.0,18.0,18.0,12.0,12.0,21.0,12.0,12.0,12.0,18.0,8.0,21.0,12.0,12.0,12.0,21.0,8.0,21.0,8.0,21.0,12.0,12.0,12.0,21.0,12.0,12.0,12.0,12.0,12.0,12.0,12.0,21.0,18.0,21.0,21.0,21.0,18.0,21.0,12.0,12.0,21.0,12.0,12.0,21.0,12.0,12.0,12.0,12.0,12.0,5.0,12.0,12.0,21.0,12.0,18.0,21.0,12.0,12.0,18.0,12.0,12.0,12.0,21.0,12.0,12.0,5.0,21.0,21.0,12.0,21.0,8.0,18.0,12.0,18.0,18.0,12.0,12.0,18.0,21.0,12.0,12.0,21.0,12.0,21.0,18.0,12.0,12.0,21.0,18.0,21.0,18.0,18.0,12.0,8.0,21.0,21.0,12.0,12.0,12.0,12.0,12.0,12.0,12.0,18.0,12.0,8.0,12.0,12.0,12.0,12.0,12.0,8.0,21.0,18.0,18.0,12.0,12.0,18.0,21.0,21.0,12.0,12.0,12.0,12.0,12.0,12.0,21.0,21.0,12.0,18.0,21.0,21.0,21.0,21.0,21.0,21.0,18.0,12.0,12.0,18.0,12.0,12.0,12.0,8.0,12.0,21.0,5.0,21.0,21.0,12.0,12.0,12.0,21.0,12.0,21.0,21.0,21.0,12.0,18.0,18.0,18.0,18.0,12.0,18.0,18.0,18.0,18.0,18.0,18.0,12.0,5.0,21.0,21.0,12.0,12.0,12.0,12.0,18.0,12.0,12.0,12.0,18.0,12.0,21.0,12.0,12.0,12.0,18.0,12.0,18.0,18.0,12.0,8.0,8.0,12.0,12.0,21.0,12.0,5.0,21.0,21.0,12.0,12.0,21.0,12.0,12.0,12.0,12.0,8.0,21.0,12.0,18.0,18.0,12.0,12.0,12.0,12.0,12.0,12.0,21.0,21.0,18.0,21.0,12.0,12.0,18.0,21.0,12.0,21.0,18.0,12.0,12.0,12.0,18.0,18.0,5.0,12.0,12.0,12.0,12.0,12.0,12.0,12.0,21.0,12.0,21.0,12.0,12.0,12.0,18.0,12.0,18.0,8.0,21.0,12.0,12.0,12.0,12.0,12.0,12.0,12.0,12.0,12.0,12.0,12.0,21.0,18.0,12.0,21.0,12.0,12.0,18.0,12.0,12.0,12.0,12.0,12.0,21.0,21.0,12.0,5.0,12.0,12.0,12.0,12.0,12.0,12.0,12.0,12.0,18.0,12.0,18.0,18.0,12.0,12.0,12.0,21.0,21.0,21.0,12.0,12.0,12.0,21.0,21.0,12.0,12.0,21.0,12.0,21.0,12.0,5.0,8.0,21.0,18.0,12.0,12.0,21.0,21.0,12.0,21.0,18.0,12.0,12.0,21.0,8.0,8.0,12.0,18.0,12.0,18.0,18.0,21.0,21.0,21.0,12.0,21.0,12.0,21.0,21.0,12.0,12.0,12.0,12.0,12.0,21.0,21.0,12.0,21.0,18.0,12.0,21.0,12.0,8.0,21.0,21.0,8.0,21.0,12.0,21.0,12.0,8.0,21.0,12.0,12.0,21.0,18.0,21.0,12.0,18.0,12.0,21.0,21.0,18.0,12.0,12.0,12.0,12.0,21.0,12.0,12.0,12.0,12.0,12.0,21.0,21.0,18.0,18.0,18.0,18.0,21.0,8.0,18.0,21.0,12.0,12.0,8.0,12.0,21.0,18.0,12.0,12.0,18.0,12.0,12.0,12.0,18.0,21.0,12.0,12.0,12.0,12.0,21.0,12.0,12.0,12.0,12.0,12.0,12.0,8.0,12.0,18.0,12.0,8.0,8.0,21.0,8.0,21.0,12.0,5.0,12.0,8.0,12.0,12.0,21.0,12.0,8.0,12.0,12.0,12.0,8.0,12.0,12.0,5.0,18.0,8.0,12.0,12.0,12.0,12.0,12.0,8.0,12.0,21.0,12.0,18.0,18.0,12.0,12.0,12.0,12.0,12.0,12.0,21.0,21.0,18.0,12.0,12.0,21.0,12.0,12.0,21.0,12.0,12.0,18.0,18.0,12.0,12.0,12.0,12.0,12.0,12.0,18.0,18.0,12.0,12.0,8.0,8.0,12.0,12.0,21.0,12.0,21.0,18.0,12.0,12.0,12.0,8.0,12.0,8.0,12.0,12.0,12.0,21.0,12.0,18.0,5.0,5.0,18.0,21.0,18.0,18.0,18.0,12.0,18.0,18.0,12.0,21.0,18.0,21.0,8.0,8.0,21.0,8.0,18.0,21.0,21.0,12.0,12.0,12.0,12.0,8.0,12.0,12.0,21.0,18.0,21.0,5.0,21.0,12.0,12.0,18.0,12.0,18.0,12.0,21.0,8.0,21.0,21.0,12.0,12.0,21.0,12.0,21.0,12.0,18.0,21.0,18.0,18.0,12.0,21.0,12.0,12.0,12.0,12.0,8.0,12.0,21.0,12.0,12.0,21.0,21.0,12.0,21.0,12.0,12.0,12.0,21.0,12.0,12.0,5.0,21.0,8.0,8.0,12.0,18.0,21.0,8.0,12.0,21.0,12.0,12.0,12.0,18.0,12.0,21.0,12.0,12.0,21.0,12.0,12.0,12.0,12.0,12.0,12.0,21.0,18.0,12.0,12.0,12.0,12.0,18.0,12.0,12.0,12.0,12.0,12.0,21.0,8.0,12.0,18.0,8.0,12.0,18.0,12.0,12.0,12.0,8.0,18.0,12.0,12.0,12.0,21.0,12.0,12.0,12.0,18.0,21.0,21.0,8.0,18.0,12.0,18.0,12.0,18.0,18.0,12.0,21.0,21.0,18.0,12.0,18.0,12.0,12.0,18.0,12.0,21.0,21.0,18.0,12.0,21.0,21.0,21.0,12.0,12.0,12.0,5.0,8.0,18.0,18.0,18.0,8.0,18.0,8.0,12.0,12.0,12.0,12.0,12.0,8.0,18.0,18.0,12.0,12.0,21.0,8.0,12.0,12.0,12.0,18.0,8.0,12.0,21.0,12.0,12.0,12.0,12.0,12.0,12.0,12.0,12.0,12.0,12.0,12.0,21.0,21.0,18.0,12.0,21.0,18.0,18.0,12.0,18.0,12.0,8.0,21.0,12.0,21.0,21.0,21.0,8.0,12.0,18.0,21.0,8.0,12.0,18.0,12.0,12.0,18.0,21.0,12.0,12.0,5.0,12.0,21.0,18.0,21.0,21.0,21.0,18.0,18.0,18.0,21.0,12.0,12.0,12.0,12.0,21.0,21.0,21.0,12.0,12.0,8.0,21.0,21.0,12.0,12.0,12.0,21.0,12.0,21.0,12.0,21.0,18.0,8.0,8.0,12.0,12.0,21.0,18.0,12.0,12.0,12.0,12.0,12.0,21.0,12.0,18.0,21.0,12.0,12.0,18.0,12.0,12.0,12.0,12.0,18.0,12.0,5.0,12.0,12.0,12.0,18.0,12.0,12.0,8.0,8.0,8.0,12.0,12.0,21.0,12.0,8.0,12.0,12.0,12.0,18.0,12.0,21.0,18.0,12.0,18.0,5.0,12.0,12.0,12.0,12.0,8.0,18.0,12.0,21.0,18.0,12.0,12.0,12.0,18.0,12.0,21.0,12.0,5.0,5.0,18.0,12.0,12.0,18.0,18.0,18.0,18.0,12.0,12.0,12.0,12.0,12.0,18.0,12.0,21.0,8.0,8.0,12.0,18.0,12.0,12.0,18.0,12.0,12.0,12.0,12.0,12.0,12.0,12.0,12.0,12.0,12.0,12.0,8.0,12.0,12.0,12.0,12.0,18.0,12.0,12.0,12.0,12.0,12.0,18.0,18.0,12.0,21.0,21.0,21.0,12.0,12.0,21.0,12.0,8.0,8.0,12.0,18.0,8.0,21.0,21.0,12.0,12.0,12.0,8.0,12.0,12.0,12.0,12.0,21.0,21.0,12.0,21.0,12.0,12.0,12.0,21.0,21.0,12.0,18.0,12.0,8.0,21.0,21.0,8.0,21.0,21.0,12.0,12.0,12.0,8.0,12.0,21.0,21.0,21.0,12.0,12.0,21.0,21.0,12.0,12.0,18.0,12.0,8.0,12.0,12.0,12.0,12.0,12.0,12.0,8.0,8.0,12.0,12.0,8.0,12.0,21.0,8.0,12.0,12.0,21.0],\"y0\":\" \",\"yaxis\":\"y2\"}],                        {\"annotations\":[{\"font\":{},\"showarrow\":false,\"text\":\"variable=Spending\",\"x\":0.245,\"xanchor\":\"center\",\"xref\":\"paper\",\"y\":0.46499999999999997,\"yanchor\":\"bottom\",\"yref\":\"paper\"},{\"font\":{},\"showarrow\":false,\"text\":\"variable=Educational_years\",\"x\":0.755,\"xanchor\":\"center\",\"xref\":\"paper\",\"y\":0.46499999999999997,\"yanchor\":\"bottom\",\"yref\":\"paper\"},{\"font\":{},\"showarrow\":false,\"text\":\"variable=Age\",\"x\":0.245,\"xanchor\":\"center\",\"xref\":\"paper\",\"y\":0.9999999999999999,\"yanchor\":\"bottom\",\"yref\":\"paper\"},{\"font\":{},\"showarrow\":false,\"text\":\"variable=Income\",\"x\":0.755,\"xanchor\":\"center\",\"xref\":\"paper\",\"y\":0.9999999999999999,\"yanchor\":\"bottom\",\"yref\":\"paper\"}],\"boxmode\":\"overlay\",\"height\":1000,\"legend\":{\"title\":{\"text\":\"variable\"},\"tracegroupgap\":0},\"margin\":{\"t\":60},\"showlegend\":false,\"template\":{\"data\":{\"bar\":[{\"error_x\":{\"color\":\"#2a3f5f\"},\"error_y\":{\"color\":\"#2a3f5f\"},\"marker\":{\"line\":{\"color\":\"#E5ECF6\",\"width\":0.5},\"pattern\":{\"fillmode\":\"overlay\",\"size\":10,\"solidity\":0.2}},\"type\":\"bar\"}],\"barpolar\":[{\"marker\":{\"line\":{\"color\":\"#E5ECF6\",\"width\":0.5},\"pattern\":{\"fillmode\":\"overlay\",\"size\":10,\"solidity\":0.2}},\"type\":\"barpolar\"}],\"carpet\":[{\"aaxis\":{\"endlinecolor\":\"#2a3f5f\",\"gridcolor\":\"white\",\"linecolor\":\"white\",\"minorgridcolor\":\"white\",\"startlinecolor\":\"#2a3f5f\"},\"baxis\":{\"endlinecolor\":\"#2a3f5f\",\"gridcolor\":\"white\",\"linecolor\":\"white\",\"minorgridcolor\":\"white\",\"startlinecolor\":\"#2a3f5f\"},\"type\":\"carpet\"}],\"choropleth\":[{\"colorbar\":{\"outlinewidth\":0,\"ticks\":\"\"},\"type\":\"choropleth\"}],\"contour\":[{\"colorbar\":{\"outlinewidth\":0,\"ticks\":\"\"},\"colorscale\":[[0.0,\"#0d0887\"],[0.1111111111111111,\"#46039f\"],[0.2222222222222222,\"#7201a8\"],[0.3333333333333333,\"#9c179e\"],[0.4444444444444444,\"#bd3786\"],[0.5555555555555556,\"#d8576b\"],[0.6666666666666666,\"#ed7953\"],[0.7777777777777778,\"#fb9f3a\"],[0.8888888888888888,\"#fdca26\"],[1.0,\"#f0f921\"]],\"type\":\"contour\"}],\"contourcarpet\":[{\"colorbar\":{\"outlinewidth\":0,\"ticks\":\"\"},\"type\":\"contourcarpet\"}],\"heatmap\":[{\"colorbar\":{\"outlinewidth\":0,\"ticks\":\"\"},\"colorscale\":[[0.0,\"#0d0887\"],[0.1111111111111111,\"#46039f\"],[0.2222222222222222,\"#7201a8\"],[0.3333333333333333,\"#9c179e\"],[0.4444444444444444,\"#bd3786\"],[0.5555555555555556,\"#d8576b\"],[0.6666666666666666,\"#ed7953\"],[0.7777777777777778,\"#fb9f3a\"],[0.8888888888888888,\"#fdca26\"],[1.0,\"#f0f921\"]],\"type\":\"heatmap\"}],\"heatmapgl\":[{\"colorbar\":{\"outlinewidth\":0,\"ticks\":\"\"},\"colorscale\":[[0.0,\"#0d0887\"],[0.1111111111111111,\"#46039f\"],[0.2222222222222222,\"#7201a8\"],[0.3333333333333333,\"#9c179e\"],[0.4444444444444444,\"#bd3786\"],[0.5555555555555556,\"#d8576b\"],[0.6666666666666666,\"#ed7953\"],[0.7777777777777778,\"#fb9f3a\"],[0.8888888888888888,\"#fdca26\"],[1.0,\"#f0f921\"]],\"type\":\"heatmapgl\"}],\"histogram\":[{\"marker\":{\"pattern\":{\"fillmode\":\"overlay\",\"size\":10,\"solidity\":0.2}},\"type\":\"histogram\"}],\"histogram2d\":[{\"colorbar\":{\"outlinewidth\":0,\"ticks\":\"\"},\"colorscale\":[[0.0,\"#0d0887\"],[0.1111111111111111,\"#46039f\"],[0.2222222222222222,\"#7201a8\"],[0.3333333333333333,\"#9c179e\"],[0.4444444444444444,\"#bd3786\"],[0.5555555555555556,\"#d8576b\"],[0.6666666666666666,\"#ed7953\"],[0.7777777777777778,\"#fb9f3a\"],[0.8888888888888888,\"#fdca26\"],[1.0,\"#f0f921\"]],\"type\":\"histogram2d\"}],\"histogram2dcontour\":[{\"colorbar\":{\"outlinewidth\":0,\"ticks\":\"\"},\"colorscale\":[[0.0,\"#0d0887\"],[0.1111111111111111,\"#46039f\"],[0.2222222222222222,\"#7201a8\"],[0.3333333333333333,\"#9c179e\"],[0.4444444444444444,\"#bd3786\"],[0.5555555555555556,\"#d8576b\"],[0.6666666666666666,\"#ed7953\"],[0.7777777777777778,\"#fb9f3a\"],[0.8888888888888888,\"#fdca26\"],[1.0,\"#f0f921\"]],\"type\":\"histogram2dcontour\"}],\"mesh3d\":[{\"colorbar\":{\"outlinewidth\":0,\"ticks\":\"\"},\"type\":\"mesh3d\"}],\"parcoords\":[{\"line\":{\"colorbar\":{\"outlinewidth\":0,\"ticks\":\"\"}},\"type\":\"parcoords\"}],\"pie\":[{\"automargin\":true,\"type\":\"pie\"}],\"scatter\":[{\"marker\":{\"colorbar\":{\"outlinewidth\":0,\"ticks\":\"\"}},\"type\":\"scatter\"}],\"scatter3d\":[{\"line\":{\"colorbar\":{\"outlinewidth\":0,\"ticks\":\"\"}},\"marker\":{\"colorbar\":{\"outlinewidth\":0,\"ticks\":\"\"}},\"type\":\"scatter3d\"}],\"scattercarpet\":[{\"marker\":{\"colorbar\":{\"outlinewidth\":0,\"ticks\":\"\"}},\"type\":\"scattercarpet\"}],\"scattergeo\":[{\"marker\":{\"colorbar\":{\"outlinewidth\":0,\"ticks\":\"\"}},\"type\":\"scattergeo\"}],\"scattergl\":[{\"marker\":{\"colorbar\":{\"outlinewidth\":0,\"ticks\":\"\"}},\"type\":\"scattergl\"}],\"scattermapbox\":[{\"marker\":{\"colorbar\":{\"outlinewidth\":0,\"ticks\":\"\"}},\"type\":\"scattermapbox\"}],\"scatterpolar\":[{\"marker\":{\"colorbar\":{\"outlinewidth\":0,\"ticks\":\"\"}},\"type\":\"scatterpolar\"}],\"scatterpolargl\":[{\"marker\":{\"colorbar\":{\"outlinewidth\":0,\"ticks\":\"\"}},\"type\":\"scatterpolargl\"}],\"scatterternary\":[{\"marker\":{\"colorbar\":{\"outlinewidth\":0,\"ticks\":\"\"}},\"type\":\"scatterternary\"}],\"surface\":[{\"colorbar\":{\"outlinewidth\":0,\"ticks\":\"\"},\"colorscale\":[[0.0,\"#0d0887\"],[0.1111111111111111,\"#46039f\"],[0.2222222222222222,\"#7201a8\"],[0.3333333333333333,\"#9c179e\"],[0.4444444444444444,\"#bd3786\"],[0.5555555555555556,\"#d8576b\"],[0.6666666666666666,\"#ed7953\"],[0.7777777777777778,\"#fb9f3a\"],[0.8888888888888888,\"#fdca26\"],[1.0,\"#f0f921\"]],\"type\":\"surface\"}],\"table\":[{\"cells\":{\"fill\":{\"color\":\"#EBF0F8\"},\"line\":{\"color\":\"white\"}},\"header\":{\"fill\":{\"color\":\"#C8D4E3\"},\"line\":{\"color\":\"white\"}},\"type\":\"table\"}]},\"layout\":{\"annotationdefaults\":{\"arrowcolor\":\"#2a3f5f\",\"arrowhead\":0,\"arrowwidth\":1},\"autotypenumbers\":\"strict\",\"coloraxis\":{\"colorbar\":{\"outlinewidth\":0,\"ticks\":\"\"}},\"colorscale\":{\"diverging\":[[0,\"#8e0152\"],[0.1,\"#c51b7d\"],[0.2,\"#de77ae\"],[0.3,\"#f1b6da\"],[0.4,\"#fde0ef\"],[0.5,\"#f7f7f7\"],[0.6,\"#e6f5d0\"],[0.7,\"#b8e186\"],[0.8,\"#7fbc41\"],[0.9,\"#4d9221\"],[1,\"#276419\"]],\"sequential\":[[0.0,\"#0d0887\"],[0.1111111111111111,\"#46039f\"],[0.2222222222222222,\"#7201a8\"],[0.3333333333333333,\"#9c179e\"],[0.4444444444444444,\"#bd3786\"],[0.5555555555555556,\"#d8576b\"],[0.6666666666666666,\"#ed7953\"],[0.7777777777777778,\"#fb9f3a\"],[0.8888888888888888,\"#fdca26\"],[1.0,\"#f0f921\"]],\"sequentialminus\":[[0.0,\"#0d0887\"],[0.1111111111111111,\"#46039f\"],[0.2222222222222222,\"#7201a8\"],[0.3333333333333333,\"#9c179e\"],[0.4444444444444444,\"#bd3786\"],[0.5555555555555556,\"#d8576b\"],[0.6666666666666666,\"#ed7953\"],[0.7777777777777778,\"#fb9f3a\"],[0.8888888888888888,\"#fdca26\"],[1.0,\"#f0f921\"]]},\"colorway\":[\"#636efa\",\"#EF553B\",\"#00cc96\",\"#ab63fa\",\"#FFA15A\",\"#19d3f3\",\"#FF6692\",\"#B6E880\",\"#FF97FF\",\"#FECB52\"],\"font\":{\"color\":\"#2a3f5f\"},\"geo\":{\"bgcolor\":\"white\",\"lakecolor\":\"white\",\"landcolor\":\"#E5ECF6\",\"showlakes\":true,\"showland\":true,\"subunitcolor\":\"white\"},\"hoverlabel\":{\"align\":\"left\"},\"hovermode\":\"closest\",\"mapbox\":{\"style\":\"light\"},\"paper_bgcolor\":\"white\",\"plot_bgcolor\":\"#E5ECF6\",\"polar\":{\"angularaxis\":{\"gridcolor\":\"white\",\"linecolor\":\"white\",\"ticks\":\"\"},\"bgcolor\":\"#E5ECF6\",\"radialaxis\":{\"gridcolor\":\"white\",\"linecolor\":\"white\",\"ticks\":\"\"}},\"scene\":{\"xaxis\":{\"backgroundcolor\":\"#E5ECF6\",\"gridcolor\":\"white\",\"gridwidth\":2,\"linecolor\":\"white\",\"showbackground\":true,\"ticks\":\"\",\"zerolinecolor\":\"white\"},\"yaxis\":{\"backgroundcolor\":\"#E5ECF6\",\"gridcolor\":\"white\",\"gridwidth\":2,\"linecolor\":\"white\",\"showbackground\":true,\"ticks\":\"\",\"zerolinecolor\":\"white\"},\"zaxis\":{\"backgroundcolor\":\"#E5ECF6\",\"gridcolor\":\"white\",\"gridwidth\":2,\"linecolor\":\"white\",\"showbackground\":true,\"ticks\":\"\",\"zerolinecolor\":\"white\"}},\"shapedefaults\":{\"line\":{\"color\":\"#2a3f5f\"}},\"ternary\":{\"aaxis\":{\"gridcolor\":\"white\",\"linecolor\":\"white\",\"ticks\":\"\"},\"baxis\":{\"gridcolor\":\"white\",\"linecolor\":\"white\",\"ticks\":\"\"},\"bgcolor\":\"#E5ECF6\",\"caxis\":{\"gridcolor\":\"white\",\"linecolor\":\"white\",\"ticks\":\"\"}},\"title\":{\"x\":0.05},\"xaxis\":{\"automargin\":true,\"gridcolor\":\"white\",\"linecolor\":\"white\",\"ticks\":\"\",\"title\":{\"standoff\":15},\"zerolinecolor\":\"white\",\"zerolinewidth\":2},\"yaxis\":{\"automargin\":true,\"gridcolor\":\"white\",\"linecolor\":\"white\",\"ticks\":\"\",\"title\":{\"standoff\":15},\"zerolinecolor\":\"white\",\"zerolinewidth\":2}}},\"width\":900,\"xaxis\":{\"anchor\":\"y\",\"domain\":[0.0,0.49],\"linecolor\":\"grey\",\"linewidth\":2,\"showline\":true},\"xaxis2\":{\"anchor\":\"y2\",\"domain\":[0.51,1.0],\"linecolor\":\"grey\",\"linewidth\":2,\"matches\":\"x\",\"showline\":true},\"xaxis3\":{\"anchor\":\"y3\",\"domain\":[0.0,0.49],\"linecolor\":\"grey\",\"linewidth\":2,\"matches\":\"x\",\"showline\":true,\"showticklabels\":false},\"xaxis4\":{\"anchor\":\"y4\",\"domain\":[0.51,1.0],\"linecolor\":\"grey\",\"linewidth\":2,\"matches\":\"x\",\"showline\":true,\"showticklabels\":false},\"yaxis\":{\"anchor\":\"x\",\"domain\":[0.0,0.46499999999999997],\"linecolor\":\"grey\",\"linewidth\":2,\"showline\":true,\"showticklabels\":true,\"title\":{\"text\":\"value\"}},\"yaxis2\":{\"anchor\":\"x2\",\"domain\":[0.0,0.46499999999999997],\"linecolor\":\"grey\",\"linewidth\":2,\"showline\":true,\"showticklabels\":true},\"yaxis3\":{\"anchor\":\"x3\",\"domain\":[0.5349999999999999,0.9999999999999999],\"linecolor\":\"grey\",\"linewidth\":2,\"showline\":true,\"showticklabels\":true,\"title\":{\"text\":\"value\"}},\"yaxis4\":{\"anchor\":\"x4\",\"domain\":[0.5349999999999999,0.9999999999999999],\"linecolor\":\"grey\",\"linewidth\":2,\"showline\":true,\"showticklabels\":true}},                        {\"responsive\": true}                    ).then(function(){\n",
              "                            \n",
              "var gd = document.getElementById('9c1cf657-dba0-4f49-b641-8f779ef39363');\n",
              "var x = new MutationObserver(function (mutations, observer) {{\n",
              "        var display = window.getComputedStyle(gd).display;\n",
              "        if (!display || display === 'none') {{\n",
              "            console.log([gd, 'removed!']);\n",
              "            Plotly.purge(gd);\n",
              "            observer.disconnect();\n",
              "        }}\n",
              "}});\n",
              "\n",
              "// Listen for the removal of the full notebook cells\n",
              "var notebookContainer = gd.closest('#notebook-container');\n",
              "if (notebookContainer) {{\n",
              "    x.observe(notebookContainer, {childList: true});\n",
              "}}\n",
              "\n",
              "// Listen for the clearing of the current output cell\n",
              "var outputEl = gd.closest('.output');\n",
              "if (outputEl) {{\n",
              "    x.observe(outputEl, {childList: true});\n",
              "}}\n",
              "\n",
              "                        })                };                });            </script>        </div>"
            ]
          },
          "metadata": {},
          "output_type": "display_data"
        }
      ],
      "source": [
        "df = data[['Age','Income','Spending','Educational_years']]\n",
        "\n",
        "fig = px.box(df.melt(), y=\"value\", facet_col=\"variable\",facet_col_wrap=2, boxmode=\"overlay\", color=\"variable\",height=1000, width=900)\n",
        "fig.update_yaxes(matches=None)\n",
        "\n",
        "for i in range(len(fig[\"data\"])):\n",
        "    yaxis_name = 'yaxis' if i == 0 else f'yaxis{i + 1}'\n",
        "    fig.layout[yaxis_name].showticklabels = True\n",
        "\n",
        "fig.update_layout(showlegend=False)\n",
        "fig.update_xaxes(showline=True, linewidth=2, linecolor='grey')\n",
        "fig.update_yaxes(showline=True, linewidth=2, linecolor='grey')\n",
        "\n",
        "fig.show()"
      ]
    },
    {
      "cell_type": "markdown",
      "id": "d8c98364",
      "metadata": {
        "papermill": {
          "duration": 0.073605,
          "end_time": "2021-08-26T15:25:41.821650",
          "exception": false,
          "start_time": "2021-08-26T15:25:41.748045",
          "status": "completed"
        },
        "tags": [],
        "id": "d8c98364"
      },
      "source": [
        "Outliers analysis must be done with care. From above we can see that several variables seem to have outliers :\n",
        "\n",
        ">Age: 3 customers older than the Upper Fence set at 74 years old. We will not remove them\n",
        "\n",
        ">Income : Several value are greater than the Upper Fence of 113K. While having an income of 150k is not impossible, we will remove the customer who has an income of 666k (Moreover, this observation is defined as an extreme outlier based on our definition stated previously)\n",
        "\n",
        ">Spending : There is only one outlier which is at the limit of the Upper Fence. We will not remove it"
      ]
    },
    {
      "cell_type": "code",
      "execution_count": null,
      "id": "65f40b15",
      "metadata": {
        "execution": {
          "iopub.execute_input": "2021-08-26T15:25:41.974423Z",
          "iopub.status.busy": "2021-08-26T15:25:41.973164Z",
          "iopub.status.idle": "2021-08-26T15:25:41.993236Z",
          "shell.execute_reply": "2021-08-26T15:25:41.992627Z",
          "shell.execute_reply.started": "2021-08-26T15:03:44.028278Z"
        },
        "papermill": {
          "duration": 0.099243,
          "end_time": "2021-08-26T15:25:41.993382",
          "exception": false,
          "start_time": "2021-08-26T15:25:41.894139",
          "status": "completed"
        },
        "tags": [],
        "id": "65f40b15",
        "outputId": "7620247f-058d-4e52-b850-ea314adb2be1"
      },
      "outputs": [
        {
          "data": {
            "text/html": [
              "<div>\n",
              "<style scoped>\n",
              "    .dataframe tbody tr th:only-of-type {\n",
              "        vertical-align: middle;\n",
              "    }\n",
              "\n",
              "    .dataframe tbody tr th {\n",
              "        vertical-align: top;\n",
              "    }\n",
              "\n",
              "    .dataframe thead th {\n",
              "        text-align: right;\n",
              "    }\n",
              "</style>\n",
              "<table border=\"1\" class=\"dataframe\">\n",
              "  <thead>\n",
              "    <tr style=\"text-align: right;\">\n",
              "      <th></th>\n",
              "      <th>Age</th>\n",
              "      <th>Income</th>\n",
              "      <th>Spending</th>\n",
              "      <th>Marital_Situation</th>\n",
              "      <th>Has_child</th>\n",
              "      <th>Educational_years</th>\n",
              "      <th>Education</th>\n",
              "    </tr>\n",
              "  </thead>\n",
              "  <tbody>\n",
              "    <tr>\n",
              "      <th>0</th>\n",
              "      <td>51</td>\n",
              "      <td>84835.00</td>\n",
              "      <td>1190</td>\n",
              "      <td>Alone</td>\n",
              "      <td>No</td>\n",
              "      <td>12</td>\n",
              "      <td>Graduation</td>\n",
              "    </tr>\n",
              "    <tr>\n",
              "      <th>1</th>\n",
              "      <td>60</td>\n",
              "      <td>57091.00</td>\n",
              "      <td>577</td>\n",
              "      <td>Alone</td>\n",
              "      <td>No</td>\n",
              "      <td>12</td>\n",
              "      <td>Graduation</td>\n",
              "    </tr>\n",
              "    <tr>\n",
              "      <th>2</th>\n",
              "      <td>63</td>\n",
              "      <td>67267.00</td>\n",
              "      <td>251</td>\n",
              "      <td>In couple</td>\n",
              "      <td>Yes</td>\n",
              "      <td>12</td>\n",
              "      <td>Graduation</td>\n",
              "    </tr>\n",
              "    <tr>\n",
              "      <th>3</th>\n",
              "      <td>54</td>\n",
              "      <td>32474.00</td>\n",
              "      <td>11</td>\n",
              "      <td>In couple</td>\n",
              "      <td>Yes</td>\n",
              "      <td>12</td>\n",
              "      <td>Graduation</td>\n",
              "    </tr>\n",
              "    <tr>\n",
              "      <th>4</th>\n",
              "      <td>32</td>\n",
              "      <td>21474.00</td>\n",
              "      <td>91</td>\n",
              "      <td>Alone</td>\n",
              "      <td>Yes</td>\n",
              "      <td>12</td>\n",
              "      <td>Graduation</td>\n",
              "    </tr>\n",
              "    <tr>\n",
              "      <th>...</th>\n",
              "      <td>...</td>\n",
              "      <td>...</td>\n",
              "      <td>...</td>\n",
              "      <td>...</td>\n",
              "      <td>...</td>\n",
              "      <td>...</td>\n",
              "      <td>...</td>\n",
              "    </tr>\n",
              "    <tr>\n",
              "      <th>2234</th>\n",
              "      <td>45</td>\n",
              "      <td>66476.00</td>\n",
              "      <td>689</td>\n",
              "      <td>Alone</td>\n",
              "      <td>Yes</td>\n",
              "      <td>21</td>\n",
              "      <td>PhD</td>\n",
              "    </tr>\n",
              "    <tr>\n",
              "      <th>2235</th>\n",
              "      <td>44</td>\n",
              "      <td>31056.00</td>\n",
              "      <td>55</td>\n",
              "      <td>In couple</td>\n",
              "      <td>Yes</td>\n",
              "      <td>8</td>\n",
              "      <td>2n Cycle</td>\n",
              "    </tr>\n",
              "    <tr>\n",
              "      <th>2236</th>\n",
              "      <td>45</td>\n",
              "      <td>46310.00</td>\n",
              "      <td>309</td>\n",
              "      <td>Alone</td>\n",
              "      <td>Yes</td>\n",
              "      <td>12</td>\n",
              "      <td>Graduation</td>\n",
              "    </tr>\n",
              "    <tr>\n",
              "      <th>2237</th>\n",
              "      <td>43</td>\n",
              "      <td>65819.00</td>\n",
              "      <td>1383</td>\n",
              "      <td>In couple</td>\n",
              "      <td>No</td>\n",
              "      <td>12</td>\n",
              "      <td>Graduation</td>\n",
              "    </tr>\n",
              "    <tr>\n",
              "      <th>2238</th>\n",
              "      <td>52</td>\n",
              "      <td>94871.00</td>\n",
              "      <td>1078</td>\n",
              "      <td>In couple</td>\n",
              "      <td>Yes</td>\n",
              "      <td>21</td>\n",
              "      <td>PhD</td>\n",
              "    </tr>\n",
              "  </tbody>\n",
              "</table>\n",
              "<p>2239 rows × 7 columns</p>\n",
              "</div>"
            ],
            "text/plain": [
              "      Age   Income  Spending Marital_Situation Has_child  Educational_years  \\\n",
              "0      51 84835.00      1190             Alone        No                 12   \n",
              "1      60 57091.00       577             Alone        No                 12   \n",
              "2      63 67267.00       251         In couple       Yes                 12   \n",
              "3      54 32474.00        11         In couple       Yes                 12   \n",
              "4      32 21474.00        91             Alone       Yes                 12   \n",
              "...   ...      ...       ...               ...       ...                ...   \n",
              "2234   45 66476.00       689             Alone       Yes                 21   \n",
              "2235   44 31056.00        55         In couple       Yes                  8   \n",
              "2236   45 46310.00       309             Alone       Yes                 12   \n",
              "2237   43 65819.00      1383         In couple        No                 12   \n",
              "2238   52 94871.00      1078         In couple       Yes                 21   \n",
              "\n",
              "       Education  \n",
              "0     Graduation  \n",
              "1     Graduation  \n",
              "2     Graduation  \n",
              "3     Graduation  \n",
              "4     Graduation  \n",
              "...          ...  \n",
              "2234         PhD  \n",
              "2235    2n Cycle  \n",
              "2236  Graduation  \n",
              "2237  Graduation  \n",
              "2238         PhD  \n",
              "\n",
              "[2239 rows x 7 columns]"
            ]
          },
          "execution_count": 13,
          "metadata": {},
          "output_type": "execute_result"
        }
      ],
      "source": [
        "#We remove the only outlier in our dataset before handling missing values\n",
        "dataset = data.drop(data[data['Income']> 600000].index).reset_index(drop=True)\n",
        "dataset"
      ]
    },
    {
      "cell_type": "markdown",
      "id": "26f3d698",
      "metadata": {
        "papermill": {
          "duration": 0.074422,
          "end_time": "2021-08-26T15:25:42.138420",
          "exception": false,
          "start_time": "2021-08-26T15:25:42.063998",
          "status": "completed"
        },
        "tags": [],
        "id": "26f3d698"
      },
      "source": [
        "### **Handling missing values**"
      ]
    },
    {
      "cell_type": "markdown",
      "id": "ebe8aee3",
      "metadata": {
        "papermill": {
          "duration": 0.068715,
          "end_time": "2021-08-26T15:25:42.282721",
          "exception": false,
          "start_time": "2021-08-26T15:25:42.214006",
          "status": "completed"
        },
        "tags": [],
        "id": "ebe8aee3"
      },
      "source": [
        "As seen earlier, the Income variable has 24 missing values\n",
        "\n",
        "**There are several ways to handle null-values**:\n",
        "\n",
        "We can delete the entire column containing null-values\n",
        "\n",
        "We can delete the rows containing null-values\n",
        "\n",
        "We can impute the mean value\n",
        "\n",
        "We can input the mean value of a specific population : in this case we would split by Education diploma\n",
        "\n",
        "We can use a model to predict missing values\n",
        "\n",
        "With our dataset, we will go for the last option and use the **K-Nearest Neighbor Imputation**.\n",
        "KNN Imputation works by imputing the average income of the k nearest neighbors found in the training set for each of the missing value.\n",
        "\n",
        "We will use Education, Age and Income to run the algorithm. KNNimputer will automatically normalize our data."
      ]
    },
    {
      "cell_type": "code",
      "execution_count": null,
      "id": "8d01322f",
      "metadata": {
        "execution": {
          "iopub.execute_input": "2021-08-26T15:25:42.435342Z",
          "iopub.status.busy": "2021-08-26T15:25:42.434665Z",
          "iopub.status.idle": "2021-08-26T15:25:42.455746Z",
          "shell.execute_reply": "2021-08-26T15:25:42.456229Z",
          "shell.execute_reply.started": "2021-08-26T15:03:44.054776Z"
        },
        "papermill": {
          "duration": 0.101034,
          "end_time": "2021-08-26T15:25:42.456404",
          "exception": false,
          "start_time": "2021-08-26T15:25:42.355370",
          "status": "completed"
        },
        "tags": [],
        "id": "8d01322f",
        "outputId": "14833c31-3d44-4f98-dfa7-2f14a5496eab"
      },
      "outputs": [
        {
          "name": "stdout",
          "output_type": "stream",
          "text": [
            "Age                  0\n",
            "Income               0\n",
            "Spending             0\n",
            "Marital_Situation    0\n",
            "Has_child            0\n",
            "Educational_years    0\n",
            "Education            0\n",
            "dtype: int64\n"
          ]
        }
      ],
      "source": [
        "imputer = KNNImputer()\n",
        "imputer = KNNImputer(n_neighbors=5,metric='nan_euclidean')\n",
        "# fit on the dataset\n",
        "imputer.fit(dataset[['Income','Age','Educational_years']])\n",
        "# transform the dataset\n",
        "X = imputer.transform(dataset[['Income','Age','Educational_years']])\n",
        "Income_impute=pd.DataFrame(X,columns=['Income','Age','Educational_years'])\n",
        "dataset['Income']=Income_impute['Income'].reset_index(drop=True)\n",
        "count_nan = len(dataset) - dataset.count()\n",
        "print(count_nan)"
      ]
    },
    {
      "cell_type": "markdown",
      "id": "f718f201",
      "metadata": {
        "papermill": {
          "duration": 0.064262,
          "end_time": "2021-08-26T15:25:42.589214",
          "exception": false,
          "start_time": "2021-08-26T15:25:42.524952",
          "status": "completed"
        },
        "tags": [],
        "id": "f718f201"
      },
      "source": [
        "We don't have any missing value anymore"
      ]
    },
    {
      "cell_type": "markdown",
      "id": "b818b52b",
      "metadata": {
        "papermill": {
          "duration": 0.065315,
          "end_time": "2021-08-26T15:25:42.719683",
          "exception": false,
          "start_time": "2021-08-26T15:25:42.654368",
          "status": "completed"
        },
        "tags": [],
        "id": "b818b52b"
      },
      "source": [
        "# **Visual Exploratory Data Analysis**"
      ]
    },
    {
      "cell_type": "markdown",
      "id": "d1146f62",
      "metadata": {
        "papermill": {
          "duration": 0.065715,
          "end_time": "2021-08-26T15:25:42.854008",
          "exception": false,
          "start_time": "2021-08-26T15:25:42.788293",
          "status": "completed"
        },
        "tags": [],
        "id": "d1146f62"
      },
      "source": [
        "**Let's plot a correlation matrix to show correlation coefficients between out variables.**"
      ]
    },
    {
      "cell_type": "code",
      "execution_count": null,
      "id": "26a51b4d",
      "metadata": {
        "execution": {
          "iopub.execute_input": "2021-08-26T15:25:42.993967Z",
          "iopub.status.busy": "2021-08-26T15:25:42.992963Z",
          "iopub.status.idle": "2021-08-26T15:25:43.326113Z",
          "shell.execute_reply": "2021-08-26T15:25:43.326619Z",
          "shell.execute_reply.started": "2021-08-26T15:03:44.083898Z"
        },
        "papermill": {
          "duration": 0.407245,
          "end_time": "2021-08-26T15:25:43.326813",
          "exception": false,
          "start_time": "2021-08-26T15:25:42.919568",
          "status": "completed"
        },
        "tags": [],
        "id": "26a51b4d",
        "outputId": "1e35e039-8981-469a-f576-990b0d4b4f6e"
      },
      "outputs": [
        {
          "data": {
            "text/plain": [
              "<AxesSubplot:>"
            ]
          },
          "execution_count": 15,
          "metadata": {},
          "output_type": "execute_result"
        },
        {
          "data": {
            "image/png": "[encoded data removed]",
            "text/plain": [
              "<Figure size 720x360 with 2 Axes>"
            ]
          },
          "metadata": {
            "needs_background": "light"
          },
          "output_type": "display_data"
        }
      ],
      "source": [
        "plt.figure(figsize=(10,5))\n",
        "sns.heatmap(dataset.corr(),annot=True)"
      ]
    },
    {
      "cell_type": "markdown",
      "id": "69533596",
      "metadata": {
        "papermill": {
          "duration": 0.070212,
          "end_time": "2021-08-26T15:25:43.464214",
          "exception": false,
          "start_time": "2021-08-26T15:25:43.394002",
          "status": "completed"
        },
        "tags": [],
        "id": "69533596"
      },
      "source": [
        "### **Diploma distribution by income level**"
      ]
    },
    {
      "cell_type": "code",
      "execution_count": null,
      "id": "37cbd13a",
      "metadata": {
        "execution": {
          "iopub.execute_input": "2021-08-26T15:25:43.603658Z",
          "iopub.status.busy": "2021-08-26T15:25:43.602632Z",
          "iopub.status.idle": "2021-08-26T15:25:43.733155Z",
          "shell.execute_reply": "2021-08-26T15:25:43.733613Z",
          "shell.execute_reply.started": "2021-08-26T15:03:44.359314Z"
        },
        "papermill": {
          "duration": 0.200446,
          "end_time": "2021-08-26T15:25:43.733791",
          "exception": false,
          "start_time": "2021-08-26T15:25:43.533345",
          "status": "completed"
        },
        "tags": [],
        "id": "37cbd13a",
        "outputId": "1990383e-4e9a-463d-857b-483189d6ddb5"
      },
      "outputs": [
        {
          "data": {
            "text/html": [
              "<div>                            <div id=\"9e6f071a-811e-4457-a455-7cb449b31b42\" class=\"plotly-graph-div\" style=\"height:525px; width:100%;\"></div>            <script type=\"text/javascript\">                require([\"plotly\"], function(Plotly) {                    window.PLOTLYENV=window.PLOTLYENV || {};                                    if (document.getElementById(\"9e6f071a-811e-4457-a455-7cb449b31b42\")) {                    Plotly.newPlot(                        \"9e6f071a-811e-4457-a455-7cb449b31b42\",                        [{\"alignmentgroup\":\"True\",\"bingroup\":\"x\",\"histfunc\":\"avg\",\"hovertemplate\":\"Education=%{x}<br>avg of Income=%{y}<extra></extra>\",\"legendgroup\":\"\",\"marker\":{\"color\":\"#636efa\",\"pattern\":{\"shape\":\"\"}},\"name\":\"\",\"offsetgroup\":\"\",\"orientation\":\"v\",\"showlegend\":false,\"type\":\"histogram\",\"x\":[\"Graduation\",\"Graduation\",\"Graduation\",\"Graduation\",\"Graduation\",\"PhD\",\"2n Cycle\",\"Graduation\",\"PhD\",\"PhD\",\"2n Cycle\",\"Master\",\"PhD\",\"Graduation\",\"Graduation\",\"Graduation\",\"Graduation\",\"PhD\",\"2n Cycle\",\"Master\",\"Master\",\"Master\",\"Master\",\"PhD\",\"Graduation\",\"Master\",\"Graduation\",\"Graduation\",\"PhD\",\"Graduation\",\"PhD\",\"Graduation\",\"PhD\",\"PhD\",\"Graduation\",\"PhD\",\"2n Cycle\",\"Master\",\"PhD\",\"Graduation\",\"Graduation\",\"PhD\",\"2n Cycle\",\"Graduation\",\"2n Cycle\",\"Graduation\",\"Graduation\",\"Master\",\"Graduation\",\"Graduation\",\"2n Cycle\",\"Master\",\"2n Cycle\",\"Graduation\",\"Basic\",\"Graduation\",\"Master\",\"PhD\",\"Graduation\",\"Graduation\",\"Master\",\"Master\",\"PhD\",\"Master\",\"Master\",\"Graduation\",\"Master\",\"2n Cycle\",\"PhD\",\"PhD\",\"PhD\",\"2n Cycle\",\"Master\",\"Graduation\",\"Graduation\",\"Graduation\",\"Graduation\",\"PhD\",\"Master\",\"Graduation\",\"Graduation\",\"Graduation\",\"Graduation\",\"PhD\",\"Graduation\",\"2n Cycle\",\"2n Cycle\",\"Graduation\",\"PhD\",\"Graduation\",\"Graduation\",\"PhD\",\"Graduation\",\"PhD\",\"Graduation\",\"Master\",\"Master\",\"Master\",\"Graduation\",\"PhD\",\"PhD\",\"Graduation\",\"PhD\",\"PhD\",\"PhD\",\"Master\",\"Master\",\"PhD\",\"PhD\",\"2n Cycle\",\"Graduation\",\"Graduation\",\"Graduation\",\"Graduation\",\"Master\",\"Graduation\",\"Master\",\"Master\",\"Master\",\"Graduation\",\"Graduation\",\"Graduation\",\"Graduation\",\"Graduation\",\"Graduation\",\"Graduation\",\"Graduation\",\"Master\",\"Master\",\"Graduation\",\"Graduation\",\"Master\",\"Graduation\",\"Graduation\",\"PhD\",\"Graduation\",\"Graduation\",\"PhD\",\"2n Cycle\",\"Graduation\",\"Graduation\",\"2n Cycle\",\"Graduation\",\"Graduation\",\"Graduation\",\"Master\",\"Basic\",\"Basic\",\"PhD\",\"Master\",\"Master\",\"Graduation\",\"Graduation\",\"PhD\",\"PhD\",\"PhD\",\"Master\",\"Master\",\"Master\",\"Master\",\"Graduation\",\"Graduation\",\"Graduation\",\"Graduation\",\"Graduation\",\"Basic\",\"PhD\",\"PhD\",\"Graduation\",\"2n Cycle\",\"Graduation\",\"Master\",\"2n Cycle\",\"Graduation\",\"Graduation\",\"Master\",\"Master\",\"Graduation\",\"Graduation\",\"2n Cycle\",\"Graduation\",\"Graduation\",\"Basic\",\"PhD\",\"Graduation\",\"PhD\",\"Graduation\",\"Master\",\"PhD\",\"Graduation\",\"Graduation\",\"PhD\",\"2n Cycle\",\"PhD\",\"Graduation\",\"Graduation\",\"PhD\",\"PhD\",\"Graduation\",\"PhD\",\"PhD\",\"Graduation\",\"Graduation\",\"Graduation\",\"Graduation\",\"Graduation\",\"2n Cycle\",\"PhD\",\"Graduation\",\"PhD\",\"PhD\",\"Graduation\",\"Graduation\",\"PhD\",\"Graduation\",\"Graduation\",\"Master\",\"Master\",\"Master\",\"Graduation\",\"Master\",\"PhD\",\"PhD\",\"PhD\",\"Master\",\"PhD\",\"Graduation\",\"Graduation\",\"Graduation\",\"Master\",\"Graduation\",\"Graduation\",\"Graduation\",\"PhD\",\"Master\",\"2n Cycle\",\"Graduation\",\"2n Cycle\",\"Graduation\",\"Basic\",\"Graduation\",\"PhD\",\"2n Cycle\",\"Graduation\",\"2n Cycle\",\"2n Cycle\",\"PhD\",\"Graduation\",\"PhD\",\"PhD\",\"Master\",\"Graduation\",\"Graduation\",\"Graduation\",\"Master\",\"Master\",\"Graduation\",\"Graduation\",\"Graduation\",\"Graduation\",\"Graduation\",\"Graduation\",\"Graduation\",\"PhD\",\"Master\",\"Graduation\",\"Master\",\"Graduation\",\"Graduation\",\"Graduation\",\"Master\",\"2n Cycle\",\"PhD\",\"Graduation\",\"PhD\",\"Master\",\"Graduation\",\"PhD\",\"Graduation\",\"Graduation\",\"Graduation\",\"PhD\",\"PhD\",\"PhD\",\"Master\",\"Graduation\",\"Graduation\",\"Graduation\",\"PhD\",\"Master\",\"Graduation\",\"Graduation\",\"Graduation\",\"Graduation\",\"Master\",\"PhD\",\"Graduation\",\"2n Cycle\",\"Graduation\",\"Graduation\",\"Master\",\"Master\",\"Master\",\"PhD\",\"Master\",\"Graduation\",\"Master\",\"Graduation\",\"Master\",\"PhD\",\"Master\",\"Graduation\",\"Master\",\"2n Cycle\",\"2n Cycle\",\"Graduation\",\"PhD\",\"PhD\",\"Basic\",\"Master\",\"Graduation\",\"Basic\",\"2n Cycle\",\"Graduation\",\"2n Cycle\",\"Graduation\",\"Master\",\"Graduation\",\"PhD\",\"PhD\",\"Graduation\",\"Graduation\",\"Graduation\",\"Graduation\",\"Graduation\",\"Graduation\",\"PhD\",\"PhD\",\"Graduation\",\"Graduation\",\"Graduation\",\"PhD\",\"2n Cycle\",\"PhD\",\"Master\",\"Graduation\",\"2n Cycle\",\"2n Cycle\",\"Graduation\",\"Graduation\",\"Graduation\",\"Graduation\",\"Graduation\",\"Graduation\",\"Master\",\"Master\",\"2n Cycle\",\"Graduation\",\"PhD\",\"2n Cycle\",\"Graduation\",\"PhD\",\"Graduation\",\"Graduation\",\"Graduation\",\"Master\",\"Graduation\",\"PhD\",\"PhD\",\"PhD\",\"Master\",\"PhD\",\"2n Cycle\",\"Graduation\",\"Graduation\",\"Master\",\"Graduation\",\"Graduation\",\"Master\",\"2n Cycle\",\"Graduation\",\"Graduation\",\"Master\",\"2n Cycle\",\"PhD\",\"Master\",\"2n Cycle\",\"Graduation\",\"Graduation\",\"PhD\",\"Graduation\",\"Graduation\",\"Graduation\",\"Graduation\",\"PhD\",\"PhD\",\"2n Cycle\",\"PhD\",\"Master\",\"Graduation\",\"PhD\",\"Graduation\",\"PhD\",\"Graduation\",\"Master\",\"Graduation\",\"Graduation\",\"PhD\",\"2n Cycle\",\"PhD\",\"Graduation\",\"Graduation\",\"Master\",\"2n Cycle\",\"Graduation\",\"Graduation\",\"Graduation\",\"Basic\",\"PhD\",\"2n Cycle\",\"Graduation\",\"Master\",\"2n Cycle\",\"Graduation\",\"Graduation\",\"Graduation\",\"Master\",\"2n Cycle\",\"Graduation\",\"Graduation\",\"Graduation\",\"Graduation\",\"Graduation\",\"Master\",\"Graduation\",\"2n Cycle\",\"Master\",\"Graduation\",\"PhD\",\"Graduation\",\"Graduation\",\"PhD\",\"Master\",\"Graduation\",\"Graduation\",\"Graduation\",\"PhD\",\"PhD\",\"PhD\",\"Graduation\",\"PhD\",\"Graduation\",\"2n Cycle\",\"Graduation\",\"PhD\",\"Graduation\",\"Graduation\",\"Master\",\"PhD\",\"PhD\",\"Graduation\",\"PhD\",\"Master\",\"Graduation\",\"2n Cycle\",\"Graduation\",\"Graduation\",\"Graduation\",\"Master\",\"Graduation\",\"Master\",\"Graduation\",\"PhD\",\"Graduation\",\"Graduation\",\"Graduation\",\"Graduation\",\"PhD\",\"PhD\",\"PhD\",\"Graduation\",\"Graduation\",\"Master\",\"Graduation\",\"Master\",\"Master\",\"Graduation\",\"Graduation\",\"Graduation\",\"Graduation\",\"Graduation\",\"Graduation\",\"PhD\",\"Master\",\"Graduation\",\"Graduation\",\"Graduation\",\"PhD\",\"Master\",\"PhD\",\"PhD\",\"PhD\",\"Graduation\",\"Graduation\",\"PhD\",\"Graduation\",\"Master\",\"Graduation\",\"PhD\",\"PhD\",\"PhD\",\"PhD\",\"Graduation\",\"2n Cycle\",\"PhD\",\"PhD\",\"Graduation\",\"Master\",\"Master\",\"Master\",\"Graduation\",\"Graduation\",\"Graduation\",\"Graduation\",\"Graduation\",\"PhD\",\"PhD\",\"Graduation\",\"Basic\",\"Graduation\",\"Graduation\",\"Graduation\",\"PhD\",\"PhD\",\"Graduation\",\"PhD\",\"PhD\",\"Basic\",\"Master\",\"Master\",\"Graduation\",\"PhD\",\"PhD\",\"Graduation\",\"Graduation\",\"Master\",\"Master\",\"PhD\",\"2n Cycle\",\"PhD\",\"Master\",\"Master\",\"Graduation\",\"Graduation\",\"Graduation\",\"2n Cycle\",\"Master\",\"Graduation\",\"Graduation\",\"PhD\",\"PhD\",\"2n Cycle\",\"Master\",\"Graduation\",\"Master\",\"Master\",\"Graduation\",\"Graduation\",\"PhD\",\"PhD\",\"Master\",\"Graduation\",\"PhD\",\"Graduation\",\"Graduation\",\"Master\",\"Graduation\",\"Master\",\"Graduation\",\"PhD\",\"Graduation\",\"PhD\",\"Graduation\",\"Graduation\",\"2n Cycle\",\"Graduation\",\"Graduation\",\"Master\",\"Master\",\"2n Cycle\",\"Basic\",\"Graduation\",\"Graduation\",\"Graduation\",\"Graduation\",\"Graduation\",\"PhD\",\"Graduation\",\"Graduation\",\"Graduation\",\"Basic\",\"Master\",\"Graduation\",\"PhD\",\"Master\",\"Graduation\",\"Master\",\"Graduation\",\"Graduation\",\"Graduation\",\"Graduation\",\"Graduation\",\"Master\",\"2n Cycle\",\"2n Cycle\",\"Master\",\"2n Cycle\",\"Graduation\",\"Graduation\",\"Graduation\",\"Graduation\",\"Graduation\",\"Graduation\",\"PhD\",\"Graduation\",\"2n Cycle\",\"2n Cycle\",\"PhD\",\"PhD\",\"Graduation\",\"Graduation\",\"Graduation\",\"Graduation\",\"2n Cycle\",\"PhD\",\"Graduation\",\"Graduation\",\"Master\",\"2n Cycle\",\"Graduation\",\"Graduation\",\"PhD\",\"Master\",\"Graduation\",\"Graduation\",\"Graduation\",\"Graduation\",\"Graduation\",\"Graduation\",\"Graduation\",\"Graduation\",\"Graduation\",\"PhD\",\"Graduation\",\"2n Cycle\",\"Graduation\",\"2n Cycle\",\"PhD\",\"2n Cycle\",\"Graduation\",\"Graduation\",\"Graduation\",\"PhD\",\"Graduation\",\"Graduation\",\"Master\",\"Graduation\",\"Master\",\"Graduation\",\"Graduation\",\"Master\",\"Master\",\"Graduation\",\"2n Cycle\",\"Basic\",\"Graduation\",\"Graduation\",\"Master\",\"Master\",\"PhD\",\"Graduation\",\"Graduation\",\"Graduation\",\"Graduation\",\"Graduation\",\"Graduation\",\"Graduation\",\"Graduation\",\"Basic\",\"Graduation\",\"PhD\",\"Graduation\",\"Graduation\",\"Graduation\",\"Graduation\",\"2n Cycle\",\"Graduation\",\"Graduation\",\"2n Cycle\",\"Graduation\",\"Master\",\"Graduation\",\"Graduation\",\"Graduation\",\"Master\",\"Graduation\",\"PhD\",\"Graduation\",\"Master\",\"Graduation\",\"PhD\",\"Graduation\",\"Graduation\",\"Graduation\",\"Master\",\"Graduation\",\"Graduation\",\"Graduation\",\"Master\",\"2n Cycle\",\"Graduation\",\"Graduation\",\"Graduation\",\"Graduation\",\"PhD\",\"Graduation\",\"Graduation\",\"Graduation\",\"Graduation\",\"Graduation\",\"PhD\",\"Graduation\",\"2n Cycle\",\"PhD\",\"PhD\",\"PhD\",\"Graduation\",\"2n Cycle\",\"Graduation\",\"Basic\",\"Graduation\",\"2n Cycle\",\"Graduation\",\"Graduation\",\"2n Cycle\",\"PhD\",\"PhD\",\"2n Cycle\",\"Graduation\",\"PhD\",\"PhD\",\"Graduation\",\"PhD\",\"Graduation\",\"Graduation\",\"Graduation\",\"Graduation\",\"2n Cycle\",\"Graduation\",\"Graduation\",\"Graduation\",\"2n Cycle\",\"Master\",\"Graduation\",\"Graduation\",\"Master\",\"Master\",\"Master\",\"2n Cycle\",\"Graduation\",\"Graduation\",\"PhD\",\"Graduation\",\"Master\",\"Graduation\",\"Graduation\",\"Graduation\",\"2n Cycle\",\"Graduation\",\"PhD\",\"Master\",\"Master\",\"PhD\",\"Graduation\",\"Graduation\",\"Graduation\",\"Graduation\",\"Master\",\"Master\",\"Master\",\"Basic\",\"Graduation\",\"2n Cycle\",\"Graduation\",\"Graduation\",\"Graduation\",\"Graduation\",\"Graduation\",\"Master\",\"Master\",\"Graduation\",\"PhD\",\"Graduation\",\"2n Cycle\",\"Graduation\",\"Master\",\"Graduation\",\"Graduation\",\"Graduation\",\"Graduation\",\"Graduation\",\"Graduation\",\"Master\",\"Graduation\",\"PhD\",\"PhD\",\"Graduation\",\"PhD\",\"PhD\",\"Master\",\"PhD\",\"Basic\",\"Graduation\",\"PhD\",\"Graduation\",\"Graduation\",\"PhD\",\"PhD\",\"PhD\",\"Graduation\",\"Master\",\"Graduation\",\"Master\",\"Graduation\",\"Graduation\",\"Graduation\",\"2n Cycle\",\"PhD\",\"PhD\",\"PhD\",\"PhD\",\"PhD\",\"Graduation\",\"PhD\",\"2n Cycle\",\"Master\",\"Graduation\",\"Graduation\",\"Graduation\",\"Graduation\",\"Graduation\",\"Master\",\"Master\",\"PhD\",\"Graduation\",\"Graduation\",\"Basic\",\"PhD\",\"PhD\",\"Graduation\",\"Graduation\",\"Graduation\",\"PhD\",\"Graduation\",\"Graduation\",\"PhD\",\"Graduation\",\"Graduation\",\"Master\",\"2n Cycle\",\"Master\",\"Graduation\",\"Graduation\",\"PhD\",\"PhD\",\"2n Cycle\",\"PhD\",\"2n Cycle\",\"2n Cycle\",\"PhD\",\"Graduation\",\"Graduation\",\"PhD\",\"Graduation\",\"PhD\",\"Graduation\",\"Graduation\",\"Graduation\",\"Graduation\",\"PhD\",\"Graduation\",\"Graduation\",\"Master\",\"Graduation\",\"PhD\",\"PhD\",\"2n Cycle\",\"PhD\",\"Master\",\"Graduation\",\"PhD\",\"PhD\",\"Master\",\"2n Cycle\",\"2n Cycle\",\"PhD\",\"PhD\",\"Master\",\"Master\",\"Master\",\"Graduation\",\"Graduation\",\"Graduation\",\"Graduation\",\"Graduation\",\"Graduation\",\"Graduation\",\"Graduation\",\"Graduation\",\"Basic\",\"PhD\",\"Graduation\",\"Graduation\",\"PhD\",\"PhD\",\"Graduation\",\"Graduation\",\"Graduation\",\"2n Cycle\",\"Graduation\",\"PhD\",\"Basic\",\"2n Cycle\",\"2n Cycle\",\"2n Cycle\",\"Master\",\"Master\",\"Graduation\",\"Master\",\"PhD\",\"Basic\",\"Graduation\",\"PhD\",\"PhD\",\"Graduation\",\"Master\",\"Graduation\",\"Graduation\",\"PhD\",\"Graduation\",\"Graduation\",\"Master\",\"2n Cycle\",\"2n Cycle\",\"Master\",\"2n Cycle\",\"PhD\",\"Basic\",\"Master\",\"Master\",\"Graduation\",\"Graduation\",\"Graduation\",\"2n Cycle\",\"Graduation\",\"Graduation\",\"PhD\",\"PhD\",\"PhD\",\"Graduation\",\"PhD\",\"PhD\",\"Graduation\",\"PhD\",\"PhD\",\"PhD\",\"Graduation\",\"Graduation\",\"PhD\",\"Graduation\",\"Graduation\",\"Master\",\"Master\",\"PhD\",\"Basic\",\"Graduation\",\"PhD\",\"2n Cycle\",\"2n Cycle\",\"2n Cycle\",\"Graduation\",\"Master\",\"PhD\",\"2n Cycle\",\"Graduation\",\"Graduation\",\"Graduation\",\"Graduation\",\"Graduation\",\"Graduation\",\"Graduation\",\"Graduation\",\"PhD\",\"Graduation\",\"2n Cycle\",\"Graduation\",\"Graduation\",\"Graduation\",\"Master\",\"Graduation\",\"Graduation\",\"Graduation\",\"Graduation\",\"PhD\",\"Master\",\"Graduation\",\"Graduation\",\"Graduation\",\"Master\",\"2n Cycle\",\"Graduation\",\"Graduation\",\"Graduation\",\"Graduation\",\"Master\",\"Graduation\",\"PhD\",\"PhD\",\"Graduation\",\"Graduation\",\"PhD\",\"Master\",\"Graduation\",\"2n Cycle\",\"2n Cycle\",\"Graduation\",\"Graduation\",\"Graduation\",\"Basic\",\"Graduation\",\"Graduation\",\"PhD\",\"Master\",\"Graduation\",\"Graduation\",\"Graduation\",\"Graduation\",\"Graduation\",\"PhD\",\"Master\",\"Graduation\",\"Graduation\",\"Graduation\",\"Master\",\"Graduation\",\"PhD\",\"PhD\",\"Master\",\"Graduation\",\"Basic\",\"Basic\",\"Graduation\",\"Graduation\",\"PhD\",\"PhD\",\"PhD\",\"PhD\",\"Master\",\"Master\",\"Graduation\",\"PhD\",\"Graduation\",\"Graduation\",\"Graduation\",\"Graduation\",\"Master\",\"Master\",\"Graduation\",\"PhD\",\"PhD\",\"PhD\",\"Master\",\"Master\",\"Graduation\",\"Graduation\",\"Graduation\",\"Graduation\",\"Graduation\",\"PhD\",\"PhD\",\"Graduation\",\"Graduation\",\"Graduation\",\"Graduation\",\"Master\",\"2n Cycle\",\"2n Cycle\",\"Graduation\",\"Graduation\",\"Basic\",\"Graduation\",\"Graduation\",\"Graduation\",\"Graduation\",\"PhD\",\"Graduation\",\"Graduation\",\"Graduation\",\"Master\",\"Master\",\"Graduation\",\"Graduation\",\"Graduation\",\"Graduation\",\"Basic\",\"Master\",\"Graduation\",\"Graduation\",\"PhD\",\"PhD\",\"PhD\",\"Graduation\",\"Graduation\",\"PhD\",\"PhD\",\"2n Cycle\",\"Graduation\",\"Master\",\"PhD\",\"2n Cycle\",\"PhD\",\"Master\",\"Master\",\"Graduation\",\"Graduation\",\"PhD\",\"Graduation\",\"Graduation\",\"Graduation\",\"Graduation\",\"Graduation\",\"Graduation\",\"2n Cycle\",\"Master\",\"Master\",\"Graduation\",\"Graduation\",\"Graduation\",\"Graduation\",\"Graduation\",\"Graduation\",\"Graduation\",\"Graduation\",\"PhD\",\"PhD\",\"Graduation\",\"Graduation\",\"2n Cycle\",\"Graduation\",\"Graduation\",\"2n Cycle\",\"Master\",\"Graduation\",\"Graduation\",\"Graduation\",\"Basic\",\"Graduation\",\"Master\",\"Graduation\",\"Graduation\",\"Graduation\",\"Master\",\"Graduation\",\"PhD\",\"2n Cycle\",\"Basic\",\"Graduation\",\"Graduation\",\"Graduation\",\"Graduation\",\"PhD\",\"PhD\",\"Master\",\"Master\",\"Master\",\"PhD\",\"Master\",\"Basic\",\"Graduation\",\"Basic\",\"Basic\",\"Master\",\"2n Cycle\",\"PhD\",\"Graduation\",\"Graduation\",\"Graduation\",\"2n Cycle\",\"Master\",\"Master\",\"2n Cycle\",\"Master\",\"Graduation\",\"Graduation\",\"PhD\",\"Master\",\"Graduation\",\"PhD\",\"PhD\",\"Master\",\"PhD\",\"Graduation\",\"2n Cycle\",\"Graduation\",\"Graduation\",\"PhD\",\"PhD\",\"PhD\",\"Graduation\",\"Graduation\",\"PhD\",\"2n Cycle\",\"2n Cycle\",\"Graduation\",\"Graduation\",\"Graduation\",\"PhD\",\"PhD\",\"Graduation\",\"2n Cycle\",\"PhD\",\"Graduation\",\"Master\",\"PhD\",\"2n Cycle\",\"2n Cycle\",\"Graduation\",\"Graduation\",\"Graduation\",\"Graduation\",\"Graduation\",\"Graduation\",\"2n Cycle\",\"PhD\",\"Master\",\"Graduation\",\"Graduation\",\"Graduation\",\"Graduation\",\"Graduation\",\"Graduation\",\"Master\",\"PhD\",\"2n Cycle\",\"Master\",\"Graduation\",\"PhD\",\"Master\",\"Graduation\",\"Graduation\",\"Graduation\",\"PhD\",\"Graduation\",\"Graduation\",\"PhD\",\"PhD\",\"PhD\",\"Master\",\"Graduation\",\"Graduation\",\"Master\",\"PhD\",\"Master\",\"2n Cycle\",\"PhD\",\"Master\",\"Master\",\"Graduation\",\"PhD\",\"PhD\",\"Master\",\"PhD\",\"Graduation\",\"Graduation\",\"Graduation\",\"Graduation\",\"Graduation\",\"Graduation\",\"Master\",\"Master\",\"Graduation\",\"Graduation\",\"PhD\",\"Graduation\",\"Graduation\",\"Graduation\",\"Master\",\"2n Cycle\",\"PhD\",\"Graduation\",\"Graduation\",\"Graduation\",\"PhD\",\"2n Cycle\",\"PhD\",\"2n Cycle\",\"PhD\",\"Graduation\",\"Graduation\",\"Graduation\",\"PhD\",\"Graduation\",\"Graduation\",\"Graduation\",\"Graduation\",\"Graduation\",\"Graduation\",\"Graduation\",\"PhD\",\"Master\",\"PhD\",\"PhD\",\"PhD\",\"Master\",\"PhD\",\"Graduation\",\"Graduation\",\"PhD\",\"Graduation\",\"Graduation\",\"PhD\",\"Graduation\",\"Graduation\",\"Graduation\",\"Graduation\",\"Graduation\",\"Basic\",\"Graduation\",\"Graduation\",\"PhD\",\"Graduation\",\"Master\",\"PhD\",\"Graduation\",\"Graduation\",\"Master\",\"Graduation\",\"Graduation\",\"Graduation\",\"PhD\",\"Graduation\",\"Graduation\",\"Basic\",\"PhD\",\"PhD\",\"Graduation\",\"PhD\",\"2n Cycle\",\"Master\",\"Graduation\",\"Master\",\"Master\",\"Graduation\",\"Graduation\",\"Master\",\"PhD\",\"Graduation\",\"Graduation\",\"PhD\",\"Graduation\",\"PhD\",\"Master\",\"Graduation\",\"Graduation\",\"PhD\",\"Master\",\"PhD\",\"Master\",\"Master\",\"Graduation\",\"2n Cycle\",\"PhD\",\"PhD\",\"Graduation\",\"Graduation\",\"Graduation\",\"Graduation\",\"Graduation\",\"Graduation\",\"Graduation\",\"Master\",\"Graduation\",\"2n Cycle\",\"Graduation\",\"Graduation\",\"Graduation\",\"Graduation\",\"Graduation\",\"2n Cycle\",\"PhD\",\"Master\",\"Master\",\"Graduation\",\"Graduation\",\"Master\",\"PhD\",\"PhD\",\"Graduation\",\"Graduation\",\"Graduation\",\"Graduation\",\"Graduation\",\"Graduation\",\"PhD\",\"PhD\",\"Graduation\",\"Master\",\"PhD\",\"PhD\",\"PhD\",\"PhD\",\"PhD\",\"PhD\",\"Master\",\"Graduation\",\"Graduation\",\"Master\",\"Graduation\",\"Graduation\",\"Graduation\",\"2n Cycle\",\"Graduation\",\"PhD\",\"Basic\",\"PhD\",\"PhD\",\"Graduation\",\"Graduation\",\"Graduation\",\"PhD\",\"Graduation\",\"PhD\",\"PhD\",\"PhD\",\"Graduation\",\"Master\",\"Master\",\"Master\",\"Master\",\"Graduation\",\"Master\",\"Master\",\"Master\",\"Master\",\"Master\",\"Master\",\"Graduation\",\"Basic\",\"PhD\",\"PhD\",\"Graduation\",\"Graduation\",\"Graduation\",\"Graduation\",\"Master\",\"Graduation\",\"Graduation\",\"Graduation\",\"Master\",\"Graduation\",\"PhD\",\"Graduation\",\"Graduation\",\"Graduation\",\"Master\",\"Graduation\",\"Master\",\"Master\",\"Graduation\",\"2n Cycle\",\"2n Cycle\",\"Graduation\",\"Graduation\",\"PhD\",\"Graduation\",\"Basic\",\"PhD\",\"PhD\",\"Graduation\",\"Graduation\",\"PhD\",\"Graduation\",\"Graduation\",\"Graduation\",\"Graduation\",\"2n Cycle\",\"PhD\",\"Graduation\",\"Master\",\"Master\",\"Graduation\",\"Graduation\",\"Graduation\",\"Graduation\",\"Graduation\",\"Graduation\",\"PhD\",\"PhD\",\"Master\",\"PhD\",\"Graduation\",\"Graduation\",\"Master\",\"PhD\",\"Graduation\",\"PhD\",\"Master\",\"Graduation\",\"Graduation\",\"Graduation\",\"Master\",\"Master\",\"Basic\",\"Graduation\",\"Graduation\",\"Graduation\",\"Graduation\",\"Graduation\",\"Graduation\",\"Graduation\",\"PhD\",\"Graduation\",\"PhD\",\"Graduation\",\"Graduation\",\"Graduation\",\"Master\",\"Graduation\",\"Master\",\"2n Cycle\",\"PhD\",\"Graduation\",\"Graduation\",\"Graduation\",\"Graduation\",\"Graduation\",\"Graduation\",\"Graduation\",\"Graduation\",\"Graduation\",\"Graduation\",\"Graduation\",\"PhD\",\"Master\",\"Graduation\",\"PhD\",\"Graduation\",\"Graduation\",\"Master\",\"Graduation\",\"Graduation\",\"Graduation\",\"Graduation\",\"Graduation\",\"PhD\",\"PhD\",\"Graduation\",\"Basic\",\"Graduation\",\"Graduation\",\"Graduation\",\"Graduation\",\"Graduation\",\"Graduation\",\"Graduation\",\"Graduation\",\"Master\",\"Graduation\",\"Master\",\"Master\",\"Graduation\",\"Graduation\",\"Graduation\",\"PhD\",\"PhD\",\"PhD\",\"Graduation\",\"Graduation\",\"Graduation\",\"PhD\",\"PhD\",\"Graduation\",\"Graduation\",\"PhD\",\"Graduation\",\"PhD\",\"Graduation\",\"Basic\",\"2n Cycle\",\"PhD\",\"Master\",\"Graduation\",\"Graduation\",\"PhD\",\"PhD\",\"Graduation\",\"PhD\",\"Master\",\"Graduation\",\"Graduation\",\"PhD\",\"2n Cycle\",\"2n Cycle\",\"Graduation\",\"Master\",\"Graduation\",\"Master\",\"Master\",\"PhD\",\"PhD\",\"PhD\",\"Graduation\",\"PhD\",\"Graduation\",\"PhD\",\"PhD\",\"Graduation\",\"Graduation\",\"Graduation\",\"Graduation\",\"Graduation\",\"PhD\",\"PhD\",\"Graduation\",\"PhD\",\"Master\",\"Graduation\",\"PhD\",\"Graduation\",\"2n Cycle\",\"PhD\",\"PhD\",\"2n Cycle\",\"PhD\",\"Graduation\",\"PhD\",\"Graduation\",\"2n Cycle\",\"PhD\",\"Graduation\",\"Graduation\",\"PhD\",\"Master\",\"PhD\",\"Graduation\",\"Master\",\"Graduation\",\"PhD\",\"PhD\",\"Master\",\"Graduation\",\"Graduation\",\"Graduation\",\"Graduation\",\"PhD\",\"Graduation\",\"Graduation\",\"Graduation\",\"Graduation\",\"Graduation\",\"PhD\",\"PhD\",\"Master\",\"Master\",\"Master\",\"Master\",\"PhD\",\"2n Cycle\",\"Master\",\"PhD\",\"Graduation\",\"Graduation\",\"2n Cycle\",\"Graduation\",\"PhD\",\"Master\",\"Graduation\",\"Graduation\",\"Master\",\"Graduation\",\"Graduation\",\"Graduation\",\"Master\",\"PhD\",\"Graduation\",\"Graduation\",\"Graduation\",\"Graduation\",\"PhD\",\"Graduation\",\"Graduation\",\"Graduation\",\"Graduation\",\"Graduation\",\"Graduation\",\"2n Cycle\",\"Graduation\",\"Master\",\"Graduation\",\"2n Cycle\",\"2n Cycle\",\"PhD\",\"2n Cycle\",\"PhD\",\"Graduation\",\"Basic\",\"Graduation\",\"2n Cycle\",\"Graduation\",\"Graduation\",\"PhD\",\"Graduation\",\"2n Cycle\",\"Graduation\",\"Graduation\",\"Graduation\",\"2n Cycle\",\"Graduation\",\"Graduation\",\"Basic\",\"Master\",\"2n Cycle\",\"Graduation\",\"Graduation\",\"Graduation\",\"Graduation\",\"Graduation\",\"2n Cycle\",\"Graduation\",\"PhD\",\"Graduation\",\"Master\",\"Master\",\"Graduation\",\"Graduation\",\"Graduation\",\"Graduation\",\"Graduation\",\"Graduation\",\"PhD\",\"PhD\",\"Master\",\"Graduation\",\"Graduation\",\"PhD\",\"Graduation\",\"Graduation\",\"PhD\",\"Graduation\",\"Graduation\",\"Master\",\"Master\",\"Graduation\",\"Graduation\",\"Graduation\",\"Graduation\",\"Graduation\",\"Graduation\",\"Master\",\"Master\",\"Graduation\",\"Graduation\",\"2n Cycle\",\"2n Cycle\",\"Graduation\",\"Graduation\",\"PhD\",\"Graduation\",\"PhD\",\"Master\",\"Graduation\",\"Graduation\",\"Graduation\",\"2n Cycle\",\"Graduation\",\"2n Cycle\",\"Graduation\",\"Graduation\",\"Graduation\",\"PhD\",\"Graduation\",\"Master\",\"Basic\",\"Basic\",\"Master\",\"PhD\",\"Master\",\"Master\",\"Master\",\"Graduation\",\"Master\",\"Master\",\"Graduation\",\"PhD\",\"Master\",\"PhD\",\"2n Cycle\",\"2n Cycle\",\"PhD\",\"2n Cycle\",\"Master\",\"PhD\",\"PhD\",\"Graduation\",\"Graduation\",\"Graduation\",\"Graduation\",\"2n Cycle\",\"Graduation\",\"Graduation\",\"PhD\",\"Master\",\"PhD\",\"Basic\",\"PhD\",\"Graduation\",\"Graduation\",\"Master\",\"Graduation\",\"Master\",\"Graduation\",\"PhD\",\"2n Cycle\",\"PhD\",\"PhD\",\"Graduation\",\"Graduation\",\"PhD\",\"Graduation\",\"PhD\",\"Graduation\",\"Master\",\"PhD\",\"Master\",\"Master\",\"Graduation\",\"PhD\",\"Graduation\",\"Graduation\",\"Graduation\",\"Graduation\",\"2n Cycle\",\"Graduation\",\"PhD\",\"Graduation\",\"Graduation\",\"PhD\",\"PhD\",\"Graduation\",\"PhD\",\"Graduation\",\"Graduation\",\"Graduation\",\"PhD\",\"Graduation\",\"Graduation\",\"Basic\",\"PhD\",\"2n Cycle\",\"2n Cycle\",\"Graduation\",\"Master\",\"PhD\",\"2n Cycle\",\"Graduation\",\"PhD\",\"Graduation\",\"Graduation\",\"Graduation\",\"Master\",\"Graduation\",\"PhD\",\"Graduation\",\"Graduation\",\"PhD\",\"Graduation\",\"Graduation\",\"Graduation\",\"Graduation\",\"Graduation\",\"Graduation\",\"PhD\",\"Master\",\"Graduation\",\"Graduation\",\"Graduation\",\"Graduation\",\"Master\",\"Graduation\",\"Graduation\",\"Graduation\",\"Graduation\",\"Graduation\",\"PhD\",\"2n Cycle\",\"Graduation\",\"Master\",\"2n Cycle\",\"Graduation\",\"Master\",\"Graduation\",\"Graduation\",\"Graduation\",\"2n Cycle\",\"Master\",\"Graduation\",\"Graduation\",\"Graduation\",\"PhD\",\"Graduation\",\"Graduation\",\"Graduation\",\"Master\",\"PhD\",\"PhD\",\"2n Cycle\",\"Master\",\"Graduation\",\"Master\",\"Graduation\",\"Master\",\"Master\",\"Graduation\",\"PhD\",\"PhD\",\"Master\",\"Graduation\",\"Master\",\"Graduation\",\"Graduation\",\"Master\",\"Graduation\",\"PhD\",\"PhD\",\"Master\",\"Graduation\",\"PhD\",\"PhD\",\"PhD\",\"Graduation\",\"Graduation\",\"Graduation\",\"Basic\",\"2n Cycle\",\"Master\",\"Master\",\"Master\",\"2n Cycle\",\"Master\",\"2n Cycle\",\"Graduation\",\"Graduation\",\"Graduation\",\"Graduation\",\"Graduation\",\"2n Cycle\",\"Master\",\"Master\",\"Graduation\",\"Graduation\",\"PhD\",\"2n Cycle\",\"Graduation\",\"Graduation\",\"Graduation\",\"Master\",\"2n Cycle\",\"Graduation\",\"PhD\",\"Graduation\",\"Graduation\",\"Graduation\",\"Graduation\",\"Graduation\",\"Graduation\",\"Graduation\",\"Graduation\",\"Graduation\",\"Graduation\",\"Graduation\",\"PhD\",\"PhD\",\"Master\",\"Graduation\",\"PhD\",\"Master\",\"Master\",\"Graduation\",\"Master\",\"Graduation\",\"2n Cycle\",\"PhD\",\"Graduation\",\"PhD\",\"PhD\",\"PhD\",\"2n Cycle\",\"Graduation\",\"Master\",\"PhD\",\"2n Cycle\",\"Graduation\",\"Master\",\"Graduation\",\"Graduation\",\"Master\",\"PhD\",\"Graduation\",\"Graduation\",\"Basic\",\"Graduation\",\"PhD\",\"Master\",\"PhD\",\"PhD\",\"PhD\",\"Master\",\"Master\",\"Master\",\"PhD\",\"Graduation\",\"Graduation\",\"Graduation\",\"Graduation\",\"PhD\",\"PhD\",\"PhD\",\"Graduation\",\"Graduation\",\"2n Cycle\",\"PhD\",\"PhD\",\"Graduation\",\"Graduation\",\"Graduation\",\"PhD\",\"Graduation\",\"PhD\",\"Graduation\",\"PhD\",\"Master\",\"2n Cycle\",\"2n Cycle\",\"Graduation\",\"Graduation\",\"PhD\",\"Master\",\"Graduation\",\"Graduation\",\"Graduation\",\"Graduation\",\"Graduation\",\"PhD\",\"Graduation\",\"Master\",\"PhD\",\"Graduation\",\"Graduation\",\"Master\",\"Graduation\",\"Graduation\",\"Graduation\",\"Graduation\",\"Master\",\"Graduation\",\"Basic\",\"Graduation\",\"Graduation\",\"Graduation\",\"Master\",\"Graduation\",\"Graduation\",\"2n Cycle\",\"2n Cycle\",\"2n Cycle\",\"Graduation\",\"Graduation\",\"PhD\",\"Graduation\",\"2n Cycle\",\"Graduation\",\"Graduation\",\"Graduation\",\"Master\",\"Graduation\",\"PhD\",\"Master\",\"Graduation\",\"Master\",\"Basic\",\"Graduation\",\"Graduation\",\"Graduation\",\"Graduation\",\"2n Cycle\",\"Master\",\"Graduation\",\"PhD\",\"Master\",\"Graduation\",\"Graduation\",\"Graduation\",\"Master\",\"Graduation\",\"PhD\",\"Graduation\",\"Basic\",\"Basic\",\"Master\",\"Graduation\",\"Graduation\",\"Master\",\"Master\",\"Master\",\"Master\",\"Graduation\",\"Graduation\",\"Graduation\",\"Graduation\",\"Graduation\",\"Master\",\"Graduation\",\"PhD\",\"2n Cycle\",\"2n Cycle\",\"Graduation\",\"Master\",\"Graduation\",\"Graduation\",\"Master\",\"Graduation\",\"Graduation\",\"Graduation\",\"Graduation\",\"Graduation\",\"Graduation\",\"Graduation\",\"Graduation\",\"Graduation\",\"Graduation\",\"Graduation\",\"2n Cycle\",\"Graduation\",\"Graduation\",\"Graduation\",\"Graduation\",\"Master\",\"Graduation\",\"Graduation\",\"Graduation\",\"Graduation\",\"Graduation\",\"Master\",\"Master\",\"Graduation\",\"PhD\",\"PhD\",\"PhD\",\"Graduation\",\"Graduation\",\"PhD\",\"Graduation\",\"2n Cycle\",\"2n Cycle\",\"Graduation\",\"Master\",\"2n Cycle\",\"PhD\",\"PhD\",\"Graduation\",\"Graduation\",\"Graduation\",\"2n Cycle\",\"Graduation\",\"Graduation\",\"Graduation\",\"Graduation\",\"PhD\",\"PhD\",\"Graduation\",\"PhD\",\"Graduation\",\"Graduation\",\"Graduation\",\"PhD\",\"PhD\",\"Graduation\",\"Master\",\"Graduation\",\"2n Cycle\",\"PhD\",\"PhD\",\"2n Cycle\",\"PhD\",\"PhD\",\"Graduation\",\"Graduation\",\"Graduation\",\"2n Cycle\",\"Graduation\",\"PhD\",\"PhD\",\"PhD\",\"Graduation\",\"Graduation\",\"PhD\",\"PhD\",\"Graduation\",\"Graduation\",\"Master\",\"Graduation\",\"2n Cycle\",\"Graduation\",\"Graduation\",\"Graduation\",\"Graduation\",\"Graduation\",\"Graduation\",\"2n Cycle\",\"2n Cycle\",\"Graduation\",\"Graduation\",\"2n Cycle\",\"Graduation\",\"PhD\",\"2n Cycle\",\"Graduation\",\"Graduation\",\"PhD\"],\"xaxis\":\"x\",\"y\":[84835.0,57091.0,67267.0,32474.0,21474.0,71691.0,63564.0,44931.0,65324.0,65324.0,81044.0,62499.0,67786.0,26872.0,4428.0,54809.0,54809.0,32173.0,47823.0,30523.0,36634.0,43456.0,40662.0,49544.0,57731.0,33168.0,54450.0,54450.0,35340.0,73170.0,65808.0,79529.0,34578.0,46374.0,18351.0,95169.0,65370.0,39228.0,84865.0,61314.0,21359.0,66465.0,81698.0,39146.0,25959.0,64260.0,32300.0,74806.0,72967.0,48904.0,14796.0,66991.0,52195.0,90369.0,18393.0,47139.0,38576.0,61905.0,83715.0,60597.0,6560.0,48330.0,38236.0,22701.0,53367.0,34728.0,63915.0,82504.0,38578.0,38578.0,79174.0,81975.0,43263.0,27242.0,76445.0,75276.0,34213.0,72335.0,79143.0,27469.0,68695.0,68695.0,50388.0,77622.0,46102.0,31859.0,23830.0,24639.0,71604.0,27255.0,55375.0,77037.0,24163.0,69476.0,72063.0,58646.0,58646.0,47570.0,80011.0,54998.0,60200.0,63211.0,48432.0,48432.0,48432.0,62845.0,62845.0,65220.0,74214.0,96547.0,53863.0,50447.0,37716.0,45203.0,37368.0,67225.0,65104.0,65104.0,81698.0,70566.0,69096.0,71434.0,33039.0,33039.0,46610.0,49967.0,53359.0,49505.0,68657.0,72071.0,72071.0,59235.0,21994.0,21994.0,49064.6,69209.0,31928.0,74004.0,30390.0,21355.0,26304.0,85710.0,102692.0,58350.0,7500.0,18890.0,20425.0,20425.0,41437.0,49912.0,49912.0,79823.0,85683.0,47025.0,68397.0,38175.0,46423.0,46423.0,30560.0,30560.0,60152.0,29672.0,29672.0,70321.0,56181.0,24279.0,68462.0,55424.0,49094.0,59184.0,67430.0,30522.0,31878.0,83528.0,90300.0,68092.0,53761.0,52845.0,24027.0,7500.0,42586.0,42586.0,9722.0,86836.0,30467.0,54549.0,19444.0,69245.0,72968.0,48686.0,73687.0,82716.0,35523.0,60554.0,64090.0,61559.0,71670.0,67680.0,54386.0,64108.0,69702.0,47958.0,67716.0,34600.0,34600.0,48752.0,15716.0,46610.0,74985.0,45576.0,113734.0,57100.0,24434.0,37126.0,45160.0,33178.0,64866.0,34176.0,50014.0,92344.0,55282.0,48799.0,84169.0,84169.0,39763.0,74165.0,42720.0,65275.0,36443.0,43776.0,56046.0,65148.0,49431.0,32583.0,16653.0,26850.0,51287.0,43050.0,73448.0,17256.0,86429.0,33569.0,25130.0,62998.0,26907.0,26907.0,45579.0,47320.0,70179.0,70179.0,28072.0,50501.0,58917.0,69372.0,35178.0,35178.0,75693.0,69109.0,69109.0,80134.0,64713.0,41411.0,43973.0,55521.0,43795.0,22070.0,36408.0,34026.0,34026.0,46049.0,35641.0,32414.0,59821.0,34968.0,56320.0,70091.0,46097.0,41003.0,44911.0,33249.0,33249.0,42873.0,51039.0,78952.0,29435.0,79865.0,34176.0,34176.0,65968.0,86424.0,67272.0,78499.0,77044.0,70515.0,17459.0,80336.0,15759.0,26326.0,62061.0,5305.0,75777.0,75777.0,71499.0,31626.0,42670.0,83917.0,41021.0,79456.0,78789.0,50870.0,35876.0,23539.0,32557.0,62466.0,62466.0,54198.0,82170.0,61798.0,15253.0,78285.0,62535.0,27190.0,48985.0,72940.0,36145.0,157146.0,81843.0,41883.0,45759.0,45759.0,78394.0,30279.0,30279.0,31880.0,60208.0,78687.0,37401.0,37401.0,75315.0,69263.0,78569.0,57705.0,74805.0,66426.0,51529.0,18100.0,59601.0,20981.0,74068.0,36790.0,18793.0,27421.0,30675.0,83145.0,34053.0,31788.0,45894.0,41986.0,42769.0,58582.0,49096.0,76412.0,18929.0,18929.0,18929.0,21888.0,41580.0,31605.0,25509.0,25509.0,33051.0,28764.0,32146.0,22148.0,36781.0,54197.0,93790.0,24762.0,30477.0,11448.0,70844.0,30828.0,62513.0,27733.0,39435.0,75345.0,20491.0,36715.0,71706.0,69063.0,24645.0,35797.0,44078.0,26954.0,57248.2,38887.0,65463.0,53537.0,36230.0,80763.0,60585.0,49166.0,75261.0,89891.0,72828.0,75278.0,38557.0,81300.0,60161.0,69389.0,64497.0,61014.0,44319.0,53233.0,77972.0,81361.0,81361.0,25707.0,42403.0,65704.0,37406.0,39767.0,54210.0,57136.0,40794.0,83003.0,89058.0,20193.0,72099.0,43824.0,66653.0,44359.0,79410.0,55842.0,79946.0,88194.0,80184.0,76982.0,65295.0,57100.0,29009.0,78931.0,7500.0,56939.0,64509.0,30093.0,30351.0,30351.0,38201.0,43893.4,43974.0,38200.0,87305.0,16860.0,27213.0,7500.0,4861.0,38196.0,41145.0,38513.0,45688.0,77863.0,42169.0,45906.0,35388.0,80952.0,39898.0,39898.0,44051.0,86718.0,80141.0,58597.0,70356.0,46904.0,37760.0,37760.0,61839.0,29791.0,48918.0,48918.0,58692.0,39356.0,76234.0,55434.0,66835.0,66835.0,71965.0,74538.0,50002.0,53977.0,53977.0,69930.0,62981.0,46014.0,18227.0,65991.0,38808.0,160803.0,43783.0,30396.0,65526.0,65526.0,55956.0,55563.0,57236.0,89694.0,57420.0,33622.0,29999.0,31497.0,31497.0,36802.0,61671.0,60182.0,29732.0,45921.0,16529.0,98777.0,98777.0,77027.0,69139.0,69139.0,65169.0,40049.0,69755.0,65529.4,54456.0,60689.0,26487.0,28164.0,22585.0,64795.0,42000.0,42000.0,70713.0,82800.0,82800.0,30801.0,83891.0,38054.0,14045.0,44155.0,57642.0,31353.0,31353.0,41335.0,41335.0,40737.0,19789.0,35946.0,36262.0,44551.0,71367.0,71367.0,57957.0,50334.0,48150.0,56796.0,56796.0,52278.0,52278.0,7500.0,33444.0,20895.0,37509.0,88097.0,59041.0,43322.0,46015.0,46015.0,34242.0,65210.0,50520.0,90765.0,80589.0,49572.0,75437.0,44635.0,58512.0,62000.0,54252.0,45068.0,60474.0,60474.0,56337.0,22434.0,61416.0,92163.0,58656.0,42653.4,8940.0,26751.0,71427.0,26646.0,19346.0,56243.0,59892.0,71613.0,25252.0,42160.0,15862.0,82584.0,38360.0,75283.0,34941.0,61823.0,90226.0,44989.0,44989.0,43586.0,32233.0,62882.0,57288.0,75774.0,75774.0,90247.0,32218.0,84219.0,84219.0,48877.0,60905.0,75236.0,62551.0,70123.0,50785.0,15315.0,15315.0,64413.0,87171.0,30081.0,20180.0,20180.0,55686.0,26887.0,61996.0,51537.0,72025.0,30538.0,61618.0,77343.0,75433.0,82571.0,60033.0,39062.0,30023.0,30015.0,33228.0,22574.0,22574.0,55267.0,66886.0,72258.0,82733.0,45146.0,51250.0,32871.0,63855.0,42564.0,46344.0,50437.0,70971.0,37774.0,4023.0,33279.0,42693.0,70545.0,65486.0,77882.0,78468.0,77226.0,90638.0,90638.0,70666.0,59052.0,13084.0,49160.0,23272.0,49476.0,62694.0,57906.0,71853.0,71853.0,65031.0,30507.0,67419.0,59462.0,95529.0,53653.0,25965.0,22979.0,64950.0,44322.0,30096.0,30096.0,56628.0,82326.0,71163.0,71022.0,42607.0,43057.0,47808.0,29236.0,40590.0,40590.0,77520.0,40211.0,63516.0,53034.0,22669.0,79908.0,69867.0,70287.0,37070.0,37070.0,38179.0,39922.0,39922.0,39922.0,64191.0,41658.0,40780.0,77568.0,66503.0,83512.0,31686.0,71322.0,27938.0,22263.0,34633.0,42162.0,162397.0,54162.0,41769.0,44953.0,37717.0,37717.0,40548.0,67893.0,69267.0,9548.0,68281.0,92556.0,48526.0,90273.0,19414.0,79761.0,53312.0,41039.0,88347.0,50150.0,50150.0,10245.0,33454.0,40887.0,55914.0,37292.0,52914.0,24884.0,67384.0,51651.0,82497.0,32632.0,33562.0,79146.0,79146.0,36143.0,27159.0,41275.0,76800.0,75794.0,30833.0,26518.0,91065.0,45183.0,48070.0,30372.0,30372.0,57036.0,66731.0,35682.0,10979.0,10979.0,57912.0,36026.0,35788.0,42243.0,46086.0,61346.0,33316.0,33316.0,21063.0,33697.0,25804.0,72117.0,61286.0,61286.0,65196.0,55635.0,42021.0,75251.0,35322.0,53374.0,87195.0,42395.0,82427.0,44602.0,94642.0,28359.0,55801.0,92955.0,56534.0,69627.0,78579.0,44964.0,30899.0,78825.0,25545.0,47111.0,49667.0,66000.0,46910.0,25224.0,77382.0,28420.0,32952.0,46149.0,83532.0,73059.0,73059.0,35701.0,89616.0,105471.0,78427.0,22518.0,59809.0,39660.0,52203.0,35860.0,35860.0,35860.0,35860.0,76842.0,15033.0,67353.0,17003.0,65735.0,45684.0,21918.0,51267.0,59868.0,51373.0,46692.0,157733.0,54432.0,79607.0,51813.0,17487.0,40706.0,62859.0,61074.0,43638.0,58116.0,62187.0,46344.0,77353.0,69759.0,21846.0,76532.0,70053.0,75342.0,27590.0,51148.0,33378.0,32644.0,33581.0,12393.0,42710.0,82347.0,82347.0,22554.0,17323.0,62204.0,78028.0,63887.0,32727.0,29103.0,61482.0,20587.0,20587.0,52190.0,48186.0,19329.0,34109.0,23477.0,47472.0,14849.0,26224.0,27238.0,43303.8,57967.0,51569.0,72550.0,44511.0,62972.0,62972.0,77845.0,36663.0,53204.0,21059.0,67087.0,73892.0,75114.0,42192.0,31454.0,22775.0,22775.0,31590.0,80134.0,80134.0,14188.0,18169.0,62503.0,46734.0,68126.0,52869.0,26576.0,75825.0,57045.0,34984.0,27803.0,69283.0,18746.0,70924.0,70924.0,69401.0,75012.0,85738.0,60934.0,27161.0,64325.0,18978.0,41124.0,39684.0,53378.0,37040.0,78710.0,92910.0,36283.0,79632.0,28587.0,88325.0,51412.0,63998.0,38593.0,27889.0,45889.0,56575.0,16014.0,61331.0,70893.0,2447.0,64849.0,42387.0,80617.0,54006.0,16531.0,30843.0,18988.0,81051.0,39747.0,34554.0,52854.0,81205.0,69084.0,69084.0,65352.0,22063.0,47691.0,29187.0,72504.0,33986.0,42386.0,42386.0,36957.0,13724.0,42664.0,37334.0,78497.0,78497.0,58821.0,58398.0,80950.0,30732.0,89572.0,57107.0,76467.0,37221.8,51315.0,43602.0,38643.0,49090.0,70617.0,67536.0,27573.0,13533.0,50725.0,25851.0,57113.0,62847.0,68627.0,25271.0,63810.0,63810.0,65488.0,36927.0,22108.0,72025.0,33183.0,23661.0,25315.0,45938.0,66951.0,77298.0,77298.0,43018.0,75759.0,33996.0,33996.0,54137.0,61223.0,69674.0,49494.0,51195.0,37284.0,37284.0,42011.0,70044.0,46053.0,24480.0,54233.0,36130.0,56559.0,92859.0,44010.0,80124.0,80124.0,50183.0,64722.0,37395.0,29543.0,19514.0,19514.0,59481.0,91712.0,80144.0,59973.0,68352.0,81169.0,61456.0,22634.0,22634.0,23957.0,33471.0,52157.0,30298.0,56551.0,56551.0,65487.0,65487.0,44213.0,40344.0,57867.0,25410.0,13260.0,42691.0,36138.0,57136.0,58275.0,54237.0,34596.0,34596.0,74881.0,74881.0,44267.0,68487.0,68487.0,80982.0,69508.0,63342.0,63342.0,82014.0,76320.0,64587.0,74190.0,32765.0,59325.0,22212.0,18358.0,26067.0,22390.0,70440.0,60199.0,38547.0,19107.0,37929.0,16813.0,62187.0,57811.0,50943.0,50943.0,53201.0,54414.0,26290.0,61250.0,28389.0,55250.0,37758.0,37758.0,37633.0,33629.0,36947.0,69142.0,53154.0,65695.0,69805.0,36975.0,26228.0,37787.0,37087.0,57247.0,36930.0,48721.0,43641.0,75903.0,71391.0,16927.0,27215.0,53858.0,30983.0,43462.0,63943.0,26816.0,75484.0,33564.0,54348.0,54984.0,34738.0,68118.0,68118.0,22682.0,51948.0,25293.0,25293.0,41551.0,56067.0,67433.0,22010.0,64831.0,62820.0,62820.0,78353.0,57183.0,23478.0,30168.0,37155.0,16581.0,41850.0,81380.0,56386.0,25818.0,15345.0,57954.0,50300.0,38725.0,10404.0,26868.0,72298.0,72905.0,47025.0,29938.0,46681.0,46681.0,29548.0,62058.0,60004.6,36736.0,8820.0,14918.0,56715.0,24882.0,24882.0,40442.0,64176.0,23536.0,35246.0,28442.0,48195.0,74116.0,78093.0,59354.0,36301.0,77598.0,62710.0,36317.0,42767.0,43815.0,44421.0,48948.0,48948.0,63120.0,55517.0,36864.0,33006.6,82582.0,79803.0,52569.0,82032.0,82032.0,65685.0,65685.0,40451.0,31163.0,31163.0,35704.0,7500.0,36075.0,70038.0,70038.0,71796.0,47821.0,45503.0,28647.0,37760.0,85431.0,72635.0,72635.0,77142.0,53172.0,36065.0,73926.0,35790.0,39552.0,68316.0,102160.0,51390.0,72066.0,21675.0,48006.0,65106.0,58401.0,29315.0,49389.0,51717.0,46779.0,28520.0,34377.0,54959.0,82384.0,46998.0,58554.0,58554.0,57333.0,80685.0,52117.0,62220.0,64014.0,64014.0,46390.0,75507.0,75507.0,59412.0,50616.0,35924.0,57937.0,73356.0,21255.0,58494.0,72460.0,68682.0,68682.0,36959.0,46463.0,61825.0,61825.0,28691.0,28691.0,54058.0,84196.0,38620.0,38620.0,3502.0,47743.0,80360.0,66303.0,52413.0,60714.0,31385.0,83257.0,80427.0,38823.0,42014.0,42014.0,76140.0,41713.0,62670.0,70932.0,78939.0,44512.0,63967.0,90842.0,25358.0,37225.4,28567.0,66373.0,66373.0,83844.0,83844.0,83844.0,83664.0,27450.0,54880.0,71322.0,60000.0,65176.0,61010.0,31089.0,20518.0,34469.0,28332.0,33456.0,38443.0,65333.0,82623.0,73691.0,74485.0,65748.0,24367.0,91700.0,79244.0,82017.0,58138.0,59354.0,58482.0,29478.0,64474.0,31160.0,40321.0,40321.0,55239.0,57513.0,85693.0,71855.0,7500.0,71969.0,28973.0,80872.0,84117.0,38741.0,38961.0,75922.0,56962.0,56962.0,70165.0,65308.0,29298.0,63246.0,33402.0,96843.0,82333.0,72643.0,32313.0,55284.0,15287.0,15287.0,51563.0,81929.0,53593.0,60432.0,66726.0,62450.0,49514.0,43269.0,33762.0,60894.0,87771.0,87771.0,50737.0,26150.0,57304.0,71107.0,53253.0,81320.0,87000.0,40049.0,63684.0,69016.0,7500.0,73803.0,46094.0,85844.0,38452.0,38452.0,80395.0,87679.0,35416.0,44124.0,50729.0,94384.0,94384.0,34412.0,31158.0,34838.0,56775.0,54356.0,72159.0,8028.0,55951.0,67911.0,67911.0,20427.0,32303.0,55954.0,49187.0,49854.0,63693.0,63693.0,19510.0,52332.0,55593.0,54591.0,74859.0,40851.0,58607.0,7500.0,52614.0,52614.0,67445.0,67445.0,67445.0,36778.0,39453.0,42731.0,40760.0,69969.0,80317.0,66636.0,54730.0,42835.0,53843.0,79530.0,63841.0,63841.0,63841.0,27100.0,27100.0,72309.0,50664.0,20194.0,76618.0,45207.0,56721.0,27038.0,23763.0,37085.0,49605.0,1730.0,34824.0,34824.0,63206.0,26759.0,55412.0,33590.0,70886.0,72679.0,65073.0,44300.0,56129.0,56129.0,38590.0,53083.0,79689.0,34704.0,65316.0,41014.0,19740.0,23724.0,55212.0,55212.0,79800.0,70647.0,38410.0,28071.0,54803.0,74293.0,74293.0,35684.0,34320.0,41967.0,49681.0,49681.0,53187.0,86610.0,70951.0,24206.0,55357.0,58113.0,70643.0,64355.0,82576.0,41644.0,72570.0,30630.0,22944.0,86979.0,51056.0,82072.0,52034.0,72354.0,28427.0,28427.0,39858.0,67381.0,23529.0,51479.0,76068.0,22507.0,52413.0,50116.0,76624.0,34587.0,62159.0,66294.0,5648.0,37235.0,85620.0,23976.0,41020.0,36108.0,57530.0,62905.0,65846.0,34380.0,41638.0,63207.0,28320.0,43140.0,52531.0,40246.0,35196.0,35196.0,70596.0,70596.0,52597.0,42394.0,81657.0,49154.0,34074.0,36436.0,70638.0,38136.0,67432.0,40689.0,40689.0,101970.0,44325.0,61467.0,48178.0,16005.0,79593.0,79593.0,61180.0,64449.0,77437.0,17649.0,53103.0,71819.0,74290.0,72282.0,47352.0,47352.0,46524.0,50200.0,18222.0,77610.0,38097.0,44377.0,58684.0,66480.0,49638.0,50616.0,26642.0,33235.0,23228.0,36732.0,82657.0,64140.0,44392.0,16185.0,38702.0,54072.0,61787.0,34935.0,34935.0,59292.0,59292.0,57959.0,92491.0,42207.0,46984.0,23442.0,46757.0,14515.0,80910.0,30545.0,44802.0,79941.0,79734.0,50353.0,77376.0,78075.0,42473.0,25008.0,56223.0,47850.0,91820.0,40637.0,23295.0,84574.0,54165.0,28510.0,67131.0,56242.0,86580.0,76005.0,54693.0,52750.0,36997.0,34230.0,47916.0,60839.0,79930.0,55158.0,85485.0,75865.0,44375.0,60504.0,65492.0,67506.0,68805.0,61209.0,66825.0,87188.0,84953.0,74637.0,86111.0,77632.0,31814.0,70116.0,48240.0,40101.0,70503.0,79205.0,51766.0,62994.0,65640.0,38361.0,38361.0,19986.0,19986.0,72903.0,45072.0,59062.0,61794.0,45143.0,45143.0,26877.0,36921.0,54342.0,62772.0,75032.0,22419.0,22419.0,36550.0,75027.0,63159.0,54108.0,81795.0,59594.0,18492.0,94472.0,70337.0,34853.0,66141.6,16269.0,50272.0,22804.0,22804.0,30631.0,78420.0,81741.0,25721.0,31907.0,37859.0,30261.0,21645.0,21282.0,32144.0,62637.0,16626.0,54690.0,54690.0,61284.0,23718.0,33419.0,82025.0,15056.0,48192.0,67309.0,66033.0,28769.0,6835.0,32880.0,23616.0,19419.0,34961.0,64892.0,16248.0,43776.0,52074.0,22123.0,35544.0,59060.0,65665.0,29819.0,81217.0,81217.0,26095.0,65706.0,31859.0,93027.0,58710.0,49618.0,58308.0,40800.0,18690.0,18690.0,18690.0,28087.0,75702.0,32892.0,32892.0,89120.0,27116.0,46107.0,54466.0,59686.0,82460.0,76045.0,83829.0,83829.0,32889.0,33462.0,36627.0,28718.0,77981.0,60230.0,74918.0,40464.0,64857.0,64857.0,63381.0,63381.0,66664.0,66664.0,86358.0,41443.0,57072.0,54178.0,48767.0,51124.0,43020.0,49980.0,72906.0,25176.0,96876.0,31086.0,24072.0,76773.0,72190.0,83837.0,17345.0,75154.0,28249.0,28249.0,69661.0,27922.0,45903.0,36273.0,70777.0,17148.0,66476.0,45057.0,41120.0,50541.8,19485.0,21840.0,41473.0,31395.0,68117.0,47682.0,83151.0,58086.0,84460.0,66565.0,23910.0,35893.0,71128.0,38683.0,37150.0,61064.0,51650.0,55249.0,46854.0,14421.0,54132.0,153924.0,64813.0,61872.0,58025.0,83790.0,34350.0,33438.0,21955.0,60491.0,59304.0,34421.0,34421.0,51411.0,71964.0,64504.0,49678.0,60482.0,55260.0,67369.0,47175.0,68743.0,56937.0,83033.0,37697.0,37697.0,44689.0,23162.0,63033.0,40304.0,40059.0,80067.0,36038.0,56678.4,40521.0,66334.0,11012.0,31615.0,36840.6,69098.0,70792.0,17688.0,25443.0,57091.0,24336.0,51111.0,44503.0,56850.0,66582.0,23148.0,82224.0,61917.0,43482.0,68274.0,42373.0,54406.2,57537.0,80995.0,30992.0,30992.0,78642.0,74268.0,75072.0,56253.0,59925.0,62807.0,62807.0,23626.0,46106.0,81168.0,27244.0,26091.0,26091.0,43142.0,38232.0,92533.0,63285.0,38946.0,38946.0,40233.0,46831.0,67605.0,70379.0,77297.0,55759.0,58217.0,51369.0,51369.0,91249.0,52513.0,44159.0,76081.0,76081.0,39996.0,55012.0,77457.0,80695.0,71866.0,73450.0,55614.0,156924.0,30753.0,54603.0,22280.0,59385.0,76998.0,80573.0,80573.0,24711.0,38829.0,71466.0,28839.0,53790.0,73705.0,22448.0,12571.0,73113.0,35765.0,46734.0,66313.0,68148.0,44393.0,38197.0,51012.0,51012.0,13672.0,41452.0,42081.0,14906.0,33812.0,46098.0,46098.0,46098.0,53230.0,88420.0,39548.0,61278.0,81246.0,58330.0,58330.0,65777.0,70829.0,43432.4,59247.0,25930.0,54753.0,28440.0,23559.0,62335.0,63777.0,59666.0,50965.0,71488.0,72228.0,46231.0,75702.0,43300.0,78618.0,69331.4,29760.0,29760.0,50127.0,29604.0,49413.0,51876.0,45837.0,85696.0,85696.0,59432.0,43185.0,60631.0,20559.0,50898.0,73807.0,14661.0,36807.0,46772.0,81574.0,30772.0,46377.0,78128.0,83443.0,50523.0,47009.0,37054.0,32011.0,82122.0,70300.0,21024.0,34916.0,27943.0,39791.0,62745.0,18589.0,85606.0,26997.0,82332.0,38853.0,27071.0,90933.0,65814.0,74250.0,33181.0,45006.0,42315.0,48699.0,59111.0,48726.0,37244.0,74854.0,60896.0,67546.0,67546.0,46923.0,38988.0,49118.0,27683.0,39190.0,56981.0,23228.0,90000.0,55707.0,9255.0,42997.0,71232.0,57744.0,33585.0,46891.0,46891.0,50387.0,76653.0,76542.0,76995.0,38415.0,22304.0,75127.0,75127.0,39722.0,7144.0,39771.0,42618.0,51518.0,74716.0,33955.0,45736.0,31632.0,60093.0,30822.0,41728.0,80739.0,49767.0,34445.0,67046.0,73538.0,80398.0,52973.0,38998.0,38998.0,26490.0,26490.0,23331.0,60544.0,60544.0,49269.0,27203.0,45204.0,67023.0,77583.0,76630.0,47353.0,48920.0,67472.0,64100.0,38872.0,72217.0,15038.0,13624.0,42554.0,71952.0,71952.0,78041.0,63972.0,52852.0,62010.0,83151.0,77870.0,46931.0,85072.0,73395.0,62307.0,58293.0,47889.0,24594.0,24594.0,69882.0,24221.0,22327.0,61923.0,35791.0,35791.0,91172.0,35441.0,19656.0,7500.0,71626.0,75330.0,34529.0,48789.0,34487.0,35688.0,35688.0,53700.0,73454.0,71113.0,65843.6,31535.0,80812.0,40479.0,29440.0,38508.0,69520.0,18701.0,18701.0,69901.0,47703.0,86037.0,71847.0,42033.0,51983.0,68655.0,68655.0,38285.0,79419.0,57338.0,42523.0,42523.0,31761.0,65747.0,17144.0,17144.0,59529.4,84618.0,84618.0,66375.0,42213.0,59556.0,51141.0,15072.0,7500.0,17117.0,59754.0,65569.0,28457.0,86857.0,86857.0,68142.0,48794.0,63404.0,49669.0,55761.0,78331.0,37971.0,30368.0,34043.0,54111.0,69932.0,39665.0,93404.0,38680.0,24570.0,77766.0,77766.0,64961.0,23748.0,45989.0,23331.0,70421.0,23091.0,24683.0,157243.0,54222.0,73455.0,84906.0,84906.0,47025.0,44529.0,31560.0,90687.0,66973.0,41154.0,64590.0,50611.0,50611.0,83273.0,81702.0,24401.0,42557.0,7500.0,78416.0,44794.0,44794.0,69719.0,62568.0,42231.0,20130.0,20130.0,42429.0,42429.0,36640.0,78901.0,66476.0,31056.0,46310.0,65819.0,94871.0],\"yaxis\":\"y\"}],                        {\"barmode\":\"relative\",\"legend\":{\"tracegroupgap\":0},\"margin\":{\"t\":60},\"template\":{\"data\":{\"bar\":[{\"error_x\":{\"color\":\"#2a3f5f\"},\"error_y\":{\"color\":\"#2a3f5f\"},\"marker\":{\"line\":{\"color\":\"#E5ECF6\",\"width\":0.5},\"pattern\":{\"fillmode\":\"overlay\",\"size\":10,\"solidity\":0.2}},\"type\":\"bar\"}],\"barpolar\":[{\"marker\":{\"line\":{\"color\":\"#E5ECF6\",\"width\":0.5},\"pattern\":{\"fillmode\":\"overlay\",\"size\":10,\"solidity\":0.2}},\"type\":\"barpolar\"}],\"carpet\":[{\"aaxis\":{\"endlinecolor\":\"#2a3f5f\",\"gridcolor\":\"white\",\"linecolor\":\"white\",\"minorgridcolor\":\"white\",\"startlinecolor\":\"#2a3f5f\"},\"baxis\":{\"endlinecolor\":\"#2a3f5f\",\"gridcolor\":\"white\",\"linecolor\":\"white\",\"minorgridcolor\":\"white\",\"startlinecolor\":\"#2a3f5f\"},\"type\":\"carpet\"}],\"choropleth\":[{\"colorbar\":{\"outlinewidth\":0,\"ticks\":\"\"},\"type\":\"choropleth\"}],\"contour\":[{\"colorbar\":{\"outlinewidth\":0,\"ticks\":\"\"},\"colorscale\":[[0.0,\"#0d0887\"],[0.1111111111111111,\"#46039f\"],[0.2222222222222222,\"#7201a8\"],[0.3333333333333333,\"#9c179e\"],[0.4444444444444444,\"#bd3786\"],[0.5555555555555556,\"#d8576b\"],[0.6666666666666666,\"#ed7953\"],[0.7777777777777778,\"#fb9f3a\"],[0.8888888888888888,\"#fdca26\"],[1.0,\"#f0f921\"]],\"type\":\"contour\"}],\"contourcarpet\":[{\"colorbar\":{\"outlinewidth\":0,\"ticks\":\"\"},\"type\":\"contourcarpet\"}],\"heatmap\":[{\"colorbar\":{\"outlinewidth\":0,\"ticks\":\"\"},\"colorscale\":[[0.0,\"#0d0887\"],[0.1111111111111111,\"#46039f\"],[0.2222222222222222,\"#7201a8\"],[0.3333333333333333,\"#9c179e\"],[0.4444444444444444,\"#bd3786\"],[0.5555555555555556,\"#d8576b\"],[0.6666666666666666,\"#ed7953\"],[0.7777777777777778,\"#fb9f3a\"],[0.8888888888888888,\"#fdca26\"],[1.0,\"#f0f921\"]],\"type\":\"heatmap\"}],\"heatmapgl\":[{\"colorbar\":{\"outlinewidth\":0,\"ticks\":\"\"},\"colorscale\":[[0.0,\"#0d0887\"],[0.1111111111111111,\"#46039f\"],[0.2222222222222222,\"#7201a8\"],[0.3333333333333333,\"#9c179e\"],[0.4444444444444444,\"#bd3786\"],[0.5555555555555556,\"#d8576b\"],[0.6666666666666666,\"#ed7953\"],[0.7777777777777778,\"#fb9f3a\"],[0.8888888888888888,\"#fdca26\"],[1.0,\"#f0f921\"]],\"type\":\"heatmapgl\"}],\"histogram\":[{\"marker\":{\"pattern\":{\"fillmode\":\"overlay\",\"size\":10,\"solidity\":0.2}},\"type\":\"histogram\"}],\"histogram2d\":[{\"colorbar\":{\"outlinewidth\":0,\"ticks\":\"\"},\"colorscale\":[[0.0,\"#0d0887\"],[0.1111111111111111,\"#46039f\"],[0.2222222222222222,\"#7201a8\"],[0.3333333333333333,\"#9c179e\"],[0.4444444444444444,\"#bd3786\"],[0.5555555555555556,\"#d8576b\"],[0.6666666666666666,\"#ed7953\"],[0.7777777777777778,\"#fb9f3a\"],[0.8888888888888888,\"#fdca26\"],[1.0,\"#f0f921\"]],\"type\":\"histogram2d\"}],\"histogram2dcontour\":[{\"colorbar\":{\"outlinewidth\":0,\"ticks\":\"\"},\"colorscale\":[[0.0,\"#0d0887\"],[0.1111111111111111,\"#46039f\"],[0.2222222222222222,\"#7201a8\"],[0.3333333333333333,\"#9c179e\"],[0.4444444444444444,\"#bd3786\"],[0.5555555555555556,\"#d8576b\"],[0.6666666666666666,\"#ed7953\"],[0.7777777777777778,\"#fb9f3a\"],[0.8888888888888888,\"#fdca26\"],[1.0,\"#f0f921\"]],\"type\":\"histogram2dcontour\"}],\"mesh3d\":[{\"colorbar\":{\"outlinewidth\":0,\"ticks\":\"\"},\"type\":\"mesh3d\"}],\"parcoords\":[{\"line\":{\"colorbar\":{\"outlinewidth\":0,\"ticks\":\"\"}},\"type\":\"parcoords\"}],\"pie\":[{\"automargin\":true,\"type\":\"pie\"}],\"scatter\":[{\"marker\":{\"colorbar\":{\"outlinewidth\":0,\"ticks\":\"\"}},\"type\":\"scatter\"}],\"scatter3d\":[{\"line\":{\"colorbar\":{\"outlinewidth\":0,\"ticks\":\"\"}},\"marker\":{\"colorbar\":{\"outlinewidth\":0,\"ticks\":\"\"}},\"type\":\"scatter3d\"}],\"scattercarpet\":[{\"marker\":{\"colorbar\":{\"outlinewidth\":0,\"ticks\":\"\"}},\"type\":\"scattercarpet\"}],\"scattergeo\":[{\"marker\":{\"colorbar\":{\"outlinewidth\":0,\"ticks\":\"\"}},\"type\":\"scattergeo\"}],\"scattergl\":[{\"marker\":{\"colorbar\":{\"outlinewidth\":0,\"ticks\":\"\"}},\"type\":\"scattergl\"}],\"scattermapbox\":[{\"marker\":{\"colorbar\":{\"outlinewidth\":0,\"ticks\":\"\"}},\"type\":\"scattermapbox\"}],\"scatterpolar\":[{\"marker\":{\"colorbar\":{\"outlinewidth\":0,\"ticks\":\"\"}},\"type\":\"scatterpolar\"}],\"scatterpolargl\":[{\"marker\":{\"colorbar\":{\"outlinewidth\":0,\"ticks\":\"\"}},\"type\":\"scatterpolargl\"}],\"scatterternary\":[{\"marker\":{\"colorbar\":{\"outlinewidth\":0,\"ticks\":\"\"}},\"type\":\"scatterternary\"}],\"surface\":[{\"colorbar\":{\"outlinewidth\":0,\"ticks\":\"\"},\"colorscale\":[[0.0,\"#0d0887\"],[0.1111111111111111,\"#46039f\"],[0.2222222222222222,\"#7201a8\"],[0.3333333333333333,\"#9c179e\"],[0.4444444444444444,\"#bd3786\"],[0.5555555555555556,\"#d8576b\"],[0.6666666666666666,\"#ed7953\"],[0.7777777777777778,\"#fb9f3a\"],[0.8888888888888888,\"#fdca26\"],[1.0,\"#f0f921\"]],\"type\":\"surface\"}],\"table\":[{\"cells\":{\"fill\":{\"color\":\"#EBF0F8\"},\"line\":{\"color\":\"white\"}},\"header\":{\"fill\":{\"color\":\"#C8D4E3\"},\"line\":{\"color\":\"white\"}},\"type\":\"table\"}]},\"layout\":{\"annotationdefaults\":{\"arrowcolor\":\"#2a3f5f\",\"arrowhead\":0,\"arrowwidth\":1},\"autotypenumbers\":\"strict\",\"coloraxis\":{\"colorbar\":{\"outlinewidth\":0,\"ticks\":\"\"}},\"colorscale\":{\"diverging\":[[0,\"#8e0152\"],[0.1,\"#c51b7d\"],[0.2,\"#de77ae\"],[0.3,\"#f1b6da\"],[0.4,\"#fde0ef\"],[0.5,\"#f7f7f7\"],[0.6,\"#e6f5d0\"],[0.7,\"#b8e186\"],[0.8,\"#7fbc41\"],[0.9,\"#4d9221\"],[1,\"#276419\"]],\"sequential\":[[0.0,\"#0d0887\"],[0.1111111111111111,\"#46039f\"],[0.2222222222222222,\"#7201a8\"],[0.3333333333333333,\"#9c179e\"],[0.4444444444444444,\"#bd3786\"],[0.5555555555555556,\"#d8576b\"],[0.6666666666666666,\"#ed7953\"],[0.7777777777777778,\"#fb9f3a\"],[0.8888888888888888,\"#fdca26\"],[1.0,\"#f0f921\"]],\"sequentialminus\":[[0.0,\"#0d0887\"],[0.1111111111111111,\"#46039f\"],[0.2222222222222222,\"#7201a8\"],[0.3333333333333333,\"#9c179e\"],[0.4444444444444444,\"#bd3786\"],[0.5555555555555556,\"#d8576b\"],[0.6666666666666666,\"#ed7953\"],[0.7777777777777778,\"#fb9f3a\"],[0.8888888888888888,\"#fdca26\"],[1.0,\"#f0f921\"]]},\"colorway\":[\"#636efa\",\"#EF553B\",\"#00cc96\",\"#ab63fa\",\"#FFA15A\",\"#19d3f3\",\"#FF6692\",\"#B6E880\",\"#FF97FF\",\"#FECB52\"],\"font\":{\"color\":\"#2a3f5f\"},\"geo\":{\"bgcolor\":\"white\",\"lakecolor\":\"white\",\"landcolor\":\"#E5ECF6\",\"showlakes\":true,\"showland\":true,\"subunitcolor\":\"white\"},\"hoverlabel\":{\"align\":\"left\"},\"hovermode\":\"closest\",\"mapbox\":{\"style\":\"light\"},\"paper_bgcolor\":\"white\",\"plot_bgcolor\":\"#E5ECF6\",\"polar\":{\"angularaxis\":{\"gridcolor\":\"white\",\"linecolor\":\"white\",\"ticks\":\"\"},\"bgcolor\":\"#E5ECF6\",\"radialaxis\":{\"gridcolor\":\"white\",\"linecolor\":\"white\",\"ticks\":\"\"}},\"scene\":{\"xaxis\":{\"backgroundcolor\":\"#E5ECF6\",\"gridcolor\":\"white\",\"gridwidth\":2,\"linecolor\":\"white\",\"showbackground\":true,\"ticks\":\"\",\"zerolinecolor\":\"white\"},\"yaxis\":{\"backgroundcolor\":\"#E5ECF6\",\"gridcolor\":\"white\",\"gridwidth\":2,\"linecolor\":\"white\",\"showbackground\":true,\"ticks\":\"\",\"zerolinecolor\":\"white\"},\"zaxis\":{\"backgroundcolor\":\"#E5ECF6\",\"gridcolor\":\"white\",\"gridwidth\":2,\"linecolor\":\"white\",\"showbackground\":true,\"ticks\":\"\",\"zerolinecolor\":\"white\"}},\"shapedefaults\":{\"line\":{\"color\":\"#2a3f5f\"}},\"ternary\":{\"aaxis\":{\"gridcolor\":\"white\",\"linecolor\":\"white\",\"ticks\":\"\"},\"baxis\":{\"gridcolor\":\"white\",\"linecolor\":\"white\",\"ticks\":\"\"},\"bgcolor\":\"#E5ECF6\",\"caxis\":{\"gridcolor\":\"white\",\"linecolor\":\"white\",\"ticks\":\"\"}},\"title\":{\"x\":0.05},\"xaxis\":{\"automargin\":true,\"gridcolor\":\"white\",\"linecolor\":\"white\",\"ticks\":\"\",\"title\":{\"standoff\":15},\"zerolinecolor\":\"white\",\"zerolinewidth\":2},\"yaxis\":{\"automargin\":true,\"gridcolor\":\"white\",\"linecolor\":\"white\",\"ticks\":\"\",\"title\":{\"standoff\":15},\"zerolinecolor\":\"white\",\"zerolinewidth\":2}}},\"xaxis\":{\"anchor\":\"y\",\"categoryarray\":[\"Basic\",\"2n Cycle\",\"Graduation\",\"Master\",\"PhD\"],\"categoryorder\":\"array\",\"domain\":[0.0,1.0],\"title\":{\"text\":\"Education\"}},\"yaxis\":{\"anchor\":\"x\",\"domain\":[0.0,1.0],\"title\":{\"text\":\"avg of Income\"}}},                        {\"responsive\": true}                    ).then(function(){\n",
              "                            \n",
              "var gd = document.getElementById('9e6f071a-811e-4457-a455-7cb449b31b42');\n",
              "var x = new MutationObserver(function (mutations, observer) {{\n",
              "        var display = window.getComputedStyle(gd).display;\n",
              "        if (!display || display === 'none') {{\n",
              "            console.log([gd, 'removed!']);\n",
              "            Plotly.purge(gd);\n",
              "            observer.disconnect();\n",
              "        }}\n",
              "}});\n",
              "\n",
              "// Listen for the removal of the full notebook cells\n",
              "var notebookContainer = gd.closest('#notebook-container');\n",
              "if (notebookContainer) {{\n",
              "    x.observe(notebookContainer, {childList: true});\n",
              "}}\n",
              "\n",
              "// Listen for the clearing of the current output cell\n",
              "var outputEl = gd.closest('.output');\n",
              "if (outputEl) {{\n",
              "    x.observe(outputEl, {childList: true});\n",
              "}}\n",
              "\n",
              "                        })                };                });            </script>        </div>"
            ]
          },
          "metadata": {},
          "output_type": "display_data"
        }
      ],
      "source": [
        "df = dataset[['Income','Education']]\n",
        "category_orders={\"Education\":[\"Basic\",\"2n Cycle\",\"Graduation\",\"Master\",\"PhD\"]}\n",
        "fig = px.histogram(df, x=\"Education\",y=\"Income\",  histfunc='avg',category_orders=category_orders)\n",
        "fig.show()"
      ]
    },
    {
      "cell_type": "markdown",
      "id": "2c3aacfb",
      "metadata": {
        "papermill": {
          "duration": 0.070714,
          "end_time": "2021-08-26T15:25:43.873359",
          "exception": false,
          "start_time": "2021-08-26T15:25:43.802645",
          "status": "completed"
        },
        "tags": [],
        "id": "2c3aacfb"
      },
      "source": [
        "Average income is the highest for PhD owners with 56161 dollars\n",
        "\n",
        "Average income is the lowest for Basic diploma owners with 20306 dollars\n",
        "\n",
        "The better the diploma is, the higher the average salary\n",
        "\n",
        "We will verify later with a statistical test if the average salary of PhD owners is statistically different from Master owners "
      ]
    },
    {
      "cell_type": "markdown",
      "id": "db155dec",
      "metadata": {
        "papermill": {
          "duration": 0.072042,
          "end_time": "2021-08-26T15:25:44.015345",
          "exception": false,
          "start_time": "2021-08-26T15:25:43.943303",
          "status": "completed"
        },
        "tags": [],
        "id": "db155dec"
      },
      "source": [
        "### **Spending by Income**"
      ]
    },
    {
      "cell_type": "code",
      "execution_count": null,
      "id": "f5f40cfd",
      "metadata": {
        "execution": {
          "iopub.execute_input": "2021-08-26T15:25:44.158162Z",
          "iopub.status.busy": "2021-08-26T15:25:44.157044Z",
          "iopub.status.idle": "2021-08-26T15:25:44.180183Z",
          "shell.execute_reply": "2021-08-26T15:25:44.179526Z",
          "shell.execute_reply.started": "2021-08-26T15:03:44.488975Z"
        },
        "papermill": {
          "duration": 0.095704,
          "end_time": "2021-08-26T15:25:44.180359",
          "exception": false,
          "start_time": "2021-08-26T15:25:44.084655",
          "status": "completed"
        },
        "tags": [],
        "id": "f5f40cfd",
        "outputId": "df4e372c-a0ba-4e17-afab-8c712a6f72a9"
      },
      "outputs": [
        {
          "data": {
            "text/html": [
              "<div>                            <div id=\"4193824c-ad62-4e7e-a401-0e1809ccd2d1\" class=\"plotly-graph-div\" style=\"height:525px; width:100%;\"></div>            <script type=\"text/javascript\">                require([\"plotly\"], function(Plotly) {                    window.PLOTLYENV=window.PLOTLYENV || {};                                    if (document.getElementById(\"4193824c-ad62-4e7e-a401-0e1809ccd2d1\")) {                    Plotly.newPlot(                        \"4193824c-ad62-4e7e-a401-0e1809ccd2d1\",                        [{\"hovertemplate\":\"Spending: %{x} <br>Income: %{y}\",\"mode\":\"markers\",\"name\":\"observations\",\"type\":\"scatter\",\"x\":[1190,577,251,11,91,1192,1215,96,544,544,1208,222,1156,72,359,174,174,22,72,13,335,393,92,404,704,122,684,684,45,726,272,1638,8,446,43,1901,461,20,1688,1008,48,1485,1104,165,56,1574,39,965,497,371,51,1253,17,1588,50,83,41,231,926,893,373,32,88,24,400,36,789,1066,73,73,2043,1588,441,106,1410,1040,117,2092,1693,17,1091,1091,372,714,16,48,43,44,1196,37,162,1123,17,1044,758,140,140,121,1395,455,685,1173,424,424,424,1178,1178,1282,1711,809,473,148,188,147,30,868,1053,1053,1008,757,653,1400,78,78,467,306,257,751,1196,1338,1338,1128,22,22,603,1782,72,1658,80,68,16,1062,1112,1001,57,35,57,57,32,874,874,1518,1789,20,1416,153,92,92,31,31,943,25,25,1376,393,263,1670,877,502,1072,1364,326,70,1650,1738,1281,325,936,48,53,252,252,103,557,24,233,54,843,1958,20,1627,1167,66,811,797,530,1766,606,470,1099,1039,407,1016,318,318,316,92,302,1869,145,277,311,50,72,21,49,556,28,396,1899,235,331,1919,1919,167,1293,654,746,138,275,692,1115,365,9,69,63,182,76,725,62,1449,63,50,463,22,22,183,414,1034,1034,47,500,282,1381,59,59,1442,1555,1555,1378,602,139,19,446,492,67,22,76,76,515,178,52,734,221,702,1161,241,601,215,112,112,269,417,2092,180,792,89,89,495,1226,733,1334,1065,1258,69,1052,17,18,800,32,1438,1438,795,86,241,1587,64,1401,1754,63,129,81,80,889,889,235,1908,463,29,1427,398,18,75,981,172,1730,1643,312,68,68,1428,37,37,15,656,2130,48,48,841,568,1736,486,820,1377,467,14,797,73,1581,66,77,324,62,1833,103,60,51,63,88,763,187,1808,85,85,85,213,92,125,101,101,835,12,66,49,63,237,2349,86,66,14,294,56,716,57,102,2087,30,357,1443,928,17,68,41,17,42,42,562,93,59,1415,736,368,1743,836,1678,930,145,1241,1071,797,1804,1147,37,40,1101,778,778,21,42,817,17,485,367,1179,434,1674,850,82,1188,186,612,45,1370,518,1478,1274,1902,1062,664,409,44,943,31,561,1722,69,46,46,268,637,551,17,1152,38,70,71,6,44,13,324,306,1291,30,486,32,1757,134,134,171,1270,2091,733,1706,253,317,317,1895,20,62,62,395,23,907,882,1033,1033,1213,1461,638,907,907,1662,1482,541,28,971,246,1717,629,34,506,506,999,43,121,1472,322,81,160,155,155,20,732,22,38,199,22,2008,2008,1175,227,227,1189,32,894,404,404,639,69,78,81,680,653,653,1477,1315,1315,45,816,45,20,46,679,31,31,187,187,17,78,11,426,285,777,777,637,694,266,1001,1001,1198,1198,122,18,45,123,844,96,141,46,46,15,731,135,1724,1428,54,1493,68,1171,1020,264,20,1180,1180,724,58,1665,2086,1220,109,101,11,614,53,22,396,87,776,18,140,36,1435,131,1019,97,884,2352,369,369,132,296,1338,608,823,823,1621,93,1198,1198,144,392,1068,421,1727,114,64,64,279,1298,42,137,137,982,30,1230,1103,1932,367,1345,1134,1188,1686,198,44,61,57,71,37,37,405,599,1525,1323,53,710,43,1006,813,429,490,1825,473,9,16,57,334,507,818,1004,1138,2525,2525,1076,491,29,236,46,795,749,401,1149,1149,863,343,1471,1088,1990,1210,74,115,966,92,45,45,761,2257,960,1453,350,266,224,99,258,258,1526,87,300,447,173,1772,925,1093,433,433,90,156,156,156,825,72,377,2194,401,2157,17,350,29,21,15,145,107,42,521,1021,25,25,120,995,1635,29,1655,1263,135,1991,32,605,278,467,2116,410,410,41,169,161,1260,460,575,19,1490,433,1919,576,51,564,564,19,21,61,641,1682,28,57,1474,315,504,44,44,1513,1029,57,30,30,916,61,44,55,343,989,131,131,59,28,55,1073,608,608,1155,590,573,1890,106,1064,1097,182,1456,292,2211,16,527,1778,815,861,1812,41,33,895,210,1092,1396,711,68,46,1121,13,55,362,1853,1095,1095,46,1644,1724,1930,61,877,299,939,49,49,49,49,1130,19,913,38,395,28,33,270,1194,393,397,59,38,1923,63,18,81,1307,1102,201,443,636,27,670,1029,84,820,1012,563,12,315,99,413,17,57,406,1853,1853,41,46,946,528,1245,529,48,299,25,25,77,219,60,22,147,75,65,63,57,317,468,467,1319,727,587,587,1346,35,45,44,794,1507,1253,100,48,15,15,38,1690,1690,75,21,973,330,1820,172,27,2209,454,38,176,904,64,1363,1363,690,1027,1371,873,52,1307,37,506,81,793,316,1092,1795,29,1113,78,1623,195,1168,177,26,46,542,38,632,1508,1730,1336,684,1435,581,44,35,16,1501,273,55,116,2009,1586,1586,405,55,21,34,1478,44,100,100,152,58,24,62,978,978,728,596,1213,185,2059,416,1575,18,222,68,49,688,1280,1829,244,48,586,48,263,1612,825,50,1371,1371,963,71,31,1677,120,23,54,636,1117,969,969,133,2486,71,71,203,1341,845,385,564,23,23,189,1504,209,102,981,488,484,2077,662,1495,1495,231,805,39,63,69,69,461,2217,1367,382,871,2089,1388,96,96,68,93,265,28,138,138,1169,1169,152,218,612,38,49,358,151,642,615,361,23,23,964,964,310,1366,1366,1191,1135,1101,1101,1511,932,108,641,46,21,69,57,56,26,1572,18,22,46,265,50,1283,802,46,46,415,211,77,730,28,903,40,40,38,152,146,535,158,656,1038,33,25,106,401,232,297,293,139,901,1043,53,102,915,167,240,1106,22,1159,71,90,358,20,928,928,95,311,37,37,279,725,992,33,1120,976,976,1576,610,129,279,74,24,96,1893,612,28,47,493,270,45,43,14,939,1515,415,26,425,425,29,450,721,17,35,43,1020,80,80,169,1826,10,62,57,265,2052,1105,310,78,1735,606,133,131,79,189,902,902,1477,633,354,1679,1617,868,95,1234,1234,769,769,49,38,38,94,57,119,1244,1244,960,47,170,94,54,1165,981,981,990,486,74,1580,72,384,1211,1240,353,1792,45,41,973,96,48,65,122,23,43,114,1232,1957,377,586,586,1662,1004,279,1226,444,444,222,1440,1440,406,149,34,683,1512,61,396,1047,1598,1598,62,235,424,424,34,34,662,1237,318,318,5,275,2231,1286,910,957,27,1365,1835,114,436,436,1348,174,825,909,1507,32,882,1424,32,46,46,606,606,1574,1574,1574,1173,143,795,1305,1277,1531,1021,79,25,62,65,36,38,798,940,1179,1734,545,24,1968,1216,729,1617,459,731,20,823,64,102,102,779,1060,1169,1141,61,1086,269,1336,1566,61,70,1295,411,411,926,1211,11,772,70,1544,1822,1429,159,764,31,31,1250,2053,480,401,438,995,369,19,106,832,1957,1957,99,28,1026,1327,436,928,961,290,1464,1533,18,1528,44,1958,72,72,1380,2524,390,397,496,2302,2302,209,72,170,937,775,1401,178,1374,976,976,10,39,518,116,380,1150,1150,30,259,546,519,1565,59,972,119,990,990,1174,1174,1174,77,55,244,93,1536,1231,1084,405,595,562,1348,908,908,908,37,37,1931,561,47,1511,215,296,107,42,61,127,8,23,23,928,59,63,8,960,1168,900,42,660,660,22,271,1315,40,260,20,55,75,1182,1182,1867,1079,534,313,693,1127,1127,30,17,54,458,458,267,1603,1198,25,727,758,1828,1445,1910,31,1089,52,76,1702,1052,2018,332,1228,52,52,95,957,54,494,1376,570,450,66,899,22,634,967,49,61,1600,66,217,339,92,622,1120,175,441,1502,43,235,794,13,497,497,968,968,578,32,1097,411,255,1611,1334,103,1335,444,444,1135,542,594,254,103,1366,1366,704,805,1125,45,1085,1574,1217,1331,319,319,177,401,67,1680,184,264,813,312,39,67,42,70,40,47,2283,1750,211,106,109,39,1319,137,137,507,507,868,2034,265,41,27,1143,96,756,69,1049,984,914,442,661,988,144,34,156,134,1497,38,20,1375,236,91,976,971,746,1722,929,860,94,21,606,1250,1753,418,1383,1242,301,526,1045,331,283,957,858,1923,1024,1650,1385,2252,83,1536,882,415,1727,895,275,312,461,137,137,22,22,2013,284,71,611,311,311,268,38,177,946,1215,162,162,577,1390,1797,747,1382,499,10,1691,576,34,1564,44,233,26,26,70,1453,1572,34,449,36,22,65,46,54,185,68,198,198,811,81,86,1187,88,1526,1082,677,191,137,42,79,70,79,902,57,23,119,102,67,274,945,39,1157,1157,42,1199,20,2119,1185,129,900,99,60,60,60,112,1148,46,46,1924,41,125,16,274,974,1323,1862,1862,55,54,16,57,664,1067,2047,630,1540,1540,1005,1005,1289,1289,1722,482,1034,194,63,43,223,195,1151,13,1941,48,23,1156,1947,1318,58,1143,43,43,834,41,66,76,787,68,1013,50,81,186,10,27,76,64,930,521,2346,792,523,1065,67,199,1615,341,467,1080,191,130,263,16,42,6,745,573,470,1615,48,90,55,1028,1048,30,30,18,1870,1314,315,507,1139,1461,240,2074,906,1761,84,84,34,65,1102,57,414,1600,47,47,21,1161,84,51,97,2440,1272,11,32,496,31,55,48,63,1288,37,902,91,88,305,163,207,545,1482,43,43,1816,892,1073,597,766,819,819,43,54,1193,101,89,89,20,122,1131,1103,257,257,149,78,938,860,789,854,103,576,576,1676,1149,275,1033,1033,15,660,1157,1918,715,1804,682,8,81,227,13,185,1910,1564,1564,58,99,1230,32,542,1695,55,53,1001,75,223,770,1042,60,40,209,209,25,16,382,66,133,120,120,120,732,2069,54,165,1379,1064,1064,1146,431,985,574,15,728,63,79,708,653,1027,685,559,1250,263,1921,180,2153,45,165,165,320,53,304,310,373,1313,1313,663,637,661,53,859,849,26,16,1048,1798,20,90,1264,1497,91,448,25,122,1382,1596,84,231,37,174,1117,75,1956,434,2006,45,35,1685,747,1158,16,266,270,40,869,242,55,1562,1701,2126,2126,369,348,1229,351,133,1241,121,1479,428,22,15,917,411,122,183,183,525,2279,1483,1782,44,18,833,833,47,416,50,192,449,860,270,437,95,735,51,55,1633,692,839,993,1658,1597,1152,54,54,210,210,103,289,289,890,64,114,906,1149,1003,225,347,414,546,91,1573,80,36,41,1443,1443,1319,1269,879,530,747,1815,78,1423,397,160,422,67,29,29,1478,55,24,126,35,35,1092,39,84,15,1305,1109,162,680,103,211,211,694,1651,835,450,51,1677,15,56,443,1455,44,44,882,655,730,1192,25,793,1538,1538,10,1631,237,125,125,98,460,47,47,124,1672,1672,948,363,725,157,53,36,128,475,859,205,2114,2114,1459,54,902,326,184,1638,30,52,49,388,1049,216,1616,79,193,1529,1529,1009,76,322,269,767,48,41,1608,264,2088,1631,1631,635,691,94,1779,1282,69,1338,493,493,1392,1633,467,270,100,1179,65,65,801,953,37,34,34,67,67,65,734,689,55,309,1383,1078],\"y\":[84835.0,57091.0,67267.0,32474.0,21474.0,71691.0,63564.0,44931.0,65324.0,65324.0,81044.0,62499.0,67786.0,26872.0,4428.0,54809.0,54809.0,32173.0,47823.0,30523.0,36634.0,43456.0,40662.0,49544.0,57731.0,33168.0,54450.0,54450.0,35340.0,73170.0,65808.0,79529.0,34578.0,46374.0,18351.0,95169.0,65370.0,39228.0,84865.0,61314.0,21359.0,66465.0,81698.0,39146.0,25959.0,64260.0,32300.0,74806.0,72967.0,48904.0,14796.0,66991.0,52195.0,90369.0,18393.0,47139.0,38576.0,61905.0,83715.0,60597.0,6560.0,48330.0,38236.0,22701.0,53367.0,34728.0,63915.0,82504.0,38578.0,38578.0,79174.0,81975.0,43263.0,27242.0,76445.0,75276.0,34213.0,72335.0,79143.0,27469.0,68695.0,68695.0,50388.0,77622.0,46102.0,31859.0,23830.0,24639.0,71604.0,27255.0,55375.0,77037.0,24163.0,69476.0,72063.0,58646.0,58646.0,47570.0,80011.0,54998.0,60200.0,63211.0,48432.0,48432.0,48432.0,62845.0,62845.0,65220.0,74214.0,96547.0,53863.0,50447.0,37716.0,45203.0,37368.0,67225.0,65104.0,65104.0,81698.0,70566.0,69096.0,71434.0,33039.0,33039.0,46610.0,49967.0,53359.0,49505.0,68657.0,72071.0,72071.0,59235.0,21994.0,21994.0,49064.6,69209.0,31928.0,74004.0,30390.0,21355.0,26304.0,85710.0,102692.0,58350.0,7500.0,18890.0,20425.0,20425.0,41437.0,49912.0,49912.0,79823.0,85683.0,47025.0,68397.0,38175.0,46423.0,46423.0,30560.0,30560.0,60152.0,29672.0,29672.0,70321.0,56181.0,24279.0,68462.0,55424.0,49094.0,59184.0,67430.0,30522.0,31878.0,83528.0,90300.0,68092.0,53761.0,52845.0,24027.0,7500.0,42586.0,42586.0,9722.0,86836.0,30467.0,54549.0,19444.0,69245.0,72968.0,48686.0,73687.0,82716.0,35523.0,60554.0,64090.0,61559.0,71670.0,67680.0,54386.0,64108.0,69702.0,47958.0,67716.0,34600.0,34600.0,48752.0,15716.0,46610.0,74985.0,45576.0,113734.0,57100.0,24434.0,37126.0,45160.0,33178.0,64866.0,34176.0,50014.0,92344.0,55282.0,48799.0,84169.0,84169.0,39763.0,74165.0,42720.0,65275.0,36443.0,43776.0,56046.0,65148.0,49431.0,32583.0,16653.0,26850.0,51287.0,43050.0,73448.0,17256.0,86429.0,33569.0,25130.0,62998.0,26907.0,26907.0,45579.0,47320.0,70179.0,70179.0,28072.0,50501.0,58917.0,69372.0,35178.0,35178.0,75693.0,69109.0,69109.0,80134.0,64713.0,41411.0,43973.0,55521.0,43795.0,22070.0,36408.0,34026.0,34026.0,46049.0,35641.0,32414.0,59821.0,34968.0,56320.0,70091.0,46097.0,41003.0,44911.0,33249.0,33249.0,42873.0,51039.0,78952.0,29435.0,79865.0,34176.0,34176.0,65968.0,86424.0,67272.0,78499.0,77044.0,70515.0,17459.0,80336.0,15759.0,26326.0,62061.0,5305.0,75777.0,75777.0,71499.0,31626.0,42670.0,83917.0,41021.0,79456.0,78789.0,50870.0,35876.0,23539.0,32557.0,62466.0,62466.0,54198.0,82170.0,61798.0,15253.0,78285.0,62535.0,27190.0,48985.0,72940.0,36145.0,157146.0,81843.0,41883.0,45759.0,45759.0,78394.0,30279.0,30279.0,31880.0,60208.0,78687.0,37401.0,37401.0,75315.0,69263.0,78569.0,57705.0,74805.0,66426.0,51529.0,18100.0,59601.0,20981.0,74068.0,36790.0,18793.0,27421.0,30675.0,83145.0,34053.0,31788.0,45894.0,41986.0,42769.0,58582.0,49096.0,76412.0,18929.0,18929.0,18929.0,21888.0,41580.0,31605.0,25509.0,25509.0,33051.0,28764.0,32146.0,22148.0,36781.0,54197.0,93790.0,24762.0,30477.0,11448.0,70844.0,30828.0,62513.0,27733.0,39435.0,75345.0,20491.0,36715.0,71706.0,69063.0,24645.0,35797.0,44078.0,26954.0,57248.2,38887.0,65463.0,53537.0,36230.0,80763.0,60585.0,49166.0,75261.0,89891.0,72828.0,75278.0,38557.0,81300.0,60161.0,69389.0,64497.0,61014.0,44319.0,53233.0,77972.0,81361.0,81361.0,25707.0,42403.0,65704.0,37406.0,39767.0,54210.0,57136.0,40794.0,83003.0,89058.0,20193.0,72099.0,43824.0,66653.0,44359.0,79410.0,55842.0,79946.0,88194.0,80184.0,76982.0,65295.0,57100.0,29009.0,78931.0,7500.0,56939.0,64509.0,30093.0,30351.0,30351.0,38201.0,43893.4,43974.0,38200.0,87305.0,16860.0,27213.0,7500.0,4861.0,38196.0,41145.0,38513.0,45688.0,77863.0,42169.0,45906.0,35388.0,80952.0,39898.0,39898.0,44051.0,86718.0,80141.0,58597.0,70356.0,46904.0,37760.0,37760.0,61839.0,29791.0,48918.0,48918.0,58692.0,39356.0,76234.0,55434.0,66835.0,66835.0,71965.0,74538.0,50002.0,53977.0,53977.0,69930.0,62981.0,46014.0,18227.0,65991.0,38808.0,160803.0,43783.0,30396.0,65526.0,65526.0,55956.0,55563.0,57236.0,89694.0,57420.0,33622.0,29999.0,31497.0,31497.0,36802.0,61671.0,60182.0,29732.0,45921.0,16529.0,98777.0,98777.0,77027.0,69139.0,69139.0,65169.0,40049.0,69755.0,65529.4,54456.0,60689.0,26487.0,28164.0,22585.0,64795.0,42000.0,42000.0,70713.0,82800.0,82800.0,30801.0,83891.0,38054.0,14045.0,44155.0,57642.0,31353.0,31353.0,41335.0,41335.0,40737.0,19789.0,35946.0,36262.0,44551.0,71367.0,71367.0,57957.0,50334.0,48150.0,56796.0,56796.0,52278.0,52278.0,7500.0,33444.0,20895.0,37509.0,88097.0,59041.0,43322.0,46015.0,46015.0,34242.0,65210.0,50520.0,90765.0,80589.0,49572.0,75437.0,44635.0,58512.0,62000.0,54252.0,45068.0,60474.0,60474.0,56337.0,22434.0,61416.0,92163.0,58656.0,42653.4,8940.0,26751.0,71427.0,26646.0,19346.0,56243.0,59892.0,71613.0,25252.0,42160.0,15862.0,82584.0,38360.0,75283.0,34941.0,61823.0,90226.0,44989.0,44989.0,43586.0,32233.0,62882.0,57288.0,75774.0,75774.0,90247.0,32218.0,84219.0,84219.0,48877.0,60905.0,75236.0,62551.0,70123.0,50785.0,15315.0,15315.0,64413.0,87171.0,30081.0,20180.0,20180.0,55686.0,26887.0,61996.0,51537.0,72025.0,30538.0,61618.0,77343.0,75433.0,82571.0,60033.0,39062.0,30023.0,30015.0,33228.0,22574.0,22574.0,55267.0,66886.0,72258.0,82733.0,45146.0,51250.0,32871.0,63855.0,42564.0,46344.0,50437.0,70971.0,37774.0,4023.0,33279.0,42693.0,70545.0,65486.0,77882.0,78468.0,77226.0,90638.0,90638.0,70666.0,59052.0,13084.0,49160.0,23272.0,49476.0,62694.0,57906.0,71853.0,71853.0,65031.0,30507.0,67419.0,59462.0,95529.0,53653.0,25965.0,22979.0,64950.0,44322.0,30096.0,30096.0,56628.0,82326.0,71163.0,71022.0,42607.0,43057.0,47808.0,29236.0,40590.0,40590.0,77520.0,40211.0,63516.0,53034.0,22669.0,79908.0,69867.0,70287.0,37070.0,37070.0,38179.0,39922.0,39922.0,39922.0,64191.0,41658.0,40780.0,77568.0,66503.0,83512.0,31686.0,71322.0,27938.0,22263.0,34633.0,42162.0,162397.0,54162.0,41769.0,44953.0,37717.0,37717.0,40548.0,67893.0,69267.0,9548.0,68281.0,92556.0,48526.0,90273.0,19414.0,79761.0,53312.0,41039.0,88347.0,50150.0,50150.0,10245.0,33454.0,40887.0,55914.0,37292.0,52914.0,24884.0,67384.0,51651.0,82497.0,32632.0,33562.0,79146.0,79146.0,36143.0,27159.0,41275.0,76800.0,75794.0,30833.0,26518.0,91065.0,45183.0,48070.0,30372.0,30372.0,57036.0,66731.0,35682.0,10979.0,10979.0,57912.0,36026.0,35788.0,42243.0,46086.0,61346.0,33316.0,33316.0,21063.0,33697.0,25804.0,72117.0,61286.0,61286.0,65196.0,55635.0,42021.0,75251.0,35322.0,53374.0,87195.0,42395.0,82427.0,44602.0,94642.0,28359.0,55801.0,92955.0,56534.0,69627.0,78579.0,44964.0,30899.0,78825.0,25545.0,47111.0,49667.0,66000.0,46910.0,25224.0,77382.0,28420.0,32952.0,46149.0,83532.0,73059.0,73059.0,35701.0,89616.0,105471.0,78427.0,22518.0,59809.0,39660.0,52203.0,35860.0,35860.0,35860.0,35860.0,76842.0,15033.0,67353.0,17003.0,65735.0,45684.0,21918.0,51267.0,59868.0,51373.0,46692.0,157733.0,54432.0,79607.0,51813.0,17487.0,40706.0,62859.0,61074.0,43638.0,58116.0,62187.0,46344.0,77353.0,69759.0,21846.0,76532.0,70053.0,75342.0,27590.0,51148.0,33378.0,32644.0,33581.0,12393.0,42710.0,82347.0,82347.0,22554.0,17323.0,62204.0,78028.0,63887.0,32727.0,29103.0,61482.0,20587.0,20587.0,52190.0,48186.0,19329.0,34109.0,23477.0,47472.0,14849.0,26224.0,27238.0,43303.8,57967.0,51569.0,72550.0,44511.0,62972.0,62972.0,77845.0,36663.0,53204.0,21059.0,67087.0,73892.0,75114.0,42192.0,31454.0,22775.0,22775.0,31590.0,80134.0,80134.0,14188.0,18169.0,62503.0,46734.0,68126.0,52869.0,26576.0,75825.0,57045.0,34984.0,27803.0,69283.0,18746.0,70924.0,70924.0,69401.0,75012.0,85738.0,60934.0,27161.0,64325.0,18978.0,41124.0,39684.0,53378.0,37040.0,78710.0,92910.0,36283.0,79632.0,28587.0,88325.0,51412.0,63998.0,38593.0,27889.0,45889.0,56575.0,16014.0,61331.0,70893.0,2447.0,64849.0,42387.0,80617.0,54006.0,16531.0,30843.0,18988.0,81051.0,39747.0,34554.0,52854.0,81205.0,69084.0,69084.0,65352.0,22063.0,47691.0,29187.0,72504.0,33986.0,42386.0,42386.0,36957.0,13724.0,42664.0,37334.0,78497.0,78497.0,58821.0,58398.0,80950.0,30732.0,89572.0,57107.0,76467.0,37221.8,51315.0,43602.0,38643.0,49090.0,70617.0,67536.0,27573.0,13533.0,50725.0,25851.0,57113.0,62847.0,68627.0,25271.0,63810.0,63810.0,65488.0,36927.0,22108.0,72025.0,33183.0,23661.0,25315.0,45938.0,66951.0,77298.0,77298.0,43018.0,75759.0,33996.0,33996.0,54137.0,61223.0,69674.0,49494.0,51195.0,37284.0,37284.0,42011.0,70044.0,46053.0,24480.0,54233.0,36130.0,56559.0,92859.0,44010.0,80124.0,80124.0,50183.0,64722.0,37395.0,29543.0,19514.0,19514.0,59481.0,91712.0,80144.0,59973.0,68352.0,81169.0,61456.0,22634.0,22634.0,23957.0,33471.0,52157.0,30298.0,56551.0,56551.0,65487.0,65487.0,44213.0,40344.0,57867.0,25410.0,13260.0,42691.0,36138.0,57136.0,58275.0,54237.0,34596.0,34596.0,74881.0,74881.0,44267.0,68487.0,68487.0,80982.0,69508.0,63342.0,63342.0,82014.0,76320.0,64587.0,74190.0,32765.0,59325.0,22212.0,18358.0,26067.0,22390.0,70440.0,60199.0,38547.0,19107.0,37929.0,16813.0,62187.0,57811.0,50943.0,50943.0,53201.0,54414.0,26290.0,61250.0,28389.0,55250.0,37758.0,37758.0,37633.0,33629.0,36947.0,69142.0,53154.0,65695.0,69805.0,36975.0,26228.0,37787.0,37087.0,57247.0,36930.0,48721.0,43641.0,75903.0,71391.0,16927.0,27215.0,53858.0,30983.0,43462.0,63943.0,26816.0,75484.0,33564.0,54348.0,54984.0,34738.0,68118.0,68118.0,22682.0,51948.0,25293.0,25293.0,41551.0,56067.0,67433.0,22010.0,64831.0,62820.0,62820.0,78353.0,57183.0,23478.0,30168.0,37155.0,16581.0,41850.0,81380.0,56386.0,25818.0,15345.0,57954.0,50300.0,38725.0,10404.0,26868.0,72298.0,72905.0,47025.0,29938.0,46681.0,46681.0,29548.0,62058.0,60004.6,36736.0,8820.0,14918.0,56715.0,24882.0,24882.0,40442.0,64176.0,23536.0,35246.0,28442.0,48195.0,74116.0,78093.0,59354.0,36301.0,77598.0,62710.0,36317.0,42767.0,43815.0,44421.0,48948.0,48948.0,63120.0,55517.0,36864.0,33006.6,82582.0,79803.0,52569.0,82032.0,82032.0,65685.0,65685.0,40451.0,31163.0,31163.0,35704.0,7500.0,36075.0,70038.0,70038.0,71796.0,47821.0,45503.0,28647.0,37760.0,85431.0,72635.0,72635.0,77142.0,53172.0,36065.0,73926.0,35790.0,39552.0,68316.0,102160.0,51390.0,72066.0,21675.0,48006.0,65106.0,58401.0,29315.0,49389.0,51717.0,46779.0,28520.0,34377.0,54959.0,82384.0,46998.0,58554.0,58554.0,57333.0,80685.0,52117.0,62220.0,64014.0,64014.0,46390.0,75507.0,75507.0,59412.0,50616.0,35924.0,57937.0,73356.0,21255.0,58494.0,72460.0,68682.0,68682.0,36959.0,46463.0,61825.0,61825.0,28691.0,28691.0,54058.0,84196.0,38620.0,38620.0,3502.0,47743.0,80360.0,66303.0,52413.0,60714.0,31385.0,83257.0,80427.0,38823.0,42014.0,42014.0,76140.0,41713.0,62670.0,70932.0,78939.0,44512.0,63967.0,90842.0,25358.0,37225.4,28567.0,66373.0,66373.0,83844.0,83844.0,83844.0,83664.0,27450.0,54880.0,71322.0,60000.0,65176.0,61010.0,31089.0,20518.0,34469.0,28332.0,33456.0,38443.0,65333.0,82623.0,73691.0,74485.0,65748.0,24367.0,91700.0,79244.0,82017.0,58138.0,59354.0,58482.0,29478.0,64474.0,31160.0,40321.0,40321.0,55239.0,57513.0,85693.0,71855.0,7500.0,71969.0,28973.0,80872.0,84117.0,38741.0,38961.0,75922.0,56962.0,56962.0,70165.0,65308.0,29298.0,63246.0,33402.0,96843.0,82333.0,72643.0,32313.0,55284.0,15287.0,15287.0,51563.0,81929.0,53593.0,60432.0,66726.0,62450.0,49514.0,43269.0,33762.0,60894.0,87771.0,87771.0,50737.0,26150.0,57304.0,71107.0,53253.0,81320.0,87000.0,40049.0,63684.0,69016.0,7500.0,73803.0,46094.0,85844.0,38452.0,38452.0,80395.0,87679.0,35416.0,44124.0,50729.0,94384.0,94384.0,34412.0,31158.0,34838.0,56775.0,54356.0,72159.0,8028.0,55951.0,67911.0,67911.0,20427.0,32303.0,55954.0,49187.0,49854.0,63693.0,63693.0,19510.0,52332.0,55593.0,54591.0,74859.0,40851.0,58607.0,7500.0,52614.0,52614.0,67445.0,67445.0,67445.0,36778.0,39453.0,42731.0,40760.0,69969.0,80317.0,66636.0,54730.0,42835.0,53843.0,79530.0,63841.0,63841.0,63841.0,27100.0,27100.0,72309.0,50664.0,20194.0,76618.0,45207.0,56721.0,27038.0,23763.0,37085.0,49605.0,1730.0,34824.0,34824.0,63206.0,26759.0,55412.0,33590.0,70886.0,72679.0,65073.0,44300.0,56129.0,56129.0,38590.0,53083.0,79689.0,34704.0,65316.0,41014.0,19740.0,23724.0,55212.0,55212.0,79800.0,70647.0,38410.0,28071.0,54803.0,74293.0,74293.0,35684.0,34320.0,41967.0,49681.0,49681.0,53187.0,86610.0,70951.0,24206.0,55357.0,58113.0,70643.0,64355.0,82576.0,41644.0,72570.0,30630.0,22944.0,86979.0,51056.0,82072.0,52034.0,72354.0,28427.0,28427.0,39858.0,67381.0,23529.0,51479.0,76068.0,22507.0,52413.0,50116.0,76624.0,34587.0,62159.0,66294.0,5648.0,37235.0,85620.0,23976.0,41020.0,36108.0,57530.0,62905.0,65846.0,34380.0,41638.0,63207.0,28320.0,43140.0,52531.0,40246.0,35196.0,35196.0,70596.0,70596.0,52597.0,42394.0,81657.0,49154.0,34074.0,36436.0,70638.0,38136.0,67432.0,40689.0,40689.0,101970.0,44325.0,61467.0,48178.0,16005.0,79593.0,79593.0,61180.0,64449.0,77437.0,17649.0,53103.0,71819.0,74290.0,72282.0,47352.0,47352.0,46524.0,50200.0,18222.0,77610.0,38097.0,44377.0,58684.0,66480.0,49638.0,50616.0,26642.0,33235.0,23228.0,36732.0,82657.0,64140.0,44392.0,16185.0,38702.0,54072.0,61787.0,34935.0,34935.0,59292.0,59292.0,57959.0,92491.0,42207.0,46984.0,23442.0,46757.0,14515.0,80910.0,30545.0,44802.0,79941.0,79734.0,50353.0,77376.0,78075.0,42473.0,25008.0,56223.0,47850.0,91820.0,40637.0,23295.0,84574.0,54165.0,28510.0,67131.0,56242.0,86580.0,76005.0,54693.0,52750.0,36997.0,34230.0,47916.0,60839.0,79930.0,55158.0,85485.0,75865.0,44375.0,60504.0,65492.0,67506.0,68805.0,61209.0,66825.0,87188.0,84953.0,74637.0,86111.0,77632.0,31814.0,70116.0,48240.0,40101.0,70503.0,79205.0,51766.0,62994.0,65640.0,38361.0,38361.0,19986.0,19986.0,72903.0,45072.0,59062.0,61794.0,45143.0,45143.0,26877.0,36921.0,54342.0,62772.0,75032.0,22419.0,22419.0,36550.0,75027.0,63159.0,54108.0,81795.0,59594.0,18492.0,94472.0,70337.0,34853.0,66141.6,16269.0,50272.0,22804.0,22804.0,30631.0,78420.0,81741.0,25721.0,31907.0,37859.0,30261.0,21645.0,21282.0,32144.0,62637.0,16626.0,54690.0,54690.0,61284.0,23718.0,33419.0,82025.0,15056.0,48192.0,67309.0,66033.0,28769.0,6835.0,32880.0,23616.0,19419.0,34961.0,64892.0,16248.0,43776.0,52074.0,22123.0,35544.0,59060.0,65665.0,29819.0,81217.0,81217.0,26095.0,65706.0,31859.0,93027.0,58710.0,49618.0,58308.0,40800.0,18690.0,18690.0,18690.0,28087.0,75702.0,32892.0,32892.0,89120.0,27116.0,46107.0,54466.0,59686.0,82460.0,76045.0,83829.0,83829.0,32889.0,33462.0,36627.0,28718.0,77981.0,60230.0,74918.0,40464.0,64857.0,64857.0,63381.0,63381.0,66664.0,66664.0,86358.0,41443.0,57072.0,54178.0,48767.0,51124.0,43020.0,49980.0,72906.0,25176.0,96876.0,31086.0,24072.0,76773.0,72190.0,83837.0,17345.0,75154.0,28249.0,28249.0,69661.0,27922.0,45903.0,36273.0,70777.0,17148.0,66476.0,45057.0,41120.0,50541.8,19485.0,21840.0,41473.0,31395.0,68117.0,47682.0,83151.0,58086.0,84460.0,66565.0,23910.0,35893.0,71128.0,38683.0,37150.0,61064.0,51650.0,55249.0,46854.0,14421.0,54132.0,153924.0,64813.0,61872.0,58025.0,83790.0,34350.0,33438.0,21955.0,60491.0,59304.0,34421.0,34421.0,51411.0,71964.0,64504.0,49678.0,60482.0,55260.0,67369.0,47175.0,68743.0,56937.0,83033.0,37697.0,37697.0,44689.0,23162.0,63033.0,40304.0,40059.0,80067.0,36038.0,56678.4,40521.0,66334.0,11012.0,31615.0,36840.6,69098.0,70792.0,17688.0,25443.0,57091.0,24336.0,51111.0,44503.0,56850.0,66582.0,23148.0,82224.0,61917.0,43482.0,68274.0,42373.0,54406.2,57537.0,80995.0,30992.0,30992.0,78642.0,74268.0,75072.0,56253.0,59925.0,62807.0,62807.0,23626.0,46106.0,81168.0,27244.0,26091.0,26091.0,43142.0,38232.0,92533.0,63285.0,38946.0,38946.0,40233.0,46831.0,67605.0,70379.0,77297.0,55759.0,58217.0,51369.0,51369.0,91249.0,52513.0,44159.0,76081.0,76081.0,39996.0,55012.0,77457.0,80695.0,71866.0,73450.0,55614.0,156924.0,30753.0,54603.0,22280.0,59385.0,76998.0,80573.0,80573.0,24711.0,38829.0,71466.0,28839.0,53790.0,73705.0,22448.0,12571.0,73113.0,35765.0,46734.0,66313.0,68148.0,44393.0,38197.0,51012.0,51012.0,13672.0,41452.0,42081.0,14906.0,33812.0,46098.0,46098.0,46098.0,53230.0,88420.0,39548.0,61278.0,81246.0,58330.0,58330.0,65777.0,70829.0,43432.4,59247.0,25930.0,54753.0,28440.0,23559.0,62335.0,63777.0,59666.0,50965.0,71488.0,72228.0,46231.0,75702.0,43300.0,78618.0,69331.4,29760.0,29760.0,50127.0,29604.0,49413.0,51876.0,45837.0,85696.0,85696.0,59432.0,43185.0,60631.0,20559.0,50898.0,73807.0,14661.0,36807.0,46772.0,81574.0,30772.0,46377.0,78128.0,83443.0,50523.0,47009.0,37054.0,32011.0,82122.0,70300.0,21024.0,34916.0,27943.0,39791.0,62745.0,18589.0,85606.0,26997.0,82332.0,38853.0,27071.0,90933.0,65814.0,74250.0,33181.0,45006.0,42315.0,48699.0,59111.0,48726.0,37244.0,74854.0,60896.0,67546.0,67546.0,46923.0,38988.0,49118.0,27683.0,39190.0,56981.0,23228.0,90000.0,55707.0,9255.0,42997.0,71232.0,57744.0,33585.0,46891.0,46891.0,50387.0,76653.0,76542.0,76995.0,38415.0,22304.0,75127.0,75127.0,39722.0,7144.0,39771.0,42618.0,51518.0,74716.0,33955.0,45736.0,31632.0,60093.0,30822.0,41728.0,80739.0,49767.0,34445.0,67046.0,73538.0,80398.0,52973.0,38998.0,38998.0,26490.0,26490.0,23331.0,60544.0,60544.0,49269.0,27203.0,45204.0,67023.0,77583.0,76630.0,47353.0,48920.0,67472.0,64100.0,38872.0,72217.0,15038.0,13624.0,42554.0,71952.0,71952.0,78041.0,63972.0,52852.0,62010.0,83151.0,77870.0,46931.0,85072.0,73395.0,62307.0,58293.0,47889.0,24594.0,24594.0,69882.0,24221.0,22327.0,61923.0,35791.0,35791.0,91172.0,35441.0,19656.0,7500.0,71626.0,75330.0,34529.0,48789.0,34487.0,35688.0,35688.0,53700.0,73454.0,71113.0,65843.6,31535.0,80812.0,40479.0,29440.0,38508.0,69520.0,18701.0,18701.0,69901.0,47703.0,86037.0,71847.0,42033.0,51983.0,68655.0,68655.0,38285.0,79419.0,57338.0,42523.0,42523.0,31761.0,65747.0,17144.0,17144.0,59529.4,84618.0,84618.0,66375.0,42213.0,59556.0,51141.0,15072.0,7500.0,17117.0,59754.0,65569.0,28457.0,86857.0,86857.0,68142.0,48794.0,63404.0,49669.0,55761.0,78331.0,37971.0,30368.0,34043.0,54111.0,69932.0,39665.0,93404.0,38680.0,24570.0,77766.0,77766.0,64961.0,23748.0,45989.0,23331.0,70421.0,23091.0,24683.0,157243.0,54222.0,73455.0,84906.0,84906.0,47025.0,44529.0,31560.0,90687.0,66973.0,41154.0,64590.0,50611.0,50611.0,83273.0,81702.0,24401.0,42557.0,7500.0,78416.0,44794.0,44794.0,69719.0,62568.0,42231.0,20130.0,20130.0,42429.0,42429.0,36640.0,78901.0,66476.0,31056.0,46310.0,65819.0,94871.0]}],                        {\"template\":{\"data\":{\"bar\":[{\"error_x\":{\"color\":\"#2a3f5f\"},\"error_y\":{\"color\":\"#2a3f5f\"},\"marker\":{\"line\":{\"color\":\"#E5ECF6\",\"width\":0.5},\"pattern\":{\"fillmode\":\"overlay\",\"size\":10,\"solidity\":0.2}},\"type\":\"bar\"}],\"barpolar\":[{\"marker\":{\"line\":{\"color\":\"#E5ECF6\",\"width\":0.5},\"pattern\":{\"fillmode\":\"overlay\",\"size\":10,\"solidity\":0.2}},\"type\":\"barpolar\"}],\"carpet\":[{\"aaxis\":{\"endlinecolor\":\"#2a3f5f\",\"gridcolor\":\"white\",\"linecolor\":\"white\",\"minorgridcolor\":\"white\",\"startlinecolor\":\"#2a3f5f\"},\"baxis\":{\"endlinecolor\":\"#2a3f5f\",\"gridcolor\":\"white\",\"linecolor\":\"white\",\"minorgridcolor\":\"white\",\"startlinecolor\":\"#2a3f5f\"},\"type\":\"carpet\"}],\"choropleth\":[{\"colorbar\":{\"outlinewidth\":0,\"ticks\":\"\"},\"type\":\"choropleth\"}],\"contour\":[{\"colorbar\":{\"outlinewidth\":0,\"ticks\":\"\"},\"colorscale\":[[0.0,\"#0d0887\"],[0.1111111111111111,\"#46039f\"],[0.2222222222222222,\"#7201a8\"],[0.3333333333333333,\"#9c179e\"],[0.4444444444444444,\"#bd3786\"],[0.5555555555555556,\"#d8576b\"],[0.6666666666666666,\"#ed7953\"],[0.7777777777777778,\"#fb9f3a\"],[0.8888888888888888,\"#fdca26\"],[1.0,\"#f0f921\"]],\"type\":\"contour\"}],\"contourcarpet\":[{\"colorbar\":{\"outlinewidth\":0,\"ticks\":\"\"},\"type\":\"contourcarpet\"}],\"heatmap\":[{\"colorbar\":{\"outlinewidth\":0,\"ticks\":\"\"},\"colorscale\":[[0.0,\"#0d0887\"],[0.1111111111111111,\"#46039f\"],[0.2222222222222222,\"#7201a8\"],[0.3333333333333333,\"#9c179e\"],[0.4444444444444444,\"#bd3786\"],[0.5555555555555556,\"#d8576b\"],[0.6666666666666666,\"#ed7953\"],[0.7777777777777778,\"#fb9f3a\"],[0.8888888888888888,\"#fdca26\"],[1.0,\"#f0f921\"]],\"type\":\"heatmap\"}],\"heatmapgl\":[{\"colorbar\":{\"outlinewidth\":0,\"ticks\":\"\"},\"colorscale\":[[0.0,\"#0d0887\"],[0.1111111111111111,\"#46039f\"],[0.2222222222222222,\"#7201a8\"],[0.3333333333333333,\"#9c179e\"],[0.4444444444444444,\"#bd3786\"],[0.5555555555555556,\"#d8576b\"],[0.6666666666666666,\"#ed7953\"],[0.7777777777777778,\"#fb9f3a\"],[0.8888888888888888,\"#fdca26\"],[1.0,\"#f0f921\"]],\"type\":\"heatmapgl\"}],\"histogram\":[{\"marker\":{\"pattern\":{\"fillmode\":\"overlay\",\"size\":10,\"solidity\":0.2}},\"type\":\"histogram\"}],\"histogram2d\":[{\"colorbar\":{\"outlinewidth\":0,\"ticks\":\"\"},\"colorscale\":[[0.0,\"#0d0887\"],[0.1111111111111111,\"#46039f\"],[0.2222222222222222,\"#7201a8\"],[0.3333333333333333,\"#9c179e\"],[0.4444444444444444,\"#bd3786\"],[0.5555555555555556,\"#d8576b\"],[0.6666666666666666,\"#ed7953\"],[0.7777777777777778,\"#fb9f3a\"],[0.8888888888888888,\"#fdca26\"],[1.0,\"#f0f921\"]],\"type\":\"histogram2d\"}],\"histogram2dcontour\":[{\"colorbar\":{\"outlinewidth\":0,\"ticks\":\"\"},\"colorscale\":[[0.0,\"#0d0887\"],[0.1111111111111111,\"#46039f\"],[0.2222222222222222,\"#7201a8\"],[0.3333333333333333,\"#9c179e\"],[0.4444444444444444,\"#bd3786\"],[0.5555555555555556,\"#d8576b\"],[0.6666666666666666,\"#ed7953\"],[0.7777777777777778,\"#fb9f3a\"],[0.8888888888888888,\"#fdca26\"],[1.0,\"#f0f921\"]],\"type\":\"histogram2dcontour\"}],\"mesh3d\":[{\"colorbar\":{\"outlinewidth\":0,\"ticks\":\"\"},\"type\":\"mesh3d\"}],\"parcoords\":[{\"line\":{\"colorbar\":{\"outlinewidth\":0,\"ticks\":\"\"}},\"type\":\"parcoords\"}],\"pie\":[{\"automargin\":true,\"type\":\"pie\"}],\"scatter\":[{\"marker\":{\"colorbar\":{\"outlinewidth\":0,\"ticks\":\"\"}},\"type\":\"scatter\"}],\"scatter3d\":[{\"line\":{\"colorbar\":{\"outlinewidth\":0,\"ticks\":\"\"}},\"marker\":{\"colorbar\":{\"outlinewidth\":0,\"ticks\":\"\"}},\"type\":\"scatter3d\"}],\"scattercarpet\":[{\"marker\":{\"colorbar\":{\"outlinewidth\":0,\"ticks\":\"\"}},\"type\":\"scattercarpet\"}],\"scattergeo\":[{\"marker\":{\"colorbar\":{\"outlinewidth\":0,\"ticks\":\"\"}},\"type\":\"scattergeo\"}],\"scattergl\":[{\"marker\":{\"colorbar\":{\"outlinewidth\":0,\"ticks\":\"\"}},\"type\":\"scattergl\"}],\"scattermapbox\":[{\"marker\":{\"colorbar\":{\"outlinewidth\":0,\"ticks\":\"\"}},\"type\":\"scattermapbox\"}],\"scatterpolar\":[{\"marker\":{\"colorbar\":{\"outlinewidth\":0,\"ticks\":\"\"}},\"type\":\"scatterpolar\"}],\"scatterpolargl\":[{\"marker\":{\"colorbar\":{\"outlinewidth\":0,\"ticks\":\"\"}},\"type\":\"scatterpolargl\"}],\"scatterternary\":[{\"marker\":{\"colorbar\":{\"outlinewidth\":0,\"ticks\":\"\"}},\"type\":\"scatterternary\"}],\"surface\":[{\"colorbar\":{\"outlinewidth\":0,\"ticks\":\"\"},\"colorscale\":[[0.0,\"#0d0887\"],[0.1111111111111111,\"#46039f\"],[0.2222222222222222,\"#7201a8\"],[0.3333333333333333,\"#9c179e\"],[0.4444444444444444,\"#bd3786\"],[0.5555555555555556,\"#d8576b\"],[0.6666666666666666,\"#ed7953\"],[0.7777777777777778,\"#fb9f3a\"],[0.8888888888888888,\"#fdca26\"],[1.0,\"#f0f921\"]],\"type\":\"surface\"}],\"table\":[{\"cells\":{\"fill\":{\"color\":\"#EBF0F8\"},\"line\":{\"color\":\"white\"}},\"header\":{\"fill\":{\"color\":\"#C8D4E3\"},\"line\":{\"color\":\"white\"}},\"type\":\"table\"}]},\"layout\":{\"annotationdefaults\":{\"arrowcolor\":\"#2a3f5f\",\"arrowhead\":0,\"arrowwidth\":1},\"autotypenumbers\":\"strict\",\"coloraxis\":{\"colorbar\":{\"outlinewidth\":0,\"ticks\":\"\"}},\"colorscale\":{\"diverging\":[[0,\"#8e0152\"],[0.1,\"#c51b7d\"],[0.2,\"#de77ae\"],[0.3,\"#f1b6da\"],[0.4,\"#fde0ef\"],[0.5,\"#f7f7f7\"],[0.6,\"#e6f5d0\"],[0.7,\"#b8e186\"],[0.8,\"#7fbc41\"],[0.9,\"#4d9221\"],[1,\"#276419\"]],\"sequential\":[[0.0,\"#0d0887\"],[0.1111111111111111,\"#46039f\"],[0.2222222222222222,\"#7201a8\"],[0.3333333333333333,\"#9c179e\"],[0.4444444444444444,\"#bd3786\"],[0.5555555555555556,\"#d8576b\"],[0.6666666666666666,\"#ed7953\"],[0.7777777777777778,\"#fb9f3a\"],[0.8888888888888888,\"#fdca26\"],[1.0,\"#f0f921\"]],\"sequentialminus\":[[0.0,\"#0d0887\"],[0.1111111111111111,\"#46039f\"],[0.2222222222222222,\"#7201a8\"],[0.3333333333333333,\"#9c179e\"],[0.4444444444444444,\"#bd3786\"],[0.5555555555555556,\"#d8576b\"],[0.6666666666666666,\"#ed7953\"],[0.7777777777777778,\"#fb9f3a\"],[0.8888888888888888,\"#fdca26\"],[1.0,\"#f0f921\"]]},\"colorway\":[\"#636efa\",\"#EF553B\",\"#00cc96\",\"#ab63fa\",\"#FFA15A\",\"#19d3f3\",\"#FF6692\",\"#B6E880\",\"#FF97FF\",\"#FECB52\"],\"font\":{\"color\":\"#2a3f5f\"},\"geo\":{\"bgcolor\":\"white\",\"lakecolor\":\"white\",\"landcolor\":\"#E5ECF6\",\"showlakes\":true,\"showland\":true,\"subunitcolor\":\"white\"},\"hoverlabel\":{\"align\":\"left\"},\"hovermode\":\"closest\",\"mapbox\":{\"style\":\"light\"},\"paper_bgcolor\":\"white\",\"plot_bgcolor\":\"#E5ECF6\",\"polar\":{\"angularaxis\":{\"gridcolor\":\"white\",\"linecolor\":\"white\",\"ticks\":\"\"},\"bgcolor\":\"#E5ECF6\",\"radialaxis\":{\"gridcolor\":\"white\",\"linecolor\":\"white\",\"ticks\":\"\"}},\"scene\":{\"xaxis\":{\"backgroundcolor\":\"#E5ECF6\",\"gridcolor\":\"white\",\"gridwidth\":2,\"linecolor\":\"white\",\"showbackground\":true,\"ticks\":\"\",\"zerolinecolor\":\"white\"},\"yaxis\":{\"backgroundcolor\":\"#E5ECF6\",\"gridcolor\":\"white\",\"gridwidth\":2,\"linecolor\":\"white\",\"showbackground\":true,\"ticks\":\"\",\"zerolinecolor\":\"white\"},\"zaxis\":{\"backgroundcolor\":\"#E5ECF6\",\"gridcolor\":\"white\",\"gridwidth\":2,\"linecolor\":\"white\",\"showbackground\":true,\"ticks\":\"\",\"zerolinecolor\":\"white\"}},\"shapedefaults\":{\"line\":{\"color\":\"#2a3f5f\"}},\"ternary\":{\"aaxis\":{\"gridcolor\":\"white\",\"linecolor\":\"white\",\"ticks\":\"\"},\"baxis\":{\"gridcolor\":\"white\",\"linecolor\":\"white\",\"ticks\":\"\"},\"bgcolor\":\"#E5ECF6\",\"caxis\":{\"gridcolor\":\"white\",\"linecolor\":\"white\",\"ticks\":\"\"}},\"title\":{\"x\":0.05},\"xaxis\":{\"automargin\":true,\"gridcolor\":\"white\",\"linecolor\":\"white\",\"ticks\":\"\",\"title\":{\"standoff\":15},\"zerolinecolor\":\"white\",\"zerolinewidth\":2},\"yaxis\":{\"automargin\":true,\"gridcolor\":\"white\",\"linecolor\":\"white\",\"ticks\":\"\",\"title\":{\"standoff\":15},\"zerolinecolor\":\"white\",\"zerolinewidth\":2}}}},                        {\"responsive\": true}                    ).then(function(){\n",
              "                            \n",
              "var gd = document.getElementById('4193824c-ad62-4e7e-a401-0e1809ccd2d1');\n",
              "var x = new MutationObserver(function (mutations, observer) {{\n",
              "        var display = window.getComputedStyle(gd).display;\n",
              "        if (!display || display === 'none') {{\n",
              "            console.log([gd, 'removed!']);\n",
              "            Plotly.purge(gd);\n",
              "            observer.disconnect();\n",
              "        }}\n",
              "}});\n",
              "\n",
              "// Listen for the removal of the full notebook cells\n",
              "var notebookContainer = gd.closest('#notebook-container');\n",
              "if (notebookContainer) {{\n",
              "    x.observe(notebookContainer, {childList: true});\n",
              "}}\n",
              "\n",
              "// Listen for the clearing of the current output cell\n",
              "var outputEl = gd.closest('.output');\n",
              "if (outputEl) {{\n",
              "    x.observe(outputEl, {childList: true});\n",
              "}}\n",
              "\n",
              "                        })                };                });            </script>        </div>"
            ]
          },
          "metadata": {},
          "output_type": "display_data"
        }
      ],
      "source": [
        "reg = LinearRegression()\n",
        "fig = go.Figure(data=go.Scatter(name='observations',x=dataset['Spending'], y=dataset['Income'],mode='markers'))\n",
        "\n",
        "fig.update_traces(hovertemplate='Spending: %{x} <br>Income: %{y}')\n",
        "fig.show()"
      ]
    },
    {
      "cell_type": "markdown",
      "id": "50def41d",
      "metadata": {
        "papermill": {
          "duration": 0.069211,
          "end_time": "2021-08-26T15:25:44.319696",
          "exception": false,
          "start_time": "2021-08-26T15:25:44.250485",
          "status": "completed"
        },
        "tags": [],
        "id": "50def41d"
      },
      "source": [
        "Spending seems to be positively correlated with the income level.\n",
        "\n",
        "We will verify later with a statistical test if the correlation between the annual income and the amount of spending is statistically significant."
      ]
    },
    {
      "cell_type": "markdown",
      "id": "bc20d45d",
      "metadata": {
        "papermill": {
          "duration": 0.072167,
          "end_time": "2021-08-26T15:25:44.462452",
          "exception": false,
          "start_time": "2021-08-26T15:25:44.390285",
          "status": "completed"
        },
        "tags": [],
        "id": "bc20d45d"
      },
      "source": [
        "### **Diploma distribution by marital situation**"
      ]
    },
    {
      "cell_type": "code",
      "execution_count": null,
      "id": "0fb14f2f",
      "metadata": {
        "execution": {
          "iopub.execute_input": "2021-08-26T15:25:44.609778Z",
          "iopub.status.busy": "2021-08-26T15:25:44.609129Z",
          "iopub.status.idle": "2021-08-26T15:25:44.615894Z",
          "shell.execute_reply": "2021-08-26T15:25:44.614901Z",
          "shell.execute_reply.started": "2021-08-26T15:03:44.512093Z"
        },
        "papermill": {
          "duration": 0.082917,
          "end_time": "2021-08-26T15:25:44.616081",
          "exception": false,
          "start_time": "2021-08-26T15:25:44.533164",
          "status": "completed"
        },
        "tags": [],
        "id": "0fb14f2f"
      },
      "outputs": [],
      "source": [
        "dataset['Marital_Situation']=dataset['Marital_Situation'].replace({'Divorced':'Alone','Single':'Alone','Married':'In couple','Together':'In couple','Absurd':'Alone','Widow':'Alone','YOLO':'Alone'})"
      ]
    },
    {
      "cell_type": "code",
      "execution_count": null,
      "id": "05c9c7e5",
      "metadata": {
        "execution": {
          "iopub.execute_input": "2021-08-26T15:25:44.771095Z",
          "iopub.status.busy": "2021-08-26T15:25:44.770211Z",
          "iopub.status.idle": "2021-08-26T15:25:44.923129Z",
          "shell.execute_reply": "2021-08-26T15:25:44.923601Z",
          "shell.execute_reply.started": "2021-08-26T15:03:44.520929Z"
        },
        "papermill": {
          "duration": 0.230198,
          "end_time": "2021-08-26T15:25:44.923784",
          "exception": false,
          "start_time": "2021-08-26T15:25:44.693586",
          "status": "completed"
        },
        "tags": [],
        "id": "05c9c7e5",
        "outputId": "b509648b-c11f-4d0b-811c-3922bd77381e"
      },
      "outputs": [
        {
          "data": {
            "text/html": [
              "<div>                            <div id=\"98172322-2bcf-4490-8e50-adbd0c754f33\" class=\"plotly-graph-div\" style=\"height:525px; width:100%;\"></div>            <script type=\"text/javascript\">                require([\"plotly\"], function(Plotly) {                    window.PLOTLYENV=window.PLOTLYENV || {};                                    if (document.getElementById(\"98172322-2bcf-4490-8e50-adbd0c754f33\")) {                    Plotly.newPlot(                        \"98172322-2bcf-4490-8e50-adbd0c754f33\",                        [{\"branchvalues\":\"total\",\"domain\":{\"x\":[0.0,1.0],\"y\":[0.0,1.0]},\"hovertemplate\":\"labels=%{label}<br>count=%{value}<br>parent=%{parent}<br>id=%{id}<extra></extra>\",\"ids\":[\"Alone/2n Cycle\",\"In couple/2n Cycle\",\"Alone/Basic\",\"In couple/Basic\",\"Alone/Graduation\",\"In couple/Graduation\",\"Alone/Master\",\"In couple/Master\",\"Alone/PhD\",\"In couple/PhD\",\"Alone\",\"In couple\"],\"labels\":[\"2n Cycle\",\"2n Cycle\",\"Basic\",\"Basic\",\"Graduation\",\"Graduation\",\"Master\",\"Master\",\"PhD\",\"PhD\",\"Alone\",\"In couple\"],\"name\":\"\",\"parents\":[\"Alone\",\"In couple\",\"Alone\",\"In couple\",\"Alone\",\"In couple\",\"Alone\",\"In couple\",\"Alone\",\"In couple\",\"\",\"\"],\"type\":\"sunburst\",\"values\":[65,138,20,34,408,718,126,244,177,309,796,1443]}],                        {\"legend\":{\"tracegroupgap\":0},\"margin\":{\"t\":60},\"sunburstcolorway\":[\"rgb(150,0,90)\",\"rgb(0,0,200)\",\"rgb(0,25,255)\",\"rgb(0,152,255)\",\"rgb(44,255,150)\",\"rgb(151,255,0)\",\"rgb(255,234,0)\",\"rgb(255,111,0)\",\"rgb(255,0,0)\"],\"template\":{\"data\":{\"bar\":[{\"error_x\":{\"color\":\"#2a3f5f\"},\"error_y\":{\"color\":\"#2a3f5f\"},\"marker\":{\"line\":{\"color\":\"#E5ECF6\",\"width\":0.5},\"pattern\":{\"fillmode\":\"overlay\",\"size\":10,\"solidity\":0.2}},\"type\":\"bar\"}],\"barpolar\":[{\"marker\":{\"line\":{\"color\":\"#E5ECF6\",\"width\":0.5},\"pattern\":{\"fillmode\":\"overlay\",\"size\":10,\"solidity\":0.2}},\"type\":\"barpolar\"}],\"carpet\":[{\"aaxis\":{\"endlinecolor\":\"#2a3f5f\",\"gridcolor\":\"white\",\"linecolor\":\"white\",\"minorgridcolor\":\"white\",\"startlinecolor\":\"#2a3f5f\"},\"baxis\":{\"endlinecolor\":\"#2a3f5f\",\"gridcolor\":\"white\",\"linecolor\":\"white\",\"minorgridcolor\":\"white\",\"startlinecolor\":\"#2a3f5f\"},\"type\":\"carpet\"}],\"choropleth\":[{\"colorbar\":{\"outlinewidth\":0,\"ticks\":\"\"},\"type\":\"choropleth\"}],\"contour\":[{\"colorbar\":{\"outlinewidth\":0,\"ticks\":\"\"},\"colorscale\":[[0.0,\"#0d0887\"],[0.1111111111111111,\"#46039f\"],[0.2222222222222222,\"#7201a8\"],[0.3333333333333333,\"#9c179e\"],[0.4444444444444444,\"#bd3786\"],[0.5555555555555556,\"#d8576b\"],[0.6666666666666666,\"#ed7953\"],[0.7777777777777778,\"#fb9f3a\"],[0.8888888888888888,\"#fdca26\"],[1.0,\"#f0f921\"]],\"type\":\"contour\"}],\"contourcarpet\":[{\"colorbar\":{\"outlinewidth\":0,\"ticks\":\"\"},\"type\":\"contourcarpet\"}],\"heatmap\":[{\"colorbar\":{\"outlinewidth\":0,\"ticks\":\"\"},\"colorscale\":[[0.0,\"#0d0887\"],[0.1111111111111111,\"#46039f\"],[0.2222222222222222,\"#7201a8\"],[0.3333333333333333,\"#9c179e\"],[0.4444444444444444,\"#bd3786\"],[0.5555555555555556,\"#d8576b\"],[0.6666666666666666,\"#ed7953\"],[0.7777777777777778,\"#fb9f3a\"],[0.8888888888888888,\"#fdca26\"],[1.0,\"#f0f921\"]],\"type\":\"heatmap\"}],\"heatmapgl\":[{\"colorbar\":{\"outlinewidth\":0,\"ticks\":\"\"},\"colorscale\":[[0.0,\"#0d0887\"],[0.1111111111111111,\"#46039f\"],[0.2222222222222222,\"#7201a8\"],[0.3333333333333333,\"#9c179e\"],[0.4444444444444444,\"#bd3786\"],[0.5555555555555556,\"#d8576b\"],[0.6666666666666666,\"#ed7953\"],[0.7777777777777778,\"#fb9f3a\"],[0.8888888888888888,\"#fdca26\"],[1.0,\"#f0f921\"]],\"type\":\"heatmapgl\"}],\"histogram\":[{\"marker\":{\"pattern\":{\"fillmode\":\"overlay\",\"size\":10,\"solidity\":0.2}},\"type\":\"histogram\"}],\"histogram2d\":[{\"colorbar\":{\"outlinewidth\":0,\"ticks\":\"\"},\"colorscale\":[[0.0,\"#0d0887\"],[0.1111111111111111,\"#46039f\"],[0.2222222222222222,\"#7201a8\"],[0.3333333333333333,\"#9c179e\"],[0.4444444444444444,\"#bd3786\"],[0.5555555555555556,\"#d8576b\"],[0.6666666666666666,\"#ed7953\"],[0.7777777777777778,\"#fb9f3a\"],[0.8888888888888888,\"#fdca26\"],[1.0,\"#f0f921\"]],\"type\":\"histogram2d\"}],\"histogram2dcontour\":[{\"colorbar\":{\"outlinewidth\":0,\"ticks\":\"\"},\"colorscale\":[[0.0,\"#0d0887\"],[0.1111111111111111,\"#46039f\"],[0.2222222222222222,\"#7201a8\"],[0.3333333333333333,\"#9c179e\"],[0.4444444444444444,\"#bd3786\"],[0.5555555555555556,\"#d8576b\"],[0.6666666666666666,\"#ed7953\"],[0.7777777777777778,\"#fb9f3a\"],[0.8888888888888888,\"#fdca26\"],[1.0,\"#f0f921\"]],\"type\":\"histogram2dcontour\"}],\"mesh3d\":[{\"colorbar\":{\"outlinewidth\":0,\"ticks\":\"\"},\"type\":\"mesh3d\"}],\"parcoords\":[{\"line\":{\"colorbar\":{\"outlinewidth\":0,\"ticks\":\"\"}},\"type\":\"parcoords\"}],\"pie\":[{\"automargin\":true,\"type\":\"pie\"}],\"scatter\":[{\"marker\":{\"colorbar\":{\"outlinewidth\":0,\"ticks\":\"\"}},\"type\":\"scatter\"}],\"scatter3d\":[{\"line\":{\"colorbar\":{\"outlinewidth\":0,\"ticks\":\"\"}},\"marker\":{\"colorbar\":{\"outlinewidth\":0,\"ticks\":\"\"}},\"type\":\"scatter3d\"}],\"scattercarpet\":[{\"marker\":{\"colorbar\":{\"outlinewidth\":0,\"ticks\":\"\"}},\"type\":\"scattercarpet\"}],\"scattergeo\":[{\"marker\":{\"colorbar\":{\"outlinewidth\":0,\"ticks\":\"\"}},\"type\":\"scattergeo\"}],\"scattergl\":[{\"marker\":{\"colorbar\":{\"outlinewidth\":0,\"ticks\":\"\"}},\"type\":\"scattergl\"}],\"scattermapbox\":[{\"marker\":{\"colorbar\":{\"outlinewidth\":0,\"ticks\":\"\"}},\"type\":\"scattermapbox\"}],\"scatterpolar\":[{\"marker\":{\"colorbar\":{\"outlinewidth\":0,\"ticks\":\"\"}},\"type\":\"scatterpolar\"}],\"scatterpolargl\":[{\"marker\":{\"colorbar\":{\"outlinewidth\":0,\"ticks\":\"\"}},\"type\":\"scatterpolargl\"}],\"scatterternary\":[{\"marker\":{\"colorbar\":{\"outlinewidth\":0,\"ticks\":\"\"}},\"type\":\"scatterternary\"}],\"surface\":[{\"colorbar\":{\"outlinewidth\":0,\"ticks\":\"\"},\"colorscale\":[[0.0,\"#0d0887\"],[0.1111111111111111,\"#46039f\"],[0.2222222222222222,\"#7201a8\"],[0.3333333333333333,\"#9c179e\"],[0.4444444444444444,\"#bd3786\"],[0.5555555555555556,\"#d8576b\"],[0.6666666666666666,\"#ed7953\"],[0.7777777777777778,\"#fb9f3a\"],[0.8888888888888888,\"#fdca26\"],[1.0,\"#f0f921\"]],\"type\":\"surface\"}],\"table\":[{\"cells\":{\"fill\":{\"color\":\"#EBF0F8\"},\"line\":{\"color\":\"white\"}},\"header\":{\"fill\":{\"color\":\"#C8D4E3\"},\"line\":{\"color\":\"white\"}},\"type\":\"table\"}]},\"layout\":{\"annotationdefaults\":{\"arrowcolor\":\"#2a3f5f\",\"arrowhead\":0,\"arrowwidth\":1},\"autotypenumbers\":\"strict\",\"coloraxis\":{\"colorbar\":{\"outlinewidth\":0,\"ticks\":\"\"}},\"colorscale\":{\"diverging\":[[0,\"#8e0152\"],[0.1,\"#c51b7d\"],[0.2,\"#de77ae\"],[0.3,\"#f1b6da\"],[0.4,\"#fde0ef\"],[0.5,\"#f7f7f7\"],[0.6,\"#e6f5d0\"],[0.7,\"#b8e186\"],[0.8,\"#7fbc41\"],[0.9,\"#4d9221\"],[1,\"#276419\"]],\"sequential\":[[0.0,\"#0d0887\"],[0.1111111111111111,\"#46039f\"],[0.2222222222222222,\"#7201a8\"],[0.3333333333333333,\"#9c179e\"],[0.4444444444444444,\"#bd3786\"],[0.5555555555555556,\"#d8576b\"],[0.6666666666666666,\"#ed7953\"],[0.7777777777777778,\"#fb9f3a\"],[0.8888888888888888,\"#fdca26\"],[1.0,\"#f0f921\"]],\"sequentialminus\":[[0.0,\"#0d0887\"],[0.1111111111111111,\"#46039f\"],[0.2222222222222222,\"#7201a8\"],[0.3333333333333333,\"#9c179e\"],[0.4444444444444444,\"#bd3786\"],[0.5555555555555556,\"#d8576b\"],[0.6666666666666666,\"#ed7953\"],[0.7777777777777778,\"#fb9f3a\"],[0.8888888888888888,\"#fdca26\"],[1.0,\"#f0f921\"]]},\"colorway\":[\"#636efa\",\"#EF553B\",\"#00cc96\",\"#ab63fa\",\"#FFA15A\",\"#19d3f3\",\"#FF6692\",\"#B6E880\",\"#FF97FF\",\"#FECB52\"],\"font\":{\"color\":\"#2a3f5f\"},\"geo\":{\"bgcolor\":\"white\",\"lakecolor\":\"white\",\"landcolor\":\"#E5ECF6\",\"showlakes\":true,\"showland\":true,\"subunitcolor\":\"white\"},\"hoverlabel\":{\"align\":\"left\"},\"hovermode\":\"closest\",\"mapbox\":{\"style\":\"light\"},\"paper_bgcolor\":\"white\",\"plot_bgcolor\":\"#E5ECF6\",\"polar\":{\"angularaxis\":{\"gridcolor\":\"white\",\"linecolor\":\"white\",\"ticks\":\"\"},\"bgcolor\":\"#E5ECF6\",\"radialaxis\":{\"gridcolor\":\"white\",\"linecolor\":\"white\",\"ticks\":\"\"}},\"scene\":{\"xaxis\":{\"backgroundcolor\":\"#E5ECF6\",\"gridcolor\":\"white\",\"gridwidth\":2,\"linecolor\":\"white\",\"showbackground\":true,\"ticks\":\"\",\"zerolinecolor\":\"white\"},\"yaxis\":{\"backgroundcolor\":\"#E5ECF6\",\"gridcolor\":\"white\",\"gridwidth\":2,\"linecolor\":\"white\",\"showbackground\":true,\"ticks\":\"\",\"zerolinecolor\":\"white\"},\"zaxis\":{\"backgroundcolor\":\"#E5ECF6\",\"gridcolor\":\"white\",\"gridwidth\":2,\"linecolor\":\"white\",\"showbackground\":true,\"ticks\":\"\",\"zerolinecolor\":\"white\"}},\"shapedefaults\":{\"line\":{\"color\":\"#2a3f5f\"}},\"ternary\":{\"aaxis\":{\"gridcolor\":\"white\",\"linecolor\":\"white\",\"ticks\":\"\"},\"baxis\":{\"gridcolor\":\"white\",\"linecolor\":\"white\",\"ticks\":\"\"},\"bgcolor\":\"#E5ECF6\",\"caxis\":{\"gridcolor\":\"white\",\"linecolor\":\"white\",\"ticks\":\"\"}},\"title\":{\"x\":0.05},\"xaxis\":{\"automargin\":true,\"gridcolor\":\"white\",\"linecolor\":\"white\",\"ticks\":\"\",\"title\":{\"standoff\":15},\"zerolinecolor\":\"white\",\"zerolinewidth\":2},\"yaxis\":{\"automargin\":true,\"gridcolor\":\"white\",\"linecolor\":\"white\",\"ticks\":\"\",\"title\":{\"standoff\":15},\"zerolinecolor\":\"white\",\"zerolinewidth\":2}}}},                        {\"responsive\": true}                    ).then(function(){\n",
              "                            \n",
              "var gd = document.getElementById('98172322-2bcf-4490-8e50-adbd0c754f33');\n",
              "var x = new MutationObserver(function (mutations, observer) {{\n",
              "        var display = window.getComputedStyle(gd).display;\n",
              "        if (!display || display === 'none') {{\n",
              "            console.log([gd, 'removed!']);\n",
              "            Plotly.purge(gd);\n",
              "            observer.disconnect();\n",
              "        }}\n",
              "}});\n",
              "\n",
              "// Listen for the removal of the full notebook cells\n",
              "var notebookContainer = gd.closest('#notebook-container');\n",
              "if (notebookContainer) {{\n",
              "    x.observe(notebookContainer, {childList: true});\n",
              "}}\n",
              "\n",
              "// Listen for the clearing of the current output cell\n",
              "var outputEl = gd.closest('.output');\n",
              "if (outputEl) {{\n",
              "    x.observe(outputEl, {childList: true});\n",
              "}}\n",
              "\n",
              "                        })                };                });            </script>        </div>"
            ]
          },
          "metadata": {},
          "output_type": "display_data"
        }
      ],
      "source": [
        "df = dataset[['Education','Marital_Situation']]\n",
        "\n",
        "fig = px.sunburst(df, path=['Marital_Situation','Education'],color_discrete_sequence=px.colors.sequential.Rainbow)\n",
        "fig.show()"
      ]
    },
    {
      "cell_type": "markdown",
      "id": "a85ff765",
      "metadata": {
        "papermill": {
          "duration": 0.075519,
          "end_time": "2021-08-26T15:25:45.074502",
          "exception": false,
          "start_time": "2021-08-26T15:25:44.998983",
          "status": "completed"
        },
        "tags": [],
        "id": "a85ff765"
      },
      "source": [
        "The distribution of diploma category owned seems to be identical for the two population In couple and Alone\n",
        "\n",
        "We could be tempted to believe that there is no correlation between the diploma owned and the marital status\n",
        "\n",
        "We will verify later if this hypothesis is true."
      ]
    },
    {
      "cell_type": "markdown",
      "id": "3e6ce4ea",
      "metadata": {
        "papermill": {
          "duration": 0.071455,
          "end_time": "2021-08-26T15:25:45.217858",
          "exception": false,
          "start_time": "2021-08-26T15:25:45.146403",
          "status": "completed"
        },
        "tags": [],
        "id": "3e6ce4ea"
      },
      "source": [
        "### **Income level by parental status**"
      ]
    },
    {
      "cell_type": "code",
      "execution_count": null,
      "id": "b545d5c6",
      "metadata": {
        "execution": {
          "iopub.execute_input": "2021-08-26T15:25:45.372943Z",
          "iopub.status.busy": "2021-08-26T15:25:45.371998Z",
          "iopub.status.idle": "2021-08-26T15:25:45.488475Z",
          "shell.execute_reply": "2021-08-26T15:25:45.488949Z",
          "shell.execute_reply.started": "2021-08-26T15:03:44.703587Z"
        },
        "papermill": {
          "duration": 0.194403,
          "end_time": "2021-08-26T15:25:45.489125",
          "exception": false,
          "start_time": "2021-08-26T15:25:45.294722",
          "status": "completed"
        },
        "tags": [],
        "id": "b545d5c6",
        "outputId": "7ffd155e-808f-40a3-980f-18ff9daa3024"
      },
      "outputs": [
        {
          "data": {
            "text/html": [
              "<div>                            <div id=\"640626ba-892b-41f2-9a23-077d8f1e2a58\" class=\"plotly-graph-div\" style=\"height:525px; width:100%;\"></div>            <script type=\"text/javascript\">                require([\"plotly\"], function(Plotly) {                    window.PLOTLYENV=window.PLOTLYENV || {};                                    if (document.getElementById(\"640626ba-892b-41f2-9a23-077d8f1e2a58\")) {                    Plotly.newPlot(                        \"640626ba-892b-41f2-9a23-077d8f1e2a58\",                        [{\"alignmentgroup\":\"True\",\"bingroup\":\"x\",\"hovertemplate\":\"Has_child=No<br>Income=%{x}<br>count=%{y}<extra></extra>\",\"legendgroup\":\"No\",\"marker\":{\"color\":\"blue\",\"pattern\":{\"shape\":\"\"}},\"name\":\"No\",\"offsetgroup\":\"No\",\"orientation\":\"v\",\"showlegend\":true,\"type\":\"histogram\",\"x\":[84835.0,57091.0,71691.0,63564.0,81044.0,67786.0,26872.0,73170.0,79529.0,18351.0,95169.0,65370.0,39228.0,84865.0,81698.0,64260.0,66991.0,90369.0,83715.0,6560.0,82504.0,79174.0,75276.0,72335.0,79143.0,27469.0,68695.0,68695.0,23830.0,71604.0,69476.0,63211.0,65220.0,74214.0,96547.0,81698.0,46610.0,68657.0,69209.0,74004.0,30390.0,85710.0,102692.0,18890.0,85683.0,70321.0,24279.0,68462.0,67430.0,83528.0,90300.0,68092.0,86836.0,72968.0,73687.0,82716.0,71670.0,74985.0,45576.0,113734.0,92344.0,84169.0,84169.0,74165.0,65275.0,56046.0,73448.0,86429.0,69372.0,75693.0,69109.0,69109.0,80134.0,41411.0,32414.0,41003.0,86424.0,78499.0,70515.0,80336.0,15759.0,26326.0,75777.0,75777.0,42670.0,83917.0,79456.0,78789.0,35876.0,23539.0,82170.0,61798.0,78285.0,72940.0,157146.0,81843.0,78394.0,78687.0,78569.0,18100.0,20981.0,74068.0,36790.0,27421.0,83145.0,76412.0,18929.0,18929.0,18929.0,33051.0,22148.0,93790.0,11448.0,75345.0,20491.0,80763.0,75261.0,89891.0,75278.0,77972.0,81361.0,81361.0,65704.0,39767.0,57136.0,83003.0,89058.0,20193.0,72099.0,79410.0,79946.0,80184.0,76982.0,65295.0,57100.0,78931.0,64509.0,30093.0,87305.0,4861.0,77863.0,80952.0,86718.0,80141.0,70356.0,37760.0,37760.0,61839.0,66835.0,66835.0,74538.0,69930.0,62981.0,160803.0,55956.0,45921.0,98777.0,98777.0,65169.0,69755.0,22585.0,42000.0,42000.0,82800.0,82800.0,36262.0,71367.0,71367.0,7500.0,43322.0,90765.0,80589.0,75437.0,61416.0,92163.0,71613.0,82584.0,90226.0,90247.0,32218.0,84219.0,84219.0,62551.0,70123.0,15315.0,15315.0,87171.0,20180.0,20180.0,72025.0,61618.0,77343.0,82571.0,82733.0,63855.0,33279.0,77882.0,78468.0,90638.0,90638.0,70666.0,13084.0,23272.0,71853.0,71853.0,30507.0,95529.0,53653.0,25965.0,82326.0,71163.0,79908.0,69867.0,70287.0,83512.0,44953.0,69267.0,68281.0,92556.0,90273.0,53312.0,41039.0,88347.0,50150.0,50150.0,82497.0,32632.0,76800.0,75794.0,91065.0,45183.0,10979.0,10979.0,75251.0,87195.0,82427.0,94642.0,92955.0,78579.0,78825.0,49667.0,66000.0,83532.0,35701.0,89616.0,105471.0,78427.0,52203.0,76842.0,15033.0,51373.0,79607.0,69759.0,12393.0,82347.0,82347.0,17323.0,32727.0,61482.0,77845.0,73892.0,75114.0,42192.0,14188.0,68126.0,75825.0,70924.0,70924.0,75012.0,85738.0,37040.0,92910.0,79632.0,88325.0,63998.0,70893.0,64849.0,80617.0,81051.0,81205.0,78497.0,78497.0,58398.0,80950.0,89572.0,51315.0,70617.0,62847.0,68627.0,65488.0,72025.0,45938.0,66951.0,75759.0,33996.0,33996.0,92859.0,80124.0,80124.0,91712.0,80144.0,59973.0,81169.0,22634.0,22634.0,30298.0,65487.0,65487.0,42691.0,68487.0,68487.0,82014.0,22390.0,70440.0,37929.0,16813.0,62187.0,28389.0,30983.0,26816.0,62820.0,62820.0,23478.0,16581.0,81380.0,72298.0,72905.0,56715.0,74116.0,78093.0,77598.0,48948.0,48948.0,33006.6,82582.0,82032.0,82032.0,70038.0,70038.0,71796.0,85431.0,72635.0,72635.0,77142.0,73926.0,102160.0,72066.0,82384.0,80685.0,75507.0,75507.0,59412.0,73356.0,72460.0,68682.0,68682.0,38620.0,38620.0,80360.0,60714.0,83257.0,76140.0,78939.0,90842.0,83844.0,83844.0,83844.0,27450.0,28332.0,82623.0,74485.0,91700.0,79244.0,82017.0,58138.0,57513.0,7500.0,28973.0,80872.0,84117.0,75922.0,70165.0,65308.0,96843.0,82333.0,72643.0,51563.0,81320.0,87000.0,85844.0,80395.0,87679.0,35416.0,94384.0,94384.0,72159.0,8028.0,52332.0,74859.0,69969.0,80317.0,66636.0,79530.0,72309.0,76618.0,27038.0,49605.0,1730.0,34824.0,34824.0,63206.0,65073.0,79689.0,79800.0,38410.0,28071.0,74293.0,74293.0,86610.0,70951.0,70643.0,82576.0,72570.0,86979.0,82072.0,72354.0,22507.0,62159.0,66294.0,85620.0,41020.0,65846.0,63207.0,52531.0,70596.0,70596.0,81657.0,36436.0,70638.0,101970.0,79593.0,79593.0,77437.0,72282.0,18222.0,58684.0,82657.0,61787.0,34935.0,34935.0,92491.0,80910.0,44802.0,79941.0,79734.0,50353.0,78075.0,91820.0,23295.0,84574.0,54165.0,86580.0,76005.0,79930.0,85485.0,75865.0,65492.0,61209.0,66825.0,87188.0,84953.0,74637.0,86111.0,77632.0,70116.0,48240.0,70503.0,79205.0,72903.0,26877.0,22419.0,22419.0,63159.0,81795.0,70337.0,66141.6,78420.0,81741.0,31907.0,61284.0,82025.0,48192.0,22123.0,81217.0,81217.0,65706.0,93027.0,18690.0,18690.0,18690.0,89120.0,82460.0,76045.0,83829.0,83829.0,74918.0,64857.0,64857.0,66664.0,66664.0,72906.0,96876.0,76773.0,72190.0,83837.0,28249.0,28249.0,69661.0,50541.8,83151.0,84460.0,14421.0,153924.0,83790.0,71964.0,68743.0,63033.0,80067.0,69098.0,70792.0,66582.0,23148.0,82224.0,74268.0,81168.0,92533.0,63285.0,67605.0,77297.0,91249.0,52513.0,76081.0,76081.0,77457.0,80695.0,73450.0,55614.0,156924.0,80573.0,80573.0,24711.0,71466.0,73113.0,68148.0,51012.0,51012.0,14906.0,88420.0,81246.0,65777.0,43432.4,71488.0,72228.0,78618.0,51876.0,85696.0,85696.0,14661.0,81574.0,83443.0,82122.0,21024.0,18589.0,26997.0,82332.0,90933.0,74250.0,45006.0,59111.0,67546.0,67546.0,49118.0,56981.0,90000.0,76653.0,76542.0,22304.0,75127.0,75127.0,31632.0,80739.0,49767.0,34445.0,80398.0,26490.0,26490.0,67023.0,77583.0,76630.0,72217.0,78041.0,83151.0,85072.0,73395.0,69882.0,24221.0,91172.0,7500.0,71626.0,48789.0,73454.0,80812.0,69520.0,86037.0,71847.0,68655.0,68655.0,79419.0,42523.0,42523.0,84618.0,84618.0,51141.0,28457.0,86857.0,86857.0,73455.0,84906.0,84906.0,90687.0,66973.0,64590.0,81702.0,24401.0,69719.0,20130.0,20130.0,65819.0],\"xaxis\":\"x\",\"yaxis\":\"y\"},{\"alignmentgroup\":\"True\",\"hovertemplate\":\"Has_child=No<br>Income=%{x}<extra></extra>\",\"legendgroup\":\"No\",\"marker\":{\"color\":\"blue\"},\"name\":\"No\",\"notched\":true,\"offsetgroup\":\"No\",\"showlegend\":false,\"type\":\"box\",\"x\":[84835.0,57091.0,71691.0,63564.0,81044.0,67786.0,26872.0,73170.0,79529.0,18351.0,95169.0,65370.0,39228.0,84865.0,81698.0,64260.0,66991.0,90369.0,83715.0,6560.0,82504.0,79174.0,75276.0,72335.0,79143.0,27469.0,68695.0,68695.0,23830.0,71604.0,69476.0,63211.0,65220.0,74214.0,96547.0,81698.0,46610.0,68657.0,69209.0,74004.0,30390.0,85710.0,102692.0,18890.0,85683.0,70321.0,24279.0,68462.0,67430.0,83528.0,90300.0,68092.0,86836.0,72968.0,73687.0,82716.0,71670.0,74985.0,45576.0,113734.0,92344.0,84169.0,84169.0,74165.0,65275.0,56046.0,73448.0,86429.0,69372.0,75693.0,69109.0,69109.0,80134.0,41411.0,32414.0,41003.0,86424.0,78499.0,70515.0,80336.0,15759.0,26326.0,75777.0,75777.0,42670.0,83917.0,79456.0,78789.0,35876.0,23539.0,82170.0,61798.0,78285.0,72940.0,157146.0,81843.0,78394.0,78687.0,78569.0,18100.0,20981.0,74068.0,36790.0,27421.0,83145.0,76412.0,18929.0,18929.0,18929.0,33051.0,22148.0,93790.0,11448.0,75345.0,20491.0,80763.0,75261.0,89891.0,75278.0,77972.0,81361.0,81361.0,65704.0,39767.0,57136.0,83003.0,89058.0,20193.0,72099.0,79410.0,79946.0,80184.0,76982.0,65295.0,57100.0,78931.0,64509.0,30093.0,87305.0,4861.0,77863.0,80952.0,86718.0,80141.0,70356.0,37760.0,37760.0,61839.0,66835.0,66835.0,74538.0,69930.0,62981.0,160803.0,55956.0,45921.0,98777.0,98777.0,65169.0,69755.0,22585.0,42000.0,42000.0,82800.0,82800.0,36262.0,71367.0,71367.0,7500.0,43322.0,90765.0,80589.0,75437.0,61416.0,92163.0,71613.0,82584.0,90226.0,90247.0,32218.0,84219.0,84219.0,62551.0,70123.0,15315.0,15315.0,87171.0,20180.0,20180.0,72025.0,61618.0,77343.0,82571.0,82733.0,63855.0,33279.0,77882.0,78468.0,90638.0,90638.0,70666.0,13084.0,23272.0,71853.0,71853.0,30507.0,95529.0,53653.0,25965.0,82326.0,71163.0,79908.0,69867.0,70287.0,83512.0,44953.0,69267.0,68281.0,92556.0,90273.0,53312.0,41039.0,88347.0,50150.0,50150.0,82497.0,32632.0,76800.0,75794.0,91065.0,45183.0,10979.0,10979.0,75251.0,87195.0,82427.0,94642.0,92955.0,78579.0,78825.0,49667.0,66000.0,83532.0,35701.0,89616.0,105471.0,78427.0,52203.0,76842.0,15033.0,51373.0,79607.0,69759.0,12393.0,82347.0,82347.0,17323.0,32727.0,61482.0,77845.0,73892.0,75114.0,42192.0,14188.0,68126.0,75825.0,70924.0,70924.0,75012.0,85738.0,37040.0,92910.0,79632.0,88325.0,63998.0,70893.0,64849.0,80617.0,81051.0,81205.0,78497.0,78497.0,58398.0,80950.0,89572.0,51315.0,70617.0,62847.0,68627.0,65488.0,72025.0,45938.0,66951.0,75759.0,33996.0,33996.0,92859.0,80124.0,80124.0,91712.0,80144.0,59973.0,81169.0,22634.0,22634.0,30298.0,65487.0,65487.0,42691.0,68487.0,68487.0,82014.0,22390.0,70440.0,37929.0,16813.0,62187.0,28389.0,30983.0,26816.0,62820.0,62820.0,23478.0,16581.0,81380.0,72298.0,72905.0,56715.0,74116.0,78093.0,77598.0,48948.0,48948.0,33006.6,82582.0,82032.0,82032.0,70038.0,70038.0,71796.0,85431.0,72635.0,72635.0,77142.0,73926.0,102160.0,72066.0,82384.0,80685.0,75507.0,75507.0,59412.0,73356.0,72460.0,68682.0,68682.0,38620.0,38620.0,80360.0,60714.0,83257.0,76140.0,78939.0,90842.0,83844.0,83844.0,83844.0,27450.0,28332.0,82623.0,74485.0,91700.0,79244.0,82017.0,58138.0,57513.0,7500.0,28973.0,80872.0,84117.0,75922.0,70165.0,65308.0,96843.0,82333.0,72643.0,51563.0,81320.0,87000.0,85844.0,80395.0,87679.0,35416.0,94384.0,94384.0,72159.0,8028.0,52332.0,74859.0,69969.0,80317.0,66636.0,79530.0,72309.0,76618.0,27038.0,49605.0,1730.0,34824.0,34824.0,63206.0,65073.0,79689.0,79800.0,38410.0,28071.0,74293.0,74293.0,86610.0,70951.0,70643.0,82576.0,72570.0,86979.0,82072.0,72354.0,22507.0,62159.0,66294.0,85620.0,41020.0,65846.0,63207.0,52531.0,70596.0,70596.0,81657.0,36436.0,70638.0,101970.0,79593.0,79593.0,77437.0,72282.0,18222.0,58684.0,82657.0,61787.0,34935.0,34935.0,92491.0,80910.0,44802.0,79941.0,79734.0,50353.0,78075.0,91820.0,23295.0,84574.0,54165.0,86580.0,76005.0,79930.0,85485.0,75865.0,65492.0,61209.0,66825.0,87188.0,84953.0,74637.0,86111.0,77632.0,70116.0,48240.0,70503.0,79205.0,72903.0,26877.0,22419.0,22419.0,63159.0,81795.0,70337.0,66141.6,78420.0,81741.0,31907.0,61284.0,82025.0,48192.0,22123.0,81217.0,81217.0,65706.0,93027.0,18690.0,18690.0,18690.0,89120.0,82460.0,76045.0,83829.0,83829.0,74918.0,64857.0,64857.0,66664.0,66664.0,72906.0,96876.0,76773.0,72190.0,83837.0,28249.0,28249.0,69661.0,50541.8,83151.0,84460.0,14421.0,153924.0,83790.0,71964.0,68743.0,63033.0,80067.0,69098.0,70792.0,66582.0,23148.0,82224.0,74268.0,81168.0,92533.0,63285.0,67605.0,77297.0,91249.0,52513.0,76081.0,76081.0,77457.0,80695.0,73450.0,55614.0,156924.0,80573.0,80573.0,24711.0,71466.0,73113.0,68148.0,51012.0,51012.0,14906.0,88420.0,81246.0,65777.0,43432.4,71488.0,72228.0,78618.0,51876.0,85696.0,85696.0,14661.0,81574.0,83443.0,82122.0,21024.0,18589.0,26997.0,82332.0,90933.0,74250.0,45006.0,59111.0,67546.0,67546.0,49118.0,56981.0,90000.0,76653.0,76542.0,22304.0,75127.0,75127.0,31632.0,80739.0,49767.0,34445.0,80398.0,26490.0,26490.0,67023.0,77583.0,76630.0,72217.0,78041.0,83151.0,85072.0,73395.0,69882.0,24221.0,91172.0,7500.0,71626.0,48789.0,73454.0,80812.0,69520.0,86037.0,71847.0,68655.0,68655.0,79419.0,42523.0,42523.0,84618.0,84618.0,51141.0,28457.0,86857.0,86857.0,73455.0,84906.0,84906.0,90687.0,66973.0,64590.0,81702.0,24401.0,69719.0,20130.0,20130.0,65819.0],\"xaxis\":\"x2\",\"yaxis\":\"y2\"},{\"alignmentgroup\":\"True\",\"bingroup\":\"x\",\"hovertemplate\":\"Has_child=Yes<br>Income=%{x}<br>count=%{y}<extra></extra>\",\"legendgroup\":\"Yes\",\"marker\":{\"color\":\"green\",\"pattern\":{\"shape\":\"\"}},\"name\":\"Yes\",\"offsetgroup\":\"Yes\",\"orientation\":\"v\",\"showlegend\":true,\"type\":\"histogram\",\"x\":[67267.0,32474.0,21474.0,44931.0,65324.0,65324.0,62499.0,4428.0,54809.0,54809.0,32173.0,47823.0,30523.0,36634.0,43456.0,40662.0,49544.0,57731.0,33168.0,54450.0,54450.0,35340.0,65808.0,34578.0,46374.0,61314.0,21359.0,66465.0,39146.0,25959.0,32300.0,74806.0,72967.0,48904.0,14796.0,52195.0,18393.0,47139.0,38576.0,61905.0,60597.0,48330.0,38236.0,22701.0,53367.0,34728.0,63915.0,38578.0,38578.0,81975.0,43263.0,27242.0,76445.0,34213.0,50388.0,77622.0,46102.0,31859.0,24639.0,27255.0,55375.0,77037.0,24163.0,72063.0,58646.0,58646.0,47570.0,80011.0,54998.0,60200.0,48432.0,48432.0,48432.0,62845.0,62845.0,53863.0,50447.0,37716.0,45203.0,37368.0,67225.0,65104.0,65104.0,70566.0,69096.0,71434.0,33039.0,33039.0,49967.0,53359.0,49505.0,72071.0,72071.0,59235.0,21994.0,21994.0,49064.6,31928.0,21355.0,26304.0,58350.0,7500.0,20425.0,20425.0,41437.0,49912.0,49912.0,79823.0,47025.0,68397.0,38175.0,46423.0,46423.0,30560.0,30560.0,60152.0,29672.0,29672.0,56181.0,55424.0,49094.0,59184.0,30522.0,31878.0,53761.0,52845.0,24027.0,7500.0,42586.0,42586.0,9722.0,30467.0,54549.0,19444.0,69245.0,48686.0,35523.0,60554.0,64090.0,61559.0,67680.0,54386.0,64108.0,69702.0,47958.0,67716.0,34600.0,34600.0,48752.0,15716.0,46610.0,57100.0,24434.0,37126.0,45160.0,33178.0,64866.0,34176.0,50014.0,55282.0,48799.0,39763.0,42720.0,36443.0,43776.0,65148.0,49431.0,32583.0,16653.0,26850.0,51287.0,43050.0,17256.0,33569.0,25130.0,62998.0,26907.0,26907.0,45579.0,47320.0,70179.0,70179.0,28072.0,50501.0,58917.0,35178.0,35178.0,64713.0,43973.0,55521.0,43795.0,22070.0,36408.0,34026.0,34026.0,46049.0,35641.0,59821.0,34968.0,56320.0,70091.0,46097.0,44911.0,33249.0,33249.0,42873.0,51039.0,78952.0,29435.0,79865.0,34176.0,34176.0,65968.0,67272.0,77044.0,17459.0,62061.0,5305.0,71499.0,31626.0,41021.0,50870.0,32557.0,62466.0,62466.0,54198.0,15253.0,62535.0,27190.0,48985.0,36145.0,41883.0,45759.0,45759.0,30279.0,30279.0,31880.0,60208.0,37401.0,37401.0,75315.0,69263.0,57705.0,74805.0,66426.0,51529.0,59601.0,18793.0,30675.0,34053.0,31788.0,45894.0,41986.0,42769.0,58582.0,49096.0,21888.0,41580.0,31605.0,25509.0,25509.0,28764.0,32146.0,36781.0,54197.0,24762.0,30477.0,70844.0,30828.0,62513.0,27733.0,39435.0,36715.0,71706.0,69063.0,24645.0,35797.0,44078.0,26954.0,57248.2,38887.0,65463.0,53537.0,36230.0,60585.0,49166.0,72828.0,38557.0,81300.0,60161.0,69389.0,64497.0,61014.0,44319.0,53233.0,25707.0,42403.0,37406.0,54210.0,40794.0,43824.0,66653.0,44359.0,55842.0,88194.0,29009.0,7500.0,56939.0,30351.0,30351.0,38201.0,43893.4,43974.0,38200.0,16860.0,27213.0,7500.0,38196.0,41145.0,38513.0,45688.0,42169.0,45906.0,35388.0,39898.0,39898.0,44051.0,58597.0,46904.0,29791.0,48918.0,48918.0,58692.0,39356.0,76234.0,55434.0,71965.0,50002.0,53977.0,53977.0,46014.0,18227.0,65991.0,38808.0,43783.0,30396.0,65526.0,65526.0,55563.0,57236.0,89694.0,57420.0,33622.0,29999.0,31497.0,31497.0,36802.0,61671.0,60182.0,29732.0,16529.0,77027.0,69139.0,69139.0,40049.0,65529.4,54456.0,60689.0,26487.0,28164.0,64795.0,70713.0,30801.0,83891.0,38054.0,14045.0,44155.0,57642.0,31353.0,31353.0,41335.0,41335.0,40737.0,19789.0,35946.0,44551.0,57957.0,50334.0,48150.0,56796.0,56796.0,52278.0,52278.0,33444.0,20895.0,37509.0,88097.0,59041.0,46015.0,46015.0,34242.0,65210.0,50520.0,49572.0,44635.0,58512.0,62000.0,54252.0,45068.0,60474.0,60474.0,56337.0,22434.0,58656.0,42653.4,8940.0,26751.0,71427.0,26646.0,19346.0,56243.0,59892.0,25252.0,42160.0,15862.0,38360.0,75283.0,34941.0,61823.0,44989.0,44989.0,43586.0,32233.0,62882.0,57288.0,75774.0,75774.0,48877.0,60905.0,75236.0,50785.0,64413.0,30081.0,55686.0,26887.0,61996.0,51537.0,30538.0,75433.0,60033.0,39062.0,30023.0,30015.0,33228.0,22574.0,22574.0,55267.0,66886.0,72258.0,45146.0,51250.0,32871.0,42564.0,46344.0,50437.0,70971.0,37774.0,4023.0,42693.0,70545.0,65486.0,77226.0,59052.0,49160.0,49476.0,62694.0,57906.0,65031.0,67419.0,59462.0,22979.0,64950.0,44322.0,30096.0,30096.0,56628.0,71022.0,42607.0,43057.0,47808.0,29236.0,40590.0,40590.0,77520.0,40211.0,63516.0,53034.0,22669.0,37070.0,37070.0,38179.0,39922.0,39922.0,39922.0,64191.0,41658.0,40780.0,77568.0,66503.0,31686.0,71322.0,27938.0,22263.0,34633.0,42162.0,162397.0,54162.0,41769.0,37717.0,37717.0,40548.0,67893.0,9548.0,48526.0,19414.0,79761.0,10245.0,33454.0,40887.0,55914.0,37292.0,52914.0,24884.0,67384.0,51651.0,33562.0,79146.0,79146.0,36143.0,27159.0,41275.0,30833.0,26518.0,48070.0,30372.0,30372.0,57036.0,66731.0,35682.0,57912.0,36026.0,35788.0,42243.0,46086.0,61346.0,33316.0,33316.0,21063.0,33697.0,25804.0,72117.0,61286.0,61286.0,65196.0,55635.0,42021.0,35322.0,53374.0,42395.0,44602.0,28359.0,55801.0,56534.0,69627.0,44964.0,30899.0,25545.0,47111.0,46910.0,25224.0,77382.0,28420.0,32952.0,46149.0,73059.0,73059.0,22518.0,59809.0,39660.0,35860.0,35860.0,35860.0,35860.0,67353.0,17003.0,65735.0,45684.0,21918.0,51267.0,59868.0,46692.0,157733.0,54432.0,51813.0,17487.0,40706.0,62859.0,61074.0,43638.0,58116.0,62187.0,46344.0,77353.0,21846.0,76532.0,70053.0,75342.0,27590.0,51148.0,33378.0,32644.0,33581.0,42710.0,22554.0,62204.0,78028.0,63887.0,29103.0,20587.0,20587.0,52190.0,48186.0,19329.0,34109.0,23477.0,47472.0,14849.0,26224.0,27238.0,43303.8,57967.0,51569.0,72550.0,44511.0,62972.0,62972.0,36663.0,53204.0,21059.0,67087.0,31454.0,22775.0,22775.0,31590.0,80134.0,80134.0,18169.0,62503.0,46734.0,52869.0,26576.0,57045.0,34984.0,27803.0,69283.0,18746.0,69401.0,60934.0,27161.0,64325.0,18978.0,41124.0,39684.0,53378.0,78710.0,36283.0,28587.0,51412.0,38593.0,27889.0,45889.0,56575.0,16014.0,61331.0,2447.0,42387.0,54006.0,16531.0,30843.0,18988.0,39747.0,34554.0,52854.0,69084.0,69084.0,65352.0,22063.0,47691.0,29187.0,72504.0,33986.0,42386.0,42386.0,36957.0,13724.0,42664.0,37334.0,58821.0,30732.0,57107.0,76467.0,37221.8,43602.0,38643.0,49090.0,67536.0,27573.0,13533.0,50725.0,25851.0,57113.0,25271.0,63810.0,63810.0,36927.0,22108.0,33183.0,23661.0,25315.0,77298.0,77298.0,43018.0,54137.0,61223.0,69674.0,49494.0,51195.0,37284.0,37284.0,42011.0,70044.0,46053.0,24480.0,54233.0,36130.0,56559.0,44010.0,50183.0,64722.0,37395.0,29543.0,19514.0,19514.0,59481.0,68352.0,61456.0,23957.0,33471.0,52157.0,56551.0,56551.0,44213.0,40344.0,57867.0,25410.0,13260.0,36138.0,57136.0,58275.0,54237.0,34596.0,34596.0,74881.0,74881.0,44267.0,80982.0,69508.0,63342.0,63342.0,76320.0,64587.0,74190.0,32765.0,59325.0,22212.0,18358.0,26067.0,60199.0,38547.0,19107.0,57811.0,50943.0,50943.0,53201.0,54414.0,26290.0,61250.0,55250.0,37758.0,37758.0,37633.0,33629.0,36947.0,69142.0,53154.0,65695.0,69805.0,36975.0,26228.0,37787.0,37087.0,57247.0,36930.0,48721.0,43641.0,75903.0,71391.0,16927.0,27215.0,53858.0,43462.0,63943.0,75484.0,33564.0,54348.0,54984.0,34738.0,68118.0,68118.0,22682.0,51948.0,25293.0,25293.0,41551.0,56067.0,67433.0,22010.0,64831.0,78353.0,57183.0,30168.0,37155.0,41850.0,56386.0,25818.0,15345.0,57954.0,50300.0,38725.0,10404.0,26868.0,47025.0,29938.0,46681.0,46681.0,29548.0,62058.0,60004.6,36736.0,8820.0,14918.0,24882.0,24882.0,40442.0,64176.0,23536.0,35246.0,28442.0,48195.0,59354.0,36301.0,62710.0,36317.0,42767.0,43815.0,44421.0,63120.0,55517.0,36864.0,79803.0,52569.0,65685.0,65685.0,40451.0,31163.0,31163.0,35704.0,7500.0,36075.0,47821.0,45503.0,28647.0,37760.0,53172.0,36065.0,35790.0,39552.0,68316.0,51390.0,21675.0,48006.0,65106.0,58401.0,29315.0,49389.0,51717.0,46779.0,28520.0,34377.0,54959.0,46998.0,58554.0,58554.0,57333.0,52117.0,62220.0,64014.0,64014.0,46390.0,50616.0,35924.0,57937.0,21255.0,58494.0,36959.0,46463.0,61825.0,61825.0,28691.0,28691.0,54058.0,84196.0,3502.0,47743.0,66303.0,52413.0,31385.0,80427.0,38823.0,42014.0,42014.0,41713.0,62670.0,70932.0,44512.0,63967.0,25358.0,37225.4,28567.0,66373.0,66373.0,83664.0,54880.0,71322.0,60000.0,65176.0,61010.0,31089.0,20518.0,34469.0,33456.0,38443.0,65333.0,73691.0,65748.0,24367.0,59354.0,58482.0,29478.0,64474.0,31160.0,40321.0,40321.0,55239.0,85693.0,71855.0,71969.0,38741.0,38961.0,56962.0,56962.0,29298.0,63246.0,33402.0,32313.0,55284.0,15287.0,15287.0,81929.0,53593.0,60432.0,66726.0,62450.0,49514.0,43269.0,33762.0,60894.0,87771.0,87771.0,50737.0,26150.0,57304.0,71107.0,53253.0,40049.0,63684.0,69016.0,7500.0,73803.0,46094.0,38452.0,38452.0,44124.0,50729.0,34412.0,31158.0,34838.0,56775.0,54356.0,55951.0,67911.0,67911.0,20427.0,32303.0,55954.0,49187.0,49854.0,63693.0,63693.0,19510.0,55593.0,54591.0,40851.0,58607.0,7500.0,52614.0,52614.0,67445.0,67445.0,67445.0,36778.0,39453.0,42731.0,40760.0,54730.0,42835.0,53843.0,63841.0,63841.0,63841.0,27100.0,27100.0,50664.0,20194.0,45207.0,56721.0,23763.0,37085.0,26759.0,55412.0,33590.0,70886.0,72679.0,44300.0,56129.0,56129.0,38590.0,53083.0,34704.0,65316.0,41014.0,19740.0,23724.0,55212.0,55212.0,70647.0,54803.0,35684.0,34320.0,41967.0,49681.0,49681.0,53187.0,24206.0,55357.0,58113.0,64355.0,41644.0,30630.0,22944.0,51056.0,52034.0,28427.0,28427.0,39858.0,67381.0,23529.0,51479.0,76068.0,52413.0,50116.0,76624.0,34587.0,5648.0,37235.0,23976.0,36108.0,57530.0,62905.0,34380.0,41638.0,28320.0,43140.0,40246.0,35196.0,35196.0,52597.0,42394.0,49154.0,34074.0,38136.0,67432.0,40689.0,40689.0,44325.0,61467.0,48178.0,16005.0,61180.0,64449.0,17649.0,53103.0,71819.0,74290.0,47352.0,47352.0,46524.0,50200.0,77610.0,38097.0,44377.0,66480.0,49638.0,50616.0,26642.0,33235.0,23228.0,36732.0,64140.0,44392.0,16185.0,38702.0,54072.0,59292.0,59292.0,57959.0,42207.0,46984.0,23442.0,46757.0,14515.0,30545.0,77376.0,42473.0,25008.0,56223.0,47850.0,40637.0,28510.0,67131.0,56242.0,54693.0,52750.0,36997.0,34230.0,47916.0,60839.0,55158.0,44375.0,60504.0,67506.0,68805.0,31814.0,40101.0,51766.0,62994.0,65640.0,38361.0,38361.0,19986.0,19986.0,45072.0,59062.0,61794.0,45143.0,45143.0,36921.0,54342.0,62772.0,75032.0,36550.0,75027.0,54108.0,59594.0,18492.0,94472.0,34853.0,16269.0,50272.0,22804.0,22804.0,30631.0,25721.0,37859.0,30261.0,21645.0,21282.0,32144.0,62637.0,16626.0,54690.0,54690.0,23718.0,33419.0,15056.0,67309.0,66033.0,28769.0,6835.0,32880.0,23616.0,19419.0,34961.0,64892.0,16248.0,43776.0,52074.0,35544.0,59060.0,65665.0,29819.0,26095.0,31859.0,58710.0,49618.0,58308.0,40800.0,28087.0,75702.0,32892.0,32892.0,27116.0,46107.0,54466.0,59686.0,32889.0,33462.0,36627.0,28718.0,77981.0,60230.0,40464.0,63381.0,63381.0,86358.0,41443.0,57072.0,54178.0,48767.0,51124.0,43020.0,49980.0,25176.0,31086.0,24072.0,17345.0,75154.0,27922.0,45903.0,36273.0,70777.0,17148.0,66476.0,45057.0,41120.0,19485.0,21840.0,41473.0,31395.0,68117.0,47682.0,58086.0,66565.0,23910.0,35893.0,71128.0,38683.0,37150.0,61064.0,51650.0,55249.0,46854.0,54132.0,64813.0,61872.0,58025.0,34350.0,33438.0,21955.0,60491.0,59304.0,34421.0,34421.0,51411.0,64504.0,49678.0,60482.0,55260.0,67369.0,47175.0,56937.0,83033.0,37697.0,37697.0,44689.0,23162.0,40304.0,40059.0,36038.0,56678.4,40521.0,66334.0,11012.0,31615.0,36840.6,17688.0,25443.0,57091.0,24336.0,51111.0,44503.0,56850.0,61917.0,43482.0,68274.0,42373.0,54406.2,57537.0,80995.0,30992.0,30992.0,78642.0,75072.0,56253.0,59925.0,62807.0,62807.0,23626.0,46106.0,27244.0,26091.0,26091.0,43142.0,38232.0,38946.0,38946.0,40233.0,46831.0,70379.0,55759.0,58217.0,51369.0,51369.0,44159.0,39996.0,55012.0,71866.0,30753.0,54603.0,22280.0,59385.0,76998.0,38829.0,28839.0,53790.0,73705.0,22448.0,12571.0,35765.0,46734.0,66313.0,44393.0,38197.0,13672.0,41452.0,42081.0,33812.0,46098.0,46098.0,46098.0,53230.0,39548.0,61278.0,58330.0,58330.0,70829.0,59247.0,25930.0,54753.0,28440.0,23559.0,62335.0,63777.0,59666.0,50965.0,46231.0,75702.0,43300.0,69331.4,29760.0,29760.0,50127.0,29604.0,49413.0,45837.0,59432.0,43185.0,60631.0,20559.0,50898.0,73807.0,36807.0,46772.0,30772.0,46377.0,78128.0,50523.0,47009.0,37054.0,32011.0,70300.0,34916.0,27943.0,39791.0,62745.0,85606.0,38853.0,27071.0,65814.0,33181.0,42315.0,48699.0,48726.0,37244.0,74854.0,60896.0,46923.0,38988.0,27683.0,39190.0,23228.0,55707.0,9255.0,42997.0,71232.0,57744.0,33585.0,46891.0,46891.0,50387.0,76995.0,38415.0,39722.0,7144.0,39771.0,42618.0,51518.0,74716.0,33955.0,45736.0,60093.0,30822.0,41728.0,67046.0,73538.0,52973.0,38998.0,38998.0,23331.0,60544.0,60544.0,49269.0,27203.0,45204.0,47353.0,48920.0,67472.0,64100.0,38872.0,15038.0,13624.0,42554.0,71952.0,71952.0,63972.0,52852.0,62010.0,77870.0,46931.0,62307.0,58293.0,47889.0,24594.0,24594.0,22327.0,61923.0,35791.0,35791.0,35441.0,19656.0,75330.0,34529.0,34487.0,35688.0,35688.0,53700.0,71113.0,65843.6,31535.0,40479.0,29440.0,38508.0,18701.0,18701.0,69901.0,47703.0,42033.0,51983.0,38285.0,57338.0,31761.0,65747.0,17144.0,17144.0,59529.4,66375.0,42213.0,59556.0,15072.0,7500.0,17117.0,59754.0,65569.0,68142.0,48794.0,63404.0,49669.0,55761.0,78331.0,37971.0,30368.0,34043.0,54111.0,69932.0,39665.0,93404.0,38680.0,24570.0,77766.0,77766.0,64961.0,23748.0,45989.0,23331.0,70421.0,23091.0,24683.0,157243.0,54222.0,47025.0,44529.0,31560.0,41154.0,50611.0,50611.0,83273.0,42557.0,7500.0,78416.0,44794.0,44794.0,62568.0,42231.0,42429.0,42429.0,36640.0,78901.0,66476.0,31056.0,46310.0,94871.0],\"xaxis\":\"x\",\"yaxis\":\"y\"},{\"alignmentgroup\":\"True\",\"hovertemplate\":\"Has_child=Yes<br>Income=%{x}<extra></extra>\",\"legendgroup\":\"Yes\",\"marker\":{\"color\":\"green\"},\"name\":\"Yes\",\"notched\":true,\"offsetgroup\":\"Yes\",\"showlegend\":false,\"type\":\"box\",\"x\":[67267.0,32474.0,21474.0,44931.0,65324.0,65324.0,62499.0,4428.0,54809.0,54809.0,32173.0,47823.0,30523.0,36634.0,43456.0,40662.0,49544.0,57731.0,33168.0,54450.0,54450.0,35340.0,65808.0,34578.0,46374.0,61314.0,21359.0,66465.0,39146.0,25959.0,32300.0,74806.0,72967.0,48904.0,14796.0,52195.0,18393.0,47139.0,38576.0,61905.0,60597.0,48330.0,38236.0,22701.0,53367.0,34728.0,63915.0,38578.0,38578.0,81975.0,43263.0,27242.0,76445.0,34213.0,50388.0,77622.0,46102.0,31859.0,24639.0,27255.0,55375.0,77037.0,24163.0,72063.0,58646.0,58646.0,47570.0,80011.0,54998.0,60200.0,48432.0,48432.0,48432.0,62845.0,62845.0,53863.0,50447.0,37716.0,45203.0,37368.0,67225.0,65104.0,65104.0,70566.0,69096.0,71434.0,33039.0,33039.0,49967.0,53359.0,49505.0,72071.0,72071.0,59235.0,21994.0,21994.0,49064.6,31928.0,21355.0,26304.0,58350.0,7500.0,20425.0,20425.0,41437.0,49912.0,49912.0,79823.0,47025.0,68397.0,38175.0,46423.0,46423.0,30560.0,30560.0,60152.0,29672.0,29672.0,56181.0,55424.0,49094.0,59184.0,30522.0,31878.0,53761.0,52845.0,24027.0,7500.0,42586.0,42586.0,9722.0,30467.0,54549.0,19444.0,69245.0,48686.0,35523.0,60554.0,64090.0,61559.0,67680.0,54386.0,64108.0,69702.0,47958.0,67716.0,34600.0,34600.0,48752.0,15716.0,46610.0,57100.0,24434.0,37126.0,45160.0,33178.0,64866.0,34176.0,50014.0,55282.0,48799.0,39763.0,42720.0,36443.0,43776.0,65148.0,49431.0,32583.0,16653.0,26850.0,51287.0,43050.0,17256.0,33569.0,25130.0,62998.0,26907.0,26907.0,45579.0,47320.0,70179.0,70179.0,28072.0,50501.0,58917.0,35178.0,35178.0,64713.0,43973.0,55521.0,43795.0,22070.0,36408.0,34026.0,34026.0,46049.0,35641.0,59821.0,34968.0,56320.0,70091.0,46097.0,44911.0,33249.0,33249.0,42873.0,51039.0,78952.0,29435.0,79865.0,34176.0,34176.0,65968.0,67272.0,77044.0,17459.0,62061.0,5305.0,71499.0,31626.0,41021.0,50870.0,32557.0,62466.0,62466.0,54198.0,15253.0,62535.0,27190.0,48985.0,36145.0,41883.0,45759.0,45759.0,30279.0,30279.0,31880.0,60208.0,37401.0,37401.0,75315.0,69263.0,57705.0,74805.0,66426.0,51529.0,59601.0,18793.0,30675.0,34053.0,31788.0,45894.0,41986.0,42769.0,58582.0,49096.0,21888.0,41580.0,31605.0,25509.0,25509.0,28764.0,32146.0,36781.0,54197.0,24762.0,30477.0,70844.0,30828.0,62513.0,27733.0,39435.0,36715.0,71706.0,69063.0,24645.0,35797.0,44078.0,26954.0,57248.2,38887.0,65463.0,53537.0,36230.0,60585.0,49166.0,72828.0,38557.0,81300.0,60161.0,69389.0,64497.0,61014.0,44319.0,53233.0,25707.0,42403.0,37406.0,54210.0,40794.0,43824.0,66653.0,44359.0,55842.0,88194.0,29009.0,7500.0,56939.0,30351.0,30351.0,38201.0,43893.4,43974.0,38200.0,16860.0,27213.0,7500.0,38196.0,41145.0,38513.0,45688.0,42169.0,45906.0,35388.0,39898.0,39898.0,44051.0,58597.0,46904.0,29791.0,48918.0,48918.0,58692.0,39356.0,76234.0,55434.0,71965.0,50002.0,53977.0,53977.0,46014.0,18227.0,65991.0,38808.0,43783.0,30396.0,65526.0,65526.0,55563.0,57236.0,89694.0,57420.0,33622.0,29999.0,31497.0,31497.0,36802.0,61671.0,60182.0,29732.0,16529.0,77027.0,69139.0,69139.0,40049.0,65529.4,54456.0,60689.0,26487.0,28164.0,64795.0,70713.0,30801.0,83891.0,38054.0,14045.0,44155.0,57642.0,31353.0,31353.0,41335.0,41335.0,40737.0,19789.0,35946.0,44551.0,57957.0,50334.0,48150.0,56796.0,56796.0,52278.0,52278.0,33444.0,20895.0,37509.0,88097.0,59041.0,46015.0,46015.0,34242.0,65210.0,50520.0,49572.0,44635.0,58512.0,62000.0,54252.0,45068.0,60474.0,60474.0,56337.0,22434.0,58656.0,42653.4,8940.0,26751.0,71427.0,26646.0,19346.0,56243.0,59892.0,25252.0,42160.0,15862.0,38360.0,75283.0,34941.0,61823.0,44989.0,44989.0,43586.0,32233.0,62882.0,57288.0,75774.0,75774.0,48877.0,60905.0,75236.0,50785.0,64413.0,30081.0,55686.0,26887.0,61996.0,51537.0,30538.0,75433.0,60033.0,39062.0,30023.0,30015.0,33228.0,22574.0,22574.0,55267.0,66886.0,72258.0,45146.0,51250.0,32871.0,42564.0,46344.0,50437.0,70971.0,37774.0,4023.0,42693.0,70545.0,65486.0,77226.0,59052.0,49160.0,49476.0,62694.0,57906.0,65031.0,67419.0,59462.0,22979.0,64950.0,44322.0,30096.0,30096.0,56628.0,71022.0,42607.0,43057.0,47808.0,29236.0,40590.0,40590.0,77520.0,40211.0,63516.0,53034.0,22669.0,37070.0,37070.0,38179.0,39922.0,39922.0,39922.0,64191.0,41658.0,40780.0,77568.0,66503.0,31686.0,71322.0,27938.0,22263.0,34633.0,42162.0,162397.0,54162.0,41769.0,37717.0,37717.0,40548.0,67893.0,9548.0,48526.0,19414.0,79761.0,10245.0,33454.0,40887.0,55914.0,37292.0,52914.0,24884.0,67384.0,51651.0,33562.0,79146.0,79146.0,36143.0,27159.0,41275.0,30833.0,26518.0,48070.0,30372.0,30372.0,57036.0,66731.0,35682.0,57912.0,36026.0,35788.0,42243.0,46086.0,61346.0,33316.0,33316.0,21063.0,33697.0,25804.0,72117.0,61286.0,61286.0,65196.0,55635.0,42021.0,35322.0,53374.0,42395.0,44602.0,28359.0,55801.0,56534.0,69627.0,44964.0,30899.0,25545.0,47111.0,46910.0,25224.0,77382.0,28420.0,32952.0,46149.0,73059.0,73059.0,22518.0,59809.0,39660.0,35860.0,35860.0,35860.0,35860.0,67353.0,17003.0,65735.0,45684.0,21918.0,51267.0,59868.0,46692.0,157733.0,54432.0,51813.0,17487.0,40706.0,62859.0,61074.0,43638.0,58116.0,62187.0,46344.0,77353.0,21846.0,76532.0,70053.0,75342.0,27590.0,51148.0,33378.0,32644.0,33581.0,42710.0,22554.0,62204.0,78028.0,63887.0,29103.0,20587.0,20587.0,52190.0,48186.0,19329.0,34109.0,23477.0,47472.0,14849.0,26224.0,27238.0,43303.8,57967.0,51569.0,72550.0,44511.0,62972.0,62972.0,36663.0,53204.0,21059.0,67087.0,31454.0,22775.0,22775.0,31590.0,80134.0,80134.0,18169.0,62503.0,46734.0,52869.0,26576.0,57045.0,34984.0,27803.0,69283.0,18746.0,69401.0,60934.0,27161.0,64325.0,18978.0,41124.0,39684.0,53378.0,78710.0,36283.0,28587.0,51412.0,38593.0,27889.0,45889.0,56575.0,16014.0,61331.0,2447.0,42387.0,54006.0,16531.0,30843.0,18988.0,39747.0,34554.0,52854.0,69084.0,69084.0,65352.0,22063.0,47691.0,29187.0,72504.0,33986.0,42386.0,42386.0,36957.0,13724.0,42664.0,37334.0,58821.0,30732.0,57107.0,76467.0,37221.8,43602.0,38643.0,49090.0,67536.0,27573.0,13533.0,50725.0,25851.0,57113.0,25271.0,63810.0,63810.0,36927.0,22108.0,33183.0,23661.0,25315.0,77298.0,77298.0,43018.0,54137.0,61223.0,69674.0,49494.0,51195.0,37284.0,37284.0,42011.0,70044.0,46053.0,24480.0,54233.0,36130.0,56559.0,44010.0,50183.0,64722.0,37395.0,29543.0,19514.0,19514.0,59481.0,68352.0,61456.0,23957.0,33471.0,52157.0,56551.0,56551.0,44213.0,40344.0,57867.0,25410.0,13260.0,36138.0,57136.0,58275.0,54237.0,34596.0,34596.0,74881.0,74881.0,44267.0,80982.0,69508.0,63342.0,63342.0,76320.0,64587.0,74190.0,32765.0,59325.0,22212.0,18358.0,26067.0,60199.0,38547.0,19107.0,57811.0,50943.0,50943.0,53201.0,54414.0,26290.0,61250.0,55250.0,37758.0,37758.0,37633.0,33629.0,36947.0,69142.0,53154.0,65695.0,69805.0,36975.0,26228.0,37787.0,37087.0,57247.0,36930.0,48721.0,43641.0,75903.0,71391.0,16927.0,27215.0,53858.0,43462.0,63943.0,75484.0,33564.0,54348.0,54984.0,34738.0,68118.0,68118.0,22682.0,51948.0,25293.0,25293.0,41551.0,56067.0,67433.0,22010.0,64831.0,78353.0,57183.0,30168.0,37155.0,41850.0,56386.0,25818.0,15345.0,57954.0,50300.0,38725.0,10404.0,26868.0,47025.0,29938.0,46681.0,46681.0,29548.0,62058.0,60004.6,36736.0,8820.0,14918.0,24882.0,24882.0,40442.0,64176.0,23536.0,35246.0,28442.0,48195.0,59354.0,36301.0,62710.0,36317.0,42767.0,43815.0,44421.0,63120.0,55517.0,36864.0,79803.0,52569.0,65685.0,65685.0,40451.0,31163.0,31163.0,35704.0,7500.0,36075.0,47821.0,45503.0,28647.0,37760.0,53172.0,36065.0,35790.0,39552.0,68316.0,51390.0,21675.0,48006.0,65106.0,58401.0,29315.0,49389.0,51717.0,46779.0,28520.0,34377.0,54959.0,46998.0,58554.0,58554.0,57333.0,52117.0,62220.0,64014.0,64014.0,46390.0,50616.0,35924.0,57937.0,21255.0,58494.0,36959.0,46463.0,61825.0,61825.0,28691.0,28691.0,54058.0,84196.0,3502.0,47743.0,66303.0,52413.0,31385.0,80427.0,38823.0,42014.0,42014.0,41713.0,62670.0,70932.0,44512.0,63967.0,25358.0,37225.4,28567.0,66373.0,66373.0,83664.0,54880.0,71322.0,60000.0,65176.0,61010.0,31089.0,20518.0,34469.0,33456.0,38443.0,65333.0,73691.0,65748.0,24367.0,59354.0,58482.0,29478.0,64474.0,31160.0,40321.0,40321.0,55239.0,85693.0,71855.0,71969.0,38741.0,38961.0,56962.0,56962.0,29298.0,63246.0,33402.0,32313.0,55284.0,15287.0,15287.0,81929.0,53593.0,60432.0,66726.0,62450.0,49514.0,43269.0,33762.0,60894.0,87771.0,87771.0,50737.0,26150.0,57304.0,71107.0,53253.0,40049.0,63684.0,69016.0,7500.0,73803.0,46094.0,38452.0,38452.0,44124.0,50729.0,34412.0,31158.0,34838.0,56775.0,54356.0,55951.0,67911.0,67911.0,20427.0,32303.0,55954.0,49187.0,49854.0,63693.0,63693.0,19510.0,55593.0,54591.0,40851.0,58607.0,7500.0,52614.0,52614.0,67445.0,67445.0,67445.0,36778.0,39453.0,42731.0,40760.0,54730.0,42835.0,53843.0,63841.0,63841.0,63841.0,27100.0,27100.0,50664.0,20194.0,45207.0,56721.0,23763.0,37085.0,26759.0,55412.0,33590.0,70886.0,72679.0,44300.0,56129.0,56129.0,38590.0,53083.0,34704.0,65316.0,41014.0,19740.0,23724.0,55212.0,55212.0,70647.0,54803.0,35684.0,34320.0,41967.0,49681.0,49681.0,53187.0,24206.0,55357.0,58113.0,64355.0,41644.0,30630.0,22944.0,51056.0,52034.0,28427.0,28427.0,39858.0,67381.0,23529.0,51479.0,76068.0,52413.0,50116.0,76624.0,34587.0,5648.0,37235.0,23976.0,36108.0,57530.0,62905.0,34380.0,41638.0,28320.0,43140.0,40246.0,35196.0,35196.0,52597.0,42394.0,49154.0,34074.0,38136.0,67432.0,40689.0,40689.0,44325.0,61467.0,48178.0,16005.0,61180.0,64449.0,17649.0,53103.0,71819.0,74290.0,47352.0,47352.0,46524.0,50200.0,77610.0,38097.0,44377.0,66480.0,49638.0,50616.0,26642.0,33235.0,23228.0,36732.0,64140.0,44392.0,16185.0,38702.0,54072.0,59292.0,59292.0,57959.0,42207.0,46984.0,23442.0,46757.0,14515.0,30545.0,77376.0,42473.0,25008.0,56223.0,47850.0,40637.0,28510.0,67131.0,56242.0,54693.0,52750.0,36997.0,34230.0,47916.0,60839.0,55158.0,44375.0,60504.0,67506.0,68805.0,31814.0,40101.0,51766.0,62994.0,65640.0,38361.0,38361.0,19986.0,19986.0,45072.0,59062.0,61794.0,45143.0,45143.0,36921.0,54342.0,62772.0,75032.0,36550.0,75027.0,54108.0,59594.0,18492.0,94472.0,34853.0,16269.0,50272.0,22804.0,22804.0,30631.0,25721.0,37859.0,30261.0,21645.0,21282.0,32144.0,62637.0,16626.0,54690.0,54690.0,23718.0,33419.0,15056.0,67309.0,66033.0,28769.0,6835.0,32880.0,23616.0,19419.0,34961.0,64892.0,16248.0,43776.0,52074.0,35544.0,59060.0,65665.0,29819.0,26095.0,31859.0,58710.0,49618.0,58308.0,40800.0,28087.0,75702.0,32892.0,32892.0,27116.0,46107.0,54466.0,59686.0,32889.0,33462.0,36627.0,28718.0,77981.0,60230.0,40464.0,63381.0,63381.0,86358.0,41443.0,57072.0,54178.0,48767.0,51124.0,43020.0,49980.0,25176.0,31086.0,24072.0,17345.0,75154.0,27922.0,45903.0,36273.0,70777.0,17148.0,66476.0,45057.0,41120.0,19485.0,21840.0,41473.0,31395.0,68117.0,47682.0,58086.0,66565.0,23910.0,35893.0,71128.0,38683.0,37150.0,61064.0,51650.0,55249.0,46854.0,54132.0,64813.0,61872.0,58025.0,34350.0,33438.0,21955.0,60491.0,59304.0,34421.0,34421.0,51411.0,64504.0,49678.0,60482.0,55260.0,67369.0,47175.0,56937.0,83033.0,37697.0,37697.0,44689.0,23162.0,40304.0,40059.0,36038.0,56678.4,40521.0,66334.0,11012.0,31615.0,36840.6,17688.0,25443.0,57091.0,24336.0,51111.0,44503.0,56850.0,61917.0,43482.0,68274.0,42373.0,54406.2,57537.0,80995.0,30992.0,30992.0,78642.0,75072.0,56253.0,59925.0,62807.0,62807.0,23626.0,46106.0,27244.0,26091.0,26091.0,43142.0,38232.0,38946.0,38946.0,40233.0,46831.0,70379.0,55759.0,58217.0,51369.0,51369.0,44159.0,39996.0,55012.0,71866.0,30753.0,54603.0,22280.0,59385.0,76998.0,38829.0,28839.0,53790.0,73705.0,22448.0,12571.0,35765.0,46734.0,66313.0,44393.0,38197.0,13672.0,41452.0,42081.0,33812.0,46098.0,46098.0,46098.0,53230.0,39548.0,61278.0,58330.0,58330.0,70829.0,59247.0,25930.0,54753.0,28440.0,23559.0,62335.0,63777.0,59666.0,50965.0,46231.0,75702.0,43300.0,69331.4,29760.0,29760.0,50127.0,29604.0,49413.0,45837.0,59432.0,43185.0,60631.0,20559.0,50898.0,73807.0,36807.0,46772.0,30772.0,46377.0,78128.0,50523.0,47009.0,37054.0,32011.0,70300.0,34916.0,27943.0,39791.0,62745.0,85606.0,38853.0,27071.0,65814.0,33181.0,42315.0,48699.0,48726.0,37244.0,74854.0,60896.0,46923.0,38988.0,27683.0,39190.0,23228.0,55707.0,9255.0,42997.0,71232.0,57744.0,33585.0,46891.0,46891.0,50387.0,76995.0,38415.0,39722.0,7144.0,39771.0,42618.0,51518.0,74716.0,33955.0,45736.0,60093.0,30822.0,41728.0,67046.0,73538.0,52973.0,38998.0,38998.0,23331.0,60544.0,60544.0,49269.0,27203.0,45204.0,47353.0,48920.0,67472.0,64100.0,38872.0,15038.0,13624.0,42554.0,71952.0,71952.0,63972.0,52852.0,62010.0,77870.0,46931.0,62307.0,58293.0,47889.0,24594.0,24594.0,22327.0,61923.0,35791.0,35791.0,35441.0,19656.0,75330.0,34529.0,34487.0,35688.0,35688.0,53700.0,71113.0,65843.6,31535.0,40479.0,29440.0,38508.0,18701.0,18701.0,69901.0,47703.0,42033.0,51983.0,38285.0,57338.0,31761.0,65747.0,17144.0,17144.0,59529.4,66375.0,42213.0,59556.0,15072.0,7500.0,17117.0,59754.0,65569.0,68142.0,48794.0,63404.0,49669.0,55761.0,78331.0,37971.0,30368.0,34043.0,54111.0,69932.0,39665.0,93404.0,38680.0,24570.0,77766.0,77766.0,64961.0,23748.0,45989.0,23331.0,70421.0,23091.0,24683.0,157243.0,54222.0,47025.0,44529.0,31560.0,41154.0,50611.0,50611.0,83273.0,42557.0,7500.0,78416.0,44794.0,44794.0,62568.0,42231.0,42429.0,42429.0,36640.0,78901.0,66476.0,31056.0,46310.0,94871.0],\"xaxis\":\"x2\",\"yaxis\":\"y2\"}],                        {\"bargap\":0.1,\"barmode\":\"relative\",\"legend\":{\"title\":{\"text\":\"Has_child\"},\"tracegroupgap\":0},\"template\":{\"data\":{\"bar\":[{\"error_x\":{\"color\":\"#2a3f5f\"},\"error_y\":{\"color\":\"#2a3f5f\"},\"marker\":{\"line\":{\"color\":\"#E5ECF6\",\"width\":0.5},\"pattern\":{\"fillmode\":\"overlay\",\"size\":10,\"solidity\":0.2}},\"type\":\"bar\"}],\"barpolar\":[{\"marker\":{\"line\":{\"color\":\"#E5ECF6\",\"width\":0.5},\"pattern\":{\"fillmode\":\"overlay\",\"size\":10,\"solidity\":0.2}},\"type\":\"barpolar\"}],\"carpet\":[{\"aaxis\":{\"endlinecolor\":\"#2a3f5f\",\"gridcolor\":\"white\",\"linecolor\":\"white\",\"minorgridcolor\":\"white\",\"startlinecolor\":\"#2a3f5f\"},\"baxis\":{\"endlinecolor\":\"#2a3f5f\",\"gridcolor\":\"white\",\"linecolor\":\"white\",\"minorgridcolor\":\"white\",\"startlinecolor\":\"#2a3f5f\"},\"type\":\"carpet\"}],\"choropleth\":[{\"colorbar\":{\"outlinewidth\":0,\"ticks\":\"\"},\"type\":\"choropleth\"}],\"contour\":[{\"colorbar\":{\"outlinewidth\":0,\"ticks\":\"\"},\"colorscale\":[[0.0,\"#0d0887\"],[0.1111111111111111,\"#46039f\"],[0.2222222222222222,\"#7201a8\"],[0.3333333333333333,\"#9c179e\"],[0.4444444444444444,\"#bd3786\"],[0.5555555555555556,\"#d8576b\"],[0.6666666666666666,\"#ed7953\"],[0.7777777777777778,\"#fb9f3a\"],[0.8888888888888888,\"#fdca26\"],[1.0,\"#f0f921\"]],\"type\":\"contour\"}],\"contourcarpet\":[{\"colorbar\":{\"outlinewidth\":0,\"ticks\":\"\"},\"type\":\"contourcarpet\"}],\"heatmap\":[{\"colorbar\":{\"outlinewidth\":0,\"ticks\":\"\"},\"colorscale\":[[0.0,\"#0d0887\"],[0.1111111111111111,\"#46039f\"],[0.2222222222222222,\"#7201a8\"],[0.3333333333333333,\"#9c179e\"],[0.4444444444444444,\"#bd3786\"],[0.5555555555555556,\"#d8576b\"],[0.6666666666666666,\"#ed7953\"],[0.7777777777777778,\"#fb9f3a\"],[0.8888888888888888,\"#fdca26\"],[1.0,\"#f0f921\"]],\"type\":\"heatmap\"}],\"heatmapgl\":[{\"colorbar\":{\"outlinewidth\":0,\"ticks\":\"\"},\"colorscale\":[[0.0,\"#0d0887\"],[0.1111111111111111,\"#46039f\"],[0.2222222222222222,\"#7201a8\"],[0.3333333333333333,\"#9c179e\"],[0.4444444444444444,\"#bd3786\"],[0.5555555555555556,\"#d8576b\"],[0.6666666666666666,\"#ed7953\"],[0.7777777777777778,\"#fb9f3a\"],[0.8888888888888888,\"#fdca26\"],[1.0,\"#f0f921\"]],\"type\":\"heatmapgl\"}],\"histogram\":[{\"marker\":{\"pattern\":{\"fillmode\":\"overlay\",\"size\":10,\"solidity\":0.2}},\"type\":\"histogram\"}],\"histogram2d\":[{\"colorbar\":{\"outlinewidth\":0,\"ticks\":\"\"},\"colorscale\":[[0.0,\"#0d0887\"],[0.1111111111111111,\"#46039f\"],[0.2222222222222222,\"#7201a8\"],[0.3333333333333333,\"#9c179e\"],[0.4444444444444444,\"#bd3786\"],[0.5555555555555556,\"#d8576b\"],[0.6666666666666666,\"#ed7953\"],[0.7777777777777778,\"#fb9f3a\"],[0.8888888888888888,\"#fdca26\"],[1.0,\"#f0f921\"]],\"type\":\"histogram2d\"}],\"histogram2dcontour\":[{\"colorbar\":{\"outlinewidth\":0,\"ticks\":\"\"},\"colorscale\":[[0.0,\"#0d0887\"],[0.1111111111111111,\"#46039f\"],[0.2222222222222222,\"#7201a8\"],[0.3333333333333333,\"#9c179e\"],[0.4444444444444444,\"#bd3786\"],[0.5555555555555556,\"#d8576b\"],[0.6666666666666666,\"#ed7953\"],[0.7777777777777778,\"#fb9f3a\"],[0.8888888888888888,\"#fdca26\"],[1.0,\"#f0f921\"]],\"type\":\"histogram2dcontour\"}],\"mesh3d\":[{\"colorbar\":{\"outlinewidth\":0,\"ticks\":\"\"},\"type\":\"mesh3d\"}],\"parcoords\":[{\"line\":{\"colorbar\":{\"outlinewidth\":0,\"ticks\":\"\"}},\"type\":\"parcoords\"}],\"pie\":[{\"automargin\":true,\"type\":\"pie\"}],\"scatter\":[{\"marker\":{\"colorbar\":{\"outlinewidth\":0,\"ticks\":\"\"}},\"type\":\"scatter\"}],\"scatter3d\":[{\"line\":{\"colorbar\":{\"outlinewidth\":0,\"ticks\":\"\"}},\"marker\":{\"colorbar\":{\"outlinewidth\":0,\"ticks\":\"\"}},\"type\":\"scatter3d\"}],\"scattercarpet\":[{\"marker\":{\"colorbar\":{\"outlinewidth\":0,\"ticks\":\"\"}},\"type\":\"scattercarpet\"}],\"scattergeo\":[{\"marker\":{\"colorbar\":{\"outlinewidth\":0,\"ticks\":\"\"}},\"type\":\"scattergeo\"}],\"scattergl\":[{\"marker\":{\"colorbar\":{\"outlinewidth\":0,\"ticks\":\"\"}},\"type\":\"scattergl\"}],\"scattermapbox\":[{\"marker\":{\"colorbar\":{\"outlinewidth\":0,\"ticks\":\"\"}},\"type\":\"scattermapbox\"}],\"scatterpolar\":[{\"marker\":{\"colorbar\":{\"outlinewidth\":0,\"ticks\":\"\"}},\"type\":\"scatterpolar\"}],\"scatterpolargl\":[{\"marker\":{\"colorbar\":{\"outlinewidth\":0,\"ticks\":\"\"}},\"type\":\"scatterpolargl\"}],\"scatterternary\":[{\"marker\":{\"colorbar\":{\"outlinewidth\":0,\"ticks\":\"\"}},\"type\":\"scatterternary\"}],\"surface\":[{\"colorbar\":{\"outlinewidth\":0,\"ticks\":\"\"},\"colorscale\":[[0.0,\"#0d0887\"],[0.1111111111111111,\"#46039f\"],[0.2222222222222222,\"#7201a8\"],[0.3333333333333333,\"#9c179e\"],[0.4444444444444444,\"#bd3786\"],[0.5555555555555556,\"#d8576b\"],[0.6666666666666666,\"#ed7953\"],[0.7777777777777778,\"#fb9f3a\"],[0.8888888888888888,\"#fdca26\"],[1.0,\"#f0f921\"]],\"type\":\"surface\"}],\"table\":[{\"cells\":{\"fill\":{\"color\":\"#EBF0F8\"},\"line\":{\"color\":\"white\"}},\"header\":{\"fill\":{\"color\":\"#C8D4E3\"},\"line\":{\"color\":\"white\"}},\"type\":\"table\"}]},\"layout\":{\"annotationdefaults\":{\"arrowcolor\":\"#2a3f5f\",\"arrowhead\":0,\"arrowwidth\":1},\"autotypenumbers\":\"strict\",\"coloraxis\":{\"colorbar\":{\"outlinewidth\":0,\"ticks\":\"\"}},\"colorscale\":{\"diverging\":[[0,\"#8e0152\"],[0.1,\"#c51b7d\"],[0.2,\"#de77ae\"],[0.3,\"#f1b6da\"],[0.4,\"#fde0ef\"],[0.5,\"#f7f7f7\"],[0.6,\"#e6f5d0\"],[0.7,\"#b8e186\"],[0.8,\"#7fbc41\"],[0.9,\"#4d9221\"],[1,\"#276419\"]],\"sequential\":[[0.0,\"#0d0887\"],[0.1111111111111111,\"#46039f\"],[0.2222222222222222,\"#7201a8\"],[0.3333333333333333,\"#9c179e\"],[0.4444444444444444,\"#bd3786\"],[0.5555555555555556,\"#d8576b\"],[0.6666666666666666,\"#ed7953\"],[0.7777777777777778,\"#fb9f3a\"],[0.8888888888888888,\"#fdca26\"],[1.0,\"#f0f921\"]],\"sequentialminus\":[[0.0,\"#0d0887\"],[0.1111111111111111,\"#46039f\"],[0.2222222222222222,\"#7201a8\"],[0.3333333333333333,\"#9c179e\"],[0.4444444444444444,\"#bd3786\"],[0.5555555555555556,\"#d8576b\"],[0.6666666666666666,\"#ed7953\"],[0.7777777777777778,\"#fb9f3a\"],[0.8888888888888888,\"#fdca26\"],[1.0,\"#f0f921\"]]},\"colorway\":[\"#636efa\",\"#EF553B\",\"#00cc96\",\"#ab63fa\",\"#FFA15A\",\"#19d3f3\",\"#FF6692\",\"#B6E880\",\"#FF97FF\",\"#FECB52\"],\"font\":{\"color\":\"#2a3f5f\"},\"geo\":{\"bgcolor\":\"white\",\"lakecolor\":\"white\",\"landcolor\":\"#E5ECF6\",\"showlakes\":true,\"showland\":true,\"subunitcolor\":\"white\"},\"hoverlabel\":{\"align\":\"left\"},\"hovermode\":\"closest\",\"mapbox\":{\"style\":\"light\"},\"paper_bgcolor\":\"white\",\"plot_bgcolor\":\"#E5ECF6\",\"polar\":{\"angularaxis\":{\"gridcolor\":\"white\",\"linecolor\":\"white\",\"ticks\":\"\"},\"bgcolor\":\"#E5ECF6\",\"radialaxis\":{\"gridcolor\":\"white\",\"linecolor\":\"white\",\"ticks\":\"\"}},\"scene\":{\"xaxis\":{\"backgroundcolor\":\"#E5ECF6\",\"gridcolor\":\"white\",\"gridwidth\":2,\"linecolor\":\"white\",\"showbackground\":true,\"ticks\":\"\",\"zerolinecolor\":\"white\"},\"yaxis\":{\"backgroundcolor\":\"#E5ECF6\",\"gridcolor\":\"white\",\"gridwidth\":2,\"linecolor\":\"white\",\"showbackground\":true,\"ticks\":\"\",\"zerolinecolor\":\"white\"},\"zaxis\":{\"backgroundcolor\":\"#E5ECF6\",\"gridcolor\":\"white\",\"gridwidth\":2,\"linecolor\":\"white\",\"showbackground\":true,\"ticks\":\"\",\"zerolinecolor\":\"white\"}},\"shapedefaults\":{\"line\":{\"color\":\"#2a3f5f\"}},\"ternary\":{\"aaxis\":{\"gridcolor\":\"white\",\"linecolor\":\"white\",\"ticks\":\"\"},\"baxis\":{\"gridcolor\":\"white\",\"linecolor\":\"white\",\"ticks\":\"\"},\"bgcolor\":\"#E5ECF6\",\"caxis\":{\"gridcolor\":\"white\",\"linecolor\":\"white\",\"ticks\":\"\"}},\"title\":{\"x\":0.05},\"xaxis\":{\"automargin\":true,\"gridcolor\":\"white\",\"linecolor\":\"white\",\"ticks\":\"\",\"title\":{\"standoff\":15},\"zerolinecolor\":\"white\",\"zerolinewidth\":2},\"yaxis\":{\"automargin\":true,\"gridcolor\":\"white\",\"linecolor\":\"white\",\"ticks\":\"\",\"title\":{\"standoff\":15},\"zerolinecolor\":\"white\",\"zerolinewidth\":2}}},\"title\":{\"text\":\"Income level by parental status\"},\"xaxis\":{\"anchor\":\"y\",\"domain\":[0.0,1.0],\"title\":{\"text\":\"Income\"}},\"xaxis2\":{\"anchor\":\"y2\",\"domain\":[0.0,1.0],\"matches\":\"x\",\"showgrid\":true,\"showticklabels\":false},\"yaxis\":{\"anchor\":\"x\",\"domain\":[0.0,0.7326],\"title\":{\"text\":\"count\"}},\"yaxis2\":{\"anchor\":\"x2\",\"domain\":[0.7426,1.0],\"matches\":\"y2\",\"showgrid\":false,\"showline\":false,\"showticklabels\":false,\"ticks\":\"\"}},                        {\"responsive\": true}                    ).then(function(){\n",
              "                            \n",
              "var gd = document.getElementById('640626ba-892b-41f2-9a23-077d8f1e2a58');\n",
              "var x = new MutationObserver(function (mutations, observer) {{\n",
              "        var display = window.getComputedStyle(gd).display;\n",
              "        if (!display || display === 'none') {{\n",
              "            console.log([gd, 'removed!']);\n",
              "            Plotly.purge(gd);\n",
              "            observer.disconnect();\n",
              "        }}\n",
              "}});\n",
              "\n",
              "// Listen for the removal of the full notebook cells\n",
              "var notebookContainer = gd.closest('#notebook-container');\n",
              "if (notebookContainer) {{\n",
              "    x.observe(notebookContainer, {childList: true});\n",
              "}}\n",
              "\n",
              "// Listen for the clearing of the current output cell\n",
              "var outputEl = gd.closest('.output');\n",
              "if (outputEl) {{\n",
              "    x.observe(outputEl, {childList: true});\n",
              "}}\n",
              "\n",
              "                        })                };                });            </script>        </div>"
            ]
          },
          "metadata": {},
          "output_type": "display_data"
        }
      ],
      "source": [
        "fig = px.histogram(dataset, \n",
        "                   x='Income', \n",
        "                   marginal='box', \n",
        "                   color='Has_child', \n",
        "                   color_discrete_sequence=['blue', 'green'], \n",
        "                   title='Income level by parental status')\n",
        "fig.update_layout(bargap=0.1)\n",
        "fig.show()"
      ]
    },
    {
      "cell_type": "markdown",
      "id": "a4605f3c",
      "metadata": {
        "papermill": {
          "duration": 0.072586,
          "end_time": "2021-08-26T15:25:45.634112",
          "exception": false,
          "start_time": "2021-08-26T15:25:45.561526",
          "status": "completed"
        },
        "tags": [],
        "id": "a4605f3c"
      },
      "source": [
        "People with high income are largely representing the population who has no child\n",
        "\n",
        "People having at least 1 child are mainly represented by people with low income\n",
        "\n",
        "\n",
        "\n",
        "We will verify later if there is a correlation between the income and the fact to have at least one child"
      ]
    },
    {
      "cell_type": "markdown",
      "id": "84eed234",
      "metadata": {
        "papermill": {
          "duration": 0.076488,
          "end_time": "2021-08-26T15:25:45.784285",
          "exception": false,
          "start_time": "2021-08-26T15:25:45.707797",
          "status": "completed"
        },
        "tags": [],
        "id": "84eed234"
      },
      "source": [
        "# **Statistical Hypothesis Testing**"
      ]
    },
    {
      "cell_type": "markdown",
      "id": "8191d5fe",
      "metadata": {
        "papermill": {
          "duration": 0.07215,
          "end_time": "2021-08-26T15:25:45.930419",
          "exception": false,
          "start_time": "2021-08-26T15:25:45.858269",
          "status": "completed"
        },
        "tags": [],
        "id": "8191d5fe"
      },
      "source": [
        "### **We have 3 business problems to answer usuing Hypothesis Testing:**\n",
        "\n",
        "1. Is the average salary of PhD owners statistically different from Master owners?\n",
        "\n",
        "2. Is the correlation between the annual income and the amount of spending statistically significant?\n",
        "\n",
        "3. Is there correlation between the diploma owned and the marital status?\n",
        "\n",
        "\n"
      ]
    },
    {
      "cell_type": "markdown",
      "id": "83a3738f",
      "metadata": {
        "papermill": {
          "duration": 0.074081,
          "end_time": "2021-08-26T15:25:46.079493",
          "exception": false,
          "start_time": "2021-08-26T15:25:46.005412",
          "status": "completed"
        },
        "tags": [],
        "id": "83a3738f"
      },
      "source": [
        "### **Test for normality**\n",
        "\n",
        "\n",
        "\n",
        "\n",
        "\n"
      ]
    },
    {
      "cell_type": "markdown",
      "id": "3c86f0fc",
      "metadata": {
        "papermill": {
          "duration": 0.071421,
          "end_time": "2021-08-26T15:25:46.222503",
          "exception": false,
          "start_time": "2021-08-26T15:25:46.151082",
          "status": "completed"
        },
        "tags": [],
        "id": "3c86f0fc"
      },
      "source": [
        "Before running any hypothesis test, it's important to know which statistical method we should use. Statstical methods are divided in two parts :\n",
        "\n",
        "* Parametric statistical methods\n",
        "\n",
        "* Nonparametric statistical methods\n",
        "\n",
        "To know which one to use, normality tests must be done on our data. If our data have a known and specific distribution, such as the Gaussian distribution; parametric statistical methods must be used. On the contrary, if data are not Gaussian, nonparametric statistical methods should be used.\n",
        "\n",
        "There are two main ways to know if our data are Gaussian :\n",
        "\n",
        "* Graphical methods\n",
        "    * Histogram plot\n",
        "    * QQ plot\n",
        "\n",
        "* Statistical methods\n",
        "    * Shapiro test\n",
        "    * D'Agostino and Pearson test\n",
        "    * Anderson-Darling test\n",
        "    * Kolmogorov-Smirnov test\n",
        "    \n",
        "\n",
        "\n",
        "**Graphical methods** are mainly used for qualifying deviations from normality\n",
        "\n",
        "**Statistical** methods are mainly used for quantifying deviations from normality"
      ]
    },
    {
      "cell_type": "markdown",
      "id": "47b55139",
      "metadata": {
        "papermill": {
          "duration": 0.073013,
          "end_time": "2021-08-26T15:25:46.367773",
          "exception": false,
          "start_time": "2021-08-26T15:25:46.294760",
          "status": "completed"
        },
        "tags": [],
        "id": "47b55139"
      },
      "source": [
        "#### **Graphical Method**\n",
        "\n",
        "**Histogram plot**"
      ]
    },
    {
      "cell_type": "code",
      "execution_count": null,
      "id": "d7d1522d",
      "metadata": {
        "execution": {
          "iopub.execute_input": "2021-08-26T15:25:46.529011Z",
          "iopub.status.busy": "2021-08-26T15:25:46.528067Z",
          "iopub.status.idle": "2021-08-26T15:25:47.575366Z",
          "shell.execute_reply": "2021-08-26T15:25:47.575983Z",
          "shell.execute_reply.started": "2021-08-26T15:03:44.821384Z"
        },
        "papermill": {
          "duration": 1.135465,
          "end_time": "2021-08-26T15:25:47.576164",
          "exception": false,
          "start_time": "2021-08-26T15:25:46.440699",
          "status": "completed"
        },
        "tags": [],
        "id": "d7d1522d",
        "outputId": "c2e31089-8a9e-47ea-f923-826a498aa8f7"
      },
      "outputs": [
        {
          "data": {
            "text/plain": [
              "<seaborn.axisgrid.FacetGrid at 0x7fbac1f63a50>"
            ]
          },
          "execution_count": 21,
          "metadata": {},
          "output_type": "execute_result"
        },
        {
          "data": {
            "image/png": "[encoded data removed]",
            "text/plain": [
              "<Figure size 864x216 with 4 Axes>"
            ]
          },
          "metadata": {
            "needs_background": "light"
          },
          "output_type": "display_data"
        }
      ],
      "source": [
        "df = pd.DataFrame(data=dataset, columns=['Age','Income','Spending','Educational_years'])\n",
        "nd = pd.melt(df, value_vars =df )\n",
        "n1 = sns.FacetGrid (nd, col='variable', col_wrap=4, sharex=False, sharey = False)\n",
        "n1 = n1.map(sns.histplot, 'value')\n",
        "n1"
      ]
    },
    {
      "cell_type": "markdown",
      "id": "5fdee649",
      "metadata": {
        "papermill": {
          "duration": 0.079429,
          "end_time": "2021-08-26T15:25:47.732810",
          "exception": false,
          "start_time": "2021-08-26T15:25:47.653381",
          "status": "completed"
        },
        "tags": [],
        "id": "5fdee649"
      },
      "source": [
        "From the graph, we can immediately see which variables seem to be Gaussian or Gaussian-like :\n",
        "\n",
        "Age and Income have Gaussian-like distributions\n",
        "\n",
        "Spending has a Log-normal distribution\n",
        "\n",
        "Educationnal_years has a Multinomial distribution\n",
        "\n",
        "We can verify with a statistical method that none of our variables is Gaussian"
      ]
    },
    {
      "cell_type": "markdown",
      "id": "bb0730d0",
      "metadata": {
        "papermill": {
          "duration": 0.078365,
          "end_time": "2021-08-26T15:25:47.894154",
          "exception": false,
          "start_time": "2021-08-26T15:25:47.815789",
          "status": "completed"
        },
        "tags": [],
        "id": "bb0730d0"
      },
      "source": [
        "**Statistical Method**"
      ]
    },
    {
      "cell_type": "markdown",
      "id": "ee12e56b",
      "metadata": {
        "papermill": {
          "duration": 0.080039,
          "end_time": "2021-08-26T15:25:48.050225",
          "exception": false,
          "start_time": "2021-08-26T15:25:47.970186",
          "status": "completed"
        },
        "tags": [],
        "id": "ee12e56b"
      },
      "source": [
        "Before you can apply the statistical tests, you must know how to interpret the results.\n",
        "\n",
        "Each test will return at least two things:\n",
        "\n",
        "**Statistic:** A quantity calculated by the test that can be interpreted in the context of the test via comparing it to critical values from the distribution of the test statistic.\n",
        "\n",
        "**p-value:** Used to interpret the test, in this case whether the sample was drawn from a Gaussian distribution.\n",
        "\n",
        "\n",
        "The tests assume that that the sample was drawn from a Gaussian distribution. Technically this is called the null hypothesis, or H0. A threshold level is chosen called alpha, typically 5% (or 0.05), that is used to interpret the p-value.\n",
        "\n",
        "In the SciPy implementation of these tests, you can interpret the p value as follows.\n",
        "\n",
        "p <= alpha: reject H0, not normal.\n",
        "\n",
        "p > alpha: fail to reject H0, normal.\n",
        "\n",
        "\n",
        "A result above 5% does not mean that the null hypothesis is true. It means that it is very likely true given available evidence. The p-value is not the probability of the data fitting a Gaussian distribution; it can be thought of as a value that helps us interpret the statistical test."
      ]
    },
    {
      "cell_type": "markdown",
      "id": "7bba8b04",
      "metadata": {
        "papermill": {
          "duration": 0.076839,
          "end_time": "2021-08-26T15:25:48.208536",
          "exception": false,
          "start_time": "2021-08-26T15:25:48.131697",
          "status": "completed"
        },
        "tags": [],
        "id": "7bba8b04"
      },
      "source": [
        "#### **Shapiro test**"
      ]
    },
    {
      "cell_type": "code",
      "execution_count": null,
      "id": "e396a79c",
      "metadata": {
        "execution": {
          "iopub.execute_input": "2021-08-26T15:25:48.372326Z",
          "iopub.status.busy": "2021-08-26T15:25:48.371244Z",
          "iopub.status.idle": "2021-08-26T15:25:48.383204Z",
          "shell.execute_reply": "2021-08-26T15:25:48.382542Z",
          "shell.execute_reply.started": "2021-08-26T15:03:45.802905Z"
        },
        "papermill": {
          "duration": 0.097764,
          "end_time": "2021-08-26T15:25:48.383349",
          "exception": false,
          "start_time": "2021-08-26T15:25:48.285585",
          "status": "completed"
        },
        "tags": [],
        "id": "e396a79c",
        "outputId": "6e87aab2-20c7-4065-8994-5d7497dfb9e7"
      },
      "outputs": [
        {
          "name": "stdout",
          "output_type": "stream",
          "text": [
            "Age : Statistics=0.976, p=0.000\n",
            "Sample does not look Gaussian (We reject H0)\n",
            "Income : Statistics=0.976, p=0.000\n",
            "Sample does not look Gaussian (We reject H0)\n",
            "Spending : Statistics=0.865, p=0.000\n",
            "Sample does not look Gaussian (We reject H0)\n",
            "Educational_years : Statistics=0.833, p=0.000\n",
            "Sample does not look Gaussian (We reject H0)\n"
          ]
        }
      ],
      "source": [
        "X=['Age','Income','Spending','Educational_years']\n",
        "\n",
        "column_dict= {elem : pd.DataFrame() for elem in X}\n",
        "\n",
        "def shapiro_test(data):\n",
        "    stat, p = shapiro(data)\n",
        "    print('%s : Statistics=%.3f, p=%.3f' % (column,stat, p))\n",
        "    alpha = 0.05\n",
        "    if p > alpha:\n",
        "        print('Sample looks Gaussian (We fail to reject H0)')\n",
        "    else:\n",
        "        print('Sample does not look Gaussian (We reject H0)')\n",
        "\n",
        "for column in X:\n",
        "    column_dict[column] = dataset[column]\n",
        "    shapiro_test(column_dict[column])"
      ]
    },
    {
      "cell_type": "markdown",
      "id": "cb873b91",
      "metadata": {
        "papermill": {
          "duration": 0.083006,
          "end_time": "2021-08-26T15:25:48.546040",
          "exception": false,
          "start_time": "2021-08-26T15:25:48.463034",
          "status": "completed"
        },
        "tags": [],
        "id": "cb873b91"
      },
      "source": [
        "All the p-values are inferior to 0.05 :\n",
        "\n",
        "We reject the null-hypothesis. Our variables are not Gaussian at a 5% significance level\n",
        "\n",
        "From this point we have two options :\n",
        "\n",
        ">Normalizing our data to use parametric statistical methods\n",
        "\n",
        ">Using directly nonparametric statistical methods\n",
        "\n",
        "We will go for the second option and use nonparametric statistical methods to test our hypotheses"
      ]
    },
    {
      "cell_type": "markdown",
      "id": "cc942bd1",
      "metadata": {
        "papermill": {
          "duration": 0.077007,
          "end_time": "2021-08-26T15:25:48.697197",
          "exception": false,
          "start_time": "2021-08-26T15:25:48.620190",
          "status": "completed"
        },
        "tags": [],
        "id": "cc942bd1"
      },
      "source": [
        "### **Rank Significance Tests**"
      ]
    },
    {
      "cell_type": "markdown",
      "id": "8b2ee79b",
      "metadata": {
        "papermill": {
          "duration": 0.072813,
          "end_time": "2021-08-26T15:25:48.843556",
          "exception": false,
          "start_time": "2021-08-26T15:25:48.770743",
          "status": "completed"
        },
        "tags": [],
        "id": "8b2ee79b"
      },
      "source": [
        "#### **Numerical variables : Mann-Whitney's test**"
      ]
    },
    {
      "cell_type": "markdown",
      "id": "a5f6a763",
      "metadata": {
        "papermill": {
          "duration": 0.072804,
          "end_time": "2021-08-26T15:25:48.992194",
          "exception": false,
          "start_time": "2021-08-26T15:25:48.919390",
          "status": "completed"
        },
        "tags": [],
        "id": "a5f6a763"
      },
      "source": [
        "Our first question was to find if the average income of PhD owners is statistically different from the average income of Master owners.\n",
        "\n",
        "1. Hypothesis statement\n",
        "\n",
        "**H_0** : The mean ranks of the two groups are equal\n",
        "\n",
        "**H_a** : The mean ranks of the two groups are not equal\n",
        "\n",
        "2. Analysis plan formulation\n",
        "\n",
        "Significance level : We will test our hypothesis at a 5% significance level\n",
        "\n",
        "Test method : We use the Mann-Whitney's test to determine whether one group has higher or lower income than the other group. \n",
        "Mann-Whitney U test is a nonparametric statistical significance test for determining whether two independent samples were drawn from a population with the same distribution. The default assumption or null hypothesis is that there is no difference between the distributions of the data samples. Rejection of this hypothesis suggests that there is likely some difference between the samples. More specifically, the test determines whether it is equally likely that any randomly selected observation from one sample will be greater or less than a sample in the other distribution. If violated, it suggests differing distributions. \n",
        "Therefore, if our assumption is correct, the result of the test should enable us to reject the null hypothesis."
      ]
    },
    {
      "cell_type": "code",
      "execution_count": null,
      "id": "c7267b53",
      "metadata": {
        "execution": {
          "iopub.execute_input": "2021-08-26T15:25:49.151986Z",
          "iopub.status.busy": "2021-08-26T15:25:49.151268Z",
          "iopub.status.idle": "2021-08-26T15:25:49.163924Z",
          "shell.execute_reply": "2021-08-26T15:25:49.164400Z",
          "shell.execute_reply.started": "2021-08-26T15:03:45.819499Z"
        },
        "papermill": {
          "duration": 0.094423,
          "end_time": "2021-08-26T15:25:49.164599",
          "exception": false,
          "start_time": "2021-08-26T15:25:49.070176",
          "status": "completed"
        },
        "tags": [],
        "id": "c7267b53"
      },
      "outputs": [],
      "source": [
        "#Creation of the samples\n",
        "Diploma=dataset[['Education','Income']]\n",
        "\n",
        "Phd_graduate=Diploma[Diploma['Education']=='PhD']\n",
        "Master_graduate=Diploma[Diploma['Education']=='Master']\n",
        "Basic_graduate=Diploma[Diploma['Education']=='Basic']\n",
        "Second_cycle_graduate=Diploma[Diploma['Education']=='2n Cycle']\n",
        "Graduation_graduate=Diploma[Diploma['Education']=='Graduation']"
      ]
    },
    {
      "cell_type": "markdown",
      "id": "0f4226bb",
      "metadata": {
        "papermill": {
          "duration": 0.075699,
          "end_time": "2021-08-26T15:25:49.316602",
          "exception": false,
          "start_time": "2021-08-26T15:25:49.240903",
          "status": "completed"
        },
        "tags": [],
        "id": "0f4226bb"
      },
      "source": [
        "Mann-Whitney U statistic :\n",
        "\n",
        "![](https://www.statisticssolutions.com/wp-content/uploads/2010/01/man1.jpg)\n",
        "\n",
        "Where:\n",
        "\n",
        "U=Mann-Whitney U test\n",
        "\n",
        "N1 = sample size one\n",
        "\n",
        "N2= Sample size two\n",
        "\n",
        "Ri = Rank of the sample size"
      ]
    },
    {
      "cell_type": "code",
      "execution_count": null,
      "id": "49728c53",
      "metadata": {
        "execution": {
          "iopub.execute_input": "2021-08-26T15:25:49.471279Z",
          "iopub.status.busy": "2021-08-26T15:25:49.470620Z",
          "iopub.status.idle": "2021-08-26T15:25:49.475397Z",
          "shell.execute_reply": "2021-08-26T15:25:49.474736Z",
          "shell.execute_reply.started": "2021-08-26T15:03:45.838213Z"
        },
        "papermill": {
          "duration": 0.085647,
          "end_time": "2021-08-26T15:25:49.475537",
          "exception": false,
          "start_time": "2021-08-26T15:25:49.389890",
          "status": "completed"
        },
        "tags": [],
        "id": "49728c53",
        "outputId": "2daf38ca-b442-4c5f-cae3-9b5a6985d355"
      },
      "outputs": [
        {
          "name": "stdout",
          "output_type": "stream",
          "text": [
            "Statistics=0.943, p=0.000\n",
            "Sample does not look Gaussian (reject H0)\n"
          ]
        }
      ],
      "source": [
        "# normality tests of our two samples\n",
        "stat, p = shapiro(Phd_graduate.Income)\n",
        "print('Statistics=%.3f, p=%.3f' % (stat, p))\n",
        "# interpret\n",
        "alpha = 0.05\n",
        "if p > alpha:\n",
        "\tprint('Sample looks Gaussian (fail to reject H0)')\n",
        "else:\n",
        "\tprint('Sample does not look Gaussian (reject H0)')"
      ]
    },
    {
      "cell_type": "code",
      "execution_count": null,
      "id": "bc1c671e",
      "metadata": {
        "execution": {
          "iopub.execute_input": "2021-08-26T15:25:49.637298Z",
          "iopub.status.busy": "2021-08-26T15:25:49.636302Z",
          "iopub.status.idle": "2021-08-26T15:25:49.640638Z",
          "shell.execute_reply": "2021-08-26T15:25:49.640117Z",
          "shell.execute_reply.started": "2021-08-26T15:03:45.856584Z"
        },
        "papermill": {
          "duration": 0.089185,
          "end_time": "2021-08-26T15:25:49.640786",
          "exception": false,
          "start_time": "2021-08-26T15:25:49.551601",
          "status": "completed"
        },
        "tags": [],
        "id": "bc1c671e",
        "outputId": "895eb40d-14f4-4bc8-e588-8723e70367a9"
      },
      "outputs": [
        {
          "name": "stdout",
          "output_type": "stream",
          "text": [
            "Statistics=0.978, p=0.000\n",
            "Sample does not look Gaussian (reject H0)\n"
          ]
        }
      ],
      "source": [
        "stat, p = shapiro(Master_graduate.Income)\n",
        "print('Statistics=%.3f, p=%.3f' % (stat, p))\n",
        "# interpret\n",
        "alpha = 0.05\n",
        "if p > alpha:\n",
        "\tprint('Sample looks Gaussian (fail to reject H0)')\n",
        "else:\n",
        "\tprint('Sample does not look Gaussian (reject H0)')"
      ]
    },
    {
      "cell_type": "code",
      "execution_count": null,
      "id": "4b09dab1",
      "metadata": {
        "execution": {
          "iopub.execute_input": "2021-08-26T15:25:49.803249Z",
          "iopub.status.busy": "2021-08-26T15:25:49.802316Z",
          "iopub.status.idle": "2021-08-26T15:25:49.809029Z",
          "shell.execute_reply": "2021-08-26T15:25:49.808404Z",
          "shell.execute_reply.started": "2021-08-26T15:03:45.872510Z"
        },
        "papermill": {
          "duration": 0.089086,
          "end_time": "2021-08-26T15:25:49.809201",
          "exception": false,
          "start_time": "2021-08-26T15:25:49.720115",
          "status": "completed"
        },
        "tags": [],
        "id": "4b09dab1",
        "outputId": "ffa33ea2-3500-4ab8-f0d1-58368dc178ac"
      },
      "outputs": [
        {
          "name": "stdout",
          "output_type": "stream",
          "text": [
            "PhD: median = 55212 stdv = 20493.9\n",
            "Master: median = 50943 stdv = 20021.3\n",
            "MannwhitneyuResult(statistic=82019.5, pvalue=0.013843203616048192)\n",
            "Means are statistically different (We reject H0)\n"
          ]
        }
      ],
      "source": [
        "# summarize\n",
        "print('PhD: median = %.0f stdv = %.1f' % (median(Phd_graduate.Income), std(Phd_graduate.Income)))\n",
        "print('Master: median = %.0f stdv = %.1f' % (median(Master_graduate.Income), std(Master_graduate.Income)))\n",
        "\n",
        "print(stats.mannwhitneyu(Phd_graduate.Income, Master_graduate.Income))\n",
        "\n",
        "if p > alpha:\n",
        "\tprint('Means are not statistically different (We fail to reject H0)')\n",
        "else:\n",
        "\tprint('Means are statistically different (We reject H0)')    "
      ]
    },
    {
      "cell_type": "markdown",
      "id": "48a38ad6",
      "metadata": {
        "papermill": {
          "duration": 0.079559,
          "end_time": "2021-08-26T15:25:49.969223",
          "exception": false,
          "start_time": "2021-08-26T15:25:49.889664",
          "status": "completed"
        },
        "tags": [],
        "id": "48a38ad6"
      },
      "source": [
        "The p-value is inferior than the significance level of 5%, we can reject the null hypothesis.\n",
        "\n",
        "We can conclude that the average income of PhD owners is different from the average income of Master owners at a 95% confidence level"
      ]
    },
    {
      "cell_type": "markdown",
      "id": "2c2403e1",
      "metadata": {
        "papermill": {
          "duration": 0.08234,
          "end_time": "2021-08-26T15:25:50.134428",
          "exception": false,
          "start_time": "2021-08-26T15:25:50.052088",
          "status": "completed"
        },
        "tags": [],
        "id": "2c2403e1"
      },
      "source": [
        "### **Rank Correlation Tests**"
      ]
    },
    {
      "cell_type": "markdown",
      "id": "16d47a64",
      "metadata": {
        "papermill": {
          "duration": 0.079001,
          "end_time": "2021-08-26T15:25:50.295738",
          "exception": false,
          "start_time": "2021-08-26T15:25:50.216737",
          "status": "completed"
        },
        "tags": [],
        "id": "16d47a64"
      },
      "source": [
        "#### Numerical variables : Spearman Rank Correlation test"
      ]
    },
    {
      "cell_type": "markdown",
      "id": "1bd6df8c",
      "metadata": {
        "papermill": {
          "duration": 0.076629,
          "end_time": "2021-08-26T15:25:50.451676",
          "exception": false,
          "start_time": "2021-08-26T15:25:50.375047",
          "status": "completed"
        },
        "tags": [],
        "id": "1bd6df8c"
      },
      "source": [
        "The following formula is used to calculate the Spearman rank correlation:\n",
        "\n",
        "![](https://cdn.questionpro.com/userimages/help_file_images/682/help-682-1.png)\n",
        "\n",
        "\n",
        "Rs = Spearman rank correlation\n",
        "\n",
        "D = the difference between the ranks of corresponding variables\n",
        "\n",
        "n = number of observations"
      ]
    },
    {
      "cell_type": "markdown",
      "id": "e71d8876",
      "metadata": {
        "papermill": {
          "duration": 0.080686,
          "end_time": "2021-08-26T15:25:50.614166",
          "exception": false,
          "start_time": "2021-08-26T15:25:50.533480",
          "status": "completed"
        },
        "tags": [],
        "id": "e71d8876"
      },
      "source": [
        "Spearman rank correlation is a non-parametric test that is used to measure the degree of association between two variables.\n",
        "\n",
        "Our second question was to find if there is a statistically significant correlation between the income and the spending amount.\n",
        "\n",
        "#### 1. Hypothesis statement  \n",
        "* __H_0__ : There is no monotonic association between income and spending amount  \n",
        "* __H_a__ : There is a monotonic association between income and spending amount\n",
        "\n",
        "#### 2. Analysis plan formulation  \n",
        "* __Significance level__ : We will test our hypothesis at 5% significance level  \n",
        "* __Test method__ : We use the Spearman rank correlation test to determine if our two variables are correlated. This statistical method quantifies the degree to which ranked variables are associated by a monotonic function, meaning an increasing or decreasing relationship. As a statistical hypothesis test, the method assumes that the samples are uncorrelated (fail to reject H0).  \n",
        "Therefore, if our assumption is correct, the result of the test should enable us to reject the null hypothesis."
      ]
    },
    {
      "cell_type": "code",
      "execution_count": null,
      "id": "8e7b382f",
      "metadata": {
        "execution": {
          "iopub.execute_input": "2021-08-26T15:25:50.770504Z",
          "iopub.status.busy": "2021-08-26T15:25:50.769861Z",
          "iopub.status.idle": "2021-08-26T15:25:50.785569Z",
          "shell.execute_reply": "2021-08-26T15:25:50.784923Z",
          "shell.execute_reply.started": "2021-08-26T15:03:45.890143Z"
        },
        "papermill": {
          "duration": 0.094525,
          "end_time": "2021-08-26T15:25:50.785712",
          "exception": false,
          "start_time": "2021-08-26T15:25:50.691187",
          "status": "completed"
        },
        "tags": [],
        "id": "8e7b382f",
        "outputId": "da5b2cce-6142-4be9-d553-1fd3a31b9138"
      },
      "outputs": [
        {
          "name": "stdout",
          "output_type": "stream",
          "text": [
            "Non-Parametric Spearman correlation test : correlation coefficient : 0.8466, pval: 0.0000\n"
          ]
        }
      ],
      "source": [
        "Spending=dataset[['Spending','Income']]\n",
        "\n",
        "cor, pval = stats.spearmanr(Spending[['Spending']], Spending[['Income']])\n",
        "print(\"Non-Parametric Spearman correlation test : correlation coefficient : %.4f, pval: %.4f\" % (cor, pval))"
      ]
    },
    {
      "cell_type": "markdown",
      "id": "20715f88",
      "metadata": {
        "papermill": {
          "duration": 0.075735,
          "end_time": "2021-08-26T15:25:50.938868",
          "exception": false,
          "start_time": "2021-08-26T15:25:50.863133",
          "status": "completed"
        },
        "tags": [],
        "id": "20715f88"
      },
      "source": [
        "The closer Rs is to +1 or -1, the stronger the likely correlation. A perfect positive correlation is +1 and a perfect negative correlation is -1. The Rs value of 0.8466 suggests a fairly strong positive relationship.\n",
        "\n",
        "The high correlation coefficient induces a strong positive relationship between the two variables, confirming our alternative hypothesis.\n"
      ]
    },
    {
      "cell_type": "markdown",
      "id": "c1ccc5fa",
      "metadata": {
        "papermill": {
          "duration": 0.076406,
          "end_time": "2021-08-26T15:25:51.089816",
          "exception": false,
          "start_time": "2021-08-26T15:25:51.013410",
          "status": "completed"
        },
        "tags": [],
        "id": "c1ccc5fa"
      },
      "source": [
        "#### **Categorical variables : Chi-square test for independance**"
      ]
    },
    {
      "cell_type": "markdown",
      "id": "ce934872",
      "metadata": {
        "papermill": {
          "duration": 0.077011,
          "end_time": "2021-08-26T15:25:51.242639",
          "exception": false,
          "start_time": "2021-08-26T15:25:51.165628",
          "status": "completed"
        },
        "tags": [],
        "id": "ce934872"
      },
      "source": [
        "Our third question was to find if there is a statistically significant correlation between the diploma and the marital situation.\n",
        "\n",
        "\n",
        "#### 1. Hypothesis statement\n",
        "*H_0*  : Education and Marital_Situation are independent  \n",
        "*H_a*  : Education and Marital_Situation are not independent\n",
        "\n",
        "#### 2. Analysis plan formulation  \n",
        "* __Significance level__ : We will test our hypothesis at a 5% significance level  \n",
        "* __Test method__ : We use the Chi-square test for independence to determine whether there is a significant relationship between our two categorical variables."
      ]
    },
    {
      "cell_type": "code",
      "execution_count": null,
      "id": "da62ce41",
      "metadata": {
        "execution": {
          "iopub.execute_input": "2021-08-26T15:25:51.404054Z",
          "iopub.status.busy": "2021-08-26T15:25:51.403367Z",
          "iopub.status.idle": "2021-08-26T15:25:51.436057Z",
          "shell.execute_reply": "2021-08-26T15:25:51.436584Z",
          "shell.execute_reply.started": "2021-08-26T15:03:45.910084Z"
        },
        "papermill": {
          "duration": 0.112258,
          "end_time": "2021-08-26T15:25:51.436762",
          "exception": false,
          "start_time": "2021-08-26T15:25:51.324504",
          "status": "completed"
        },
        "tags": [],
        "id": "da62ce41",
        "outputId": "6a7b3d1c-95a8-4954-f287-9ff9628b304f"
      },
      "outputs": [
        {
          "data": {
            "text/html": [
              "<div>\n",
              "<style scoped>\n",
              "    .dataframe tbody tr th:only-of-type {\n",
              "        vertical-align: middle;\n",
              "    }\n",
              "\n",
              "    .dataframe tbody tr th {\n",
              "        vertical-align: top;\n",
              "    }\n",
              "\n",
              "    .dataframe thead th {\n",
              "        text-align: right;\n",
              "    }\n",
              "</style>\n",
              "<table border=\"1\" class=\"dataframe\">\n",
              "  <thead>\n",
              "    <tr style=\"text-align: right;\">\n",
              "      <th>Marital_Situation</th>\n",
              "      <th>Alone</th>\n",
              "      <th>In couple</th>\n",
              "    </tr>\n",
              "    <tr>\n",
              "      <th>Education</th>\n",
              "      <th></th>\n",
              "      <th></th>\n",
              "    </tr>\n",
              "  </thead>\n",
              "  <tbody>\n",
              "    <tr>\n",
              "      <th>2n Cycle</th>\n",
              "      <td>65</td>\n",
              "      <td>138</td>\n",
              "    </tr>\n",
              "    <tr>\n",
              "      <th>Basic</th>\n",
              "      <td>20</td>\n",
              "      <td>34</td>\n",
              "    </tr>\n",
              "    <tr>\n",
              "      <th>Graduation</th>\n",
              "      <td>408</td>\n",
              "      <td>718</td>\n",
              "    </tr>\n",
              "    <tr>\n",
              "      <th>Master</th>\n",
              "      <td>126</td>\n",
              "      <td>244</td>\n",
              "    </tr>\n",
              "    <tr>\n",
              "      <th>PhD</th>\n",
              "      <td>177</td>\n",
              "      <td>309</td>\n",
              "    </tr>\n",
              "  </tbody>\n",
              "</table>\n",
              "</div>"
            ],
            "text/plain": [
              "Marital_Situation  Alone  In couple\n",
              "Education                          \n",
              "2n Cycle              65        138\n",
              "Basic                 20         34\n",
              "Graduation           408        718\n",
              "Master               126        244\n",
              "PhD                  177        309"
            ]
          },
          "execution_count": 28,
          "metadata": {},
          "output_type": "execute_result"
        }
      ],
      "source": [
        "Marital_Situation=dataset[['Education','Marital_Situation']]\n",
        "crosstab = pd.crosstab(Marital_Situation[\"Education\"], Marital_Situation[\"Marital_Situation\"])\n",
        "crosstab"
      ]
    },
    {
      "cell_type": "markdown",
      "id": "2d8448fc",
      "metadata": {
        "papermill": {
          "duration": 0.073974,
          "end_time": "2021-08-26T15:25:51.588021",
          "exception": false,
          "start_time": "2021-08-26T15:25:51.514047",
          "status": "completed"
        },
        "tags": [],
        "id": "2d8448fc"
      },
      "source": [
        "**Degrees of freedom**\n",
        "\n",
        "Calculating Degrees of Freedom is key when trying to understand the importance of a Chi-Square statistic and the validity of the null hypothesis.\n",
        "\n",
        "<img src=\"https://www.thoughtco.com/thmb/ZOngumdBr_1XRgm3bVpHRKF6Kj8=/768x0/filters:no_upscale():max_bytes(150000):strip_icc()/df-58588dcb3df78ce2c3203706.jpg\" width=\"200\" height=\"200\" />\n",
        "\n",
        "\n",
        "where r is the number of levels for one catagorical variable, and $c$ is the number of levels for the other categorical variable."
      ]
    },
    {
      "cell_type": "code",
      "execution_count": null,
      "id": "132ee2ee",
      "metadata": {
        "execution": {
          "iopub.execute_input": "2021-08-26T15:25:51.740747Z",
          "iopub.status.busy": "2021-08-26T15:25:51.740116Z",
          "iopub.status.idle": "2021-08-26T15:25:51.745363Z",
          "shell.execute_reply": "2021-08-26T15:25:51.745922Z",
          "shell.execute_reply.started": "2021-08-26T15:03:45.945260Z"
        },
        "papermill": {
          "duration": 0.082611,
          "end_time": "2021-08-26T15:25:51.746114",
          "exception": false,
          "start_time": "2021-08-26T15:25:51.663503",
          "status": "completed"
        },
        "tags": [],
        "id": "132ee2ee",
        "outputId": "e4636369-2623-4823-f1f7-8baac637232c"
      },
      "outputs": [
        {
          "name": "stdout",
          "output_type": "stream",
          "text": [
            "Degress of freedom = 4\n"
          ]
        }
      ],
      "source": [
        "stat, p, dof, expected = chi2_contingency(crosstab)\n",
        "print('Degress of freedom = %d' % dof)"
      ]
    },
    {
      "cell_type": "markdown",
      "id": "404b5ba0",
      "metadata": {
        "papermill": {
          "duration": 0.07649,
          "end_time": "2021-08-26T15:25:51.901302",
          "exception": false,
          "start_time": "2021-08-26T15:25:51.824812",
          "status": "completed"
        },
        "tags": [],
        "id": "404b5ba0"
      },
      "source": [
        "**The test statistic is a chi-square random variable ( 𝜒2 ) defined by the following equation:\n",
        "**"
      ]
    },
    {
      "cell_type": "markdown",
      "id": "b1bcc980",
      "metadata": {
        "papermill": {
          "duration": 0.074203,
          "end_time": "2021-08-26T15:25:52.052474",
          "exception": false,
          "start_time": "2021-08-26T15:25:51.978271",
          "status": "completed"
        },
        "tags": [],
        "id": "b1bcc980"
      },
      "source": [
        "\n",
        "\n",
        "<img src=\"https://www.thoughtco.com/thmb/ns7d4DC1AqVGme2p1-WYqC26r_s=/768x0/filters:no_upscale():max_bytes(150000):strip_icc()/latex_ac74fec08532861eb5f8b87226ebf396-5c59a6fcc9e77c00016b4195.jpg\" width=\"200\" height=\"200\" />"
      ]
    },
    {
      "cell_type": "markdown",
      "id": "3aef5d63",
      "metadata": {
        "papermill": {
          "duration": 0.076045,
          "end_time": "2021-08-26T15:25:52.205499",
          "exception": false,
          "start_time": "2021-08-26T15:25:52.129454",
          "status": "completed"
        },
        "tags": [],
        "id": "3aef5d63"
      },
      "source": [
        "Expected frequencies :\n",
        "\n",
        "The expected frequency counts are computed separately for each level of one categorical variable at each level of the other categorical variable.\n",
        "\n"
      ]
    },
    {
      "cell_type": "markdown",
      "id": "608e385c",
      "metadata": {
        "papermill": {
          "duration": 0.076676,
          "end_time": "2021-08-26T15:25:52.358736",
          "exception": false,
          "start_time": "2021-08-26T15:25:52.282060",
          "status": "completed"
        },
        "tags": [],
        "id": "608e385c"
      },
      "source": [
        "Where : \n",
        "    \n",
        "𝑂𝑟 is the observed frequency count at level r of Variable  𝐴 and level  𝑐 of Variable  𝐵\n",
        " \n",
        "𝐸𝑟 is the expected frequency count at level  𝑟 of Variable  𝐴 and level  𝑐 of Variable  𝐵"
      ]
    },
    {
      "cell_type": "code",
      "execution_count": null,
      "id": "3ad8c48c",
      "metadata": {
        "execution": {
          "iopub.execute_input": "2021-08-26T15:25:52.520939Z",
          "iopub.status.busy": "2021-08-26T15:25:52.520274Z",
          "iopub.status.idle": "2021-08-26T15:25:52.526286Z",
          "shell.execute_reply": "2021-08-26T15:25:52.525725Z",
          "shell.execute_reply.started": "2021-08-26T15:03:45.951565Z"
        },
        "papermill": {
          "duration": 0.086768,
          "end_time": "2021-08-26T15:25:52.526437",
          "exception": false,
          "start_time": "2021-08-26T15:25:52.439669",
          "status": "completed"
        },
        "tags": [],
        "id": "3ad8c48c",
        "outputId": "a395ef4e-d0a2-4c7e-dc85-9cdce29433e5"
      },
      "outputs": [
        {
          "name": "stdout",
          "output_type": "stream",
          "text": [
            "[[ 72.16971862 130.83028138]\n",
            " [ 19.19785619  34.80214381]\n",
            " [400.31085306 725.68914694]\n",
            " [131.54086646 238.45913354]\n",
            " [172.78070567 313.21929433]]\n"
          ]
        }
      ],
      "source": [
        "print(expected)"
      ]
    },
    {
      "cell_type": "code",
      "execution_count": null,
      "id": "8e739e9c",
      "metadata": {
        "execution": {
          "iopub.execute_input": "2021-08-26T15:25:52.735791Z",
          "iopub.status.busy": "2021-08-26T15:25:52.735089Z",
          "iopub.status.idle": "2021-08-26T15:25:52.740044Z",
          "shell.execute_reply": "2021-08-26T15:25:52.739337Z",
          "shell.execute_reply.started": "2021-08-26T15:03:45.967312Z"
        },
        "papermill": {
          "duration": 0.13683,
          "end_time": "2021-08-26T15:25:52.740215",
          "exception": false,
          "start_time": "2021-08-26T15:25:52.603385",
          "status": "completed"
        },
        "tags": [],
        "id": "8e739e9c",
        "outputId": "48e6661f-07fa-4045-e20b-6b98527fcc85"
      },
      "outputs": [
        {
          "name": "stdout",
          "output_type": "stream",
          "text": [
            "probability=0.950, critical=9.488, stat=1.908\n"
          ]
        }
      ],
      "source": [
        "prob = 0.95\n",
        "critical = chi2.ppf(prob, dof)\n",
        "print('probability=%.3f, critical=%.3f, stat=%.3f' % (prob, critical, stat))"
      ]
    },
    {
      "cell_type": "markdown",
      "id": "598345b7",
      "metadata": {
        "papermill": {
          "duration": 0.076264,
          "end_time": "2021-08-26T15:25:52.894035",
          "exception": false,
          "start_time": "2021-08-26T15:25:52.817771",
          "status": "completed"
        },
        "tags": [],
        "id": "598345b7"
      },
      "source": [
        "P-value :\n",
        "\n",
        "The P-value is the probability of observing a sample statistic as extreme as the test statistic. Since the test statistic is a Chi-square, we should use use the Chi-Square table to assess the probability associated with the test statistic by using the degrees of freedom we found above."
      ]
    },
    {
      "cell_type": "code",
      "execution_count": null,
      "id": "23809ce4",
      "metadata": {
        "execution": {
          "iopub.execute_input": "2021-08-26T15:25:53.056325Z",
          "iopub.status.busy": "2021-08-26T15:25:53.055484Z",
          "iopub.status.idle": "2021-08-26T15:25:53.059761Z",
          "shell.execute_reply": "2021-08-26T15:25:53.059139Z",
          "shell.execute_reply.started": "2021-08-26T15:03:45.981038Z"
        },
        "papermill": {
          "duration": 0.088327,
          "end_time": "2021-08-26T15:25:53.059942",
          "exception": false,
          "start_time": "2021-08-26T15:25:52.971615",
          "status": "completed"
        },
        "tags": [],
        "id": "23809ce4",
        "outputId": "387e4dc8-4ad8-4cfa-9d5e-48bf9de93a0a"
      },
      "outputs": [
        {
          "name": "stdout",
          "output_type": "stream",
          "text": [
            "Independent (We fail to reject H0)\n",
            "significance=0.050, p=0.753\n",
            "Independent (We fail to reject H0)\n"
          ]
        }
      ],
      "source": [
        "if abs(stat) >= critical:\n",
        "\tprint('Dependent (We reject H0)')\n",
        "else:\n",
        "\tprint('Independent (We fail to reject H0)')\n",
        "alpha = 1.0 - prob\n",
        "print('significance=%.3f, p=%.3f' % (alpha, p))\n",
        "if p <= alpha:\n",
        "\tprint('Dependent (We reject H0)')\n",
        "else:\n",
        "\tprint('Independent (We fail to reject H0)')"
      ]
    },
    {
      "cell_type": "markdown",
      "id": "6a1f22f9",
      "metadata": {
        "papermill": {
          "duration": 0.077192,
          "end_time": "2021-08-26T15:25:53.215517",
          "exception": false,
          "start_time": "2021-08-26T15:25:53.138325",
          "status": "completed"
        },
        "tags": [],
        "id": "6a1f22f9"
      },
      "source": [
        "**Interpretation of the results**\n",
        "\n",
        "We can interpret the results by two ways :\n",
        "\n",
        "* The P-value is superior than the significance level of 5%, we fail to reject the null hypothesis.\n",
        "\n",
        "* The Test-statistic is inferior than the critical value, we fail to reject the null hypothesis.\n",
        "\n",
        "We can conclude that the marital status is independent from the diploma owned at a 95% confidence level"
      ]
    },
    {
      "cell_type": "markdown",
      "id": "77740d70",
      "metadata": {
        "papermill": {
          "duration": 0.075567,
          "end_time": "2021-08-26T15:25:53.367074",
          "exception": false,
          "start_time": "2021-08-26T15:25:53.291507",
          "status": "completed"
        },
        "tags": [],
        "id": "77740d70"
      },
      "source": [
        "## **Conclusion**"
      ]
    },
    {
      "cell_type": "markdown",
      "id": "e31e788a",
      "metadata": {
        "papermill": {
          "duration": 0.078051,
          "end_time": "2021-08-26T15:25:53.523217",
          "exception": false,
          "start_time": "2021-08-26T15:25:53.445166",
          "status": "completed"
        },
        "tags": [],
        "id": "e31e788a"
      },
      "source": [
        "We have successfully completed the analysis. Initially, we performed data preprocessing tasks, which involved handling missing values and identifying/removing outliers.\n",
        "\n",
        "The next step involved conducting Exploratory Data Analysis to gain insights into the relationships within the dataset.\n",
        "\n",
        "In the final stage, we addressed three important business questions through hypothesis testing:\n",
        "\n",
        "1. Is there a statistically significant difference in the average salary between PhD owners and Master owners?\n",
        "\n",
        "We formulated the following hypotheses:\n",
        "\n",
        "Null hypothesis (H0): The mean ranks of the two groups are equal.\n",
        "Alternative hypothesis (Ha): The mean ranks of the two groups are not equal.\n",
        "By applying the Mann-Whitney test, we obtained a p-value below the significance level. Therefore, we conclude that the average income of PhD owners is statistically different from that of Master owners at a 95% confidence level.\n",
        "\n",
        "2. Is there a statistically significant correlation between annual income and spending amount?\n",
        "\n",
        "Using the Spearman correlation test, we found a correlation coefficient of 0.8466 and a p-value of 0.0000. The strong positive correlation leads us to reject the null hypothesis and conclude that there is a statistically significant correlation between income and spending amount.\n",
        "\n",
        "3. Is there a correlation between the type of diploma owned and marital status?\n",
        "\n",
        "We formulated the following hypotheses:\n",
        "\n",
        "Null hypothesis (H0): Education and Marital_Situation are independent.\n",
        "Alternative hypothesis (Ha): Education and Marital_Situation are not independent.\n",
        "Applying the chi-square test, we observed that the p-value is greater than the significance level of 5%. Therefore, we fail to reject the null hypothesis. Additionally, the test statistic is lower than the critical value, further supporting our conclusion that marital status is independent of the type of diploma owned at a 95% confidence level."
      ]
    }
  ],
  "metadata": {
    "kernelspec": {
      "display_name": "Python 3",
      "language": "python",
      "name": "python3"
    },
    "language_info": {
      "codemirror_mode": {
        "name": "ipython",
        "version": 3
      },
      "file_extension": ".py",
      "mimetype": "text/x-python",
      "name": "python",
      "nbconvert_exporter": "python",
      "pygments_lexer": "ipython3",
      "version": "3.7.10"
    },
    "papermill": {
      "default_parameters": {},
      "duration": 33.011152,
      "end_time": "2021-08-26T15:25:55.486312",
      "environment_variables": {},
      "exception": null,
      "input_path": "__notebook__.ipynb",
      "output_path": "__notebook__.ipynb",
      "parameters": {},
      "start_time": "2021-08-26T15:25:22.475160",
      "version": "2.3.3"
    },
    "colab": {
      "provenance": []
    }
  },
  "nbformat": 4,
  "nbformat_minor": 5
}